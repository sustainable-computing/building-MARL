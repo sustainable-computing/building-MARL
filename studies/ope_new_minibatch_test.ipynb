{
 "cells": [
  {
   "cell_type": "code",
   "execution_count": 1,
   "id": "2f49d6db-21c6-4160-9db3-4cc4cf4323a4",
   "metadata": {},
   "outputs": [],
   "source": [
    "import numpy as np\n",
    "import sys\n",
    "import matplotlib.pyplot as plt\n",
    "import pandas as pd\n",
    "import pickle\n",
    "sys.path.insert(0, \"../\")\n",
    "import torch\n",
    "from ppo import PPO\n",
    "import glob\n",
    "from tqdm.notebook import tqdm\n",
    "import json\n",
    "from scipy.stats import spearmanr\n",
    "import importlib\n",
    "from obp.ope import (\n",
    "    ContinuousOffPolicyEvaluation,\n",
    "    KernelizedInverseProbabilityWeighting,\n",
    "    KernelizedSelfNormalizedInverseProbabilityWeighting,\\\n",
    ")\n",
    "\n",
    "%matplotlib widget"
   ]
  },
  {
   "cell_type": "code",
   "execution_count": 2,
   "id": "8aa01c79-6bc9-49ce-8049-7dd90b2c9f07",
   "metadata": {},
   "outputs": [],
   "source": [
    "log_data = pd.read_csv(\"../data/rule_based_log_data/0_cleaned_log.csv\")\n",
    "with open(\"../data/rule_based_log_data/action_probs_all_data.pkl\", \"rb\") as f:\n",
    "    behavior_model = pickle.load(f)\n",
    "with open(\"../data/invalid_policy_list.json\") as f:\n",
    "    invalid_policies = json.load(f)[\"invalid_policies\"]"
   ]
  },
  {
   "cell_type": "code",
   "execution_count": 3,
   "id": "5fdd83be-0587-4bb3-924f-247eed8fd78c",
   "metadata": {},
   "outputs": [],
   "source": [
    "num_ts_per_day = 4 * 24\n",
    "num_days = 30\n",
    "ts_end = num_ts_per_day * num_days\n",
    "zones = log_data[\"zone\"].unique()"
   ]
  },
  {
   "cell_type": "code",
   "execution_count": 4,
   "id": "f3379e76-e17f-4df8-bad9-80bc1c948eb8",
   "metadata": {},
   "outputs": [],
   "source": [
    "policy_list = sorted(list(glob.glob(f\"../policy_library/**.pth\")))"
   ]
  },
  {
   "cell_type": "code",
   "execution_count": 5,
   "id": "316029f7-caf8-4428-8751-9b25fc6cedca",
   "metadata": {},
   "outputs": [
    {
     "name": "stdout",
     "output_type": "stream",
     "text": [
      "Perimeter_top_ZN_3\n"
     ]
    },
    {
     "data": {
      "application/vnd.jupyter.widget-view+json": {
       "model_id": "295294385775477cb0ce026d1a9bbc2b",
       "version_major": 2,
       "version_minor": 0
      },
      "text/plain": [
       "  0%|          | 0/800 [00:00<?, ?it/s]"
      ]
     },
     "metadata": {},
     "output_type": "display_data"
    },
    {
     "name": "stderr",
     "output_type": "stream",
     "text": [
      "/Users/aakashsasikumar/.pyenv/versions/3.10.0/envs/test/lib/python3.10/site-packages/obp-0.5.5-py3.10.egg/obp/ope/estimators_continuous.py:388: RuntimeWarning: invalid value encountered in divide\n",
      "  estimated_rewards /= (kernel_func(u) / pscore).mean()\n"
     ]
    },
    {
     "name": "stdout",
     "output_type": "stream",
     "text": [
      "Perimeter_bot_ZN_1\n"
     ]
    },
    {
     "data": {
      "application/vnd.jupyter.widget-view+json": {
       "model_id": "f8d860bbf92e4da8925818730aca6c26",
       "version_major": 2,
       "version_minor": 0
      },
      "text/plain": [
       "  0%|          | 0/800 [00:00<?, ?it/s]"
      ]
     },
     "metadata": {},
     "output_type": "display_data"
    },
    {
     "name": "stdout",
     "output_type": "stream",
     "text": [
      "Perimeter_top_ZN_1\n"
     ]
    },
    {
     "data": {
      "application/vnd.jupyter.widget-view+json": {
       "model_id": "d7c2b41dab3d4fdab21c2b70e1e996e1",
       "version_major": 2,
       "version_minor": 0
      },
      "text/plain": [
       "  0%|          | 0/800 [00:00<?, ?it/s]"
      ]
     },
     "metadata": {},
     "output_type": "display_data"
    },
    {
     "name": "stdout",
     "output_type": "stream",
     "text": [
      "Core_bottom\n"
     ]
    },
    {
     "data": {
      "application/vnd.jupyter.widget-view+json": {
       "model_id": "245e9b57b46d4178ae86827b2a35784b",
       "version_major": 2,
       "version_minor": 0
      },
      "text/plain": [
       "  0%|          | 0/800 [00:00<?, ?it/s]"
      ]
     },
     "metadata": {},
     "output_type": "display_data"
    },
    {
     "name": "stdout",
     "output_type": "stream",
     "text": [
      "Perimeter_top_ZN_4\n"
     ]
    },
    {
     "data": {
      "application/vnd.jupyter.widget-view+json": {
       "model_id": "1f9c094ad5024d909ad6315e04540bb3",
       "version_major": 2,
       "version_minor": 0
      },
      "text/plain": [
       "  0%|          | 0/800 [00:00<?, ?it/s]"
      ]
     },
     "metadata": {},
     "output_type": "display_data"
    },
    {
     "name": "stdout",
     "output_type": "stream",
     "text": [
      "Core_top\n"
     ]
    },
    {
     "data": {
      "application/vnd.jupyter.widget-view+json": {
       "model_id": "b42080c6c5b9492f96dcbe4ac5e22a35",
       "version_major": 2,
       "version_minor": 0
      },
      "text/plain": [
       "  0%|          | 0/800 [00:00<?, ?it/s]"
      ]
     },
     "metadata": {},
     "output_type": "display_data"
    },
    {
     "name": "stdout",
     "output_type": "stream",
     "text": [
      "Perimeter_bot_ZN_2\n"
     ]
    },
    {
     "data": {
      "application/vnd.jupyter.widget-view+json": {
       "model_id": "57449b96ff874ec0958c99c180e54cad",
       "version_major": 2,
       "version_minor": 0
      },
      "text/plain": [
       "  0%|          | 0/800 [00:00<?, ?it/s]"
      ]
     },
     "metadata": {},
     "output_type": "display_data"
    },
    {
     "name": "stdout",
     "output_type": "stream",
     "text": [
      "Perimeter_bot_ZN_3\n"
     ]
    },
    {
     "data": {
      "application/vnd.jupyter.widget-view+json": {
       "model_id": "d01e7a6709a94b26a7658aa850af760c",
       "version_major": 2,
       "version_minor": 0
      },
      "text/plain": [
       "  0%|          | 0/800 [00:00<?, ?it/s]"
      ]
     },
     "metadata": {},
     "output_type": "display_data"
    },
    {
     "name": "stdout",
     "output_type": "stream",
     "text": [
      "Perimeter_mid_ZN_4\n"
     ]
    },
    {
     "data": {
      "application/vnd.jupyter.widget-view+json": {
       "model_id": "f030fddf478a494daec0e4cc606f38af",
       "version_major": 2,
       "version_minor": 0
      },
      "text/plain": [
       "  0%|          | 0/800 [00:00<?, ?it/s]"
      ]
     },
     "metadata": {},
     "output_type": "display_data"
    },
    {
     "name": "stdout",
     "output_type": "stream",
     "text": [
      "Core_mid\n"
     ]
    },
    {
     "data": {
      "application/vnd.jupyter.widget-view+json": {
       "model_id": "d8d7fc6468344849b279c7c09657ce28",
       "version_major": 2,
       "version_minor": 0
      },
      "text/plain": [
       "  0%|          | 0/800 [00:00<?, ?it/s]"
      ]
     },
     "metadata": {},
     "output_type": "display_data"
    },
    {
     "name": "stdout",
     "output_type": "stream",
     "text": [
      "Perimeter_mid_ZN_2\n"
     ]
    },
    {
     "data": {
      "application/vnd.jupyter.widget-view+json": {
       "model_id": "2c910751d46a4ffb8ff8f4b4429ece23",
       "version_major": 2,
       "version_minor": 0
      },
      "text/plain": [
       "  0%|          | 0/800 [00:00<?, ?it/s]"
      ]
     },
     "metadata": {},
     "output_type": "display_data"
    },
    {
     "name": "stdout",
     "output_type": "stream",
     "text": [
      "Perimeter_mid_ZN_3\n"
     ]
    },
    {
     "data": {
      "application/vnd.jupyter.widget-view+json": {
       "model_id": "05560c30cd2d40ad8bd86f2c641bee2f",
       "version_major": 2,
       "version_minor": 0
      },
      "text/plain": [
       "  0%|          | 0/800 [00:00<?, ?it/s]"
      ]
     },
     "metadata": {},
     "output_type": "display_data"
    },
    {
     "name": "stdout",
     "output_type": "stream",
     "text": [
      "Perimeter_top_ZN_2\n"
     ]
    },
    {
     "data": {
      "application/vnd.jupyter.widget-view+json": {
       "model_id": "59a5d70da99a4b28a4afe6509e4b32b0",
       "version_major": 2,
       "version_minor": 0
      },
      "text/plain": [
       "  0%|          | 0/800 [00:00<?, ?it/s]"
      ]
     },
     "metadata": {},
     "output_type": "display_data"
    },
    {
     "name": "stdout",
     "output_type": "stream",
     "text": [
      "Perimeter_mid_ZN_1\n"
     ]
    },
    {
     "data": {
      "application/vnd.jupyter.widget-view+json": {
       "model_id": "5005f1b7a4624c6599459b9309c4cd5f",
       "version_major": 2,
       "version_minor": 0
      },
      "text/plain": [
       "  0%|          | 0/800 [00:00<?, ?it/s]"
      ]
     },
     "metadata": {},
     "output_type": "display_data"
    },
    {
     "name": "stdout",
     "output_type": "stream",
     "text": [
      "Perimeter_bot_ZN_4\n"
     ]
    },
    {
     "data": {
      "application/vnd.jupyter.widget-view+json": {
       "model_id": "3acbabd176dd437cb667c7d079387049",
       "version_major": 2,
       "version_minor": 0
      },
      "text/plain": [
       "  0%|          | 0/800 [00:00<?, ?it/s]"
      ]
     },
     "metadata": {},
     "output_type": "display_data"
    }
   ],
   "source": [
    "policy_scores = {}\n",
    "for zone in zones:\n",
    "    print(zone)\n",
    "    ope_data = log_data[log_data[\"zone\"] == zone].sort_values(by=[\"timestep\"])\n",
    "    ope_data = log_data[:ts_end]\n",
    "    states = []\n",
    "    actions = []\n",
    "    rewards = []\n",
    "    for i, row in ope_data.iterrows():\n",
    "        state_vars = [\"outdoor_temp\", \"solar_irradiation\", \"time_hour\",\n",
    "                      \"zone_humidity\", \"zone_temp\", \"zone_occupancy\"]\n",
    "        state = [row[var] for var in state_vars]\n",
    "        action = row[\"action\"]\n",
    "        reward = row[\"reward\"]\n",
    "        states.append(state)\n",
    "        rewards.append(reward)\n",
    "        actions.append(action)\n",
    "        ope = ContinuousOffPolicyEvaluation(bandit_feedback=\n",
    "                                            {\"action\": np.array(actions),\n",
    "                                             \"reward\": np.array(rewards),\n",
    "                                             \"pscore\": np.ones((len(ope_data)))},\n",
    "                                            ope_estimators=[KernelizedSelfNormalizedInverseProbabilityWeighting(kernel=\"epanechnikov\", bandwidth=0.02)])\n",
    "\n",
    "    for policy in tqdm(policy_list):\n",
    "        agent = PPO(6, 1, 0.003, 0.0005, 1, 10, 0.2,\n",
    "                    has_continuous_action_space=True, action_std_init=0.2, \n",
    "                    device=torch.device('cpu'), diverse_policies=list(),\n",
    "                    diverse_weight=0, diverse_increase=True)\n",
    "        agent.load(policy)\n",
    "        agent.policy_evaluation = False\n",
    "        agent.policy_old.set_action_std(0.1)\n",
    "        \n",
    "        # probs = torch.exp(agent.buffer.logprobs[0].reshape(-1, 1))\n",
    "        if policy not in invalid_policies:\n",
    "            # score, _, _, _, _ = ipw.evaluate_policy(agent.select_action, behavior_model, score=\"mean\")\n",
    "            eval_actions = torch.Tensor(agent.select_action(states)).sigmoid()\n",
    "            estimated_value = ope.estimate_policy_values(action_by_evaluation_policy=eval_actions.numpy())\n",
    "            # print(estimated_value)\n",
    "        else:\n",
    "            continue\n",
    "        if policy not in policy_scores:\n",
    "            policy_scores[policy] = {}\n",
    "        if zone not in policy_scores[policy]:\n",
    "            policy_scores[policy][zone] = estimated_value[\"kernelized_snipw\"]"
   ]
  },
  {
   "cell_type": "code",
   "execution_count": 6,
   "id": "423bd5d4-3990-4428-b37e-98c0b3985193",
   "metadata": {},
   "outputs": [
    {
     "data": {
      "text/plain": [
       "{'Perimeter_top_ZN_3': SpearmanrResult(correlation=0.13244935692603602, pvalue=0.05082421253470562),\n",
       " 'Perimeter_bot_ZN_1': SpearmanrResult(correlation=-0.10095176399956175, pvalue=0.13643284096914582),\n",
       " 'Perimeter_top_ZN_1': SpearmanrResult(correlation=-0.033776800886004085, pvalue=0.6166774345856499),\n",
       " 'Core_bottom': SpearmanrResult(correlation=0.3217096619569294, pvalue=1.6212967714298676e-06),\n",
       " 'Perimeter_top_ZN_4': SpearmanrResult(correlation=0.23780066279442683, pvalue=0.0005099398806844889),\n",
       " 'Core_top': SpearmanrResult(correlation=0.31311809129062573, pvalue=2.9870726863053575e-06),\n",
       " 'Perimeter_bot_ZN_2': SpearmanrResult(correlation=0.20273302497007692, pvalue=0.0028885173389176567),\n",
       " 'Perimeter_bot_ZN_3': SpearmanrResult(correlation=-0.09316377788136092, pvalue=0.167547077123327),\n",
       " 'Perimeter_mid_ZN_4': SpearmanrResult(correlation=0.29438788268495697, pvalue=1.0856126728301105e-05),\n",
       " 'Core_mid': SpearmanrResult(correlation=0.26143823260011084, pvalue=8.70427128807221e-05),\n",
       " 'Perimeter_mid_ZN_2': SpearmanrResult(correlation=0.30662374028070305, pvalue=6.3177328271811705e-06),\n",
       " 'Perimeter_mid_ZN_3': SpearmanrResult(correlation=0.19403184129365678, pvalue=0.004204715291942129),\n",
       " 'Perimeter_top_ZN_2': SpearmanrResult(correlation=0.23470358051015563, pvalue=0.0005702483766412187),\n",
       " 'Perimeter_mid_ZN_1': SpearmanrResult(correlation=0.17081631264719316, pvalue=0.013181251374792655),\n",
       " 'Perimeter_bot_ZN_4': SpearmanrResult(correlation=0.2674555075279472, pvalue=6.35217570813402e-05)}"
      ]
     },
     "execution_count": 6,
     "metadata": {},
     "output_type": "execute_result"
    }
   ],
   "source": [
    "eval_data_loc = \"../data/1month_eval.csv\"\n",
    "df = pd.read_csv(eval_data_loc, header=None, names=[\"datetime\",\"policy\",\"zone\",\"energy\"])\n",
    "spearman_corr = {}\n",
    "for zone in zones:\n",
    "    eval_df = df[df[\"zone\"] == zone]\n",
    "\n",
    "    # invalid_policies = list(set(policy_list) - set(policy_scores.keys()))\n",
    "    for i_policy in invalid_policies:\n",
    "        eval_df = eval_df[eval_df[\"policy\"]!=i_policy[3:]]\n",
    "    eval_df = eval_df.sort_values(by=[\"energy\"])\n",
    "    score_list = []\n",
    "    for i, row in eval_df.iterrows():\n",
    "        score_list.append(policy_scores[f\"../{row['policy']}\"][zone])\n",
    "\n",
    "    eval_df[\"ope_scores\"] = score_list\n",
    "    correlation = spearmanr(eval_df[\"energy\"].values, eval_df[\"ope_scores\"].values, nan_policy=\"omit\")\n",
    "    spearman_corr[zone] = correlation\n",
    "spearman_corr"
   ]
  },
  {
   "cell_type": "code",
   "execution_count": null,
   "id": "bb4af84b-d982-4af0-92d8-49b14536144a",
   "metadata": {},
   "outputs": [],
   "source": []
  }
 ],
 "metadata": {
  "kernelspec": {
   "display_name": "Python 3 (ipykernel)",
   "language": "python",
   "name": "python3"
  },
  "language_info": {
   "codemirror_mode": {
    "name": "ipython",
    "version": 3
   },
   "file_extension": ".py",
   "mimetype": "text/x-python",
   "name": "python",
   "nbconvert_exporter": "python",
   "pygments_lexer": "ipython3",
   "version": "3.10.0"
  }
 },
 "nbformat": 4,
 "nbformat_minor": 5
}
