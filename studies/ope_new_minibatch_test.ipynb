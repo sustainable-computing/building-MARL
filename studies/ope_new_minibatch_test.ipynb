{
 "cells": [
  {
   "cell_type": "code",
   "execution_count": 1,
   "id": "2f49d6db-21c6-4160-9db3-4cc4cf4323a4",
   "metadata": {},
   "outputs": [],
   "source": [
    "import numpy as np\n",
    "import sys\n",
    "import matplotlib.pyplot as plt\n",
    "import pandas as pd\n",
    "import pickle\n",
    "sys.path.insert(0, \"../\")\n",
    "import torch\n",
    "from ppo import PPO\n",
    "import glob\n",
    "from tqdm.notebook import tqdm\n",
    "import json\n",
    "from scipy.stats import spearmanr\n",
    "import importlib\n",
    "from obp.ope import (\n",
    "    ContinuousOffPolicyEvaluation,\n",
    "    KernelizedInverseProbabilityWeighting,\n",
    "    KernelizedSelfNormalizedInverseProbabilityWeighting,\\\n",
    ")\n",
    "import wandb\n",
    "\n",
    "%matplotlib widget"
   ]
  },
  {
   "cell_type": "code",
   "execution_count": 2,
   "id": "8aa01c79-6bc9-49ce-8049-7dd90b2c9f07",
   "metadata": {},
   "outputs": [],
   "source": [
    "log_data = pd.read_csv(\"../data/rule_based_log_data/0_cleaned_log.csv\")\n",
    "with open(\"../data/rule_based_log_data/action_probs_all_data.pkl\", \"rb\") as f:\n",
    "    behavior_model = pickle.load(f)\n",
    "with open(\"../data/invalid_policy_list_20220705.json\") as f:\n",
    "    invalid_policies = json.load(f)[\"invalid_policies\"]"
   ]
  },
  {
   "cell_type": "code",
   "execution_count": 3,
   "id": "5fdd83be-0587-4bb3-924f-247eed8fd78c",
   "metadata": {},
   "outputs": [],
   "source": [
    "num_ts_per_day = 4 * 24\n",
    "num_days = 30\n",
    "ts_end = num_ts_per_day * num_days\n",
    "zones = log_data[\"zone\"].unique()"
   ]
  },
  {
   "cell_type": "code",
   "execution_count": 4,
   "id": "f3379e76-e17f-4df8-bad9-80bc1c948eb8",
   "metadata": {},
   "outputs": [],
   "source": [
    "policy_list = sorted(list(glob.glob(f\"../policy_library_20220705/**.pth\")))"
   ]
  },
  {
   "cell_type": "code",
   "execution_count": 13,
   "id": "316029f7-caf8-4428-8751-9b25fc6cedca",
   "metadata": {
    "tags": []
   },
   "outputs": [],
   "source": [
    "def get_policy_scores(config, use_progress_bar=False):\n",
    "    policy_scores = {}\n",
    "    kernel = config[\"kernel\"]\n",
    "    bandwidth = config[\"bandwidth\"]\n",
    "    for zone in zones:\n",
    "        # print(zone)\n",
    "        ope_data = log_data[log_data[\"zone\"] == zone].sort_values(by=[\"timestep\"])\n",
    "        ope_data = log_data[:ts_end]\n",
    "        states = []\n",
    "        actions = []\n",
    "        rewards = []\n",
    "        for i, row in ope_data.iterrows():\n",
    "            state_vars = [\"outdoor_temp\", \"solar_irradiation\", \"time_hour\",\n",
    "                          \"zone_humidity\", \"zone_temp\", \"zone_occupancy\"]\n",
    "            state = [row[var] for var in state_vars]\n",
    "            action = row[\"action\"]\n",
    "            reward = row[\"reward\"]\n",
    "            states.append(state)\n",
    "            rewards.append(reward)\n",
    "            actions.append(action)\n",
    "        ope = ContinuousOffPolicyEvaluation(bandit_feedback=\n",
    "                                            {\"action\": np.array(actions),\n",
    "                                             \"reward\": np.array(rewards),\n",
    "                                             \"pscore\": np.ones((len(ope_data)))},\n",
    "                                            ope_estimators=[KernelizedInverseProbabilityWeighting(kernel=kernel, bandwidth=bandwidth)])\n",
    "        \n",
    "        if use_progress_bar:\n",
    "            policy_iterable = tqdm(policy_list)\n",
    "        else:\n",
    "            policy_iterable = policy_list\n",
    "        for policy in policy_iterable:\n",
    "            agent = PPO(6, 1, 0.003, 0.0005, 1, 10, 0.2,\n",
    "                        has_continuous_action_space=True, action_std_init=0.2, \n",
    "                        device=torch.device('cpu'), diverse_policies=list(),\n",
    "                        diverse_weight=0, diverse_increase=True)\n",
    "            agent.load(policy)\n",
    "            agent.policy_evaluation = False\n",
    "            agent.policy_old.set_action_std(0.1)\n",
    "\n",
    "            # probs = torch.exp(agent.buffer.logprobs[0].reshape(-1, 1))\n",
    "            if policy not in invalid_policies:\n",
    "                # score, _, _, _, _ = ipw.evaluate_policy(agent.select_action, behavior_model, score=\"mean\")\n",
    "                eval_actions = torch.Tensor(agent.select_action(states)).sigmoid()\n",
    "                estimated_value = ope.estimate_policy_values(action_by_evaluation_policy=eval_actions.numpy())\n",
    "                # print(estimated_value)\n",
    "            else:\n",
    "                continue\n",
    "            if policy not in policy_scores:\n",
    "                policy_scores[policy] = {}\n",
    "            if zone not in policy_scores[policy]:\n",
    "                policy_scores[policy][zone] = estimated_value[\"kernelized_ipw\"]\n",
    "    return policy_scores"
   ]
  },
  {
   "cell_type": "code",
   "execution_count": 14,
   "id": "423bd5d4-3990-4428-b37e-98c0b3985193",
   "metadata": {},
   "outputs": [],
   "source": [
    "def calculate_zonewise_spearman_corr(policy_scores):\n",
    "    eval_data_loc = \"../data/evaluation_clean_20220705.csv\"\n",
    "    df = pd.read_csv(eval_data_loc, header=None, names=[\"datetime\",\"policy\",\"zone\",\"energy\"])\n",
    "    spearman_corr = {}\n",
    "    for zone in zones:\n",
    "        eval_df = df[df[\"zone\"] == zone]\n",
    "\n",
    "        # invalid_policies = list(set(policy_list) - set(policy_scores.keys()))\n",
    "        for i_policy in invalid_policies:\n",
    "            eval_df = eval_df[eval_df[\"policy\"]!=i_policy[3:]]\n",
    "        eval_df = eval_df.sort_values(by=[\"energy\"])\n",
    "        score_list = []\n",
    "        for i, row in eval_df.iterrows():\n",
    "            score_list.append(policy_scores[f\"../{row['policy']}\"][zone])\n",
    "\n",
    "        eval_df[\"ope_scores\"] = score_list\n",
    "        correlation = spearmanr(eval_df[\"energy\"].values, eval_df[\"ope_scores\"].values, nan_policy=\"omit\")\n",
    "        spearman_corr[zone] = correlation\n",
    "    return spearman_corr"
   ]
  },
  {
   "cell_type": "code",
   "execution_count": 15,
   "id": "bb4af84b-d982-4af0-92d8-49b14536144a",
   "metadata": {},
   "outputs": [],
   "source": [
    "def calculate_average_spearman_corr(config):\n",
    "    policy_scores = get_policy_scores(config)\n",
    "    spearman_corr = calculate_zonewise_spearman_corr(policy_scores)\n",
    "    corrs = []\n",
    "    for zone in spearman_corr:\n",
    "        corrs.append(abs(spearman_corr[zone].correlation))\n",
    "    return np.mean(corrs)"
   ]
  },
  {
   "cell_type": "code",
   "execution_count": 16,
   "id": "7ec26ae8-f240-42a4-88ee-cd0a0313b5be",
   "metadata": {},
   "outputs": [
    {
     "data": {
      "text/plain": [
       "0.5780736422596887"
      ]
     },
     "execution_count": 16,
     "metadata": {},
     "output_type": "execute_result"
    }
   ],
   "source": [
    "test_config = {\n",
    "    \"kernel\": \"gaussian\",\n",
    "    \"bandwidth\": 0.02\n",
    "}\n",
    "calculate_average_spearman_corr(test_config)"
   ]
  },
  {
   "cell_type": "markdown",
   "id": "15976668-45ba-49a8-b5d4-8145988d299f",
   "metadata": {},
   "source": [
    "## Wandb Hyperparameter Sweep"
   ]
  },
  {
   "cell_type": "code",
   "execution_count": 17,
   "id": "1d337bc8-70e2-47a2-bc46-732974affa4a",
   "metadata": {},
   "outputs": [],
   "source": [
    "def evaluate_hyperparams(config=None):\n",
    "    with wandb.init(config=config):\n",
    "        config = wandb.config\n",
    "        avg_spearman_corr = calculate_average_spearman_corr(config)\n",
    "        wandb.log({\"average_spearman_correlation\": avg_spearman_corr})   "
   ]
  },
  {
   "cell_type": "code",
   "execution_count": 18,
   "id": "b8726d1e-0c0a-435a-acb7-14b5537cb566",
   "metadata": {},
   "outputs": [
    {
     "name": "stderr",
     "output_type": "stream",
     "text": [
      "\u001b[34m\u001b[1mwandb\u001b[0m: Currently logged in as: \u001b[33maakashsasikumar\u001b[0m. Use \u001b[1m`wandb login --relogin`\u001b[0m to force relogin\n"
     ]
    },
    {
     "data": {
      "text/html": [
       "Tracking run with wandb version 0.12.21"
      ],
      "text/plain": [
       "<IPython.core.display.HTML object>"
      ]
     },
     "metadata": {},
     "output_type": "display_data"
    },
    {
     "data": {
      "text/html": [
       "Run data is saved locally in <code>/Users/aakashsasikumar/Documents/MSc/Research/Dissimilar Policy/building-MARL/studies/wandb/run-20220728_170007-1b6ek32e</code>"
      ],
      "text/plain": [
       "<IPython.core.display.HTML object>"
      ]
     },
     "metadata": {},
     "output_type": "display_data"
    },
    {
     "data": {
      "text/html": [
       "Syncing run <strong><a href=\"https://wandb.ai/aakashsasikumar/ContinuousOPEHyperParamTuning_28_07_2022/runs/1b6ek32e\" target=\"_blank\">ethereal-elevator-1</a></strong> to <a href=\"https://wandb.ai/aakashsasikumar/ContinuousOPEHyperParamTuning_28_07_2022\" target=\"_blank\">Weights & Biases</a> (<a href=\"https://wandb.me/run\" target=\"_blank\">docs</a>)<br/>"
      ],
      "text/plain": [
       "<IPython.core.display.HTML object>"
      ]
     },
     "metadata": {},
     "output_type": "display_data"
    },
    {
     "name": "stdout",
     "output_type": "stream",
     "text": [
      "Create sweep with ID: qcxa15qo\n",
      "Sweep URL: https://wandb.ai/aakashsasikumar/ContinuousOPEHyperParamTuning_28_07_2022/sweeps/qcxa15qo\n"
     ]
    }
   ],
   "source": [
    "project = \"ContinuousOPEHyperParamTuning_28_07_2022\"\n",
    "\n",
    "wandb.init(project=project)\n",
    "\n",
    "sweep_config = {\n",
    "    \"method\": \"random\",\n",
    "    \"metric\": {\n",
    "        \"name\": \"average_spearman_correlation\",\n",
    "        \"goal\": \"maximize\"\n",
    "    },\n",
    "    \"parameters\": {\n",
    "        \"kernel\": {\n",
    "            \"values\": [\"gaussian\", \"epanechnikov\", \"triangular\", \"cosine\"]\n",
    "        },\n",
    "        \"bandwidth\": {\n",
    "            \"distribution\": \"uniform\",\n",
    "            \"min\": 0,\n",
    "            \"max\": 0.5\n",
    "        }\n",
    "    }\n",
    "}\n",
    "\n",
    "sweep_id = wandb.sweep(sweep_config, project=project)"
   ]
  },
  {
   "cell_type": "code",
   "execution_count": null,
   "id": "b3a4a3d8-1b80-4e70-a670-aabfeb9c3b4d",
   "metadata": {
    "collapsed": true,
    "jupyter": {
     "outputs_hidden": true
    },
    "tags": []
   },
   "outputs": [
    {
     "name": "stderr",
     "output_type": "stream",
     "text": [
      "\u001b[34m\u001b[1mwandb\u001b[0m: \u001b[33mWARNING\u001b[0m Calling wandb.login() after wandb.init() has no effect.\n",
      "\u001b[34m\u001b[1mwandb\u001b[0m: Agent Starting Run: cz9bnc8i with config:\n",
      "\u001b[34m\u001b[1mwandb\u001b[0m: \tbandwidth: 0.15177222212586255\n",
      "\u001b[34m\u001b[1mwandb\u001b[0m: \tkernel: cosine\n"
     ]
    },
    {
     "data": {
      "text/html": [
       "Tracking run with wandb version 0.12.21"
      ],
      "text/plain": [
       "<IPython.core.display.HTML object>"
      ]
     },
     "metadata": {},
     "output_type": "display_data"
    },
    {
     "data": {
      "text/html": [
       "Run data is saved locally in <code>/Users/aakashsasikumar/Documents/MSc/Research/Dissimilar Policy/building-MARL/studies/wandb/run-20220728_170038-cz9bnc8i</code>"
      ],
      "text/plain": [
       "<IPython.core.display.HTML object>"
      ]
     },
     "metadata": {},
     "output_type": "display_data"
    },
    {
     "data": {
      "text/html": [
       "Syncing run <strong><a href=\"https://wandb.ai/aakashsasikumar/ContinuousOPEHyperParamTuning_28_07_2022/runs/cz9bnc8i\" target=\"_blank\">clear-sweep-1</a></strong> to <a href=\"https://wandb.ai/aakashsasikumar/ContinuousOPEHyperParamTuning_28_07_2022\" target=\"_blank\">Weights & Biases</a> (<a href=\"https://wandb.me/run\" target=\"_blank\">docs</a>)<br/>Sweep page:  <a href=\"https://wandb.ai/aakashsasikumar/ContinuousOPEHyperParamTuning_28_07_2022/sweeps/qcxa15qo\" target=\"_blank\">https://wandb.ai/aakashsasikumar/ContinuousOPEHyperParamTuning_28_07_2022/sweeps/qcxa15qo</a>"
      ],
      "text/plain": [
       "<IPython.core.display.HTML object>"
      ]
     },
     "metadata": {},
     "output_type": "display_data"
    },
    {
     "data": {
      "text/html": [
       "Waiting for W&B process to finish... <strong style=\"color:green\">(success).</strong>"
      ],
      "text/plain": [
       "<IPython.core.display.HTML object>"
      ]
     },
     "metadata": {},
     "output_type": "display_data"
    },
    {
     "data": {
      "application/vnd.jupyter.widget-view+json": {
       "model_id": "",
       "version_major": 2,
       "version_minor": 0
      },
      "text/plain": [
       "VBox(children=(Label(value='0.001 MB of 0.001 MB uploaded (0.000 MB deduped)\\r'), FloatProgress(value=1.0, max…"
      ]
     },
     "metadata": {},
     "output_type": "display_data"
    },
    {
     "data": {
      "text/html": [
       "<style>\n",
       "    table.wandb td:nth-child(1) { padding: 0 10px; text-align: left ; width: auto;} td:nth-child(2) {text-align: left ; width: 100%}\n",
       "    .wandb-row { display: flex; flex-direction: row; flex-wrap: wrap; justify-content: flex-start; width: 100% }\n",
       "    .wandb-col { display: flex; flex-direction: column; flex-basis: 100%; flex: 1; padding: 10px; }\n",
       "    </style>\n",
       "<div class=\"wandb-row\"><div class=\"wandb-col\"><h3>Run history:</h3><br/><table class=\"wandb\"><tr><td>average_spearman_correlation</td><td>▁</td></tr></table><br/></div><div class=\"wandb-col\"><h3>Run summary:</h3><br/><table class=\"wandb\"><tr><td>average_spearman_correlation</td><td>0.70286</td></tr></table><br/></div></div>"
      ],
      "text/plain": [
       "<IPython.core.display.HTML object>"
      ]
     },
     "metadata": {},
     "output_type": "display_data"
    },
    {
     "data": {
      "text/html": [
       "Synced <strong style=\"color:#cdcd00\">clear-sweep-1</strong>: <a href=\"https://wandb.ai/aakashsasikumar/ContinuousOPEHyperParamTuning_28_07_2022/runs/cz9bnc8i\" target=\"_blank\">https://wandb.ai/aakashsasikumar/ContinuousOPEHyperParamTuning_28_07_2022/runs/cz9bnc8i</a><br/>Synced 4 W&B file(s), 0 media file(s), 0 artifact file(s) and 0 other file(s)"
      ],
      "text/plain": [
       "<IPython.core.display.HTML object>"
      ]
     },
     "metadata": {},
     "output_type": "display_data"
    },
    {
     "data": {
      "text/html": [
       "Find logs at: <code>./wandb/run-20220728_170038-cz9bnc8i/logs</code>"
      ],
      "text/plain": [
       "<IPython.core.display.HTML object>"
      ]
     },
     "metadata": {},
     "output_type": "display_data"
    },
    {
     "name": "stderr",
     "output_type": "stream",
     "text": [
      "\u001b[34m\u001b[1mwandb\u001b[0m: Sweep Agent: Waiting for job.\n",
      "\u001b[34m\u001b[1mwandb\u001b[0m: Job received.\n",
      "\u001b[34m\u001b[1mwandb\u001b[0m: Agent Starting Run: w1viky0n with config:\n",
      "\u001b[34m\u001b[1mwandb\u001b[0m: \tbandwidth: 0.10137394054261668\n",
      "\u001b[34m\u001b[1mwandb\u001b[0m: \tkernel: epanechnikov\n"
     ]
    },
    {
     "data": {
      "text/html": [
       "Tracking run with wandb version 0.12.21"
      ],
      "text/plain": [
       "<IPython.core.display.HTML object>"
      ]
     },
     "metadata": {},
     "output_type": "display_data"
    },
    {
     "data": {
      "text/html": [
       "Run data is saved locally in <code>/Users/aakashsasikumar/Documents/MSc/Research/Dissimilar Policy/building-MARL/studies/wandb/run-20220728_170156-w1viky0n</code>"
      ],
      "text/plain": [
       "<IPython.core.display.HTML object>"
      ]
     },
     "metadata": {},
     "output_type": "display_data"
    },
    {
     "data": {
      "text/html": [
       "Syncing run <strong><a href=\"https://wandb.ai/aakashsasikumar/ContinuousOPEHyperParamTuning_28_07_2022/runs/w1viky0n\" target=\"_blank\">skilled-sweep-2</a></strong> to <a href=\"https://wandb.ai/aakashsasikumar/ContinuousOPEHyperParamTuning_28_07_2022\" target=\"_blank\">Weights & Biases</a> (<a href=\"https://wandb.me/run\" target=\"_blank\">docs</a>)<br/>Sweep page:  <a href=\"https://wandb.ai/aakashsasikumar/ContinuousOPEHyperParamTuning_28_07_2022/sweeps/qcxa15qo\" target=\"_blank\">https://wandb.ai/aakashsasikumar/ContinuousOPEHyperParamTuning_28_07_2022/sweeps/qcxa15qo</a>"
      ],
      "text/plain": [
       "<IPython.core.display.HTML object>"
      ]
     },
     "metadata": {},
     "output_type": "display_data"
    },
    {
     "data": {
      "text/html": [
       "Waiting for W&B process to finish... <strong style=\"color:green\">(success).</strong>"
      ],
      "text/plain": [
       "<IPython.core.display.HTML object>"
      ]
     },
     "metadata": {},
     "output_type": "display_data"
    },
    {
     "data": {
      "application/vnd.jupyter.widget-view+json": {
       "model_id": "",
       "version_major": 2,
       "version_minor": 0
      },
      "text/plain": [
       "VBox(children=(Label(value='0.001 MB of 0.001 MB uploaded (0.000 MB deduped)\\r'), FloatProgress(value=1.0, max…"
      ]
     },
     "metadata": {},
     "output_type": "display_data"
    },
    {
     "data": {
      "text/html": [
       "<style>\n",
       "    table.wandb td:nth-child(1) { padding: 0 10px; text-align: left ; width: auto;} td:nth-child(2) {text-align: left ; width: 100%}\n",
       "    .wandb-row { display: flex; flex-direction: row; flex-wrap: wrap; justify-content: flex-start; width: 100% }\n",
       "    .wandb-col { display: flex; flex-direction: column; flex-basis: 100%; flex: 1; padding: 10px; }\n",
       "    </style>\n",
       "<div class=\"wandb-row\"><div class=\"wandb-col\"><h3>Run history:</h3><br/><table class=\"wandb\"><tr><td>average_spearman_correlation</td><td>▁</td></tr></table><br/></div><div class=\"wandb-col\"><h3>Run summary:</h3><br/><table class=\"wandb\"><tr><td>average_spearman_correlation</td><td>0.60807</td></tr></table><br/></div></div>"
      ],
      "text/plain": [
       "<IPython.core.display.HTML object>"
      ]
     },
     "metadata": {},
     "output_type": "display_data"
    },
    {
     "data": {
      "text/html": [
       "Synced <strong style=\"color:#cdcd00\">skilled-sweep-2</strong>: <a href=\"https://wandb.ai/aakashsasikumar/ContinuousOPEHyperParamTuning_28_07_2022/runs/w1viky0n\" target=\"_blank\">https://wandb.ai/aakashsasikumar/ContinuousOPEHyperParamTuning_28_07_2022/runs/w1viky0n</a><br/>Synced 4 W&B file(s), 0 media file(s), 0 artifact file(s) and 0 other file(s)"
      ],
      "text/plain": [
       "<IPython.core.display.HTML object>"
      ]
     },
     "metadata": {},
     "output_type": "display_data"
    },
    {
     "data": {
      "text/html": [
       "Find logs at: <code>./wandb/run-20220728_170156-w1viky0n/logs</code>"
      ],
      "text/plain": [
       "<IPython.core.display.HTML object>"
      ]
     },
     "metadata": {},
     "output_type": "display_data"
    },
    {
     "name": "stderr",
     "output_type": "stream",
     "text": [
      "\u001b[34m\u001b[1mwandb\u001b[0m: Agent Starting Run: zs7l3d5n with config:\n",
      "\u001b[34m\u001b[1mwandb\u001b[0m: \tbandwidth: 0.45405500840241136\n",
      "\u001b[34m\u001b[1mwandb\u001b[0m: \tkernel: triangular\n"
     ]
    },
    {
     "data": {
      "text/html": [
       "Tracking run with wandb version 0.12.21"
      ],
      "text/plain": [
       "<IPython.core.display.HTML object>"
      ]
     },
     "metadata": {},
     "output_type": "display_data"
    },
    {
     "data": {
      "text/html": [
       "Run data is saved locally in <code>/Users/aakashsasikumar/Documents/MSc/Research/Dissimilar Policy/building-MARL/studies/wandb/run-20220728_170310-zs7l3d5n</code>"
      ],
      "text/plain": [
       "<IPython.core.display.HTML object>"
      ]
     },
     "metadata": {},
     "output_type": "display_data"
    },
    {
     "data": {
      "text/html": [
       "Syncing run <strong><a href=\"https://wandb.ai/aakashsasikumar/ContinuousOPEHyperParamTuning_28_07_2022/runs/zs7l3d5n\" target=\"_blank\">lunar-sweep-3</a></strong> to <a href=\"https://wandb.ai/aakashsasikumar/ContinuousOPEHyperParamTuning_28_07_2022\" target=\"_blank\">Weights & Biases</a> (<a href=\"https://wandb.me/run\" target=\"_blank\">docs</a>)<br/>Sweep page:  <a href=\"https://wandb.ai/aakashsasikumar/ContinuousOPEHyperParamTuning_28_07_2022/sweeps/qcxa15qo\" target=\"_blank\">https://wandb.ai/aakashsasikumar/ContinuousOPEHyperParamTuning_28_07_2022/sweeps/qcxa15qo</a>"
      ],
      "text/plain": [
       "<IPython.core.display.HTML object>"
      ]
     },
     "metadata": {},
     "output_type": "display_data"
    },
    {
     "data": {
      "text/html": [
       "Waiting for W&B process to finish... <strong style=\"color:green\">(success).</strong>"
      ],
      "text/plain": [
       "<IPython.core.display.HTML object>"
      ]
     },
     "metadata": {},
     "output_type": "display_data"
    },
    {
     "data": {
      "application/vnd.jupyter.widget-view+json": {
       "model_id": "",
       "version_major": 2,
       "version_minor": 0
      },
      "text/plain": [
       "VBox(children=(Label(value='0.001 MB of 0.001 MB uploaded (0.000 MB deduped)\\r'), FloatProgress(value=1.0, max…"
      ]
     },
     "metadata": {},
     "output_type": "display_data"
    },
    {
     "data": {
      "text/html": [
       "<style>\n",
       "    table.wandb td:nth-child(1) { padding: 0 10px; text-align: left ; width: auto;} td:nth-child(2) {text-align: left ; width: 100%}\n",
       "    .wandb-row { display: flex; flex-direction: row; flex-wrap: wrap; justify-content: flex-start; width: 100% }\n",
       "    .wandb-col { display: flex; flex-direction: column; flex-basis: 100%; flex: 1; padding: 10px; }\n",
       "    </style>\n",
       "<div class=\"wandb-row\"><div class=\"wandb-col\"><h3>Run history:</h3><br/><table class=\"wandb\"><tr><td>average_spearman_correlation</td><td>▁</td></tr></table><br/></div><div class=\"wandb-col\"><h3>Run summary:</h3><br/><table class=\"wandb\"><tr><td>average_spearman_correlation</td><td>0.9113</td></tr></table><br/></div></div>"
      ],
      "text/plain": [
       "<IPython.core.display.HTML object>"
      ]
     },
     "metadata": {},
     "output_type": "display_data"
    },
    {
     "data": {
      "text/html": [
       "Synced <strong style=\"color:#cdcd00\">lunar-sweep-3</strong>: <a href=\"https://wandb.ai/aakashsasikumar/ContinuousOPEHyperParamTuning_28_07_2022/runs/zs7l3d5n\" target=\"_blank\">https://wandb.ai/aakashsasikumar/ContinuousOPEHyperParamTuning_28_07_2022/runs/zs7l3d5n</a><br/>Synced 4 W&B file(s), 0 media file(s), 0 artifact file(s) and 0 other file(s)"
      ],
      "text/plain": [
       "<IPython.core.display.HTML object>"
      ]
     },
     "metadata": {},
     "output_type": "display_data"
    },
    {
     "data": {
      "text/html": [
       "Find logs at: <code>./wandb/run-20220728_170310-zs7l3d5n/logs</code>"
      ],
      "text/plain": [
       "<IPython.core.display.HTML object>"
      ]
     },
     "metadata": {},
     "output_type": "display_data"
    },
    {
     "name": "stderr",
     "output_type": "stream",
     "text": [
      "\u001b[34m\u001b[1mwandb\u001b[0m: Sweep Agent: Waiting for job.\n",
      "\u001b[34m\u001b[1mwandb\u001b[0m: Job received.\n",
      "\u001b[34m\u001b[1mwandb\u001b[0m: Agent Starting Run: 62svd66c with config:\n",
      "\u001b[34m\u001b[1mwandb\u001b[0m: \tbandwidth: 0.09788721614128798\n",
      "\u001b[34m\u001b[1mwandb\u001b[0m: \tkernel: triangular\n"
     ]
    },
    {
     "data": {
      "text/html": [
       "Tracking run with wandb version 0.12.21"
      ],
      "text/plain": [
       "<IPython.core.display.HTML object>"
      ]
     },
     "metadata": {},
     "output_type": "display_data"
    },
    {
     "data": {
      "text/html": [
       "Run data is saved locally in <code>/Users/aakashsasikumar/Documents/MSc/Research/Dissimilar Policy/building-MARL/studies/wandb/run-20220728_170428-62svd66c</code>"
      ],
      "text/plain": [
       "<IPython.core.display.HTML object>"
      ]
     },
     "metadata": {},
     "output_type": "display_data"
    },
    {
     "data": {
      "text/html": [
       "Syncing run <strong><a href=\"https://wandb.ai/aakashsasikumar/ContinuousOPEHyperParamTuning_28_07_2022/runs/62svd66c\" target=\"_blank\">lemon-sweep-4</a></strong> to <a href=\"https://wandb.ai/aakashsasikumar/ContinuousOPEHyperParamTuning_28_07_2022\" target=\"_blank\">Weights & Biases</a> (<a href=\"https://wandb.me/run\" target=\"_blank\">docs</a>)<br/>Sweep page:  <a href=\"https://wandb.ai/aakashsasikumar/ContinuousOPEHyperParamTuning_28_07_2022/sweeps/qcxa15qo\" target=\"_blank\">https://wandb.ai/aakashsasikumar/ContinuousOPEHyperParamTuning_28_07_2022/sweeps/qcxa15qo</a>"
      ],
      "text/plain": [
       "<IPython.core.display.HTML object>"
      ]
     },
     "metadata": {},
     "output_type": "display_data"
    },
    {
     "data": {
      "text/html": [
       "Waiting for W&B process to finish... <strong style=\"color:green\">(success).</strong>"
      ],
      "text/plain": [
       "<IPython.core.display.HTML object>"
      ]
     },
     "metadata": {},
     "output_type": "display_data"
    },
    {
     "data": {
      "application/vnd.jupyter.widget-view+json": {
       "model_id": "",
       "version_major": 2,
       "version_minor": 0
      },
      "text/plain": [
       "VBox(children=(Label(value='0.001 MB of 0.001 MB uploaded (0.000 MB deduped)\\r'), FloatProgress(value=1.0, max…"
      ]
     },
     "metadata": {},
     "output_type": "display_data"
    },
    {
     "data": {
      "text/html": [
       "<style>\n",
       "    table.wandb td:nth-child(1) { padding: 0 10px; text-align: left ; width: auto;} td:nth-child(2) {text-align: left ; width: 100%}\n",
       "    .wandb-row { display: flex; flex-direction: row; flex-wrap: wrap; justify-content: flex-start; width: 100% }\n",
       "    .wandb-col { display: flex; flex-direction: column; flex-basis: 100%; flex: 1; padding: 10px; }\n",
       "    </style>\n",
       "<div class=\"wandb-row\"><div class=\"wandb-col\"><h3>Run history:</h3><br/><table class=\"wandb\"><tr><td>average_spearman_correlation</td><td>▁</td></tr></table><br/></div><div class=\"wandb-col\"><h3>Run summary:</h3><br/><table class=\"wandb\"><tr><td>average_spearman_correlation</td><td>0.5851</td></tr></table><br/></div></div>"
      ],
      "text/plain": [
       "<IPython.core.display.HTML object>"
      ]
     },
     "metadata": {},
     "output_type": "display_data"
    },
    {
     "data": {
      "text/html": [
       "Synced <strong style=\"color:#cdcd00\">lemon-sweep-4</strong>: <a href=\"https://wandb.ai/aakashsasikumar/ContinuousOPEHyperParamTuning_28_07_2022/runs/62svd66c\" target=\"_blank\">https://wandb.ai/aakashsasikumar/ContinuousOPEHyperParamTuning_28_07_2022/runs/62svd66c</a><br/>Synced 4 W&B file(s), 0 media file(s), 0 artifact file(s) and 0 other file(s)"
      ],
      "text/plain": [
       "<IPython.core.display.HTML object>"
      ]
     },
     "metadata": {},
     "output_type": "display_data"
    },
    {
     "data": {
      "text/html": [
       "Find logs at: <code>./wandb/run-20220728_170428-62svd66c/logs</code>"
      ],
      "text/plain": [
       "<IPython.core.display.HTML object>"
      ]
     },
     "metadata": {},
     "output_type": "display_data"
    },
    {
     "name": "stderr",
     "output_type": "stream",
     "text": [
      "\u001b[34m\u001b[1mwandb\u001b[0m: Agent Starting Run: 60q6ydj7 with config:\n",
      "\u001b[34m\u001b[1mwandb\u001b[0m: \tbandwidth: 0.07327809698196275\n",
      "\u001b[34m\u001b[1mwandb\u001b[0m: \tkernel: cosine\n"
     ]
    },
    {
     "data": {
      "text/html": [
       "Tracking run with wandb version 0.12.21"
      ],
      "text/plain": [
       "<IPython.core.display.HTML object>"
      ]
     },
     "metadata": {},
     "output_type": "display_data"
    },
    {
     "data": {
      "text/html": [
       "Run data is saved locally in <code>/Users/aakashsasikumar/Documents/MSc/Research/Dissimilar Policy/building-MARL/studies/wandb/run-20220728_170536-60q6ydj7</code>"
      ],
      "text/plain": [
       "<IPython.core.display.HTML object>"
      ]
     },
     "metadata": {},
     "output_type": "display_data"
    },
    {
     "data": {
      "text/html": [
       "Syncing run <strong><a href=\"https://wandb.ai/aakashsasikumar/ContinuousOPEHyperParamTuning_28_07_2022/runs/60q6ydj7\" target=\"_blank\">unique-sweep-5</a></strong> to <a href=\"https://wandb.ai/aakashsasikumar/ContinuousOPEHyperParamTuning_28_07_2022\" target=\"_blank\">Weights & Biases</a> (<a href=\"https://wandb.me/run\" target=\"_blank\">docs</a>)<br/>Sweep page:  <a href=\"https://wandb.ai/aakashsasikumar/ContinuousOPEHyperParamTuning_28_07_2022/sweeps/qcxa15qo\" target=\"_blank\">https://wandb.ai/aakashsasikumar/ContinuousOPEHyperParamTuning_28_07_2022/sweeps/qcxa15qo</a>"
      ],
      "text/plain": [
       "<IPython.core.display.HTML object>"
      ]
     },
     "metadata": {},
     "output_type": "display_data"
    },
    {
     "data": {
      "text/html": [
       "Waiting for W&B process to finish... <strong style=\"color:green\">(success).</strong>"
      ],
      "text/plain": [
       "<IPython.core.display.HTML object>"
      ]
     },
     "metadata": {},
     "output_type": "display_data"
    },
    {
     "data": {
      "application/vnd.jupyter.widget-view+json": {
       "model_id": "",
       "version_major": 2,
       "version_minor": 0
      },
      "text/plain": [
       "VBox(children=(Label(value='0.001 MB of 0.001 MB uploaded (0.000 MB deduped)\\r'), FloatProgress(value=1.0, max…"
      ]
     },
     "metadata": {},
     "output_type": "display_data"
    },
    {
     "data": {
      "text/html": [
       "<style>\n",
       "    table.wandb td:nth-child(1) { padding: 0 10px; text-align: left ; width: auto;} td:nth-child(2) {text-align: left ; width: 100%}\n",
       "    .wandb-row { display: flex; flex-direction: row; flex-wrap: wrap; justify-content: flex-start; width: 100% }\n",
       "    .wandb-col { display: flex; flex-direction: column; flex-basis: 100%; flex: 1; padding: 10px; }\n",
       "    </style>\n",
       "<div class=\"wandb-row\"><div class=\"wandb-col\"><h3>Run history:</h3><br/><table class=\"wandb\"><tr><td>average_spearman_correlation</td><td>▁</td></tr></table><br/></div><div class=\"wandb-col\"><h3>Run summary:</h3><br/><table class=\"wandb\"><tr><td>average_spearman_correlation</td><td>0.50493</td></tr></table><br/></div></div>"
      ],
      "text/plain": [
       "<IPython.core.display.HTML object>"
      ]
     },
     "metadata": {},
     "output_type": "display_data"
    },
    {
     "data": {
      "text/html": [
       "Synced <strong style=\"color:#cdcd00\">unique-sweep-5</strong>: <a href=\"https://wandb.ai/aakashsasikumar/ContinuousOPEHyperParamTuning_28_07_2022/runs/60q6ydj7\" target=\"_blank\">https://wandb.ai/aakashsasikumar/ContinuousOPEHyperParamTuning_28_07_2022/runs/60q6ydj7</a><br/>Synced 4 W&B file(s), 0 media file(s), 0 artifact file(s) and 0 other file(s)"
      ],
      "text/plain": [
       "<IPython.core.display.HTML object>"
      ]
     },
     "metadata": {},
     "output_type": "display_data"
    },
    {
     "data": {
      "text/html": [
       "Find logs at: <code>./wandb/run-20220728_170536-60q6ydj7/logs</code>"
      ],
      "text/plain": [
       "<IPython.core.display.HTML object>"
      ]
     },
     "metadata": {},
     "output_type": "display_data"
    },
    {
     "name": "stderr",
     "output_type": "stream",
     "text": [
      "\u001b[34m\u001b[1mwandb\u001b[0m: Agent Starting Run: 712salzg with config:\n",
      "\u001b[34m\u001b[1mwandb\u001b[0m: \tbandwidth: 0.03095698180523787\n",
      "\u001b[34m\u001b[1mwandb\u001b[0m: \tkernel: gaussian\n"
     ]
    },
    {
     "data": {
      "text/html": [
       "Tracking run with wandb version 0.12.21"
      ],
      "text/plain": [
       "<IPython.core.display.HTML object>"
      ]
     },
     "metadata": {},
     "output_type": "display_data"
    },
    {
     "data": {
      "text/html": [
       "Run data is saved locally in <code>/Users/aakashsasikumar/Documents/MSc/Research/Dissimilar Policy/building-MARL/studies/wandb/run-20220728_170705-712salzg</code>"
      ],
      "text/plain": [
       "<IPython.core.display.HTML object>"
      ]
     },
     "metadata": {},
     "output_type": "display_data"
    },
    {
     "data": {
      "text/html": [
       "Syncing run <strong><a href=\"https://wandb.ai/aakashsasikumar/ContinuousOPEHyperParamTuning_28_07_2022/runs/712salzg\" target=\"_blank\">proud-sweep-6</a></strong> to <a href=\"https://wandb.ai/aakashsasikumar/ContinuousOPEHyperParamTuning_28_07_2022\" target=\"_blank\">Weights & Biases</a> (<a href=\"https://wandb.me/run\" target=\"_blank\">docs</a>)<br/>Sweep page:  <a href=\"https://wandb.ai/aakashsasikumar/ContinuousOPEHyperParamTuning_28_07_2022/sweeps/qcxa15qo\" target=\"_blank\">https://wandb.ai/aakashsasikumar/ContinuousOPEHyperParamTuning_28_07_2022/sweeps/qcxa15qo</a>"
      ],
      "text/plain": [
       "<IPython.core.display.HTML object>"
      ]
     },
     "metadata": {},
     "output_type": "display_data"
    },
    {
     "data": {
      "text/html": [
       "Waiting for W&B process to finish... <strong style=\"color:green\">(success).</strong>"
      ],
      "text/plain": [
       "<IPython.core.display.HTML object>"
      ]
     },
     "metadata": {},
     "output_type": "display_data"
    },
    {
     "data": {
      "application/vnd.jupyter.widget-view+json": {
       "model_id": "52f4f236ae1b42118a4e86ebda9586cd",
       "version_major": 2,
       "version_minor": 0
      },
      "text/plain": [
       "VBox(children=(Label(value='0.001 MB of 0.001 MB uploaded (0.000 MB deduped)\\r'), FloatProgress(value=1.0, max…"
      ]
     },
     "metadata": {},
     "output_type": "display_data"
    },
    {
     "data": {
      "text/html": [
       "<style>\n",
       "    table.wandb td:nth-child(1) { padding: 0 10px; text-align: left ; width: auto;} td:nth-child(2) {text-align: left ; width: 100%}\n",
       "    .wandb-row { display: flex; flex-direction: row; flex-wrap: wrap; justify-content: flex-start; width: 100% }\n",
       "    .wandb-col { display: flex; flex-direction: column; flex-basis: 100%; flex: 1; padding: 10px; }\n",
       "    </style>\n",
       "<div class=\"wandb-row\"><div class=\"wandb-col\"><h3>Run history:</h3><br/><table class=\"wandb\"><tr><td>average_spearman_correlation</td><td>▁</td></tr></table><br/></div><div class=\"wandb-col\"><h3>Run summary:</h3><br/><table class=\"wandb\"><tr><td>average_spearman_correlation</td><td>0.60475</td></tr></table><br/></div></div>"
      ],
      "text/plain": [
       "<IPython.core.display.HTML object>"
      ]
     },
     "metadata": {},
     "output_type": "display_data"
    },
    {
     "data": {
      "text/html": [
       "Synced <strong style=\"color:#cdcd00\">proud-sweep-6</strong>: <a href=\"https://wandb.ai/aakashsasikumar/ContinuousOPEHyperParamTuning_28_07_2022/runs/712salzg\" target=\"_blank\">https://wandb.ai/aakashsasikumar/ContinuousOPEHyperParamTuning_28_07_2022/runs/712salzg</a><br/>Synced 4 W&B file(s), 0 media file(s), 0 artifact file(s) and 0 other file(s)"
      ],
      "text/plain": [
       "<IPython.core.display.HTML object>"
      ]
     },
     "metadata": {},
     "output_type": "display_data"
    },
    {
     "data": {
      "text/html": [
       "Find logs at: <code>./wandb/run-20220728_170705-712salzg/logs</code>"
      ],
      "text/plain": [
       "<IPython.core.display.HTML object>"
      ]
     },
     "metadata": {},
     "output_type": "display_data"
    },
    {
     "name": "stderr",
     "output_type": "stream",
     "text": [
      "\u001b[34m\u001b[1mwandb\u001b[0m: Agent Starting Run: c7k2zp2r with config:\n",
      "\u001b[34m\u001b[1mwandb\u001b[0m: \tbandwidth: 0.2488191943951622\n",
      "\u001b[34m\u001b[1mwandb\u001b[0m: \tkernel: epanechnikov\n"
     ]
    },
    {
     "data": {
      "text/html": [
       "Tracking run with wandb version 0.12.21"
      ],
      "text/plain": [
       "<IPython.core.display.HTML object>"
      ]
     },
     "metadata": {},
     "output_type": "display_data"
    },
    {
     "data": {
      "text/html": [
       "Run data is saved locally in <code>/Users/aakashsasikumar/Documents/MSc/Research/Dissimilar Policy/building-MARL/studies/wandb/run-20220728_170818-c7k2zp2r</code>"
      ],
      "text/plain": [
       "<IPython.core.display.HTML object>"
      ]
     },
     "metadata": {},
     "output_type": "display_data"
    },
    {
     "data": {
      "text/html": [
       "Syncing run <strong><a href=\"https://wandb.ai/aakashsasikumar/ContinuousOPEHyperParamTuning_28_07_2022/runs/c7k2zp2r\" target=\"_blank\">light-sweep-7</a></strong> to <a href=\"https://wandb.ai/aakashsasikumar/ContinuousOPEHyperParamTuning_28_07_2022\" target=\"_blank\">Weights & Biases</a> (<a href=\"https://wandb.me/run\" target=\"_blank\">docs</a>)<br/>Sweep page:  <a href=\"https://wandb.ai/aakashsasikumar/ContinuousOPEHyperParamTuning_28_07_2022/sweeps/qcxa15qo\" target=\"_blank\">https://wandb.ai/aakashsasikumar/ContinuousOPEHyperParamTuning_28_07_2022/sweeps/qcxa15qo</a>"
      ],
      "text/plain": [
       "<IPython.core.display.HTML object>"
      ]
     },
     "metadata": {},
     "output_type": "display_data"
    },
    {
     "data": {
      "text/html": [
       "Waiting for W&B process to finish... <strong style=\"color:green\">(success).</strong>"
      ],
      "text/plain": [
       "<IPython.core.display.HTML object>"
      ]
     },
     "metadata": {},
     "output_type": "display_data"
    },
    {
     "data": {
      "application/vnd.jupyter.widget-view+json": {
       "model_id": "9ae59d990f6f463c9104c4faa5621f10",
       "version_major": 2,
       "version_minor": 0
      },
      "text/plain": [
       "VBox(children=(Label(value='0.001 MB of 0.001 MB uploaded (0.000 MB deduped)\\r'), FloatProgress(value=1.0, max…"
      ]
     },
     "metadata": {},
     "output_type": "display_data"
    },
    {
     "data": {
      "text/html": [
       "<style>\n",
       "    table.wandb td:nth-child(1) { padding: 0 10px; text-align: left ; width: auto;} td:nth-child(2) {text-align: left ; width: 100%}\n",
       "    .wandb-row { display: flex; flex-direction: row; flex-wrap: wrap; justify-content: flex-start; width: 100% }\n",
       "    .wandb-col { display: flex; flex-direction: column; flex-basis: 100%; flex: 1; padding: 10px; }\n",
       "    </style>\n",
       "<div class=\"wandb-row\"><div class=\"wandb-col\"><h3>Run history:</h3><br/><table class=\"wandb\"><tr><td>average_spearman_correlation</td><td>▁</td></tr></table><br/></div><div class=\"wandb-col\"><h3>Run summary:</h3><br/><table class=\"wandb\"><tr><td>average_spearman_correlation</td><td>0.8338</td></tr></table><br/></div></div>"
      ],
      "text/plain": [
       "<IPython.core.display.HTML object>"
      ]
     },
     "metadata": {},
     "output_type": "display_data"
    },
    {
     "data": {
      "text/html": [
       "Synced <strong style=\"color:#cdcd00\">light-sweep-7</strong>: <a href=\"https://wandb.ai/aakashsasikumar/ContinuousOPEHyperParamTuning_28_07_2022/runs/c7k2zp2r\" target=\"_blank\">https://wandb.ai/aakashsasikumar/ContinuousOPEHyperParamTuning_28_07_2022/runs/c7k2zp2r</a><br/>Synced 4 W&B file(s), 0 media file(s), 0 artifact file(s) and 0 other file(s)"
      ],
      "text/plain": [
       "<IPython.core.display.HTML object>"
      ]
     },
     "metadata": {},
     "output_type": "display_data"
    },
    {
     "data": {
      "text/html": [
       "Find logs at: <code>./wandb/run-20220728_170818-c7k2zp2r/logs</code>"
      ],
      "text/plain": [
       "<IPython.core.display.HTML object>"
      ]
     },
     "metadata": {},
     "output_type": "display_data"
    },
    {
     "name": "stderr",
     "output_type": "stream",
     "text": [
      "\u001b[34m\u001b[1mwandb\u001b[0m: Agent Starting Run: bw6am8pd with config:\n",
      "\u001b[34m\u001b[1mwandb\u001b[0m: \tbandwidth: 0.30325464947726516\n",
      "\u001b[34m\u001b[1mwandb\u001b[0m: \tkernel: epanechnikov\n"
     ]
    },
    {
     "data": {
      "text/html": [
       "Tracking run with wandb version 0.12.21"
      ],
      "text/plain": [
       "<IPython.core.display.HTML object>"
      ]
     },
     "metadata": {},
     "output_type": "display_data"
    },
    {
     "data": {
      "text/html": [
       "Run data is saved locally in <code>/Users/aakashsasikumar/Documents/MSc/Research/Dissimilar Policy/building-MARL/studies/wandb/run-20220728_171008-bw6am8pd</code>"
      ],
      "text/plain": [
       "<IPython.core.display.HTML object>"
      ]
     },
     "metadata": {},
     "output_type": "display_data"
    },
    {
     "data": {
      "text/html": [
       "Syncing run <strong><a href=\"https://wandb.ai/aakashsasikumar/ContinuousOPEHyperParamTuning_28_07_2022/runs/bw6am8pd\" target=\"_blank\">swift-sweep-8</a></strong> to <a href=\"https://wandb.ai/aakashsasikumar/ContinuousOPEHyperParamTuning_28_07_2022\" target=\"_blank\">Weights & Biases</a> (<a href=\"https://wandb.me/run\" target=\"_blank\">docs</a>)<br/>Sweep page:  <a href=\"https://wandb.ai/aakashsasikumar/ContinuousOPEHyperParamTuning_28_07_2022/sweeps/qcxa15qo\" target=\"_blank\">https://wandb.ai/aakashsasikumar/ContinuousOPEHyperParamTuning_28_07_2022/sweeps/qcxa15qo</a>"
      ],
      "text/plain": [
       "<IPython.core.display.HTML object>"
      ]
     },
     "metadata": {},
     "output_type": "display_data"
    },
    {
     "data": {
      "text/html": [
       "Waiting for W&B process to finish... <strong style=\"color:green\">(success).</strong>"
      ],
      "text/plain": [
       "<IPython.core.display.HTML object>"
      ]
     },
     "metadata": {},
     "output_type": "display_data"
    },
    {
     "data": {
      "application/vnd.jupyter.widget-view+json": {
       "model_id": "453c53b691e940a6bca617df2cd4e4eb",
       "version_major": 2,
       "version_minor": 0
      },
      "text/plain": [
       "VBox(children=(Label(value='0.001 MB of 0.001 MB uploaded (0.000 MB deduped)\\r'), FloatProgress(value=1.0, max…"
      ]
     },
     "metadata": {},
     "output_type": "display_data"
    },
    {
     "data": {
      "text/html": [
       "<style>\n",
       "    table.wandb td:nth-child(1) { padding: 0 10px; text-align: left ; width: auto;} td:nth-child(2) {text-align: left ; width: 100%}\n",
       "    .wandb-row { display: flex; flex-direction: row; flex-wrap: wrap; justify-content: flex-start; width: 100% }\n",
       "    .wandb-col { display: flex; flex-direction: column; flex-basis: 100%; flex: 1; padding: 10px; }\n",
       "    </style>\n",
       "<div class=\"wandb-row\"><div class=\"wandb-col\"><h3>Run history:</h3><br/><table class=\"wandb\"><tr><td>average_spearman_correlation</td><td>▁</td></tr></table><br/></div><div class=\"wandb-col\"><h3>Run summary:</h3><br/><table class=\"wandb\"><tr><td>average_spearman_correlation</td><td>0.88411</td></tr></table><br/></div></div>"
      ],
      "text/plain": [
       "<IPython.core.display.HTML object>"
      ]
     },
     "metadata": {},
     "output_type": "display_data"
    },
    {
     "data": {
      "text/html": [
       "Synced <strong style=\"color:#cdcd00\">swift-sweep-8</strong>: <a href=\"https://wandb.ai/aakashsasikumar/ContinuousOPEHyperParamTuning_28_07_2022/runs/bw6am8pd\" target=\"_blank\">https://wandb.ai/aakashsasikumar/ContinuousOPEHyperParamTuning_28_07_2022/runs/bw6am8pd</a><br/>Synced 4 W&B file(s), 0 media file(s), 0 artifact file(s) and 0 other file(s)"
      ],
      "text/plain": [
       "<IPython.core.display.HTML object>"
      ]
     },
     "metadata": {},
     "output_type": "display_data"
    },
    {
     "data": {
      "text/html": [
       "Find logs at: <code>./wandb/run-20220728_171008-bw6am8pd/logs</code>"
      ],
      "text/plain": [
       "<IPython.core.display.HTML object>"
      ]
     },
     "metadata": {},
     "output_type": "display_data"
    },
    {
     "name": "stderr",
     "output_type": "stream",
     "text": [
      "\u001b[34m\u001b[1mwandb\u001b[0m: Sweep Agent: Waiting for job.\n",
      "\u001b[34m\u001b[1mwandb\u001b[0m: Job received.\n",
      "\u001b[34m\u001b[1mwandb\u001b[0m: Agent Starting Run: 7jyaetgl with config:\n",
      "\u001b[34m\u001b[1mwandb\u001b[0m: \tbandwidth: 0.30407785182471414\n",
      "\u001b[34m\u001b[1mwandb\u001b[0m: \tkernel: gaussian\n"
     ]
    },
    {
     "data": {
      "text/html": [
       "Tracking run with wandb version 0.12.21"
      ],
      "text/plain": [
       "<IPython.core.display.HTML object>"
      ]
     },
     "metadata": {},
     "output_type": "display_data"
    },
    {
     "data": {
      "text/html": [
       "Run data is saved locally in <code>/Users/aakashsasikumar/Documents/MSc/Research/Dissimilar Policy/building-MARL/studies/wandb/run-20220728_171133-7jyaetgl</code>"
      ],
      "text/plain": [
       "<IPython.core.display.HTML object>"
      ]
     },
     "metadata": {},
     "output_type": "display_data"
    },
    {
     "data": {
      "text/html": [
       "Syncing run <strong><a href=\"https://wandb.ai/aakashsasikumar/ContinuousOPEHyperParamTuning_28_07_2022/runs/7jyaetgl\" target=\"_blank\">skilled-sweep-9</a></strong> to <a href=\"https://wandb.ai/aakashsasikumar/ContinuousOPEHyperParamTuning_28_07_2022\" target=\"_blank\">Weights & Biases</a> (<a href=\"https://wandb.me/run\" target=\"_blank\">docs</a>)<br/>Sweep page:  <a href=\"https://wandb.ai/aakashsasikumar/ContinuousOPEHyperParamTuning_28_07_2022/sweeps/qcxa15qo\" target=\"_blank\">https://wandb.ai/aakashsasikumar/ContinuousOPEHyperParamTuning_28_07_2022/sweeps/qcxa15qo</a>"
      ],
      "text/plain": [
       "<IPython.core.display.HTML object>"
      ]
     },
     "metadata": {},
     "output_type": "display_data"
    }
   ],
   "source": [
    "wandb.agent(sweep_id, evaluate_hyperparams, count=100)"
   ]
  },
  {
   "cell_type": "code",
   "execution_count": null,
   "id": "10863b33-3489-4324-87d9-6640a8752121",
   "metadata": {},
   "outputs": [],
   "source": []
  }
 ],
 "metadata": {
  "kernelspec": {
   "display_name": "Python 3 (ipykernel)",
   "language": "python",
   "name": "python3"
  },
  "language_info": {
   "codemirror_mode": {
    "name": "ipython",
    "version": 3
   },
   "file_extension": ".py",
   "mimetype": "text/x-python",
   "name": "python",
   "nbconvert_exporter": "python",
   "pygments_lexer": "ipython3",
   "version": "3.10.0"
  }
 },
 "nbformat": 4,
 "nbformat_minor": 5
}
