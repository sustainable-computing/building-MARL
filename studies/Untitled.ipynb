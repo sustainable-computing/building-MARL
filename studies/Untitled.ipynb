{
 "cells": [
  {
   "cell_type": "code",
   "execution_count": 3,
   "id": "0129b810-aa52-44ac-8418-e10b37768df0",
   "metadata": {},
   "outputs": [],
   "source": [
    "import pandas as pd\n",
    "import numpy as np\n",
    "from scipy.stats import spearmanr"
   ]
  },
  {
   "cell_type": "code",
   "execution_count": 43,
   "id": "3a12d26f-00f4-44fe-b255-463ee696de9e",
   "metadata": {},
   "outputs": [],
   "source": [
    "eval_data_loc = \"../data/1month_eval.csv\"\n",
    "fqe_loc = \"../data/fqe_data/Perimeter_top_ZN_3/0/policy_returns.csv\"\n",
    "zone = \"Perimeter_top_ZN_3\"\n",
    "eval_df = pd.read_csv(eval_data_loc, header=None, names=[\"datetime\",\"policy\",\"zone\",\"energy\"])\n",
    "eval_df = eval_df[eval_df[\"zone\"]==zone]\n",
    "zone_eval_df = pd.DataFrame(columns=[\"datetime\",\"policy\",\"zone\",\"energy\"])\n",
    "fqe_df = pd.read_csv(fqe_loc, header=None, names=[\"policy\", \"score\"])\n",
    "\n",
    "fqe_scores = []\n",
    "eval_scores = []\n",
    "zone_eval_df = eval_df.sort_values(by=[\"energy\"])\n",
    "for i, row in zone_eval_df.iterrows():\n",
    "    \n",
    "    policy = row[\"policy\"]\n",
    "    if policy == \"policy_library/101_4.pth\":\n",
    "        pass\n",
    "    # print(policy)\n",
    "    if str(policy) in fqe_df[\"policy\"].values:\n",
    "        # print(policy)\n",
    "        fqe_scores.append(fqe_df[fqe_df[\"policy\"]==policy][\"score\"].values[0])\n",
    "        eval_scores.append(row[\"energy\"])"
   ]
  },
  {
   "cell_type": "code",
   "execution_count": 44,
   "id": "30da7680-57c3-4cd7-b5ab-7213dfc8dd1e",
   "metadata": {},
   "outputs": [
    {
     "name": "stdout",
     "output_type": "stream",
     "text": [
      "237\n"
     ]
    }
   ],
   "source": [
    "print(len(eval_scores))"
   ]
  },
  {
   "cell_type": "code",
   "execution_count": 45,
   "id": "f382d32d-b309-42fd-9256-ebd74b2c6e35",
   "metadata": {},
   "outputs": [
    {
     "name": "stdout",
     "output_type": "stream",
     "text": [
      "237\n"
     ]
    }
   ],
   "source": [
    "print(len(fqe_scores))"
   ]
  },
  {
   "cell_type": "code",
   "execution_count": 46,
   "id": "cc1a5810-eee1-47cb-9bfc-b5cceab9ff7c",
   "metadata": {},
   "outputs": [
    {
     "data": {
      "text/plain": [
       "SpearmanrResult(correlation=0.011077076185548238, pvalue=0.8652987546899455)"
      ]
     },
     "execution_count": 46,
     "metadata": {},
     "output_type": "execute_result"
    }
   ],
   "source": [
    "spearmanr(eval_scores, fqe_scores)"
   ]
  },
  {
   "cell_type": "code",
   "execution_count": 47,
   "id": "c1196dba-dc04-4f88-ae9d-03e595f79a14",
   "metadata": {},
   "outputs": [
    {
     "data": {
      "text/html": [
       "<div>\n",
       "<style scoped>\n",
       "    .dataframe tbody tr th:only-of-type {\n",
       "        vertical-align: middle;\n",
       "    }\n",
       "\n",
       "    .dataframe tbody tr th {\n",
       "        vertical-align: top;\n",
       "    }\n",
       "\n",
       "    .dataframe thead th {\n",
       "        text-align: right;\n",
       "    }\n",
       "</style>\n",
       "<table border=\"1\" class=\"dataframe\">\n",
       "  <thead>\n",
       "    <tr style=\"text-align: right;\">\n",
       "      <th></th>\n",
       "      <th>datetime</th>\n",
       "      <th>policy</th>\n",
       "      <th>zone</th>\n",
       "      <th>energy</th>\n",
       "    </tr>\n",
       "  </thead>\n",
       "  <tbody>\n",
       "    <tr>\n",
       "      <th>6472</th>\n",
       "      <td>2022-03-21 05:11:55.845207</td>\n",
       "      <td>policy_library/101_4.pth</td>\n",
       "      <td>Perimeter_top_ZN_3</td>\n",
       "      <td>3.178379e+07</td>\n",
       "    </tr>\n",
       "  </tbody>\n",
       "</table>\n",
       "</div>"
      ],
      "text/plain": [
       "                        datetime                    policy  \\\n",
       "6472  2022-03-21 05:11:55.845207  policy_library/101_4.pth   \n",
       "\n",
       "                    zone        energy  \n",
       "6472  Perimeter_top_ZN_3  3.178379e+07  "
      ]
     },
     "execution_count": 47,
     "metadata": {},
     "output_type": "execute_result"
    }
   ],
   "source": [
    "zone_eval_df[zone_eval_df[\"policy\"] == \"policy_library/101_4.pth\"]"
   ]
  },
  {
   "cell_type": "code",
   "execution_count": 27,
   "id": "5bde96ab-c2ed-4bfb-b44b-3c5ad095abea",
   "metadata": {},
   "outputs": [
    {
     "data": {
      "text/plain": [
       "False"
      ]
     },
     "execution_count": 27,
     "metadata": {},
     "output_type": "execute_result"
    }
   ],
   "source": [
    "\"policy_library/116_2_1e-1.pth\" in fqe_df[\"policy\"]"
   ]
  },
  {
   "cell_type": "code",
   "execution_count": 32,
   "id": "4c2e1a4e-5053-4a83-8344-96d257734c7a",
   "metadata": {},
   "outputs": [
    {
     "data": {
      "text/plain": [
       "[]"
      ]
     },
     "execution_count": 32,
     "metadata": {},
     "output_type": "execute_result"
    }
   ],
   "source": [
    "fqe_scores"
   ]
  },
  {
   "cell_type": "code",
   "execution_count": 33,
   "id": "f283247e-5dfd-4fc4-8cd9-dfe29203eeac",
   "metadata": {},
   "outputs": [
    {
     "data": {
      "text/plain": [
       "0           policy_library/101_4.pth\n",
       "1           policy_library/102_0.pth\n",
       "2      policy_library/102_0_1e-1.pth\n",
       "3       policy_library/102_0_1e0.pth\n",
       "4       policy_library/102_0_1e1.pth\n",
       "                   ...              \n",
       "235     policy_library/119_2_1e1.pth\n",
       "236         policy_library/119_3.pth\n",
       "237     policy_library/119_3_1e0.pth\n",
       "238         policy_library/119_4.pth\n",
       "239     policy_library/119_4_1e0.pth\n",
       "Name: policy, Length: 240, dtype: object"
      ]
     },
     "execution_count": 33,
     "metadata": {},
     "output_type": "execute_result"
    }
   ],
   "source": [
    "fqe_df[\"policy\"]"
   ]
  },
  {
   "cell_type": "code",
   "execution_count": null,
   "id": "92862ddc-266c-4a7c-93f9-c81f67ec80c9",
   "metadata": {},
   "outputs": [],
   "source": []
  }
 ],
 "metadata": {
  "kernelspec": {
   "display_name": "Python 3 (ipykernel)",
   "language": "python",
   "name": "python3"
  },
  "language_info": {
   "codemirror_mode": {
    "name": "ipython",
    "version": 3
   },
   "file_extension": ".py",
   "mimetype": "text/x-python",
   "name": "python",
   "nbconvert_exporter": "python",
   "pygments_lexer": "ipython3",
   "version": "3.10.0"
  }
 },
 "nbformat": 4,
 "nbformat_minor": 5
}
