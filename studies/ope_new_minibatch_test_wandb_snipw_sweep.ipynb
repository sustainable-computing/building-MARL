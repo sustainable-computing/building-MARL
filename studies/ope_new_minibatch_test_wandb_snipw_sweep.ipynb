{
 "cells": [
  {
   "cell_type": "code",
   "execution_count": 1,
   "id": "2f49d6db-21c6-4160-9db3-4cc4cf4323a4",
   "metadata": {},
   "outputs": [],
   "source": [
    "import numpy as np\n",
    "import sys\n",
    "import matplotlib.pyplot as plt\n",
    "import pandas as pd\n",
    "import pickle\n",
    "sys.path.insert(0, \"../\")\n",
    "import torch\n",
    "from ppo import PPO\n",
    "import glob\n",
    "from tqdm.notebook import tqdm\n",
    "import json\n",
    "from scipy.stats import spearmanr\n",
    "import importlib\n",
    "from obp.ope import (\n",
    "    ContinuousOffPolicyEvaluation,\n",
    "    KernelizedInverseProbabilityWeighting,\n",
    "    KernelizedSelfNormalizedInverseProbabilityWeighting,\\\n",
    ")\n",
    "import wandb\n",
    "\n",
    "%matplotlib widget"
   ]
  },
  {
   "cell_type": "code",
   "execution_count": 2,
   "id": "8aa01c79-6bc9-49ce-8049-7dd90b2c9f07",
   "metadata": {},
   "outputs": [],
   "source": [
    "log_data = pd.read_csv(\"../data/rule_based_log_data/0_cleaned_log.csv\")\n",
    "with open(\"../data/rule_based_log_data/action_probs_all_data.pkl\", \"rb\") as f:\n",
    "    behavior_model = pickle.load(f)\n",
    "with open(\"../data/invalid_policy_list_20220705.json\") as f:\n",
    "    invalid_policies = json.load(f)[\"invalid_policies\"]"
   ]
  },
  {
   "cell_type": "code",
   "execution_count": 3,
   "id": "5fdd83be-0587-4bb3-924f-247eed8fd78c",
   "metadata": {},
   "outputs": [],
   "source": [
    "num_ts_per_day = 4 * 24\n",
    "num_days = 30\n",
    "ts_end = num_ts_per_day * num_days\n",
    "zones = log_data[\"zone\"].unique()"
   ]
  },
  {
   "cell_type": "code",
   "execution_count": 4,
   "id": "f3379e76-e17f-4df8-bad9-80bc1c948eb8",
   "metadata": {},
   "outputs": [],
   "source": [
    "policy_list = sorted(list(glob.glob(f\"../policy_library_20220705/**.pth\")))"
   ]
  },
  {
   "cell_type": "code",
   "execution_count": 14,
   "id": "316029f7-caf8-4428-8751-9b25fc6cedca",
   "metadata": {
    "tags": []
   },
   "outputs": [],
   "source": [
    "def get_policy_scores(config, use_progress_bar=False):\n",
    "    policy_scores = {}\n",
    "    kernel = config[\"kernel\"]\n",
    "    bandwidth = config[\"bandwidth\"]\n",
    "    for zone in zones:\n",
    "        # print(zone)\n",
    "        ope_data = log_data[log_data[\"zone\"] == zone].sort_values(by=[\"timestep\"])\n",
    "        ope_data = log_data[:ts_end]\n",
    "        states = []\n",
    "        actions = []\n",
    "        rewards = []\n",
    "        for i, row in ope_data.iterrows():\n",
    "            state_vars = [\"outdoor_temp\", \"solar_irradiation\", \"time_hour\",\n",
    "                          \"zone_humidity\", \"zone_temp\", \"zone_occupancy\"]\n",
    "            state = [row[var] for var in state_vars]\n",
    "            action = row[\"action\"]\n",
    "            reward = row[\"reward\"]\n",
    "            states.append(state)\n",
    "            rewards.append(reward)\n",
    "            actions.append(action)\n",
    "        ope = ContinuousOffPolicyEvaluation(bandit_feedback=\n",
    "                                            {\"action\": np.array(actions),\n",
    "                                             \"reward\": np.array(rewards),\n",
    "                                             \"pscore\": np.ones((len(ope_data)))},\n",
    "                                            ope_estimators=[KernelizedSelfNormalizedInverseProbabilityWeighting(kernel=kernel, bandwidth=bandwidth)])\n",
    "        \n",
    "        if use_progress_bar:\n",
    "            policy_iterable = tqdm(policy_list)\n",
    "        else:\n",
    "            policy_iterable = policy_list\n",
    "        for policy in policy_iterable:\n",
    "            agent = PPO(6, 1, 0.003, 0.0005, 1, 10, 0.2,\n",
    "                        has_continuous_action_space=True, action_std_init=0.2, \n",
    "                        device=torch.device('cpu'), diverse_policies=list(),\n",
    "                        diverse_weight=0, diverse_increase=True)\n",
    "            agent.load(policy)\n",
    "            agent.policy_evaluation = False\n",
    "            agent.policy_old.set_action_std(0.1)\n",
    "\n",
    "            # probs = torch.exp(agent.buffer.logprobs[0].reshape(-1, 1))\n",
    "            if policy not in invalid_policies:\n",
    "                # score, _, _, _, _ = ipw.evaluate_policy(agent.select_action, behavior_model, score=\"mean\")\n",
    "                eval_actions = torch.Tensor(agent.select_action(states)).sigmoid()\n",
    "                estimated_value = ope.estimate_policy_values(action_by_evaluation_policy=eval_actions.numpy())\n",
    "                # print(estimated_value)\n",
    "            else:\n",
    "                continue\n",
    "            if policy not in policy_scores:\n",
    "                policy_scores[policy] = {}\n",
    "            if zone not in policy_scores[policy]:\n",
    "                policy_scores[policy][zone] = estimated_value[\"kernelized_snipw\"]\n",
    "    return policy_scores"
   ]
  },
  {
   "cell_type": "code",
   "execution_count": 15,
   "id": "423bd5d4-3990-4428-b37e-98c0b3985193",
   "metadata": {},
   "outputs": [],
   "source": [
    "def calculate_zonewise_spearman_corr(policy_scores):\n",
    "    eval_data_loc = \"../data/evaluation_clean_20220705.csv\"\n",
    "    df = pd.read_csv(eval_data_loc, header=None, names=[\"datetime\",\"policy\",\"zone\",\"energy\"])\n",
    "    spearman_corr = {}\n",
    "    for zone in zones:\n",
    "        eval_df = df[df[\"zone\"] == zone]\n",
    "\n",
    "        # invalid_policies = list(set(policy_list) - set(policy_scores.keys()))\n",
    "        for i_policy in invalid_policies:\n",
    "            eval_df = eval_df[eval_df[\"policy\"]!=i_policy[3:]]\n",
    "        eval_df = eval_df.sort_values(by=[\"energy\"])\n",
    "        score_list = []\n",
    "        for i, row in eval_df.iterrows():\n",
    "            score_list.append(policy_scores[f\"../{row['policy']}\"][zone])\n",
    "\n",
    "        eval_df[\"ope_scores\"] = score_list\n",
    "        correlation = spearmanr(eval_df[\"energy\"].values, eval_df[\"ope_scores\"].values, nan_policy=\"omit\")\n",
    "        spearman_corr[zone] = correlation\n",
    "    return spearman_corr"
   ]
  },
  {
   "cell_type": "code",
   "execution_count": 16,
   "id": "bb4af84b-d982-4af0-92d8-49b14536144a",
   "metadata": {},
   "outputs": [],
   "source": [
    "def calculate_average_spearman_corr(config):\n",
    "    policy_scores = get_policy_scores(config)\n",
    "    spearman_corr = calculate_zonewise_spearman_corr(policy_scores)\n",
    "    corrs = []\n",
    "    for zone in spearman_corr:\n",
    "        corrs.append(abs(spearman_corr[zone].correlation))\n",
    "    return np.mean(corrs)"
   ]
  },
  {
   "cell_type": "code",
   "execution_count": 16,
   "id": "7ec26ae8-f240-42a4-88ee-cd0a0313b5be",
   "metadata": {},
   "outputs": [
    {
     "data": {
      "text/plain": [
       "0.5780736422596887"
      ]
     },
     "execution_count": 16,
     "metadata": {},
     "output_type": "execute_result"
    }
   ],
   "source": [
    "test_config = {\n",
    "    \"kernel\": \"gaussian\",\n",
    "    \"bandwidth\": 0.02\n",
    "}\n",
    "calculate_average_spearman_corr(test_config)"
   ]
  },
  {
   "cell_type": "markdown",
   "id": "15976668-45ba-49a8-b5d4-8145988d299f",
   "metadata": {},
   "source": [
    "## Wandb Hyperparameter Sweep"
   ]
  },
  {
   "cell_type": "code",
   "execution_count": 11,
   "id": "1d337bc8-70e2-47a2-bc46-732974affa4a",
   "metadata": {},
   "outputs": [],
   "source": [
    "def evaluate_hyperparams(config=None):\n",
    "    with wandb.init(config=config):\n",
    "        config = wandb.config\n",
    "        avg_spearman_corr = calculate_average_spearman_corr(config)\n",
    "        wandb.log({\"average_spearman_correlation\": avg_spearman_corr})   "
   ]
  },
  {
   "cell_type": "code",
   "execution_count": 12,
   "id": "b8726d1e-0c0a-435a-acb7-14b5537cb566",
   "metadata": {},
   "outputs": [
    {
     "name": "stderr",
     "output_type": "stream",
     "text": [
      "\u001b[34m\u001b[1mwandb\u001b[0m: Currently logged in as: \u001b[33maakashsasikumar\u001b[0m. Use \u001b[1m`wandb login --relogin`\u001b[0m to force relogin\n"
     ]
    },
    {
     "data": {
      "text/html": [
       "Tracking run with wandb version 0.12.21"
      ],
      "text/plain": [
       "<IPython.core.display.HTML object>"
      ]
     },
     "metadata": {},
     "output_type": "display_data"
    },
    {
     "data": {
      "text/html": [
       "Run data is saved locally in <code>/Users/aakashsasikumar/Documents/MSc/Research/Dissimilar Policy/building-MARL/studies/wandb/run-20220728_174038-3es605fg</code>"
      ],
      "text/plain": [
       "<IPython.core.display.HTML object>"
      ]
     },
     "metadata": {},
     "output_type": "display_data"
    },
    {
     "data": {
      "text/html": [
       "Syncing run <strong><a href=\"https://wandb.ai/aakashsasikumar/ContinuousOPEHyperParamTuningSNIPW_28_07_2022/runs/3es605fg\" target=\"_blank\">sweet-morning-1</a></strong> to <a href=\"https://wandb.ai/aakashsasikumar/ContinuousOPEHyperParamTuningSNIPW_28_07_2022\" target=\"_blank\">Weights & Biases</a> (<a href=\"https://wandb.me/run\" target=\"_blank\">docs</a>)<br/>"
      ],
      "text/plain": [
       "<IPython.core.display.HTML object>"
      ]
     },
     "metadata": {},
     "output_type": "display_data"
    },
    {
     "name": "stdout",
     "output_type": "stream",
     "text": [
      "Create sweep with ID: ci54h96s\n",
      "Sweep URL: https://wandb.ai/aakashsasikumar/ContinuousOPEHyperParamTuningSNIPW_28_07_2022/sweeps/ci54h96s\n"
     ]
    }
   ],
   "source": [
    "project = \"ContinuousOPEHyperParamTuningSNIPW_28_07_2022\"\n",
    "\n",
    "wandb.init(project=project)\n",
    "\n",
    "sweep_config = {\n",
    "    \"method\": \"random\",\n",
    "    \"metric\": {\n",
    "        \"name\": \"average_spearman_correlation\",\n",
    "        \"goal\": \"maximize\"\n",
    "    },\n",
    "    \"parameters\": {\n",
    "        \"kernel\": {\n",
    "            \"values\": [\"gaussian\", \"epanechnikov\", \"triangular\", \"cosine\"]\n",
    "        },\n",
    "        \"bandwidth\": {\n",
    "            \"distribution\": \"uniform\",\n",
    "            \"min\": 0,\n",
    "            \"max\": 0.5\n",
    "        }\n",
    "    }\n",
    "}\n",
    "\n",
    "sweep_id = wandb.sweep(sweep_config, project=project)"
   ]
  },
  {
   "cell_type": "code",
   "execution_count": 17,
   "id": "b3a4a3d8-1b80-4e70-a670-aabfeb9c3b4d",
   "metadata": {
    "collapsed": true,
    "jupyter": {
     "outputs_hidden": true
    },
    "tags": []
   },
   "outputs": [
    {
     "name": "stderr",
     "output_type": "stream",
     "text": [
      "\u001b[34m\u001b[1mwandb\u001b[0m: Agent Starting Run: tr3w06az with config:\n",
      "\u001b[34m\u001b[1mwandb\u001b[0m: \tbandwidth: 0.012859514079691492\n",
      "\u001b[34m\u001b[1mwandb\u001b[0m: \tkernel: cosine\n"
     ]
    },
    {
     "data": {
      "text/html": [
       "Tracking run with wandb version 0.12.21"
      ],
      "text/plain": [
       "<IPython.core.display.HTML object>"
      ]
     },
     "metadata": {},
     "output_type": "display_data"
    },
    {
     "data": {
      "text/html": [
       "Run data is saved locally in <code>/Users/aakashsasikumar/Documents/MSc/Research/Dissimilar Policy/building-MARL/studies/wandb/run-20220728_174112-tr3w06az</code>"
      ],
      "text/plain": [
       "<IPython.core.display.HTML object>"
      ]
     },
     "metadata": {},
     "output_type": "display_data"
    },
    {
     "data": {
      "text/html": [
       "Syncing run <strong><a href=\"https://wandb.ai/aakashsasikumar/ContinuousOPEHyperParamTuningSNIPW_28_07_2022/runs/tr3w06az\" target=\"_blank\">worthy-sweep-3</a></strong> to <a href=\"https://wandb.ai/aakashsasikumar/ContinuousOPEHyperParamTuningSNIPW_28_07_2022\" target=\"_blank\">Weights & Biases</a> (<a href=\"https://wandb.me/run\" target=\"_blank\">docs</a>)<br/>Sweep page:  <a href=\"https://wandb.ai/aakashsasikumar/ContinuousOPEHyperParamTuningSNIPW_28_07_2022/sweeps/ci54h96s\" target=\"_blank\">https://wandb.ai/aakashsasikumar/ContinuousOPEHyperParamTuningSNIPW_28_07_2022/sweeps/ci54h96s</a>"
      ],
      "text/plain": [
       "<IPython.core.display.HTML object>"
      ]
     },
     "metadata": {},
     "output_type": "display_data"
    },
    {
     "data": {
      "text/html": [
       "Waiting for W&B process to finish... <strong style=\"color:green\">(success).</strong>"
      ],
      "text/plain": [
       "<IPython.core.display.HTML object>"
      ]
     },
     "metadata": {},
     "output_type": "display_data"
    },
    {
     "data": {
      "application/vnd.jupyter.widget-view+json": {
       "model_id": "",
       "version_major": 2,
       "version_minor": 0
      },
      "text/plain": [
       "VBox(children=(Label(value='0.001 MB of 0.001 MB uploaded (0.000 MB deduped)\\r'), FloatProgress(value=1.0, max…"
      ]
     },
     "metadata": {},
     "output_type": "display_data"
    },
    {
     "data": {
      "text/html": [
       "<style>\n",
       "    table.wandb td:nth-child(1) { padding: 0 10px; text-align: left ; width: auto;} td:nth-child(2) {text-align: left ; width: 100%}\n",
       "    .wandb-row { display: flex; flex-direction: row; flex-wrap: wrap; justify-content: flex-start; width: 100% }\n",
       "    .wandb-col { display: flex; flex-direction: column; flex-basis: 100%; flex: 1; padding: 10px; }\n",
       "    </style>\n",
       "<div class=\"wandb-row\"><div class=\"wandb-col\"><h3>Run history:</h3><br/><table class=\"wandb\"><tr><td>average_spearman_correlation</td><td>▁</td></tr></table><br/></div><div class=\"wandb-col\"><h3>Run summary:</h3><br/><table class=\"wandb\"><tr><td>average_spearman_correlation</td><td>0.2511</td></tr></table><br/></div></div>"
      ],
      "text/plain": [
       "<IPython.core.display.HTML object>"
      ]
     },
     "metadata": {},
     "output_type": "display_data"
    },
    {
     "data": {
      "text/html": [
       "Synced <strong style=\"color:#cdcd00\">worthy-sweep-3</strong>: <a href=\"https://wandb.ai/aakashsasikumar/ContinuousOPEHyperParamTuningSNIPW_28_07_2022/runs/tr3w06az\" target=\"_blank\">https://wandb.ai/aakashsasikumar/ContinuousOPEHyperParamTuningSNIPW_28_07_2022/runs/tr3w06az</a><br/>Synced 4 W&B file(s), 0 media file(s), 0 artifact file(s) and 0 other file(s)"
      ],
      "text/plain": [
       "<IPython.core.display.HTML object>"
      ]
     },
     "metadata": {},
     "output_type": "display_data"
    },
    {
     "data": {
      "text/html": [
       "Find logs at: <code>./wandb/run-20220728_174112-tr3w06az/logs</code>"
      ],
      "text/plain": [
       "<IPython.core.display.HTML object>"
      ]
     },
     "metadata": {},
     "output_type": "display_data"
    },
    {
     "name": "stderr",
     "output_type": "stream",
     "text": [
      "\u001b[34m\u001b[1mwandb\u001b[0m: Sweep Agent: Waiting for job.\n",
      "\u001b[34m\u001b[1mwandb\u001b[0m: Job received.\n",
      "\u001b[34m\u001b[1mwandb\u001b[0m: Agent Starting Run: xl3szkss with config:\n",
      "\u001b[34m\u001b[1mwandb\u001b[0m: \tbandwidth: 0.2965264851904547\n",
      "\u001b[34m\u001b[1mwandb\u001b[0m: \tkernel: triangular\n"
     ]
    },
    {
     "data": {
      "text/html": [
       "Tracking run with wandb version 0.12.21"
      ],
      "text/plain": [
       "<IPython.core.display.HTML object>"
      ]
     },
     "metadata": {},
     "output_type": "display_data"
    },
    {
     "data": {
      "text/html": [
       "Run data is saved locally in <code>/Users/aakashsasikumar/Documents/MSc/Research/Dissimilar Policy/building-MARL/studies/wandb/run-20220728_174236-xl3szkss</code>"
      ],
      "text/plain": [
       "<IPython.core.display.HTML object>"
      ]
     },
     "metadata": {},
     "output_type": "display_data"
    },
    {
     "data": {
      "text/html": [
       "Syncing run <strong><a href=\"https://wandb.ai/aakashsasikumar/ContinuousOPEHyperParamTuningSNIPW_28_07_2022/runs/xl3szkss\" target=\"_blank\">pious-sweep-2</a></strong> to <a href=\"https://wandb.ai/aakashsasikumar/ContinuousOPEHyperParamTuningSNIPW_28_07_2022\" target=\"_blank\">Weights & Biases</a> (<a href=\"https://wandb.me/run\" target=\"_blank\">docs</a>)<br/>Sweep page:  <a href=\"https://wandb.ai/aakashsasikumar/ContinuousOPEHyperParamTuningSNIPW_28_07_2022/sweeps/ci54h96s\" target=\"_blank\">https://wandb.ai/aakashsasikumar/ContinuousOPEHyperParamTuningSNIPW_28_07_2022/sweeps/ci54h96s</a>"
      ],
      "text/plain": [
       "<IPython.core.display.HTML object>"
      ]
     },
     "metadata": {},
     "output_type": "display_data"
    },
    {
     "name": "stderr",
     "output_type": "stream",
     "text": [
      "/Users/aakashsasikumar/.pyenv/versions/3.10.0/envs/test/lib/python3.10/site-packages/obp-0.5.5-py3.10.egg/obp/ope/estimators_continuous.py:388: RuntimeWarning: invalid value encountered in divide\n",
      "  estimated_rewards /= (kernel_func(u) / pscore).mean()\n"
     ]
    },
    {
     "data": {
      "text/html": [
       "Waiting for W&B process to finish... <strong style=\"color:green\">(success).</strong>"
      ],
      "text/plain": [
       "<IPython.core.display.HTML object>"
      ]
     },
     "metadata": {},
     "output_type": "display_data"
    },
    {
     "data": {
      "application/vnd.jupyter.widget-view+json": {
       "model_id": "",
       "version_major": 2,
       "version_minor": 0
      },
      "text/plain": [
       "VBox(children=(Label(value='0.001 MB of 0.001 MB uploaded (0.000 MB deduped)\\r'), FloatProgress(value=1.0, max…"
      ]
     },
     "metadata": {},
     "output_type": "display_data"
    },
    {
     "data": {
      "text/html": [
       "<style>\n",
       "    table.wandb td:nth-child(1) { padding: 0 10px; text-align: left ; width: auto;} td:nth-child(2) {text-align: left ; width: 100%}\n",
       "    .wandb-row { display: flex; flex-direction: row; flex-wrap: wrap; justify-content: flex-start; width: 100% }\n",
       "    .wandb-col { display: flex; flex-direction: column; flex-basis: 100%; flex: 1; padding: 10px; }\n",
       "    </style>\n",
       "<div class=\"wandb-row\"><div class=\"wandb-col\"><h3>Run history:</h3><br/><table class=\"wandb\"><tr><td>average_spearman_correlation</td><td>▁</td></tr></table><br/></div><div class=\"wandb-col\"><h3>Run summary:</h3><br/><table class=\"wandb\"><tr><td>average_spearman_correlation</td><td>0.25861</td></tr></table><br/></div></div>"
      ],
      "text/plain": [
       "<IPython.core.display.HTML object>"
      ]
     },
     "metadata": {},
     "output_type": "display_data"
    },
    {
     "data": {
      "text/html": [
       "Synced <strong style=\"color:#cdcd00\">pious-sweep-2</strong>: <a href=\"https://wandb.ai/aakashsasikumar/ContinuousOPEHyperParamTuningSNIPW_28_07_2022/runs/xl3szkss\" target=\"_blank\">https://wandb.ai/aakashsasikumar/ContinuousOPEHyperParamTuningSNIPW_28_07_2022/runs/xl3szkss</a><br/>Synced 5 W&B file(s), 0 media file(s), 0 artifact file(s) and 0 other file(s)"
      ],
      "text/plain": [
       "<IPython.core.display.HTML object>"
      ]
     },
     "metadata": {},
     "output_type": "display_data"
    },
    {
     "data": {
      "text/html": [
       "Find logs at: <code>./wandb/run-20220728_174236-xl3szkss/logs</code>"
      ],
      "text/plain": [
       "<IPython.core.display.HTML object>"
      ]
     },
     "metadata": {},
     "output_type": "display_data"
    },
    {
     "name": "stderr",
     "output_type": "stream",
     "text": [
      "\u001b[34m\u001b[1mwandb\u001b[0m: Agent Starting Run: kah2fvwd with config:\n",
      "\u001b[34m\u001b[1mwandb\u001b[0m: \tbandwidth: 0.10538175893178968\n",
      "\u001b[34m\u001b[1mwandb\u001b[0m: \tkernel: triangular\n"
     ]
    },
    {
     "data": {
      "text/html": [
       "Tracking run with wandb version 0.12.21"
      ],
      "text/plain": [
       "<IPython.core.display.HTML object>"
      ]
     },
     "metadata": {},
     "output_type": "display_data"
    },
    {
     "data": {
      "text/html": [
       "Run data is saved locally in <code>/Users/aakashsasikumar/Documents/MSc/Research/Dissimilar Policy/building-MARL/studies/wandb/run-20220728_174405-kah2fvwd</code>"
      ],
      "text/plain": [
       "<IPython.core.display.HTML object>"
      ]
     },
     "metadata": {},
     "output_type": "display_data"
    },
    {
     "data": {
      "text/html": [
       "Syncing run <strong><a href=\"https://wandb.ai/aakashsasikumar/ContinuousOPEHyperParamTuningSNIPW_28_07_2022/runs/kah2fvwd\" target=\"_blank\">fluent-sweep-3</a></strong> to <a href=\"https://wandb.ai/aakashsasikumar/ContinuousOPEHyperParamTuningSNIPW_28_07_2022\" target=\"_blank\">Weights & Biases</a> (<a href=\"https://wandb.me/run\" target=\"_blank\">docs</a>)<br/>Sweep page:  <a href=\"https://wandb.ai/aakashsasikumar/ContinuousOPEHyperParamTuningSNIPW_28_07_2022/sweeps/ci54h96s\" target=\"_blank\">https://wandb.ai/aakashsasikumar/ContinuousOPEHyperParamTuningSNIPW_28_07_2022/sweeps/ci54h96s</a>"
      ],
      "text/plain": [
       "<IPython.core.display.HTML object>"
      ]
     },
     "metadata": {},
     "output_type": "display_data"
    },
    {
     "name": "stderr",
     "output_type": "stream",
     "text": [
      "/Users/aakashsasikumar/.pyenv/versions/3.10.0/envs/test/lib/python3.10/site-packages/obp-0.5.5-py3.10.egg/obp/ope/estimators_continuous.py:388: RuntimeWarning: invalid value encountered in divide\n",
      "  estimated_rewards /= (kernel_func(u) / pscore).mean()\n"
     ]
    },
    {
     "data": {
      "text/html": [
       "Waiting for W&B process to finish... <strong style=\"color:green\">(success).</strong>"
      ],
      "text/plain": [
       "<IPython.core.display.HTML object>"
      ]
     },
     "metadata": {},
     "output_type": "display_data"
    },
    {
     "data": {
      "application/vnd.jupyter.widget-view+json": {
       "model_id": "",
       "version_major": 2,
       "version_minor": 0
      },
      "text/plain": [
       "VBox(children=(Label(value='0.001 MB of 0.001 MB uploaded (0.000 MB deduped)\\r'), FloatProgress(value=1.0, max…"
      ]
     },
     "metadata": {},
     "output_type": "display_data"
    },
    {
     "data": {
      "text/html": [
       "<style>\n",
       "    table.wandb td:nth-child(1) { padding: 0 10px; text-align: left ; width: auto;} td:nth-child(2) {text-align: left ; width: 100%}\n",
       "    .wandb-row { display: flex; flex-direction: row; flex-wrap: wrap; justify-content: flex-start; width: 100% }\n",
       "    .wandb-col { display: flex; flex-direction: column; flex-basis: 100%; flex: 1; padding: 10px; }\n",
       "    </style>\n",
       "<div class=\"wandb-row\"><div class=\"wandb-col\"><h3>Run history:</h3><br/><table class=\"wandb\"><tr><td>average_spearman_correlation</td><td>▁</td></tr></table><br/></div><div class=\"wandb-col\"><h3>Run summary:</h3><br/><table class=\"wandb\"><tr><td>average_spearman_correlation</td><td>0.28731</td></tr></table><br/></div></div>"
      ],
      "text/plain": [
       "<IPython.core.display.HTML object>"
      ]
     },
     "metadata": {},
     "output_type": "display_data"
    },
    {
     "data": {
      "text/html": [
       "Synced <strong style=\"color:#cdcd00\">fluent-sweep-3</strong>: <a href=\"https://wandb.ai/aakashsasikumar/ContinuousOPEHyperParamTuningSNIPW_28_07_2022/runs/kah2fvwd\" target=\"_blank\">https://wandb.ai/aakashsasikumar/ContinuousOPEHyperParamTuningSNIPW_28_07_2022/runs/kah2fvwd</a><br/>Synced 5 W&B file(s), 0 media file(s), 0 artifact file(s) and 0 other file(s)"
      ],
      "text/plain": [
       "<IPython.core.display.HTML object>"
      ]
     },
     "metadata": {},
     "output_type": "display_data"
    },
    {
     "data": {
      "text/html": [
       "Find logs at: <code>./wandb/run-20220728_174405-kah2fvwd/logs</code>"
      ],
      "text/plain": [
       "<IPython.core.display.HTML object>"
      ]
     },
     "metadata": {},
     "output_type": "display_data"
    },
    {
     "name": "stderr",
     "output_type": "stream",
     "text": [
      "\u001b[34m\u001b[1mwandb\u001b[0m: Agent Starting Run: e3cn9mgp with config:\n",
      "\u001b[34m\u001b[1mwandb\u001b[0m: \tbandwidth: 0.11422557544384854\n",
      "\u001b[34m\u001b[1mwandb\u001b[0m: \tkernel: gaussian\n"
     ]
    },
    {
     "data": {
      "text/html": [
       "Tracking run with wandb version 0.12.21"
      ],
      "text/plain": [
       "<IPython.core.display.HTML object>"
      ]
     },
     "metadata": {},
     "output_type": "display_data"
    },
    {
     "data": {
      "text/html": [
       "Run data is saved locally in <code>/Users/aakashsasikumar/Documents/MSc/Research/Dissimilar Policy/building-MARL/studies/wandb/run-20220728_174514-e3cn9mgp</code>"
      ],
      "text/plain": [
       "<IPython.core.display.HTML object>"
      ]
     },
     "metadata": {},
     "output_type": "display_data"
    },
    {
     "data": {
      "text/html": [
       "Syncing run <strong><a href=\"https://wandb.ai/aakashsasikumar/ContinuousOPEHyperParamTuningSNIPW_28_07_2022/runs/e3cn9mgp\" target=\"_blank\">gallant-sweep-4</a></strong> to <a href=\"https://wandb.ai/aakashsasikumar/ContinuousOPEHyperParamTuningSNIPW_28_07_2022\" target=\"_blank\">Weights & Biases</a> (<a href=\"https://wandb.me/run\" target=\"_blank\">docs</a>)<br/>Sweep page:  <a href=\"https://wandb.ai/aakashsasikumar/ContinuousOPEHyperParamTuningSNIPW_28_07_2022/sweeps/ci54h96s\" target=\"_blank\">https://wandb.ai/aakashsasikumar/ContinuousOPEHyperParamTuningSNIPW_28_07_2022/sweeps/ci54h96s</a>"
      ],
      "text/plain": [
       "<IPython.core.display.HTML object>"
      ]
     },
     "metadata": {},
     "output_type": "display_data"
    },
    {
     "data": {
      "text/html": [
       "Waiting for W&B process to finish... <strong style=\"color:green\">(success).</strong>"
      ],
      "text/plain": [
       "<IPython.core.display.HTML object>"
      ]
     },
     "metadata": {},
     "output_type": "display_data"
    },
    {
     "data": {
      "application/vnd.jupyter.widget-view+json": {
       "model_id": "",
       "version_major": 2,
       "version_minor": 0
      },
      "text/plain": [
       "VBox(children=(Label(value='0.001 MB of 0.001 MB uploaded (0.000 MB deduped)\\r'), FloatProgress(value=1.0, max…"
      ]
     },
     "metadata": {},
     "output_type": "display_data"
    },
    {
     "data": {
      "text/html": [
       "<style>\n",
       "    table.wandb td:nth-child(1) { padding: 0 10px; text-align: left ; width: auto;} td:nth-child(2) {text-align: left ; width: 100%}\n",
       "    .wandb-row { display: flex; flex-direction: row; flex-wrap: wrap; justify-content: flex-start; width: 100% }\n",
       "    .wandb-col { display: flex; flex-direction: column; flex-basis: 100%; flex: 1; padding: 10px; }\n",
       "    </style>\n",
       "<div class=\"wandb-row\"><div class=\"wandb-col\"><h3>Run history:</h3><br/><table class=\"wandb\"><tr><td>average_spearman_correlation</td><td>▁</td></tr></table><br/></div><div class=\"wandb-col\"><h3>Run summary:</h3><br/><table class=\"wandb\"><tr><td>average_spearman_correlation</td><td>0.20309</td></tr></table><br/></div></div>"
      ],
      "text/plain": [
       "<IPython.core.display.HTML object>"
      ]
     },
     "metadata": {},
     "output_type": "display_data"
    },
    {
     "data": {
      "text/html": [
       "Synced <strong style=\"color:#cdcd00\">gallant-sweep-4</strong>: <a href=\"https://wandb.ai/aakashsasikumar/ContinuousOPEHyperParamTuningSNIPW_28_07_2022/runs/e3cn9mgp\" target=\"_blank\">https://wandb.ai/aakashsasikumar/ContinuousOPEHyperParamTuningSNIPW_28_07_2022/runs/e3cn9mgp</a><br/>Synced 4 W&B file(s), 0 media file(s), 0 artifact file(s) and 0 other file(s)"
      ],
      "text/plain": [
       "<IPython.core.display.HTML object>"
      ]
     },
     "metadata": {},
     "output_type": "display_data"
    },
    {
     "data": {
      "text/html": [
       "Find logs at: <code>./wandb/run-20220728_174514-e3cn9mgp/logs</code>"
      ],
      "text/plain": [
       "<IPython.core.display.HTML object>"
      ]
     },
     "metadata": {},
     "output_type": "display_data"
    },
    {
     "name": "stderr",
     "output_type": "stream",
     "text": [
      "\u001b[34m\u001b[1mwandb\u001b[0m: Agent Starting Run: 1ujwl9rd with config:\n",
      "\u001b[34m\u001b[1mwandb\u001b[0m: \tbandwidth: 0.3425552391178202\n",
      "\u001b[34m\u001b[1mwandb\u001b[0m: \tkernel: gaussian\n"
     ]
    },
    {
     "data": {
      "text/html": [
       "Tracking run with wandb version 0.12.21"
      ],
      "text/plain": [
       "<IPython.core.display.HTML object>"
      ]
     },
     "metadata": {},
     "output_type": "display_data"
    },
    {
     "data": {
      "text/html": [
       "Run data is saved locally in <code>/Users/aakashsasikumar/Documents/MSc/Research/Dissimilar Policy/building-MARL/studies/wandb/run-20220728_174622-1ujwl9rd</code>"
      ],
      "text/plain": [
       "<IPython.core.display.HTML object>"
      ]
     },
     "metadata": {},
     "output_type": "display_data"
    },
    {
     "data": {
      "text/html": [
       "Syncing run <strong><a href=\"https://wandb.ai/aakashsasikumar/ContinuousOPEHyperParamTuningSNIPW_28_07_2022/runs/1ujwl9rd\" target=\"_blank\">morning-sweep-5</a></strong> to <a href=\"https://wandb.ai/aakashsasikumar/ContinuousOPEHyperParamTuningSNIPW_28_07_2022\" target=\"_blank\">Weights & Biases</a> (<a href=\"https://wandb.me/run\" target=\"_blank\">docs</a>)<br/>Sweep page:  <a href=\"https://wandb.ai/aakashsasikumar/ContinuousOPEHyperParamTuningSNIPW_28_07_2022/sweeps/ci54h96s\" target=\"_blank\">https://wandb.ai/aakashsasikumar/ContinuousOPEHyperParamTuningSNIPW_28_07_2022/sweeps/ci54h96s</a>"
      ],
      "text/plain": [
       "<IPython.core.display.HTML object>"
      ]
     },
     "metadata": {},
     "output_type": "display_data"
    },
    {
     "data": {
      "text/html": [
       "Waiting for W&B process to finish... <strong style=\"color:green\">(success).</strong>"
      ],
      "text/plain": [
       "<IPython.core.display.HTML object>"
      ]
     },
     "metadata": {},
     "output_type": "display_data"
    },
    {
     "data": {
      "application/vnd.jupyter.widget-view+json": {
       "model_id": "",
       "version_major": 2,
       "version_minor": 0
      },
      "text/plain": [
       "VBox(children=(Label(value='0.001 MB of 0.001 MB uploaded (0.000 MB deduped)\\r'), FloatProgress(value=1.0, max…"
      ]
     },
     "metadata": {},
     "output_type": "display_data"
    },
    {
     "data": {
      "text/html": [
       "<style>\n",
       "    table.wandb td:nth-child(1) { padding: 0 10px; text-align: left ; width: auto;} td:nth-child(2) {text-align: left ; width: 100%}\n",
       "    .wandb-row { display: flex; flex-direction: row; flex-wrap: wrap; justify-content: flex-start; width: 100% }\n",
       "    .wandb-col { display: flex; flex-direction: column; flex-basis: 100%; flex: 1; padding: 10px; }\n",
       "    </style>\n",
       "<div class=\"wandb-row\"><div class=\"wandb-col\"><h3>Run history:</h3><br/><table class=\"wandb\"><tr><td>average_spearman_correlation</td><td>▁</td></tr></table><br/></div><div class=\"wandb-col\"><h3>Run summary:</h3><br/><table class=\"wandb\"><tr><td>average_spearman_correlation</td><td>0.60641</td></tr></table><br/></div></div>"
      ],
      "text/plain": [
       "<IPython.core.display.HTML object>"
      ]
     },
     "metadata": {},
     "output_type": "display_data"
    },
    {
     "data": {
      "text/html": [
       "Synced <strong style=\"color:#cdcd00\">morning-sweep-5</strong>: <a href=\"https://wandb.ai/aakashsasikumar/ContinuousOPEHyperParamTuningSNIPW_28_07_2022/runs/1ujwl9rd\" target=\"_blank\">https://wandb.ai/aakashsasikumar/ContinuousOPEHyperParamTuningSNIPW_28_07_2022/runs/1ujwl9rd</a><br/>Synced 4 W&B file(s), 0 media file(s), 0 artifact file(s) and 0 other file(s)"
      ],
      "text/plain": [
       "<IPython.core.display.HTML object>"
      ]
     },
     "metadata": {},
     "output_type": "display_data"
    },
    {
     "data": {
      "text/html": [
       "Find logs at: <code>./wandb/run-20220728_174622-1ujwl9rd/logs</code>"
      ],
      "text/plain": [
       "<IPython.core.display.HTML object>"
      ]
     },
     "metadata": {},
     "output_type": "display_data"
    },
    {
     "name": "stderr",
     "output_type": "stream",
     "text": [
      "\u001b[34m\u001b[1mwandb\u001b[0m: Agent Starting Run: gicv09to with config:\n",
      "\u001b[34m\u001b[1mwandb\u001b[0m: \tbandwidth: 0.37741596229802427\n",
      "\u001b[34m\u001b[1mwandb\u001b[0m: \tkernel: triangular\n"
     ]
    },
    {
     "data": {
      "text/html": [
       "Tracking run with wandb version 0.12.21"
      ],
      "text/plain": [
       "<IPython.core.display.HTML object>"
      ]
     },
     "metadata": {},
     "output_type": "display_data"
    },
    {
     "data": {
      "text/html": [
       "Run data is saved locally in <code>/Users/aakashsasikumar/Documents/MSc/Research/Dissimilar Policy/building-MARL/studies/wandb/run-20220728_174725-gicv09to</code>"
      ],
      "text/plain": [
       "<IPython.core.display.HTML object>"
      ]
     },
     "metadata": {},
     "output_type": "display_data"
    },
    {
     "data": {
      "text/html": [
       "Syncing run <strong><a href=\"https://wandb.ai/aakashsasikumar/ContinuousOPEHyperParamTuningSNIPW_28_07_2022/runs/gicv09to\" target=\"_blank\">solar-sweep-6</a></strong> to <a href=\"https://wandb.ai/aakashsasikumar/ContinuousOPEHyperParamTuningSNIPW_28_07_2022\" target=\"_blank\">Weights & Biases</a> (<a href=\"https://wandb.me/run\" target=\"_blank\">docs</a>)<br/>Sweep page:  <a href=\"https://wandb.ai/aakashsasikumar/ContinuousOPEHyperParamTuningSNIPW_28_07_2022/sweeps/ci54h96s\" target=\"_blank\">https://wandb.ai/aakashsasikumar/ContinuousOPEHyperParamTuningSNIPW_28_07_2022/sweeps/ci54h96s</a>"
      ],
      "text/plain": [
       "<IPython.core.display.HTML object>"
      ]
     },
     "metadata": {},
     "output_type": "display_data"
    },
    {
     "name": "stderr",
     "output_type": "stream",
     "text": [
      "/Users/aakashsasikumar/.pyenv/versions/3.10.0/envs/test/lib/python3.10/site-packages/obp-0.5.5-py3.10.egg/obp/ope/estimators_continuous.py:388: RuntimeWarning: invalid value encountered in divide\n",
      "  estimated_rewards /= (kernel_func(u) / pscore).mean()\n"
     ]
    },
    {
     "data": {
      "text/html": [
       "Waiting for W&B process to finish... <strong style=\"color:green\">(success).</strong>"
      ],
      "text/plain": [
       "<IPython.core.display.HTML object>"
      ]
     },
     "metadata": {},
     "output_type": "display_data"
    },
    {
     "data": {
      "application/vnd.jupyter.widget-view+json": {
       "model_id": "89288cf8e05149449672edcd41741131",
       "version_major": 2,
       "version_minor": 0
      },
      "text/plain": [
       "VBox(children=(Label(value='0.001 MB of 0.001 MB uploaded (0.000 MB deduped)\\r'), FloatProgress(value=1.0, max…"
      ]
     },
     "metadata": {},
     "output_type": "display_data"
    },
    {
     "data": {
      "text/html": [
       "<style>\n",
       "    table.wandb td:nth-child(1) { padding: 0 10px; text-align: left ; width: auto;} td:nth-child(2) {text-align: left ; width: 100%}\n",
       "    .wandb-row { display: flex; flex-direction: row; flex-wrap: wrap; justify-content: flex-start; width: 100% }\n",
       "    .wandb-col { display: flex; flex-direction: column; flex-basis: 100%; flex: 1; padding: 10px; }\n",
       "    </style>\n",
       "<div class=\"wandb-row\"><div class=\"wandb-col\"><h3>Run history:</h3><br/><table class=\"wandb\"><tr><td>average_spearman_correlation</td><td>▁</td></tr></table><br/></div><div class=\"wandb-col\"><h3>Run summary:</h3><br/><table class=\"wandb\"><tr><td>average_spearman_correlation</td><td>0.23609</td></tr></table><br/></div></div>"
      ],
      "text/plain": [
       "<IPython.core.display.HTML object>"
      ]
     },
     "metadata": {},
     "output_type": "display_data"
    },
    {
     "data": {
      "text/html": [
       "Synced <strong style=\"color:#cdcd00\">solar-sweep-6</strong>: <a href=\"https://wandb.ai/aakashsasikumar/ContinuousOPEHyperParamTuningSNIPW_28_07_2022/runs/gicv09to\" target=\"_blank\">https://wandb.ai/aakashsasikumar/ContinuousOPEHyperParamTuningSNIPW_28_07_2022/runs/gicv09to</a><br/>Synced 5 W&B file(s), 0 media file(s), 0 artifact file(s) and 0 other file(s)"
      ],
      "text/plain": [
       "<IPython.core.display.HTML object>"
      ]
     },
     "metadata": {},
     "output_type": "display_data"
    },
    {
     "data": {
      "text/html": [
       "Find logs at: <code>./wandb/run-20220728_174725-gicv09to/logs</code>"
      ],
      "text/plain": [
       "<IPython.core.display.HTML object>"
      ]
     },
     "metadata": {},
     "output_type": "display_data"
    },
    {
     "name": "stderr",
     "output_type": "stream",
     "text": [
      "\u001b[34m\u001b[1mwandb\u001b[0m: Agent Starting Run: nvr1h7ja with config:\n",
      "\u001b[34m\u001b[1mwandb\u001b[0m: \tbandwidth: 0.3749606763830324\n",
      "\u001b[34m\u001b[1mwandb\u001b[0m: \tkernel: epanechnikov\n"
     ]
    },
    {
     "data": {
      "text/html": [
       "Tracking run with wandb version 0.12.21"
      ],
      "text/plain": [
       "<IPython.core.display.HTML object>"
      ]
     },
     "metadata": {},
     "output_type": "display_data"
    },
    {
     "data": {
      "text/html": [
       "Run data is saved locally in <code>/Users/aakashsasikumar/Documents/MSc/Research/Dissimilar Policy/building-MARL/studies/wandb/run-20220728_174845-nvr1h7ja</code>"
      ],
      "text/plain": [
       "<IPython.core.display.HTML object>"
      ]
     },
     "metadata": {},
     "output_type": "display_data"
    },
    {
     "data": {
      "text/html": [
       "Syncing run <strong><a href=\"https://wandb.ai/aakashsasikumar/ContinuousOPEHyperParamTuningSNIPW_28_07_2022/runs/nvr1h7ja\" target=\"_blank\">pretty-sweep-7</a></strong> to <a href=\"https://wandb.ai/aakashsasikumar/ContinuousOPEHyperParamTuningSNIPW_28_07_2022\" target=\"_blank\">Weights & Biases</a> (<a href=\"https://wandb.me/run\" target=\"_blank\">docs</a>)<br/>Sweep page:  <a href=\"https://wandb.ai/aakashsasikumar/ContinuousOPEHyperParamTuningSNIPW_28_07_2022/sweeps/ci54h96s\" target=\"_blank\">https://wandb.ai/aakashsasikumar/ContinuousOPEHyperParamTuningSNIPW_28_07_2022/sweeps/ci54h96s</a>"
      ],
      "text/plain": [
       "<IPython.core.display.HTML object>"
      ]
     },
     "metadata": {},
     "output_type": "display_data"
    },
    {
     "name": "stderr",
     "output_type": "stream",
     "text": [
      "/Users/aakashsasikumar/.pyenv/versions/3.10.0/envs/test/lib/python3.10/site-packages/obp-0.5.5-py3.10.egg/obp/ope/estimators_continuous.py:388: RuntimeWarning: invalid value encountered in divide\n",
      "  estimated_rewards /= (kernel_func(u) / pscore).mean()\n"
     ]
    },
    {
     "data": {
      "text/html": [
       "Waiting for W&B process to finish... <strong style=\"color:green\">(success).</strong>"
      ],
      "text/plain": [
       "<IPython.core.display.HTML object>"
      ]
     },
     "metadata": {},
     "output_type": "display_data"
    },
    {
     "data": {
      "application/vnd.jupyter.widget-view+json": {
       "model_id": "e993aab723fa4b1b9433ea123502f955",
       "version_major": 2,
       "version_minor": 0
      },
      "text/plain": [
       "VBox(children=(Label(value='0.001 MB of 0.001 MB uploaded (0.000 MB deduped)\\r'), FloatProgress(value=1.0, max…"
      ]
     },
     "metadata": {},
     "output_type": "display_data"
    },
    {
     "data": {
      "text/html": [
       "<style>\n",
       "    table.wandb td:nth-child(1) { padding: 0 10px; text-align: left ; width: auto;} td:nth-child(2) {text-align: left ; width: 100%}\n",
       "    .wandb-row { display: flex; flex-direction: row; flex-wrap: wrap; justify-content: flex-start; width: 100% }\n",
       "    .wandb-col { display: flex; flex-direction: column; flex-basis: 100%; flex: 1; padding: 10px; }\n",
       "    </style>\n",
       "<div class=\"wandb-row\"><div class=\"wandb-col\"><h3>Run history:</h3><br/><table class=\"wandb\"><tr><td>average_spearman_correlation</td><td>▁</td></tr></table><br/></div><div class=\"wandb-col\"><h3>Run summary:</h3><br/><table class=\"wandb\"><tr><td>average_spearman_correlation</td><td>0.22112</td></tr></table><br/></div></div>"
      ],
      "text/plain": [
       "<IPython.core.display.HTML object>"
      ]
     },
     "metadata": {},
     "output_type": "display_data"
    },
    {
     "data": {
      "text/html": [
       "Synced <strong style=\"color:#cdcd00\">pretty-sweep-7</strong>: <a href=\"https://wandb.ai/aakashsasikumar/ContinuousOPEHyperParamTuningSNIPW_28_07_2022/runs/nvr1h7ja\" target=\"_blank\">https://wandb.ai/aakashsasikumar/ContinuousOPEHyperParamTuningSNIPW_28_07_2022/runs/nvr1h7ja</a><br/>Synced 5 W&B file(s), 0 media file(s), 0 artifact file(s) and 0 other file(s)"
      ],
      "text/plain": [
       "<IPython.core.display.HTML object>"
      ]
     },
     "metadata": {},
     "output_type": "display_data"
    },
    {
     "data": {
      "text/html": [
       "Find logs at: <code>./wandb/run-20220728_174845-nvr1h7ja/logs</code>"
      ],
      "text/plain": [
       "<IPython.core.display.HTML object>"
      ]
     },
     "metadata": {},
     "output_type": "display_data"
    },
    {
     "name": "stderr",
     "output_type": "stream",
     "text": [
      "\u001b[34m\u001b[1mwandb\u001b[0m: Agent Starting Run: e3g6iwu7 with config:\n",
      "\u001b[34m\u001b[1mwandb\u001b[0m: \tbandwidth: 0.232301566274969\n",
      "\u001b[34m\u001b[1mwandb\u001b[0m: \tkernel: cosine\n"
     ]
    },
    {
     "data": {
      "text/html": [
       "Tracking run with wandb version 0.12.21"
      ],
      "text/plain": [
       "<IPython.core.display.HTML object>"
      ]
     },
     "metadata": {},
     "output_type": "display_data"
    },
    {
     "data": {
      "text/html": [
       "Run data is saved locally in <code>/Users/aakashsasikumar/Documents/MSc/Research/Dissimilar Policy/building-MARL/studies/wandb/run-20220728_174954-e3g6iwu7</code>"
      ],
      "text/plain": [
       "<IPython.core.display.HTML object>"
      ]
     },
     "metadata": {},
     "output_type": "display_data"
    },
    {
     "data": {
      "text/html": [
       "Syncing run <strong><a href=\"https://wandb.ai/aakashsasikumar/ContinuousOPEHyperParamTuningSNIPW_28_07_2022/runs/e3g6iwu7\" target=\"_blank\">kind-sweep-8</a></strong> to <a href=\"https://wandb.ai/aakashsasikumar/ContinuousOPEHyperParamTuningSNIPW_28_07_2022\" target=\"_blank\">Weights & Biases</a> (<a href=\"https://wandb.me/run\" target=\"_blank\">docs</a>)<br/>Sweep page:  <a href=\"https://wandb.ai/aakashsasikumar/ContinuousOPEHyperParamTuningSNIPW_28_07_2022/sweeps/ci54h96s\" target=\"_blank\">https://wandb.ai/aakashsasikumar/ContinuousOPEHyperParamTuningSNIPW_28_07_2022/sweeps/ci54h96s</a>"
      ],
      "text/plain": [
       "<IPython.core.display.HTML object>"
      ]
     },
     "metadata": {},
     "output_type": "display_data"
    },
    {
     "data": {
      "text/html": [
       "Waiting for W&B process to finish... <strong style=\"color:green\">(success).</strong>"
      ],
      "text/plain": [
       "<IPython.core.display.HTML object>"
      ]
     },
     "metadata": {},
     "output_type": "display_data"
    },
    {
     "data": {
      "application/vnd.jupyter.widget-view+json": {
       "model_id": "2e9d259986c040a69081f9d5d1f16c46",
       "version_major": 2,
       "version_minor": 0
      },
      "text/plain": [
       "VBox(children=(Label(value='0.001 MB of 0.001 MB uploaded (0.000 MB deduped)\\r'), FloatProgress(value=1.0, max…"
      ]
     },
     "metadata": {},
     "output_type": "display_data"
    },
    {
     "data": {
      "text/html": [
       "<style>\n",
       "    table.wandb td:nth-child(1) { padding: 0 10px; text-align: left ; width: auto;} td:nth-child(2) {text-align: left ; width: 100%}\n",
       "    .wandb-row { display: flex; flex-direction: row; flex-wrap: wrap; justify-content: flex-start; width: 100% }\n",
       "    .wandb-col { display: flex; flex-direction: column; flex-basis: 100%; flex: 1; padding: 10px; }\n",
       "    </style>\n",
       "<div class=\"wandb-row\"><div class=\"wandb-col\"><h3>Run history:</h3><br/><table class=\"wandb\"><tr><td>average_spearman_correlation</td><td>▁</td></tr></table><br/></div><div class=\"wandb-col\"><h3>Run summary:</h3><br/><table class=\"wandb\"><tr><td>average_spearman_correlation</td><td>0.39743</td></tr></table><br/></div></div>"
      ],
      "text/plain": [
       "<IPython.core.display.HTML object>"
      ]
     },
     "metadata": {},
     "output_type": "display_data"
    },
    {
     "data": {
      "text/html": [
       "Synced <strong style=\"color:#cdcd00\">kind-sweep-8</strong>: <a href=\"https://wandb.ai/aakashsasikumar/ContinuousOPEHyperParamTuningSNIPW_28_07_2022/runs/e3g6iwu7\" target=\"_blank\">https://wandb.ai/aakashsasikumar/ContinuousOPEHyperParamTuningSNIPW_28_07_2022/runs/e3g6iwu7</a><br/>Synced 4 W&B file(s), 0 media file(s), 0 artifact file(s) and 0 other file(s)"
      ],
      "text/plain": [
       "<IPython.core.display.HTML object>"
      ]
     },
     "metadata": {},
     "output_type": "display_data"
    },
    {
     "data": {
      "text/html": [
       "Find logs at: <code>./wandb/run-20220728_174954-e3g6iwu7/logs</code>"
      ],
      "text/plain": [
       "<IPython.core.display.HTML object>"
      ]
     },
     "metadata": {},
     "output_type": "display_data"
    },
    {
     "name": "stderr",
     "output_type": "stream",
     "text": [
      "\u001b[34m\u001b[1mwandb\u001b[0m: Agent Starting Run: ja213ki1 with config:\n",
      "\u001b[34m\u001b[1mwandb\u001b[0m: \tbandwidth: 0.1712776176459354\n",
      "\u001b[34m\u001b[1mwandb\u001b[0m: \tkernel: epanechnikov\n"
     ]
    },
    {
     "data": {
      "text/html": [
       "Tracking run with wandb version 0.12.21"
      ],
      "text/plain": [
       "<IPython.core.display.HTML object>"
      ]
     },
     "metadata": {},
     "output_type": "display_data"
    },
    {
     "data": {
      "text/html": [
       "Run data is saved locally in <code>/Users/aakashsasikumar/Documents/MSc/Research/Dissimilar Policy/building-MARL/studies/wandb/run-20220728_175102-ja213ki1</code>"
      ],
      "text/plain": [
       "<IPython.core.display.HTML object>"
      ]
     },
     "metadata": {},
     "output_type": "display_data"
    },
    {
     "data": {
      "text/html": [
       "Syncing run <strong><a href=\"https://wandb.ai/aakashsasikumar/ContinuousOPEHyperParamTuningSNIPW_28_07_2022/runs/ja213ki1\" target=\"_blank\">azure-sweep-9</a></strong> to <a href=\"https://wandb.ai/aakashsasikumar/ContinuousOPEHyperParamTuningSNIPW_28_07_2022\" target=\"_blank\">Weights & Biases</a> (<a href=\"https://wandb.me/run\" target=\"_blank\">docs</a>)<br/>Sweep page:  <a href=\"https://wandb.ai/aakashsasikumar/ContinuousOPEHyperParamTuningSNIPW_28_07_2022/sweeps/ci54h96s\" target=\"_blank\">https://wandb.ai/aakashsasikumar/ContinuousOPEHyperParamTuningSNIPW_28_07_2022/sweeps/ci54h96s</a>"
      ],
      "text/plain": [
       "<IPython.core.display.HTML object>"
      ]
     },
     "metadata": {},
     "output_type": "display_data"
    },
    {
     "name": "stderr",
     "output_type": "stream",
     "text": [
      "/Users/aakashsasikumar/.pyenv/versions/3.10.0/envs/test/lib/python3.10/site-packages/obp-0.5.5-py3.10.egg/obp/ope/estimators_continuous.py:388: RuntimeWarning: invalid value encountered in divide\n",
      "  estimated_rewards /= (kernel_func(u) / pscore).mean()\n"
     ]
    },
    {
     "data": {
      "text/html": [
       "Waiting for W&B process to finish... <strong style=\"color:green\">(success).</strong>"
      ],
      "text/plain": [
       "<IPython.core.display.HTML object>"
      ]
     },
     "metadata": {},
     "output_type": "display_data"
    },
    {
     "data": {
      "application/vnd.jupyter.widget-view+json": {
       "model_id": "c64cc1813a5a4364a5d12a2ea443ed2d",
       "version_major": 2,
       "version_minor": 0
      },
      "text/plain": [
       "VBox(children=(Label(value='0.001 MB of 0.001 MB uploaded (0.000 MB deduped)\\r'), FloatProgress(value=1.0, max…"
      ]
     },
     "metadata": {},
     "output_type": "display_data"
    },
    {
     "data": {
      "text/html": [
       "<style>\n",
       "    table.wandb td:nth-child(1) { padding: 0 10px; text-align: left ; width: auto;} td:nth-child(2) {text-align: left ; width: 100%}\n",
       "    .wandb-row { display: flex; flex-direction: row; flex-wrap: wrap; justify-content: flex-start; width: 100% }\n",
       "    .wandb-col { display: flex; flex-direction: column; flex-basis: 100%; flex: 1; padding: 10px; }\n",
       "    </style>\n",
       "<div class=\"wandb-row\"><div class=\"wandb-col\"><h3>Run history:</h3><br/><table class=\"wandb\"><tr><td>average_spearman_correlation</td><td>▁</td></tr></table><br/></div><div class=\"wandb-col\"><h3>Run summary:</h3><br/><table class=\"wandb\"><tr><td>average_spearman_correlation</td><td>0.2712</td></tr></table><br/></div></div>"
      ],
      "text/plain": [
       "<IPython.core.display.HTML object>"
      ]
     },
     "metadata": {},
     "output_type": "display_data"
    },
    {
     "data": {
      "text/html": [
       "Synced <strong style=\"color:#cdcd00\">azure-sweep-9</strong>: <a href=\"https://wandb.ai/aakashsasikumar/ContinuousOPEHyperParamTuningSNIPW_28_07_2022/runs/ja213ki1\" target=\"_blank\">https://wandb.ai/aakashsasikumar/ContinuousOPEHyperParamTuningSNIPW_28_07_2022/runs/ja213ki1</a><br/>Synced 5 W&B file(s), 0 media file(s), 0 artifact file(s) and 0 other file(s)"
      ],
      "text/plain": [
       "<IPython.core.display.HTML object>"
      ]
     },
     "metadata": {},
     "output_type": "display_data"
    },
    {
     "data": {
      "text/html": [
       "Find logs at: <code>./wandb/run-20220728_175102-ja213ki1/logs</code>"
      ],
      "text/plain": [
       "<IPython.core.display.HTML object>"
      ]
     },
     "metadata": {},
     "output_type": "display_data"
    },
    {
     "name": "stderr",
     "output_type": "stream",
     "text": [
      "\u001b[34m\u001b[1mwandb\u001b[0m: Agent Starting Run: bzgbvypp with config:\n",
      "\u001b[34m\u001b[1mwandb\u001b[0m: \tbandwidth: 0.3683269993343709\n",
      "\u001b[34m\u001b[1mwandb\u001b[0m: \tkernel: cosine\n"
     ]
    },
    {
     "data": {
      "text/html": [
       "Tracking run with wandb version 0.12.21"
      ],
      "text/plain": [
       "<IPython.core.display.HTML object>"
      ]
     },
     "metadata": {},
     "output_type": "display_data"
    },
    {
     "data": {
      "text/html": [
       "Run data is saved locally in <code>/Users/aakashsasikumar/Documents/MSc/Research/Dissimilar Policy/building-MARL/studies/wandb/run-20220728_175155-bzgbvypp</code>"
      ],
      "text/plain": [
       "<IPython.core.display.HTML object>"
      ]
     },
     "metadata": {},
     "output_type": "display_data"
    },
    {
     "data": {
      "text/html": [
       "Syncing run <strong><a href=\"https://wandb.ai/aakashsasikumar/ContinuousOPEHyperParamTuningSNIPW_28_07_2022/runs/bzgbvypp\" target=\"_blank\">youthful-sweep-10</a></strong> to <a href=\"https://wandb.ai/aakashsasikumar/ContinuousOPEHyperParamTuningSNIPW_28_07_2022\" target=\"_blank\">Weights & Biases</a> (<a href=\"https://wandb.me/run\" target=\"_blank\">docs</a>)<br/>Sweep page:  <a href=\"https://wandb.ai/aakashsasikumar/ContinuousOPEHyperParamTuningSNIPW_28_07_2022/sweeps/ci54h96s\" target=\"_blank\">https://wandb.ai/aakashsasikumar/ContinuousOPEHyperParamTuningSNIPW_28_07_2022/sweeps/ci54h96s</a>"
      ],
      "text/plain": [
       "<IPython.core.display.HTML object>"
      ]
     },
     "metadata": {},
     "output_type": "display_data"
    },
    {
     "data": {
      "text/html": [
       "Waiting for W&B process to finish... <strong style=\"color:green\">(success).</strong>"
      ],
      "text/plain": [
       "<IPython.core.display.HTML object>"
      ]
     },
     "metadata": {},
     "output_type": "display_data"
    },
    {
     "data": {
      "application/vnd.jupyter.widget-view+json": {
       "model_id": "224b0bae31744c70b88df79c6cfb1eec",
       "version_major": 2,
       "version_minor": 0
      },
      "text/plain": [
       "VBox(children=(Label(value='0.001 MB of 0.001 MB uploaded (0.000 MB deduped)\\r'), FloatProgress(value=1.0, max…"
      ]
     },
     "metadata": {},
     "output_type": "display_data"
    },
    {
     "data": {
      "text/html": [
       "<style>\n",
       "    table.wandb td:nth-child(1) { padding: 0 10px; text-align: left ; width: auto;} td:nth-child(2) {text-align: left ; width: 100%}\n",
       "    .wandb-row { display: flex; flex-direction: row; flex-wrap: wrap; justify-content: flex-start; width: 100% }\n",
       "    .wandb-col { display: flex; flex-direction: column; flex-basis: 100%; flex: 1; padding: 10px; }\n",
       "    </style>\n",
       "<div class=\"wandb-row\"><div class=\"wandb-col\"><h3>Run history:</h3><br/><table class=\"wandb\"><tr><td>average_spearman_correlation</td><td>▁</td></tr></table><br/></div><div class=\"wandb-col\"><h3>Run summary:</h3><br/><table class=\"wandb\"><tr><td>average_spearman_correlation</td><td>0.31293</td></tr></table><br/></div></div>"
      ],
      "text/plain": [
       "<IPython.core.display.HTML object>"
      ]
     },
     "metadata": {},
     "output_type": "display_data"
    },
    {
     "data": {
      "text/html": [
       "Synced <strong style=\"color:#cdcd00\">youthful-sweep-10</strong>: <a href=\"https://wandb.ai/aakashsasikumar/ContinuousOPEHyperParamTuningSNIPW_28_07_2022/runs/bzgbvypp\" target=\"_blank\">https://wandb.ai/aakashsasikumar/ContinuousOPEHyperParamTuningSNIPW_28_07_2022/runs/bzgbvypp</a><br/>Synced 4 W&B file(s), 0 media file(s), 0 artifact file(s) and 0 other file(s)"
      ],
      "text/plain": [
       "<IPython.core.display.HTML object>"
      ]
     },
     "metadata": {},
     "output_type": "display_data"
    },
    {
     "data": {
      "text/html": [
       "Find logs at: <code>./wandb/run-20220728_175155-bzgbvypp/logs</code>"
      ],
      "text/plain": [
       "<IPython.core.display.HTML object>"
      ]
     },
     "metadata": {},
     "output_type": "display_data"
    },
    {
     "name": "stderr",
     "output_type": "stream",
     "text": [
      "\u001b[34m\u001b[1mwandb\u001b[0m: Sweep Agent: Waiting for job.\n",
      "\u001b[34m\u001b[1mwandb\u001b[0m: Job received.\n",
      "\u001b[34m\u001b[1mwandb\u001b[0m: Agent Starting Run: pziy4wms with config:\n",
      "\u001b[34m\u001b[1mwandb\u001b[0m: \tbandwidth: 0.1409152427019023\n",
      "\u001b[34m\u001b[1mwandb\u001b[0m: \tkernel: epanechnikov\n"
     ]
    },
    {
     "data": {
      "text/html": [
       "Tracking run with wandb version 0.12.21"
      ],
      "text/plain": [
       "<IPython.core.display.HTML object>"
      ]
     },
     "metadata": {},
     "output_type": "display_data"
    },
    {
     "data": {
      "text/html": [
       "Run data is saved locally in <code>/Users/aakashsasikumar/Documents/MSc/Research/Dissimilar Policy/building-MARL/studies/wandb/run-20220728_175258-pziy4wms</code>"
      ],
      "text/plain": [
       "<IPython.core.display.HTML object>"
      ]
     },
     "metadata": {},
     "output_type": "display_data"
    },
    {
     "data": {
      "text/html": [
       "Syncing run <strong><a href=\"https://wandb.ai/aakashsasikumar/ContinuousOPEHyperParamTuningSNIPW_28_07_2022/runs/pziy4wms\" target=\"_blank\">confused-sweep-11</a></strong> to <a href=\"https://wandb.ai/aakashsasikumar/ContinuousOPEHyperParamTuningSNIPW_28_07_2022\" target=\"_blank\">Weights & Biases</a> (<a href=\"https://wandb.me/run\" target=\"_blank\">docs</a>)<br/>Sweep page:  <a href=\"https://wandb.ai/aakashsasikumar/ContinuousOPEHyperParamTuningSNIPW_28_07_2022/sweeps/ci54h96s\" target=\"_blank\">https://wandb.ai/aakashsasikumar/ContinuousOPEHyperParamTuningSNIPW_28_07_2022/sweeps/ci54h96s</a>"
      ],
      "text/plain": [
       "<IPython.core.display.HTML object>"
      ]
     },
     "metadata": {},
     "output_type": "display_data"
    },
    {
     "name": "stderr",
     "output_type": "stream",
     "text": [
      "/Users/aakashsasikumar/.pyenv/versions/3.10.0/envs/test/lib/python3.10/site-packages/obp-0.5.5-py3.10.egg/obp/ope/estimators_continuous.py:388: RuntimeWarning: invalid value encountered in divide\n",
      "  estimated_rewards /= (kernel_func(u) / pscore).mean()\n"
     ]
    },
    {
     "data": {
      "text/html": [
       "Waiting for W&B process to finish... <strong style=\"color:green\">(success).</strong>"
      ],
      "text/plain": [
       "<IPython.core.display.HTML object>"
      ]
     },
     "metadata": {},
     "output_type": "display_data"
    },
    {
     "data": {
      "application/vnd.jupyter.widget-view+json": {
       "model_id": "9236164c00164148b6989d9c3f3b7a69",
       "version_major": 2,
       "version_minor": 0
      },
      "text/plain": [
       "VBox(children=(Label(value='0.001 MB of 0.001 MB uploaded (0.000 MB deduped)\\r'), FloatProgress(value=1.0, max…"
      ]
     },
     "metadata": {},
     "output_type": "display_data"
    },
    {
     "data": {
      "text/html": [
       "<style>\n",
       "    table.wandb td:nth-child(1) { padding: 0 10px; text-align: left ; width: auto;} td:nth-child(2) {text-align: left ; width: 100%}\n",
       "    .wandb-row { display: flex; flex-direction: row; flex-wrap: wrap; justify-content: flex-start; width: 100% }\n",
       "    .wandb-col { display: flex; flex-direction: column; flex-basis: 100%; flex: 1; padding: 10px; }\n",
       "    </style>\n",
       "<div class=\"wandb-row\"><div class=\"wandb-col\"><h3>Run history:</h3><br/><table class=\"wandb\"><tr><td>average_spearman_correlation</td><td>▁</td></tr></table><br/></div><div class=\"wandb-col\"><h3>Run summary:</h3><br/><table class=\"wandb\"><tr><td>average_spearman_correlation</td><td>0.27204</td></tr></table><br/></div></div>"
      ],
      "text/plain": [
       "<IPython.core.display.HTML object>"
      ]
     },
     "metadata": {},
     "output_type": "display_data"
    },
    {
     "data": {
      "text/html": [
       "Synced <strong style=\"color:#cdcd00\">confused-sweep-11</strong>: <a href=\"https://wandb.ai/aakashsasikumar/ContinuousOPEHyperParamTuningSNIPW_28_07_2022/runs/pziy4wms\" target=\"_blank\">https://wandb.ai/aakashsasikumar/ContinuousOPEHyperParamTuningSNIPW_28_07_2022/runs/pziy4wms</a><br/>Synced 5 W&B file(s), 0 media file(s), 0 artifact file(s) and 0 other file(s)"
      ],
      "text/plain": [
       "<IPython.core.display.HTML object>"
      ]
     },
     "metadata": {},
     "output_type": "display_data"
    },
    {
     "data": {
      "text/html": [
       "Find logs at: <code>./wandb/run-20220728_175258-pziy4wms/logs</code>"
      ],
      "text/plain": [
       "<IPython.core.display.HTML object>"
      ]
     },
     "metadata": {},
     "output_type": "display_data"
    },
    {
     "name": "stderr",
     "output_type": "stream",
     "text": [
      "\u001b[34m\u001b[1mwandb\u001b[0m: Agent Starting Run: vads4jg4 with config:\n",
      "\u001b[34m\u001b[1mwandb\u001b[0m: \tbandwidth: 0.31154553004936064\n",
      "\u001b[34m\u001b[1mwandb\u001b[0m: \tkernel: cosine\n"
     ]
    },
    {
     "data": {
      "text/html": [
       "Tracking run with wandb version 0.12.21"
      ],
      "text/plain": [
       "<IPython.core.display.HTML object>"
      ]
     },
     "metadata": {},
     "output_type": "display_data"
    },
    {
     "data": {
      "text/html": [
       "Run data is saved locally in <code>/Users/aakashsasikumar/Documents/MSc/Research/Dissimilar Policy/building-MARL/studies/wandb/run-20220728_175352-vads4jg4</code>"
      ],
      "text/plain": [
       "<IPython.core.display.HTML object>"
      ]
     },
     "metadata": {},
     "output_type": "display_data"
    },
    {
     "data": {
      "text/html": [
       "Syncing run <strong><a href=\"https://wandb.ai/aakashsasikumar/ContinuousOPEHyperParamTuningSNIPW_28_07_2022/runs/vads4jg4\" target=\"_blank\">northern-sweep-12</a></strong> to <a href=\"https://wandb.ai/aakashsasikumar/ContinuousOPEHyperParamTuningSNIPW_28_07_2022\" target=\"_blank\">Weights & Biases</a> (<a href=\"https://wandb.me/run\" target=\"_blank\">docs</a>)<br/>Sweep page:  <a href=\"https://wandb.ai/aakashsasikumar/ContinuousOPEHyperParamTuningSNIPW_28_07_2022/sweeps/ci54h96s\" target=\"_blank\">https://wandb.ai/aakashsasikumar/ContinuousOPEHyperParamTuningSNIPW_28_07_2022/sweeps/ci54h96s</a>"
      ],
      "text/plain": [
       "<IPython.core.display.HTML object>"
      ]
     },
     "metadata": {},
     "output_type": "display_data"
    },
    {
     "data": {
      "text/html": [
       "Waiting for W&B process to finish... <strong style=\"color:green\">(success).</strong>"
      ],
      "text/plain": [
       "<IPython.core.display.HTML object>"
      ]
     },
     "metadata": {},
     "output_type": "display_data"
    },
    {
     "data": {
      "application/vnd.jupyter.widget-view+json": {
       "model_id": "3fb9f4242d3e4fa79048afaa64527d80",
       "version_major": 2,
       "version_minor": 0
      },
      "text/plain": [
       "VBox(children=(Label(value='0.001 MB of 0.001 MB uploaded (0.000 MB deduped)\\r'), FloatProgress(value=1.0, max…"
      ]
     },
     "metadata": {},
     "output_type": "display_data"
    },
    {
     "data": {
      "text/html": [
       "<style>\n",
       "    table.wandb td:nth-child(1) { padding: 0 10px; text-align: left ; width: auto;} td:nth-child(2) {text-align: left ; width: 100%}\n",
       "    .wandb-row { display: flex; flex-direction: row; flex-wrap: wrap; justify-content: flex-start; width: 100% }\n",
       "    .wandb-col { display: flex; flex-direction: column; flex-basis: 100%; flex: 1; padding: 10px; }\n",
       "    </style>\n",
       "<div class=\"wandb-row\"><div class=\"wandb-col\"><h3>Run history:</h3><br/><table class=\"wandb\"><tr><td>average_spearman_correlation</td><td>▁</td></tr></table><br/></div><div class=\"wandb-col\"><h3>Run summary:</h3><br/><table class=\"wandb\"><tr><td>average_spearman_correlation</td><td>0.35188</td></tr></table><br/></div></div>"
      ],
      "text/plain": [
       "<IPython.core.display.HTML object>"
      ]
     },
     "metadata": {},
     "output_type": "display_data"
    },
    {
     "data": {
      "text/html": [
       "Synced <strong style=\"color:#cdcd00\">northern-sweep-12</strong>: <a href=\"https://wandb.ai/aakashsasikumar/ContinuousOPEHyperParamTuningSNIPW_28_07_2022/runs/vads4jg4\" target=\"_blank\">https://wandb.ai/aakashsasikumar/ContinuousOPEHyperParamTuningSNIPW_28_07_2022/runs/vads4jg4</a><br/>Synced 4 W&B file(s), 0 media file(s), 0 artifact file(s) and 0 other file(s)"
      ],
      "text/plain": [
       "<IPython.core.display.HTML object>"
      ]
     },
     "metadata": {},
     "output_type": "display_data"
    },
    {
     "data": {
      "text/html": [
       "Find logs at: <code>./wandb/run-20220728_175352-vads4jg4/logs</code>"
      ],
      "text/plain": [
       "<IPython.core.display.HTML object>"
      ]
     },
     "metadata": {},
     "output_type": "display_data"
    },
    {
     "name": "stderr",
     "output_type": "stream",
     "text": [
      "\u001b[34m\u001b[1mwandb\u001b[0m: Agent Starting Run: zngm3b9z with config:\n",
      "\u001b[34m\u001b[1mwandb\u001b[0m: \tbandwidth: 0.2832042951180449\n",
      "\u001b[34m\u001b[1mwandb\u001b[0m: \tkernel: cosine\n"
     ]
    },
    {
     "data": {
      "text/html": [
       "Tracking run with wandb version 0.12.21"
      ],
      "text/plain": [
       "<IPython.core.display.HTML object>"
      ]
     },
     "metadata": {},
     "output_type": "display_data"
    },
    {
     "data": {
      "text/html": [
       "Run data is saved locally in <code>/Users/aakashsasikumar/Documents/MSc/Research/Dissimilar Policy/building-MARL/studies/wandb/run-20220728_175450-zngm3b9z</code>"
      ],
      "text/plain": [
       "<IPython.core.display.HTML object>"
      ]
     },
     "metadata": {},
     "output_type": "display_data"
    },
    {
     "data": {
      "text/html": [
       "Syncing run <strong><a href=\"https://wandb.ai/aakashsasikumar/ContinuousOPEHyperParamTuningSNIPW_28_07_2022/runs/zngm3b9z\" target=\"_blank\">fancy-sweep-13</a></strong> to <a href=\"https://wandb.ai/aakashsasikumar/ContinuousOPEHyperParamTuningSNIPW_28_07_2022\" target=\"_blank\">Weights & Biases</a> (<a href=\"https://wandb.me/run\" target=\"_blank\">docs</a>)<br/>Sweep page:  <a href=\"https://wandb.ai/aakashsasikumar/ContinuousOPEHyperParamTuningSNIPW_28_07_2022/sweeps/ci54h96s\" target=\"_blank\">https://wandb.ai/aakashsasikumar/ContinuousOPEHyperParamTuningSNIPW_28_07_2022/sweeps/ci54h96s</a>"
      ],
      "text/plain": [
       "<IPython.core.display.HTML object>"
      ]
     },
     "metadata": {},
     "output_type": "display_data"
    },
    {
     "data": {
      "text/html": [
       "Waiting for W&B process to finish... <strong style=\"color:green\">(success).</strong>"
      ],
      "text/plain": [
       "<IPython.core.display.HTML object>"
      ]
     },
     "metadata": {},
     "output_type": "display_data"
    },
    {
     "data": {
      "application/vnd.jupyter.widget-view+json": {
       "model_id": "8cae9bc63a0c44a38612a5e3ea22089f",
       "version_major": 2,
       "version_minor": 0
      },
      "text/plain": [
       "VBox(children=(Label(value='0.001 MB of 0.001 MB uploaded (0.000 MB deduped)\\r'), FloatProgress(value=1.0, max…"
      ]
     },
     "metadata": {},
     "output_type": "display_data"
    },
    {
     "data": {
      "text/html": [
       "<style>\n",
       "    table.wandb td:nth-child(1) { padding: 0 10px; text-align: left ; width: auto;} td:nth-child(2) {text-align: left ; width: 100%}\n",
       "    .wandb-row { display: flex; flex-direction: row; flex-wrap: wrap; justify-content: flex-start; width: 100% }\n",
       "    .wandb-col { display: flex; flex-direction: column; flex-basis: 100%; flex: 1; padding: 10px; }\n",
       "    </style>\n",
       "<div class=\"wandb-row\"><div class=\"wandb-col\"><h3>Run history:</h3><br/><table class=\"wandb\"><tr><td>average_spearman_correlation</td><td>▁</td></tr></table><br/></div><div class=\"wandb-col\"><h3>Run summary:</h3><br/><table class=\"wandb\"><tr><td>average_spearman_correlation</td><td>0.36619</td></tr></table><br/></div></div>"
      ],
      "text/plain": [
       "<IPython.core.display.HTML object>"
      ]
     },
     "metadata": {},
     "output_type": "display_data"
    },
    {
     "data": {
      "text/html": [
       "Synced <strong style=\"color:#cdcd00\">fancy-sweep-13</strong>: <a href=\"https://wandb.ai/aakashsasikumar/ContinuousOPEHyperParamTuningSNIPW_28_07_2022/runs/zngm3b9z\" target=\"_blank\">https://wandb.ai/aakashsasikumar/ContinuousOPEHyperParamTuningSNIPW_28_07_2022/runs/zngm3b9z</a><br/>Synced 4 W&B file(s), 0 media file(s), 0 artifact file(s) and 0 other file(s)"
      ],
      "text/plain": [
       "<IPython.core.display.HTML object>"
      ]
     },
     "metadata": {},
     "output_type": "display_data"
    },
    {
     "data": {
      "text/html": [
       "Find logs at: <code>./wandb/run-20220728_175450-zngm3b9z/logs</code>"
      ],
      "text/plain": [
       "<IPython.core.display.HTML object>"
      ]
     },
     "metadata": {},
     "output_type": "display_data"
    },
    {
     "name": "stderr",
     "output_type": "stream",
     "text": [
      "\u001b[34m\u001b[1mwandb\u001b[0m: Sweep Agent: Waiting for job.\n",
      "\u001b[34m\u001b[1mwandb\u001b[0m: Job received.\n",
      "\u001b[34m\u001b[1mwandb\u001b[0m: Agent Starting Run: kvztr1c9 with config:\n",
      "\u001b[34m\u001b[1mwandb\u001b[0m: \tbandwidth: 0.4809933862260597\n",
      "\u001b[34m\u001b[1mwandb\u001b[0m: \tkernel: epanechnikov\n"
     ]
    },
    {
     "data": {
      "text/html": [
       "Tracking run with wandb version 0.12.21"
      ],
      "text/plain": [
       "<IPython.core.display.HTML object>"
      ]
     },
     "metadata": {},
     "output_type": "display_data"
    },
    {
     "data": {
      "text/html": [
       "Run data is saved locally in <code>/Users/aakashsasikumar/Documents/MSc/Research/Dissimilar Policy/building-MARL/studies/wandb/run-20220728_175553-kvztr1c9</code>"
      ],
      "text/plain": [
       "<IPython.core.display.HTML object>"
      ]
     },
     "metadata": {},
     "output_type": "display_data"
    },
    {
     "data": {
      "text/html": [
       "Syncing run <strong><a href=\"https://wandb.ai/aakashsasikumar/ContinuousOPEHyperParamTuningSNIPW_28_07_2022/runs/kvztr1c9\" target=\"_blank\">charmed-sweep-14</a></strong> to <a href=\"https://wandb.ai/aakashsasikumar/ContinuousOPEHyperParamTuningSNIPW_28_07_2022\" target=\"_blank\">Weights & Biases</a> (<a href=\"https://wandb.me/run\" target=\"_blank\">docs</a>)<br/>Sweep page:  <a href=\"https://wandb.ai/aakashsasikumar/ContinuousOPEHyperParamTuningSNIPW_28_07_2022/sweeps/ci54h96s\" target=\"_blank\">https://wandb.ai/aakashsasikumar/ContinuousOPEHyperParamTuningSNIPW_28_07_2022/sweeps/ci54h96s</a>"
      ],
      "text/plain": [
       "<IPython.core.display.HTML object>"
      ]
     },
     "metadata": {},
     "output_type": "display_data"
    },
    {
     "name": "stderr",
     "output_type": "stream",
     "text": [
      "/Users/aakashsasikumar/.pyenv/versions/3.10.0/envs/test/lib/python3.10/site-packages/obp-0.5.5-py3.10.egg/obp/ope/estimators_continuous.py:388: RuntimeWarning: invalid value encountered in divide\n",
      "  estimated_rewards /= (kernel_func(u) / pscore).mean()\n"
     ]
    },
    {
     "data": {
      "text/html": [
       "Waiting for W&B process to finish... <strong style=\"color:green\">(success).</strong>"
      ],
      "text/plain": [
       "<IPython.core.display.HTML object>"
      ]
     },
     "metadata": {},
     "output_type": "display_data"
    },
    {
     "data": {
      "application/vnd.jupyter.widget-view+json": {
       "model_id": "42273f366b2d4896874a93e92481477f",
       "version_major": 2,
       "version_minor": 0
      },
      "text/plain": [
       "VBox(children=(Label(value='0.001 MB of 0.001 MB uploaded (0.000 MB deduped)\\r'), FloatProgress(value=1.0, max…"
      ]
     },
     "metadata": {},
     "output_type": "display_data"
    },
    {
     "data": {
      "text/html": [
       "<style>\n",
       "    table.wandb td:nth-child(1) { padding: 0 10px; text-align: left ; width: auto;} td:nth-child(2) {text-align: left ; width: 100%}\n",
       "    .wandb-row { display: flex; flex-direction: row; flex-wrap: wrap; justify-content: flex-start; width: 100% }\n",
       "    .wandb-col { display: flex; flex-direction: column; flex-basis: 100%; flex: 1; padding: 10px; }\n",
       "    </style>\n",
       "<div class=\"wandb-row\"><div class=\"wandb-col\"><h3>Run history:</h3><br/><table class=\"wandb\"><tr><td>average_spearman_correlation</td><td>▁</td></tr></table><br/></div><div class=\"wandb-col\"><h3>Run summary:</h3><br/><table class=\"wandb\"><tr><td>average_spearman_correlation</td><td>0.17398</td></tr></table><br/></div></div>"
      ],
      "text/plain": [
       "<IPython.core.display.HTML object>"
      ]
     },
     "metadata": {},
     "output_type": "display_data"
    },
    {
     "data": {
      "text/html": [
       "Synced <strong style=\"color:#cdcd00\">charmed-sweep-14</strong>: <a href=\"https://wandb.ai/aakashsasikumar/ContinuousOPEHyperParamTuningSNIPW_28_07_2022/runs/kvztr1c9\" target=\"_blank\">https://wandb.ai/aakashsasikumar/ContinuousOPEHyperParamTuningSNIPW_28_07_2022/runs/kvztr1c9</a><br/>Synced 5 W&B file(s), 0 media file(s), 0 artifact file(s) and 0 other file(s)"
      ],
      "text/plain": [
       "<IPython.core.display.HTML object>"
      ]
     },
     "metadata": {},
     "output_type": "display_data"
    },
    {
     "data": {
      "text/html": [
       "Find logs at: <code>./wandb/run-20220728_175553-kvztr1c9/logs</code>"
      ],
      "text/plain": [
       "<IPython.core.display.HTML object>"
      ]
     },
     "metadata": {},
     "output_type": "display_data"
    },
    {
     "name": "stderr",
     "output_type": "stream",
     "text": [
      "\u001b[34m\u001b[1mwandb\u001b[0m: Agent Starting Run: p7sufig4 with config:\n",
      "\u001b[34m\u001b[1mwandb\u001b[0m: \tbandwidth: 0.34840394149136245\n",
      "\u001b[34m\u001b[1mwandb\u001b[0m: \tkernel: gaussian\n"
     ]
    },
    {
     "data": {
      "text/html": [
       "Tracking run with wandb version 0.12.21"
      ],
      "text/plain": [
       "<IPython.core.display.HTML object>"
      ]
     },
     "metadata": {},
     "output_type": "display_data"
    },
    {
     "data": {
      "text/html": [
       "Run data is saved locally in <code>/Users/aakashsasikumar/Documents/MSc/Research/Dissimilar Policy/building-MARL/studies/wandb/run-20220728_175647-p7sufig4</code>"
      ],
      "text/plain": [
       "<IPython.core.display.HTML object>"
      ]
     },
     "metadata": {},
     "output_type": "display_data"
    },
    {
     "data": {
      "text/html": [
       "Syncing run <strong><a href=\"https://wandb.ai/aakashsasikumar/ContinuousOPEHyperParamTuningSNIPW_28_07_2022/runs/p7sufig4\" target=\"_blank\">icy-sweep-15</a></strong> to <a href=\"https://wandb.ai/aakashsasikumar/ContinuousOPEHyperParamTuningSNIPW_28_07_2022\" target=\"_blank\">Weights & Biases</a> (<a href=\"https://wandb.me/run\" target=\"_blank\">docs</a>)<br/>Sweep page:  <a href=\"https://wandb.ai/aakashsasikumar/ContinuousOPEHyperParamTuningSNIPW_28_07_2022/sweeps/ci54h96s\" target=\"_blank\">https://wandb.ai/aakashsasikumar/ContinuousOPEHyperParamTuningSNIPW_28_07_2022/sweeps/ci54h96s</a>"
      ],
      "text/plain": [
       "<IPython.core.display.HTML object>"
      ]
     },
     "metadata": {},
     "output_type": "display_data"
    },
    {
     "data": {
      "text/html": [
       "Waiting for W&B process to finish... <strong style=\"color:green\">(success).</strong>"
      ],
      "text/plain": [
       "<IPython.core.display.HTML object>"
      ]
     },
     "metadata": {},
     "output_type": "display_data"
    },
    {
     "data": {
      "application/vnd.jupyter.widget-view+json": {
       "model_id": "c9751882db7b483c82b6c51ad99fdb03",
       "version_major": 2,
       "version_minor": 0
      },
      "text/plain": [
       "VBox(children=(Label(value='0.001 MB of 0.001 MB uploaded (0.000 MB deduped)\\r'), FloatProgress(value=1.0, max…"
      ]
     },
     "metadata": {},
     "output_type": "display_data"
    },
    {
     "data": {
      "text/html": [
       "<style>\n",
       "    table.wandb td:nth-child(1) { padding: 0 10px; text-align: left ; width: auto;} td:nth-child(2) {text-align: left ; width: 100%}\n",
       "    .wandb-row { display: flex; flex-direction: row; flex-wrap: wrap; justify-content: flex-start; width: 100% }\n",
       "    .wandb-col { display: flex; flex-direction: column; flex-basis: 100%; flex: 1; padding: 10px; }\n",
       "    </style>\n",
       "<div class=\"wandb-row\"><div class=\"wandb-col\"><h3>Run history:</h3><br/><table class=\"wandb\"><tr><td>average_spearman_correlation</td><td>▁</td></tr></table><br/></div><div class=\"wandb-col\"><h3>Run summary:</h3><br/><table class=\"wandb\"><tr><td>average_spearman_correlation</td><td>0.61197</td></tr></table><br/></div></div>"
      ],
      "text/plain": [
       "<IPython.core.display.HTML object>"
      ]
     },
     "metadata": {},
     "output_type": "display_data"
    },
    {
     "data": {
      "text/html": [
       "Synced <strong style=\"color:#cdcd00\">icy-sweep-15</strong>: <a href=\"https://wandb.ai/aakashsasikumar/ContinuousOPEHyperParamTuningSNIPW_28_07_2022/runs/p7sufig4\" target=\"_blank\">https://wandb.ai/aakashsasikumar/ContinuousOPEHyperParamTuningSNIPW_28_07_2022/runs/p7sufig4</a><br/>Synced 4 W&B file(s), 0 media file(s), 0 artifact file(s) and 0 other file(s)"
      ],
      "text/plain": [
       "<IPython.core.display.HTML object>"
      ]
     },
     "metadata": {},
     "output_type": "display_data"
    },
    {
     "data": {
      "text/html": [
       "Find logs at: <code>./wandb/run-20220728_175647-p7sufig4/logs</code>"
      ],
      "text/plain": [
       "<IPython.core.display.HTML object>"
      ]
     },
     "metadata": {},
     "output_type": "display_data"
    },
    {
     "name": "stderr",
     "output_type": "stream",
     "text": [
      "\u001b[34m\u001b[1mwandb\u001b[0m: Agent Starting Run: b28am3xh with config:\n",
      "\u001b[34m\u001b[1mwandb\u001b[0m: \tbandwidth: 0.15244611304016825\n",
      "\u001b[34m\u001b[1mwandb\u001b[0m: \tkernel: triangular\n"
     ]
    },
    {
     "data": {
      "text/html": [
       "Tracking run with wandb version 0.12.21"
      ],
      "text/plain": [
       "<IPython.core.display.HTML object>"
      ]
     },
     "metadata": {},
     "output_type": "display_data"
    },
    {
     "data": {
      "text/html": [
       "Run data is saved locally in <code>/Users/aakashsasikumar/Documents/MSc/Research/Dissimilar Policy/building-MARL/studies/wandb/run-20220728_175751-b28am3xh</code>"
      ],
      "text/plain": [
       "<IPython.core.display.HTML object>"
      ]
     },
     "metadata": {},
     "output_type": "display_data"
    },
    {
     "data": {
      "text/html": [
       "Syncing run <strong><a href=\"https://wandb.ai/aakashsasikumar/ContinuousOPEHyperParamTuningSNIPW_28_07_2022/runs/b28am3xh\" target=\"_blank\">fearless-sweep-16</a></strong> to <a href=\"https://wandb.ai/aakashsasikumar/ContinuousOPEHyperParamTuningSNIPW_28_07_2022\" target=\"_blank\">Weights & Biases</a> (<a href=\"https://wandb.me/run\" target=\"_blank\">docs</a>)<br/>Sweep page:  <a href=\"https://wandb.ai/aakashsasikumar/ContinuousOPEHyperParamTuningSNIPW_28_07_2022/sweeps/ci54h96s\" target=\"_blank\">https://wandb.ai/aakashsasikumar/ContinuousOPEHyperParamTuningSNIPW_28_07_2022/sweeps/ci54h96s</a>"
      ],
      "text/plain": [
       "<IPython.core.display.HTML object>"
      ]
     },
     "metadata": {},
     "output_type": "display_data"
    },
    {
     "name": "stderr",
     "output_type": "stream",
     "text": [
      "/Users/aakashsasikumar/.pyenv/versions/3.10.0/envs/test/lib/python3.10/site-packages/obp-0.5.5-py3.10.egg/obp/ope/estimators_continuous.py:388: RuntimeWarning: invalid value encountered in divide\n",
      "  estimated_rewards /= (kernel_func(u) / pscore).mean()\n"
     ]
    },
    {
     "data": {
      "text/html": [
       "Waiting for W&B process to finish... <strong style=\"color:green\">(success).</strong>"
      ],
      "text/plain": [
       "<IPython.core.display.HTML object>"
      ]
     },
     "metadata": {},
     "output_type": "display_data"
    },
    {
     "data": {
      "application/vnd.jupyter.widget-view+json": {
       "model_id": "7adca1b5a23d4039b7d5a73fa98698e4",
       "version_major": 2,
       "version_minor": 0
      },
      "text/plain": [
       "VBox(children=(Label(value='0.001 MB of 0.001 MB uploaded (0.000 MB deduped)\\r'), FloatProgress(value=1.0, max…"
      ]
     },
     "metadata": {},
     "output_type": "display_data"
    },
    {
     "data": {
      "text/html": [
       "<style>\n",
       "    table.wandb td:nth-child(1) { padding: 0 10px; text-align: left ; width: auto;} td:nth-child(2) {text-align: left ; width: 100%}\n",
       "    .wandb-row { display: flex; flex-direction: row; flex-wrap: wrap; justify-content: flex-start; width: 100% }\n",
       "    .wandb-col { display: flex; flex-direction: column; flex-basis: 100%; flex: 1; padding: 10px; }\n",
       "    </style>\n",
       "<div class=\"wandb-row\"><div class=\"wandb-col\"><h3>Run history:</h3><br/><table class=\"wandb\"><tr><td>average_spearman_correlation</td><td>▁</td></tr></table><br/></div><div class=\"wandb-col\"><h3>Run summary:</h3><br/><table class=\"wandb\"><tr><td>average_spearman_correlation</td><td>0.28098</td></tr></table><br/></div></div>"
      ],
      "text/plain": [
       "<IPython.core.display.HTML object>"
      ]
     },
     "metadata": {},
     "output_type": "display_data"
    },
    {
     "data": {
      "text/html": [
       "Synced <strong style=\"color:#cdcd00\">fearless-sweep-16</strong>: <a href=\"https://wandb.ai/aakashsasikumar/ContinuousOPEHyperParamTuningSNIPW_28_07_2022/runs/b28am3xh\" target=\"_blank\">https://wandb.ai/aakashsasikumar/ContinuousOPEHyperParamTuningSNIPW_28_07_2022/runs/b28am3xh</a><br/>Synced 5 W&B file(s), 0 media file(s), 0 artifact file(s) and 0 other file(s)"
      ],
      "text/plain": [
       "<IPython.core.display.HTML object>"
      ]
     },
     "metadata": {},
     "output_type": "display_data"
    },
    {
     "data": {
      "text/html": [
       "Find logs at: <code>./wandb/run-20220728_175751-b28am3xh/logs</code>"
      ],
      "text/plain": [
       "<IPython.core.display.HTML object>"
      ]
     },
     "metadata": {},
     "output_type": "display_data"
    },
    {
     "name": "stderr",
     "output_type": "stream",
     "text": [
      "\u001b[34m\u001b[1mwandb\u001b[0m: Sweep Agent: Waiting for job.\n",
      "\u001b[34m\u001b[1mwandb\u001b[0m: Job received.\n",
      "\u001b[34m\u001b[1mwandb\u001b[0m: Agent Starting Run: nx7uvli4 with config:\n",
      "\u001b[34m\u001b[1mwandb\u001b[0m: \tbandwidth: 0.27145288323205075\n",
      "\u001b[34m\u001b[1mwandb\u001b[0m: \tkernel: cosine\n"
     ]
    },
    {
     "data": {
      "text/html": [
       "Tracking run with wandb version 0.12.21"
      ],
      "text/plain": [
       "<IPython.core.display.HTML object>"
      ]
     },
     "metadata": {},
     "output_type": "display_data"
    },
    {
     "data": {
      "text/html": [
       "Run data is saved locally in <code>/Users/aakashsasikumar/Documents/MSc/Research/Dissimilar Policy/building-MARL/studies/wandb/run-20220728_175853-nx7uvli4</code>"
      ],
      "text/plain": [
       "<IPython.core.display.HTML object>"
      ]
     },
     "metadata": {},
     "output_type": "display_data"
    },
    {
     "data": {
      "text/html": [
       "Syncing run <strong><a href=\"https://wandb.ai/aakashsasikumar/ContinuousOPEHyperParamTuningSNIPW_28_07_2022/runs/nx7uvli4\" target=\"_blank\">hearty-sweep-17</a></strong> to <a href=\"https://wandb.ai/aakashsasikumar/ContinuousOPEHyperParamTuningSNIPW_28_07_2022\" target=\"_blank\">Weights & Biases</a> (<a href=\"https://wandb.me/run\" target=\"_blank\">docs</a>)<br/>Sweep page:  <a href=\"https://wandb.ai/aakashsasikumar/ContinuousOPEHyperParamTuningSNIPW_28_07_2022/sweeps/ci54h96s\" target=\"_blank\">https://wandb.ai/aakashsasikumar/ContinuousOPEHyperParamTuningSNIPW_28_07_2022/sweeps/ci54h96s</a>"
      ],
      "text/plain": [
       "<IPython.core.display.HTML object>"
      ]
     },
     "metadata": {},
     "output_type": "display_data"
    },
    {
     "data": {
      "text/html": [
       "Waiting for W&B process to finish... <strong style=\"color:green\">(success).</strong>"
      ],
      "text/plain": [
       "<IPython.core.display.HTML object>"
      ]
     },
     "metadata": {},
     "output_type": "display_data"
    },
    {
     "data": {
      "application/vnd.jupyter.widget-view+json": {
       "model_id": "32f58fe9ea934f0698ed84ca36a94322",
       "version_major": 2,
       "version_minor": 0
      },
      "text/plain": [
       "VBox(children=(Label(value='0.001 MB of 0.001 MB uploaded (0.000 MB deduped)\\r'), FloatProgress(value=1.0, max…"
      ]
     },
     "metadata": {},
     "output_type": "display_data"
    },
    {
     "data": {
      "text/html": [
       "<style>\n",
       "    table.wandb td:nth-child(1) { padding: 0 10px; text-align: left ; width: auto;} td:nth-child(2) {text-align: left ; width: 100%}\n",
       "    .wandb-row { display: flex; flex-direction: row; flex-wrap: wrap; justify-content: flex-start; width: 100% }\n",
       "    .wandb-col { display: flex; flex-direction: column; flex-basis: 100%; flex: 1; padding: 10px; }\n",
       "    </style>\n",
       "<div class=\"wandb-row\"><div class=\"wandb-col\"><h3>Run history:</h3><br/><table class=\"wandb\"><tr><td>average_spearman_correlation</td><td>▁</td></tr></table><br/></div><div class=\"wandb-col\"><h3>Run summary:</h3><br/><table class=\"wandb\"><tr><td>average_spearman_correlation</td><td>0.36597</td></tr></table><br/></div></div>"
      ],
      "text/plain": [
       "<IPython.core.display.HTML object>"
      ]
     },
     "metadata": {},
     "output_type": "display_data"
    },
    {
     "data": {
      "text/html": [
       "Synced <strong style=\"color:#cdcd00\">hearty-sweep-17</strong>: <a href=\"https://wandb.ai/aakashsasikumar/ContinuousOPEHyperParamTuningSNIPW_28_07_2022/runs/nx7uvli4\" target=\"_blank\">https://wandb.ai/aakashsasikumar/ContinuousOPEHyperParamTuningSNIPW_28_07_2022/runs/nx7uvli4</a><br/>Synced 4 W&B file(s), 0 media file(s), 0 artifact file(s) and 0 other file(s)"
      ],
      "text/plain": [
       "<IPython.core.display.HTML object>"
      ]
     },
     "metadata": {},
     "output_type": "display_data"
    },
    {
     "data": {
      "text/html": [
       "Find logs at: <code>./wandb/run-20220728_175853-nx7uvli4/logs</code>"
      ],
      "text/plain": [
       "<IPython.core.display.HTML object>"
      ]
     },
     "metadata": {},
     "output_type": "display_data"
    },
    {
     "name": "stderr",
     "output_type": "stream",
     "text": [
      "\u001b[34m\u001b[1mwandb\u001b[0m: Agent Starting Run: xs1l2xtu with config:\n",
      "\u001b[34m\u001b[1mwandb\u001b[0m: \tbandwidth: 0.03785206266477242\n",
      "\u001b[34m\u001b[1mwandb\u001b[0m: \tkernel: triangular\n"
     ]
    },
    {
     "data": {
      "text/html": [
       "Tracking run with wandb version 0.12.21"
      ],
      "text/plain": [
       "<IPython.core.display.HTML object>"
      ]
     },
     "metadata": {},
     "output_type": "display_data"
    },
    {
     "data": {
      "text/html": [
       "Run data is saved locally in <code>/Users/aakashsasikumar/Documents/MSc/Research/Dissimilar Policy/building-MARL/studies/wandb/run-20220728_175946-xs1l2xtu</code>"
      ],
      "text/plain": [
       "<IPython.core.display.HTML object>"
      ]
     },
     "metadata": {},
     "output_type": "display_data"
    },
    {
     "data": {
      "text/html": [
       "Syncing run <strong><a href=\"https://wandb.ai/aakashsasikumar/ContinuousOPEHyperParamTuningSNIPW_28_07_2022/runs/xs1l2xtu\" target=\"_blank\">amber-sweep-18</a></strong> to <a href=\"https://wandb.ai/aakashsasikumar/ContinuousOPEHyperParamTuningSNIPW_28_07_2022\" target=\"_blank\">Weights & Biases</a> (<a href=\"https://wandb.me/run\" target=\"_blank\">docs</a>)<br/>Sweep page:  <a href=\"https://wandb.ai/aakashsasikumar/ContinuousOPEHyperParamTuningSNIPW_28_07_2022/sweeps/ci54h96s\" target=\"_blank\">https://wandb.ai/aakashsasikumar/ContinuousOPEHyperParamTuningSNIPW_28_07_2022/sweeps/ci54h96s</a>"
      ],
      "text/plain": [
       "<IPython.core.display.HTML object>"
      ]
     },
     "metadata": {},
     "output_type": "display_data"
    },
    {
     "name": "stderr",
     "output_type": "stream",
     "text": [
      "/Users/aakashsasikumar/.pyenv/versions/3.10.0/envs/test/lib/python3.10/site-packages/obp-0.5.5-py3.10.egg/obp/ope/estimators_continuous.py:388: RuntimeWarning: invalid value encountered in divide\n",
      "  estimated_rewards /= (kernel_func(u) / pscore).mean()\n"
     ]
    },
    {
     "data": {
      "text/html": [
       "Waiting for W&B process to finish... <strong style=\"color:green\">(success).</strong>"
      ],
      "text/plain": [
       "<IPython.core.display.HTML object>"
      ]
     },
     "metadata": {},
     "output_type": "display_data"
    },
    {
     "data": {
      "application/vnd.jupyter.widget-view+json": {
       "model_id": "b11fa6c57f8245e9a24bbe9188486d7c",
       "version_major": 2,
       "version_minor": 0
      },
      "text/plain": [
       "VBox(children=(Label(value='0.001 MB of 0.001 MB uploaded (0.000 MB deduped)\\r'), FloatProgress(value=1.0, max…"
      ]
     },
     "metadata": {},
     "output_type": "display_data"
    },
    {
     "data": {
      "text/html": [
       "<style>\n",
       "    table.wandb td:nth-child(1) { padding: 0 10px; text-align: left ; width: auto;} td:nth-child(2) {text-align: left ; width: 100%}\n",
       "    .wandb-row { display: flex; flex-direction: row; flex-wrap: wrap; justify-content: flex-start; width: 100% }\n",
       "    .wandb-col { display: flex; flex-direction: column; flex-basis: 100%; flex: 1; padding: 10px; }\n",
       "    </style>\n",
       "<div class=\"wandb-row\"><div class=\"wandb-col\"><h3>Run history:</h3><br/><table class=\"wandb\"><tr><td>average_spearman_correlation</td><td>▁</td></tr></table><br/></div><div class=\"wandb-col\"><h3>Run summary:</h3><br/><table class=\"wandb\"><tr><td>average_spearman_correlation</td><td>0.35229</td></tr></table><br/></div></div>"
      ],
      "text/plain": [
       "<IPython.core.display.HTML object>"
      ]
     },
     "metadata": {},
     "output_type": "display_data"
    },
    {
     "data": {
      "text/html": [
       "Synced <strong style=\"color:#cdcd00\">amber-sweep-18</strong>: <a href=\"https://wandb.ai/aakashsasikumar/ContinuousOPEHyperParamTuningSNIPW_28_07_2022/runs/xs1l2xtu\" target=\"_blank\">https://wandb.ai/aakashsasikumar/ContinuousOPEHyperParamTuningSNIPW_28_07_2022/runs/xs1l2xtu</a><br/>Synced 5 W&B file(s), 0 media file(s), 0 artifact file(s) and 0 other file(s)"
      ],
      "text/plain": [
       "<IPython.core.display.HTML object>"
      ]
     },
     "metadata": {},
     "output_type": "display_data"
    },
    {
     "data": {
      "text/html": [
       "Find logs at: <code>./wandb/run-20220728_175946-xs1l2xtu/logs</code>"
      ],
      "text/plain": [
       "<IPython.core.display.HTML object>"
      ]
     },
     "metadata": {},
     "output_type": "display_data"
    },
    {
     "name": "stderr",
     "output_type": "stream",
     "text": [
      "\u001b[34m\u001b[1mwandb\u001b[0m: Agent Starting Run: e064beyo with config:\n",
      "\u001b[34m\u001b[1mwandb\u001b[0m: \tbandwidth: 0.03037242980132032\n",
      "\u001b[34m\u001b[1mwandb\u001b[0m: \tkernel: gaussian\n"
     ]
    },
    {
     "data": {
      "text/html": [
       "Tracking run with wandb version 0.12.21"
      ],
      "text/plain": [
       "<IPython.core.display.HTML object>"
      ]
     },
     "metadata": {},
     "output_type": "display_data"
    },
    {
     "data": {
      "text/html": [
       "Run data is saved locally in <code>/Users/aakashsasikumar/Documents/MSc/Research/Dissimilar Policy/building-MARL/studies/wandb/run-20220728_180040-e064beyo</code>"
      ],
      "text/plain": [
       "<IPython.core.display.HTML object>"
      ]
     },
     "metadata": {},
     "output_type": "display_data"
    },
    {
     "data": {
      "text/html": [
       "Syncing run <strong><a href=\"https://wandb.ai/aakashsasikumar/ContinuousOPEHyperParamTuningSNIPW_28_07_2022/runs/e064beyo\" target=\"_blank\">deep-sweep-19</a></strong> to <a href=\"https://wandb.ai/aakashsasikumar/ContinuousOPEHyperParamTuningSNIPW_28_07_2022\" target=\"_blank\">Weights & Biases</a> (<a href=\"https://wandb.me/run\" target=\"_blank\">docs</a>)<br/>Sweep page:  <a href=\"https://wandb.ai/aakashsasikumar/ContinuousOPEHyperParamTuningSNIPW_28_07_2022/sweeps/ci54h96s\" target=\"_blank\">https://wandb.ai/aakashsasikumar/ContinuousOPEHyperParamTuningSNIPW_28_07_2022/sweeps/ci54h96s</a>"
      ],
      "text/plain": [
       "<IPython.core.display.HTML object>"
      ]
     },
     "metadata": {},
     "output_type": "display_data"
    },
    {
     "data": {
      "text/html": [
       "Waiting for W&B process to finish... <strong style=\"color:green\">(success).</strong>"
      ],
      "text/plain": [
       "<IPython.core.display.HTML object>"
      ]
     },
     "metadata": {},
     "output_type": "display_data"
    },
    {
     "data": {
      "application/vnd.jupyter.widget-view+json": {
       "model_id": "76ce8b22a6fa4ee1830c1fca8c06f68c",
       "version_major": 2,
       "version_minor": 0
      },
      "text/plain": [
       "VBox(children=(Label(value='0.001 MB of 0.001 MB uploaded (0.000 MB deduped)\\r'), FloatProgress(value=1.0, max…"
      ]
     },
     "metadata": {},
     "output_type": "display_data"
    },
    {
     "data": {
      "text/html": [
       "<style>\n",
       "    table.wandb td:nth-child(1) { padding: 0 10px; text-align: left ; width: auto;} td:nth-child(2) {text-align: left ; width: 100%}\n",
       "    .wandb-row { display: flex; flex-direction: row; flex-wrap: wrap; justify-content: flex-start; width: 100% }\n",
       "    .wandb-col { display: flex; flex-direction: column; flex-basis: 100%; flex: 1; padding: 10px; }\n",
       "    </style>\n",
       "<div class=\"wandb-row\"><div class=\"wandb-col\"><h3>Run history:</h3><br/><table class=\"wandb\"><tr><td>average_spearman_correlation</td><td>▁</td></tr></table><br/></div><div class=\"wandb-col\"><h3>Run summary:</h3><br/><table class=\"wandb\"><tr><td>average_spearman_correlation</td><td>0.21597</td></tr></table><br/></div></div>"
      ],
      "text/plain": [
       "<IPython.core.display.HTML object>"
      ]
     },
     "metadata": {},
     "output_type": "display_data"
    },
    {
     "data": {
      "text/html": [
       "Synced <strong style=\"color:#cdcd00\">deep-sweep-19</strong>: <a href=\"https://wandb.ai/aakashsasikumar/ContinuousOPEHyperParamTuningSNIPW_28_07_2022/runs/e064beyo\" target=\"_blank\">https://wandb.ai/aakashsasikumar/ContinuousOPEHyperParamTuningSNIPW_28_07_2022/runs/e064beyo</a><br/>Synced 4 W&B file(s), 0 media file(s), 0 artifact file(s) and 0 other file(s)"
      ],
      "text/plain": [
       "<IPython.core.display.HTML object>"
      ]
     },
     "metadata": {},
     "output_type": "display_data"
    },
    {
     "data": {
      "text/html": [
       "Find logs at: <code>./wandb/run-20220728_180040-e064beyo/logs</code>"
      ],
      "text/plain": [
       "<IPython.core.display.HTML object>"
      ]
     },
     "metadata": {},
     "output_type": "display_data"
    },
    {
     "name": "stderr",
     "output_type": "stream",
     "text": [
      "\u001b[34m\u001b[1mwandb\u001b[0m: Agent Starting Run: 1mgkpqm8 with config:\n",
      "\u001b[34m\u001b[1mwandb\u001b[0m: \tbandwidth: 0.07037301226839593\n",
      "\u001b[34m\u001b[1mwandb\u001b[0m: \tkernel: gaussian\n"
     ]
    },
    {
     "data": {
      "text/html": [
       "Tracking run with wandb version 0.12.21"
      ],
      "text/plain": [
       "<IPython.core.display.HTML object>"
      ]
     },
     "metadata": {},
     "output_type": "display_data"
    },
    {
     "data": {
      "text/html": [
       "Run data is saved locally in <code>/Users/aakashsasikumar/Documents/MSc/Research/Dissimilar Policy/building-MARL/studies/wandb/run-20220728_180134-1mgkpqm8</code>"
      ],
      "text/plain": [
       "<IPython.core.display.HTML object>"
      ]
     },
     "metadata": {},
     "output_type": "display_data"
    },
    {
     "data": {
      "text/html": [
       "Syncing run <strong><a href=\"https://wandb.ai/aakashsasikumar/ContinuousOPEHyperParamTuningSNIPW_28_07_2022/runs/1mgkpqm8\" target=\"_blank\">twilight-sweep-20</a></strong> to <a href=\"https://wandb.ai/aakashsasikumar/ContinuousOPEHyperParamTuningSNIPW_28_07_2022\" target=\"_blank\">Weights & Biases</a> (<a href=\"https://wandb.me/run\" target=\"_blank\">docs</a>)<br/>Sweep page:  <a href=\"https://wandb.ai/aakashsasikumar/ContinuousOPEHyperParamTuningSNIPW_28_07_2022/sweeps/ci54h96s\" target=\"_blank\">https://wandb.ai/aakashsasikumar/ContinuousOPEHyperParamTuningSNIPW_28_07_2022/sweeps/ci54h96s</a>"
      ],
      "text/plain": [
       "<IPython.core.display.HTML object>"
      ]
     },
     "metadata": {},
     "output_type": "display_data"
    },
    {
     "data": {
      "text/html": [
       "Waiting for W&B process to finish... <strong style=\"color:green\">(success).</strong>"
      ],
      "text/plain": [
       "<IPython.core.display.HTML object>"
      ]
     },
     "metadata": {},
     "output_type": "display_data"
    },
    {
     "data": {
      "application/vnd.jupyter.widget-view+json": {
       "model_id": "b91822f3d2cd42e48fed43ba4d1b5b90",
       "version_major": 2,
       "version_minor": 0
      },
      "text/plain": [
       "VBox(children=(Label(value='0.001 MB of 0.001 MB uploaded (0.000 MB deduped)\\r'), FloatProgress(value=1.0, max…"
      ]
     },
     "metadata": {},
     "output_type": "display_data"
    },
    {
     "data": {
      "text/html": [
       "<style>\n",
       "    table.wandb td:nth-child(1) { padding: 0 10px; text-align: left ; width: auto;} td:nth-child(2) {text-align: left ; width: 100%}\n",
       "    .wandb-row { display: flex; flex-direction: row; flex-wrap: wrap; justify-content: flex-start; width: 100% }\n",
       "    .wandb-col { display: flex; flex-direction: column; flex-basis: 100%; flex: 1; padding: 10px; }\n",
       "    </style>\n",
       "<div class=\"wandb-row\"><div class=\"wandb-col\"><h3>Run history:</h3><br/><table class=\"wandb\"><tr><td>average_spearman_correlation</td><td>▁</td></tr></table><br/></div><div class=\"wandb-col\"><h3>Run summary:</h3><br/><table class=\"wandb\"><tr><td>average_spearman_correlation</td><td>0.22075</td></tr></table><br/></div></div>"
      ],
      "text/plain": [
       "<IPython.core.display.HTML object>"
      ]
     },
     "metadata": {},
     "output_type": "display_data"
    },
    {
     "data": {
      "text/html": [
       "Synced <strong style=\"color:#cdcd00\">twilight-sweep-20</strong>: <a href=\"https://wandb.ai/aakashsasikumar/ContinuousOPEHyperParamTuningSNIPW_28_07_2022/runs/1mgkpqm8\" target=\"_blank\">https://wandb.ai/aakashsasikumar/ContinuousOPEHyperParamTuningSNIPW_28_07_2022/runs/1mgkpqm8</a><br/>Synced 4 W&B file(s), 0 media file(s), 0 artifact file(s) and 0 other file(s)"
      ],
      "text/plain": [
       "<IPython.core.display.HTML object>"
      ]
     },
     "metadata": {},
     "output_type": "display_data"
    },
    {
     "data": {
      "text/html": [
       "Find logs at: <code>./wandb/run-20220728_180134-1mgkpqm8/logs</code>"
      ],
      "text/plain": [
       "<IPython.core.display.HTML object>"
      ]
     },
     "metadata": {},
     "output_type": "display_data"
    },
    {
     "name": "stderr",
     "output_type": "stream",
     "text": [
      "\u001b[34m\u001b[1mwandb\u001b[0m: Agent Starting Run: gfg6mj4t with config:\n",
      "\u001b[34m\u001b[1mwandb\u001b[0m: \tbandwidth: 0.3538245389308409\n",
      "\u001b[34m\u001b[1mwandb\u001b[0m: \tkernel: cosine\n"
     ]
    },
    {
     "data": {
      "text/html": [
       "Tracking run with wandb version 0.12.21"
      ],
      "text/plain": [
       "<IPython.core.display.HTML object>"
      ]
     },
     "metadata": {},
     "output_type": "display_data"
    },
    {
     "data": {
      "text/html": [
       "Run data is saved locally in <code>/Users/aakashsasikumar/Documents/MSc/Research/Dissimilar Policy/building-MARL/studies/wandb/run-20220728_180228-gfg6mj4t</code>"
      ],
      "text/plain": [
       "<IPython.core.display.HTML object>"
      ]
     },
     "metadata": {},
     "output_type": "display_data"
    },
    {
     "data": {
      "text/html": [
       "Syncing run <strong><a href=\"https://wandb.ai/aakashsasikumar/ContinuousOPEHyperParamTuningSNIPW_28_07_2022/runs/gfg6mj4t\" target=\"_blank\">northern-sweep-21</a></strong> to <a href=\"https://wandb.ai/aakashsasikumar/ContinuousOPEHyperParamTuningSNIPW_28_07_2022\" target=\"_blank\">Weights & Biases</a> (<a href=\"https://wandb.me/run\" target=\"_blank\">docs</a>)<br/>Sweep page:  <a href=\"https://wandb.ai/aakashsasikumar/ContinuousOPEHyperParamTuningSNIPW_28_07_2022/sweeps/ci54h96s\" target=\"_blank\">https://wandb.ai/aakashsasikumar/ContinuousOPEHyperParamTuningSNIPW_28_07_2022/sweeps/ci54h96s</a>"
      ],
      "text/plain": [
       "<IPython.core.display.HTML object>"
      ]
     },
     "metadata": {},
     "output_type": "display_data"
    },
    {
     "data": {
      "text/html": [
       "Waiting for W&B process to finish... <strong style=\"color:green\">(success).</strong>"
      ],
      "text/plain": [
       "<IPython.core.display.HTML object>"
      ]
     },
     "metadata": {},
     "output_type": "display_data"
    },
    {
     "data": {
      "application/vnd.jupyter.widget-view+json": {
       "model_id": "77f110addabd4c28b8fdb5f94b5b16e4",
       "version_major": 2,
       "version_minor": 0
      },
      "text/plain": [
       "VBox(children=(Label(value='0.001 MB of 0.001 MB uploaded (0.000 MB deduped)\\r'), FloatProgress(value=1.0, max…"
      ]
     },
     "metadata": {},
     "output_type": "display_data"
    },
    {
     "data": {
      "text/html": [
       "<style>\n",
       "    table.wandb td:nth-child(1) { padding: 0 10px; text-align: left ; width: auto;} td:nth-child(2) {text-align: left ; width: 100%}\n",
       "    .wandb-row { display: flex; flex-direction: row; flex-wrap: wrap; justify-content: flex-start; width: 100% }\n",
       "    .wandb-col { display: flex; flex-direction: column; flex-basis: 100%; flex: 1; padding: 10px; }\n",
       "    </style>\n",
       "<div class=\"wandb-row\"><div class=\"wandb-col\"><h3>Run history:</h3><br/><table class=\"wandb\"><tr><td>average_spearman_correlation</td><td>▁</td></tr></table><br/></div><div class=\"wandb-col\"><h3>Run summary:</h3><br/><table class=\"wandb\"><tr><td>average_spearman_correlation</td><td>0.31707</td></tr></table><br/></div></div>"
      ],
      "text/plain": [
       "<IPython.core.display.HTML object>"
      ]
     },
     "metadata": {},
     "output_type": "display_data"
    },
    {
     "data": {
      "text/html": [
       "Synced <strong style=\"color:#cdcd00\">northern-sweep-21</strong>: <a href=\"https://wandb.ai/aakashsasikumar/ContinuousOPEHyperParamTuningSNIPW_28_07_2022/runs/gfg6mj4t\" target=\"_blank\">https://wandb.ai/aakashsasikumar/ContinuousOPEHyperParamTuningSNIPW_28_07_2022/runs/gfg6mj4t</a><br/>Synced 4 W&B file(s), 0 media file(s), 0 artifact file(s) and 0 other file(s)"
      ],
      "text/plain": [
       "<IPython.core.display.HTML object>"
      ]
     },
     "metadata": {},
     "output_type": "display_data"
    },
    {
     "data": {
      "text/html": [
       "Find logs at: <code>./wandb/run-20220728_180228-gfg6mj4t/logs</code>"
      ],
      "text/plain": [
       "<IPython.core.display.HTML object>"
      ]
     },
     "metadata": {},
     "output_type": "display_data"
    },
    {
     "name": "stderr",
     "output_type": "stream",
     "text": [
      "\u001b[34m\u001b[1mwandb\u001b[0m: Agent Starting Run: upb01iux with config:\n",
      "\u001b[34m\u001b[1mwandb\u001b[0m: \tbandwidth: 0.34876494138099895\n",
      "\u001b[34m\u001b[1mwandb\u001b[0m: \tkernel: triangular\n"
     ]
    },
    {
     "data": {
      "text/html": [
       "Tracking run with wandb version 0.12.21"
      ],
      "text/plain": [
       "<IPython.core.display.HTML object>"
      ]
     },
     "metadata": {},
     "output_type": "display_data"
    },
    {
     "data": {
      "text/html": [
       "Run data is saved locally in <code>/Users/aakashsasikumar/Documents/MSc/Research/Dissimilar Policy/building-MARL/studies/wandb/run-20220728_180321-upb01iux</code>"
      ],
      "text/plain": [
       "<IPython.core.display.HTML object>"
      ]
     },
     "metadata": {},
     "output_type": "display_data"
    },
    {
     "data": {
      "text/html": [
       "Syncing run <strong><a href=\"https://wandb.ai/aakashsasikumar/ContinuousOPEHyperParamTuningSNIPW_28_07_2022/runs/upb01iux\" target=\"_blank\">avid-sweep-22</a></strong> to <a href=\"https://wandb.ai/aakashsasikumar/ContinuousOPEHyperParamTuningSNIPW_28_07_2022\" target=\"_blank\">Weights & Biases</a> (<a href=\"https://wandb.me/run\" target=\"_blank\">docs</a>)<br/>Sweep page:  <a href=\"https://wandb.ai/aakashsasikumar/ContinuousOPEHyperParamTuningSNIPW_28_07_2022/sweeps/ci54h96s\" target=\"_blank\">https://wandb.ai/aakashsasikumar/ContinuousOPEHyperParamTuningSNIPW_28_07_2022/sweeps/ci54h96s</a>"
      ],
      "text/plain": [
       "<IPython.core.display.HTML object>"
      ]
     },
     "metadata": {},
     "output_type": "display_data"
    },
    {
     "name": "stderr",
     "output_type": "stream",
     "text": [
      "/Users/aakashsasikumar/.pyenv/versions/3.10.0/envs/test/lib/python3.10/site-packages/obp-0.5.5-py3.10.egg/obp/ope/estimators_continuous.py:388: RuntimeWarning: invalid value encountered in divide\n",
      "  estimated_rewards /= (kernel_func(u) / pscore).mean()\n"
     ]
    },
    {
     "data": {
      "text/html": [
       "Waiting for W&B process to finish... <strong style=\"color:green\">(success).</strong>"
      ],
      "text/plain": [
       "<IPython.core.display.HTML object>"
      ]
     },
     "metadata": {},
     "output_type": "display_data"
    },
    {
     "data": {
      "application/vnd.jupyter.widget-view+json": {
       "model_id": "09b6444b26444b0f97fbe3e01f223cdb",
       "version_major": 2,
       "version_minor": 0
      },
      "text/plain": [
       "VBox(children=(Label(value='0.001 MB of 0.001 MB uploaded (0.000 MB deduped)\\r'), FloatProgress(value=1.0, max…"
      ]
     },
     "metadata": {},
     "output_type": "display_data"
    },
    {
     "data": {
      "text/html": [
       "<style>\n",
       "    table.wandb td:nth-child(1) { padding: 0 10px; text-align: left ; width: auto;} td:nth-child(2) {text-align: left ; width: 100%}\n",
       "    .wandb-row { display: flex; flex-direction: row; flex-wrap: wrap; justify-content: flex-start; width: 100% }\n",
       "    .wandb-col { display: flex; flex-direction: column; flex-basis: 100%; flex: 1; padding: 10px; }\n",
       "    </style>\n",
       "<div class=\"wandb-row\"><div class=\"wandb-col\"><h3>Run history:</h3><br/><table class=\"wandb\"><tr><td>average_spearman_correlation</td><td>▁</td></tr></table><br/></div><div class=\"wandb-col\"><h3>Run summary:</h3><br/><table class=\"wandb\"><tr><td>average_spearman_correlation</td><td>0.24216</td></tr></table><br/></div></div>"
      ],
      "text/plain": [
       "<IPython.core.display.HTML object>"
      ]
     },
     "metadata": {},
     "output_type": "display_data"
    },
    {
     "data": {
      "text/html": [
       "Synced <strong style=\"color:#cdcd00\">avid-sweep-22</strong>: <a href=\"https://wandb.ai/aakashsasikumar/ContinuousOPEHyperParamTuningSNIPW_28_07_2022/runs/upb01iux\" target=\"_blank\">https://wandb.ai/aakashsasikumar/ContinuousOPEHyperParamTuningSNIPW_28_07_2022/runs/upb01iux</a><br/>Synced 5 W&B file(s), 0 media file(s), 0 artifact file(s) and 0 other file(s)"
      ],
      "text/plain": [
       "<IPython.core.display.HTML object>"
      ]
     },
     "metadata": {},
     "output_type": "display_data"
    },
    {
     "data": {
      "text/html": [
       "Find logs at: <code>./wandb/run-20220728_180321-upb01iux/logs</code>"
      ],
      "text/plain": [
       "<IPython.core.display.HTML object>"
      ]
     },
     "metadata": {},
     "output_type": "display_data"
    },
    {
     "name": "stderr",
     "output_type": "stream",
     "text": [
      "\u001b[34m\u001b[1mwandb\u001b[0m: Agent Starting Run: ux6e441v with config:\n",
      "\u001b[34m\u001b[1mwandb\u001b[0m: \tbandwidth: 0.3653482741290579\n",
      "\u001b[34m\u001b[1mwandb\u001b[0m: \tkernel: gaussian\n"
     ]
    },
    {
     "data": {
      "text/html": [
       "Tracking run with wandb version 0.12.21"
      ],
      "text/plain": [
       "<IPython.core.display.HTML object>"
      ]
     },
     "metadata": {},
     "output_type": "display_data"
    },
    {
     "data": {
      "text/html": [
       "Run data is saved locally in <code>/Users/aakashsasikumar/Documents/MSc/Research/Dissimilar Policy/building-MARL/studies/wandb/run-20220728_180419-ux6e441v</code>"
      ],
      "text/plain": [
       "<IPython.core.display.HTML object>"
      ]
     },
     "metadata": {},
     "output_type": "display_data"
    },
    {
     "data": {
      "text/html": [
       "Syncing run <strong><a href=\"https://wandb.ai/aakashsasikumar/ContinuousOPEHyperParamTuningSNIPW_28_07_2022/runs/ux6e441v\" target=\"_blank\">distinctive-sweep-23</a></strong> to <a href=\"https://wandb.ai/aakashsasikumar/ContinuousOPEHyperParamTuningSNIPW_28_07_2022\" target=\"_blank\">Weights & Biases</a> (<a href=\"https://wandb.me/run\" target=\"_blank\">docs</a>)<br/>Sweep page:  <a href=\"https://wandb.ai/aakashsasikumar/ContinuousOPEHyperParamTuningSNIPW_28_07_2022/sweeps/ci54h96s\" target=\"_blank\">https://wandb.ai/aakashsasikumar/ContinuousOPEHyperParamTuningSNIPW_28_07_2022/sweeps/ci54h96s</a>"
      ],
      "text/plain": [
       "<IPython.core.display.HTML object>"
      ]
     },
     "metadata": {},
     "output_type": "display_data"
    },
    {
     "data": {
      "text/html": [
       "Waiting for W&B process to finish... <strong style=\"color:green\">(success).</strong>"
      ],
      "text/plain": [
       "<IPython.core.display.HTML object>"
      ]
     },
     "metadata": {},
     "output_type": "display_data"
    },
    {
     "data": {
      "application/vnd.jupyter.widget-view+json": {
       "model_id": "1f2d1164d9524373a0d3151443899542",
       "version_major": 2,
       "version_minor": 0
      },
      "text/plain": [
       "VBox(children=(Label(value='0.001 MB of 0.001 MB uploaded (0.000 MB deduped)\\r'), FloatProgress(value=1.0, max…"
      ]
     },
     "metadata": {},
     "output_type": "display_data"
    },
    {
     "data": {
      "text/html": [
       "<style>\n",
       "    table.wandb td:nth-child(1) { padding: 0 10px; text-align: left ; width: auto;} td:nth-child(2) {text-align: left ; width: 100%}\n",
       "    .wandb-row { display: flex; flex-direction: row; flex-wrap: wrap; justify-content: flex-start; width: 100% }\n",
       "    .wandb-col { display: flex; flex-direction: column; flex-basis: 100%; flex: 1; padding: 10px; }\n",
       "    </style>\n",
       "<div class=\"wandb-row\"><div class=\"wandb-col\"><h3>Run history:</h3><br/><table class=\"wandb\"><tr><td>average_spearman_correlation</td><td>▁</td></tr></table><br/></div><div class=\"wandb-col\"><h3>Run summary:</h3><br/><table class=\"wandb\"><tr><td>average_spearman_correlation</td><td>0.62256</td></tr></table><br/></div></div>"
      ],
      "text/plain": [
       "<IPython.core.display.HTML object>"
      ]
     },
     "metadata": {},
     "output_type": "display_data"
    },
    {
     "data": {
      "text/html": [
       "Synced <strong style=\"color:#cdcd00\">distinctive-sweep-23</strong>: <a href=\"https://wandb.ai/aakashsasikumar/ContinuousOPEHyperParamTuningSNIPW_28_07_2022/runs/ux6e441v\" target=\"_blank\">https://wandb.ai/aakashsasikumar/ContinuousOPEHyperParamTuningSNIPW_28_07_2022/runs/ux6e441v</a><br/>Synced 4 W&B file(s), 0 media file(s), 0 artifact file(s) and 0 other file(s)"
      ],
      "text/plain": [
       "<IPython.core.display.HTML object>"
      ]
     },
     "metadata": {},
     "output_type": "display_data"
    },
    {
     "data": {
      "text/html": [
       "Find logs at: <code>./wandb/run-20220728_180419-ux6e441v/logs</code>"
      ],
      "text/plain": [
       "<IPython.core.display.HTML object>"
      ]
     },
     "metadata": {},
     "output_type": "display_data"
    },
    {
     "name": "stderr",
     "output_type": "stream",
     "text": [
      "\u001b[34m\u001b[1mwandb\u001b[0m: Agent Starting Run: ybof9q46 with config:\n",
      "\u001b[34m\u001b[1mwandb\u001b[0m: \tbandwidth: 0.46225824846060254\n",
      "\u001b[34m\u001b[1mwandb\u001b[0m: \tkernel: cosine\n"
     ]
    },
    {
     "data": {
      "text/html": [
       "Tracking run with wandb version 0.12.21"
      ],
      "text/plain": [
       "<IPython.core.display.HTML object>"
      ]
     },
     "metadata": {},
     "output_type": "display_data"
    },
    {
     "data": {
      "text/html": [
       "Run data is saved locally in <code>/Users/aakashsasikumar/Documents/MSc/Research/Dissimilar Policy/building-MARL/studies/wandb/run-20220728_180512-ybof9q46</code>"
      ],
      "text/plain": [
       "<IPython.core.display.HTML object>"
      ]
     },
     "metadata": {},
     "output_type": "display_data"
    },
    {
     "data": {
      "text/html": [
       "Syncing run <strong><a href=\"https://wandb.ai/aakashsasikumar/ContinuousOPEHyperParamTuningSNIPW_28_07_2022/runs/ybof9q46\" target=\"_blank\">avid-sweep-24</a></strong> to <a href=\"https://wandb.ai/aakashsasikumar/ContinuousOPEHyperParamTuningSNIPW_28_07_2022\" target=\"_blank\">Weights & Biases</a> (<a href=\"https://wandb.me/run\" target=\"_blank\">docs</a>)<br/>Sweep page:  <a href=\"https://wandb.ai/aakashsasikumar/ContinuousOPEHyperParamTuningSNIPW_28_07_2022/sweeps/ci54h96s\" target=\"_blank\">https://wandb.ai/aakashsasikumar/ContinuousOPEHyperParamTuningSNIPW_28_07_2022/sweeps/ci54h96s</a>"
      ],
      "text/plain": [
       "<IPython.core.display.HTML object>"
      ]
     },
     "metadata": {},
     "output_type": "display_data"
    },
    {
     "data": {
      "text/html": [
       "Waiting for W&B process to finish... <strong style=\"color:green\">(success).</strong>"
      ],
      "text/plain": [
       "<IPython.core.display.HTML object>"
      ]
     },
     "metadata": {},
     "output_type": "display_data"
    },
    {
     "data": {
      "application/vnd.jupyter.widget-view+json": {
       "model_id": "03bbadf81f1447afb2ae7d07940f6d58",
       "version_major": 2,
       "version_minor": 0
      },
      "text/plain": [
       "VBox(children=(Label(value='0.001 MB of 0.001 MB uploaded (0.000 MB deduped)\\r'), FloatProgress(value=1.0, max…"
      ]
     },
     "metadata": {},
     "output_type": "display_data"
    },
    {
     "data": {
      "text/html": [
       "<style>\n",
       "    table.wandb td:nth-child(1) { padding: 0 10px; text-align: left ; width: auto;} td:nth-child(2) {text-align: left ; width: 100%}\n",
       "    .wandb-row { display: flex; flex-direction: row; flex-wrap: wrap; justify-content: flex-start; width: 100% }\n",
       "    .wandb-col { display: flex; flex-direction: column; flex-basis: 100%; flex: 1; padding: 10px; }\n",
       "    </style>\n",
       "<div class=\"wandb-row\"><div class=\"wandb-col\"><h3>Run history:</h3><br/><table class=\"wandb\"><tr><td>average_spearman_correlation</td><td>▁</td></tr></table><br/></div><div class=\"wandb-col\"><h3>Run summary:</h3><br/><table class=\"wandb\"><tr><td>average_spearman_correlation</td><td>0.24377</td></tr></table><br/></div></div>"
      ],
      "text/plain": [
       "<IPython.core.display.HTML object>"
      ]
     },
     "metadata": {},
     "output_type": "display_data"
    },
    {
     "data": {
      "text/html": [
       "Synced <strong style=\"color:#cdcd00\">avid-sweep-24</strong>: <a href=\"https://wandb.ai/aakashsasikumar/ContinuousOPEHyperParamTuningSNIPW_28_07_2022/runs/ybof9q46\" target=\"_blank\">https://wandb.ai/aakashsasikumar/ContinuousOPEHyperParamTuningSNIPW_28_07_2022/runs/ybof9q46</a><br/>Synced 4 W&B file(s), 0 media file(s), 0 artifact file(s) and 0 other file(s)"
      ],
      "text/plain": [
       "<IPython.core.display.HTML object>"
      ]
     },
     "metadata": {},
     "output_type": "display_data"
    },
    {
     "data": {
      "text/html": [
       "Find logs at: <code>./wandb/run-20220728_180512-ybof9q46/logs</code>"
      ],
      "text/plain": [
       "<IPython.core.display.HTML object>"
      ]
     },
     "metadata": {},
     "output_type": "display_data"
    },
    {
     "name": "stderr",
     "output_type": "stream",
     "text": [
      "\u001b[34m\u001b[1mwandb\u001b[0m: Agent Starting Run: rhtirqhl with config:\n",
      "\u001b[34m\u001b[1mwandb\u001b[0m: \tbandwidth: 0.360378086569041\n",
      "\u001b[34m\u001b[1mwandb\u001b[0m: \tkernel: triangular\n"
     ]
    },
    {
     "data": {
      "text/html": [
       "Tracking run with wandb version 0.12.21"
      ],
      "text/plain": [
       "<IPython.core.display.HTML object>"
      ]
     },
     "metadata": {},
     "output_type": "display_data"
    },
    {
     "data": {
      "text/html": [
       "Run data is saved locally in <code>/Users/aakashsasikumar/Documents/MSc/Research/Dissimilar Policy/building-MARL/studies/wandb/run-20220728_180610-rhtirqhl</code>"
      ],
      "text/plain": [
       "<IPython.core.display.HTML object>"
      ]
     },
     "metadata": {},
     "output_type": "display_data"
    },
    {
     "data": {
      "text/html": [
       "Syncing run <strong><a href=\"https://wandb.ai/aakashsasikumar/ContinuousOPEHyperParamTuningSNIPW_28_07_2022/runs/rhtirqhl\" target=\"_blank\">dauntless-sweep-25</a></strong> to <a href=\"https://wandb.ai/aakashsasikumar/ContinuousOPEHyperParamTuningSNIPW_28_07_2022\" target=\"_blank\">Weights & Biases</a> (<a href=\"https://wandb.me/run\" target=\"_blank\">docs</a>)<br/>Sweep page:  <a href=\"https://wandb.ai/aakashsasikumar/ContinuousOPEHyperParamTuningSNIPW_28_07_2022/sweeps/ci54h96s\" target=\"_blank\">https://wandb.ai/aakashsasikumar/ContinuousOPEHyperParamTuningSNIPW_28_07_2022/sweeps/ci54h96s</a>"
      ],
      "text/plain": [
       "<IPython.core.display.HTML object>"
      ]
     },
     "metadata": {},
     "output_type": "display_data"
    },
    {
     "name": "stderr",
     "output_type": "stream",
     "text": [
      "/Users/aakashsasikumar/.pyenv/versions/3.10.0/envs/test/lib/python3.10/site-packages/obp-0.5.5-py3.10.egg/obp/ope/estimators_continuous.py:388: RuntimeWarning: invalid value encountered in divide\n",
      "  estimated_rewards /= (kernel_func(u) / pscore).mean()\n"
     ]
    },
    {
     "data": {
      "text/html": [
       "Waiting for W&B process to finish... <strong style=\"color:green\">(success).</strong>"
      ],
      "text/plain": [
       "<IPython.core.display.HTML object>"
      ]
     },
     "metadata": {},
     "output_type": "display_data"
    },
    {
     "data": {
      "application/vnd.jupyter.widget-view+json": {
       "model_id": "fad1d0b70ac842b59df9f0160e971174",
       "version_major": 2,
       "version_minor": 0
      },
      "text/plain": [
       "VBox(children=(Label(value='0.001 MB of 0.001 MB uploaded (0.000 MB deduped)\\r'), FloatProgress(value=1.0, max…"
      ]
     },
     "metadata": {},
     "output_type": "display_data"
    },
    {
     "data": {
      "text/html": [
       "<style>\n",
       "    table.wandb td:nth-child(1) { padding: 0 10px; text-align: left ; width: auto;} td:nth-child(2) {text-align: left ; width: 100%}\n",
       "    .wandb-row { display: flex; flex-direction: row; flex-wrap: wrap; justify-content: flex-start; width: 100% }\n",
       "    .wandb-col { display: flex; flex-direction: column; flex-basis: 100%; flex: 1; padding: 10px; }\n",
       "    </style>\n",
       "<div class=\"wandb-row\"><div class=\"wandb-col\"><h3>Run history:</h3><br/><table class=\"wandb\"><tr><td>average_spearman_correlation</td><td>▁</td></tr></table><br/></div><div class=\"wandb-col\"><h3>Run summary:</h3><br/><table class=\"wandb\"><tr><td>average_spearman_correlation</td><td>0.23305</td></tr></table><br/></div></div>"
      ],
      "text/plain": [
       "<IPython.core.display.HTML object>"
      ]
     },
     "metadata": {},
     "output_type": "display_data"
    },
    {
     "data": {
      "text/html": [
       "Synced <strong style=\"color:#cdcd00\">dauntless-sweep-25</strong>: <a href=\"https://wandb.ai/aakashsasikumar/ContinuousOPEHyperParamTuningSNIPW_28_07_2022/runs/rhtirqhl\" target=\"_blank\">https://wandb.ai/aakashsasikumar/ContinuousOPEHyperParamTuningSNIPW_28_07_2022/runs/rhtirqhl</a><br/>Synced 5 W&B file(s), 0 media file(s), 0 artifact file(s) and 0 other file(s)"
      ],
      "text/plain": [
       "<IPython.core.display.HTML object>"
      ]
     },
     "metadata": {},
     "output_type": "display_data"
    },
    {
     "data": {
      "text/html": [
       "Find logs at: <code>./wandb/run-20220728_180610-rhtirqhl/logs</code>"
      ],
      "text/plain": [
       "<IPython.core.display.HTML object>"
      ]
     },
     "metadata": {},
     "output_type": "display_data"
    },
    {
     "name": "stderr",
     "output_type": "stream",
     "text": [
      "\u001b[34m\u001b[1mwandb\u001b[0m: Agent Starting Run: w57saypt with config:\n",
      "\u001b[34m\u001b[1mwandb\u001b[0m: \tbandwidth: 0.1171614838219735\n",
      "\u001b[34m\u001b[1mwandb\u001b[0m: \tkernel: cosine\n"
     ]
    },
    {
     "data": {
      "text/html": [
       "Tracking run with wandb version 0.12.21"
      ],
      "text/plain": [
       "<IPython.core.display.HTML object>"
      ]
     },
     "metadata": {},
     "output_type": "display_data"
    },
    {
     "data": {
      "text/html": [
       "Run data is saved locally in <code>/Users/aakashsasikumar/Documents/MSc/Research/Dissimilar Policy/building-MARL/studies/wandb/run-20220728_180707-w57saypt</code>"
      ],
      "text/plain": [
       "<IPython.core.display.HTML object>"
      ]
     },
     "metadata": {},
     "output_type": "display_data"
    },
    {
     "data": {
      "text/html": [
       "Syncing run <strong><a href=\"https://wandb.ai/aakashsasikumar/ContinuousOPEHyperParamTuningSNIPW_28_07_2022/runs/w57saypt\" target=\"_blank\">elated-sweep-26</a></strong> to <a href=\"https://wandb.ai/aakashsasikumar/ContinuousOPEHyperParamTuningSNIPW_28_07_2022\" target=\"_blank\">Weights & Biases</a> (<a href=\"https://wandb.me/run\" target=\"_blank\">docs</a>)<br/>Sweep page:  <a href=\"https://wandb.ai/aakashsasikumar/ContinuousOPEHyperParamTuningSNIPW_28_07_2022/sweeps/ci54h96s\" target=\"_blank\">https://wandb.ai/aakashsasikumar/ContinuousOPEHyperParamTuningSNIPW_28_07_2022/sweeps/ci54h96s</a>"
      ],
      "text/plain": [
       "<IPython.core.display.HTML object>"
      ]
     },
     "metadata": {},
     "output_type": "display_data"
    },
    {
     "data": {
      "text/html": [
       "Waiting for W&B process to finish... <strong style=\"color:green\">(success).</strong>"
      ],
      "text/plain": [
       "<IPython.core.display.HTML object>"
      ]
     },
     "metadata": {},
     "output_type": "display_data"
    },
    {
     "data": {
      "application/vnd.jupyter.widget-view+json": {
       "model_id": "69629449b91c4dddac069bde662dc844",
       "version_major": 2,
       "version_minor": 0
      },
      "text/plain": [
       "VBox(children=(Label(value='0.001 MB of 0.001 MB uploaded (0.000 MB deduped)\\r'), FloatProgress(value=1.0, max…"
      ]
     },
     "metadata": {},
     "output_type": "display_data"
    },
    {
     "data": {
      "text/html": [
       "<style>\n",
       "    table.wandb td:nth-child(1) { padding: 0 10px; text-align: left ; width: auto;} td:nth-child(2) {text-align: left ; width: 100%}\n",
       "    .wandb-row { display: flex; flex-direction: row; flex-wrap: wrap; justify-content: flex-start; width: 100% }\n",
       "    .wandb-col { display: flex; flex-direction: column; flex-basis: 100%; flex: 1; padding: 10px; }\n",
       "    </style>\n",
       "<div class=\"wandb-row\"><div class=\"wandb-col\"><h3>Run history:</h3><br/><table class=\"wandb\"><tr><td>average_spearman_correlation</td><td>▁</td></tr></table><br/></div><div class=\"wandb-col\"><h3>Run summary:</h3><br/><table class=\"wandb\"><tr><td>average_spearman_correlation</td><td>0.41354</td></tr></table><br/></div></div>"
      ],
      "text/plain": [
       "<IPython.core.display.HTML object>"
      ]
     },
     "metadata": {},
     "output_type": "display_data"
    },
    {
     "data": {
      "text/html": [
       "Synced <strong style=\"color:#cdcd00\">elated-sweep-26</strong>: <a href=\"https://wandb.ai/aakashsasikumar/ContinuousOPEHyperParamTuningSNIPW_28_07_2022/runs/w57saypt\" target=\"_blank\">https://wandb.ai/aakashsasikumar/ContinuousOPEHyperParamTuningSNIPW_28_07_2022/runs/w57saypt</a><br/>Synced 4 W&B file(s), 0 media file(s), 0 artifact file(s) and 0 other file(s)"
      ],
      "text/plain": [
       "<IPython.core.display.HTML object>"
      ]
     },
     "metadata": {},
     "output_type": "display_data"
    },
    {
     "data": {
      "text/html": [
       "Find logs at: <code>./wandb/run-20220728_180707-w57saypt/logs</code>"
      ],
      "text/plain": [
       "<IPython.core.display.HTML object>"
      ]
     },
     "metadata": {},
     "output_type": "display_data"
    },
    {
     "name": "stderr",
     "output_type": "stream",
     "text": [
      "\u001b[34m\u001b[1mwandb\u001b[0m: Agent Starting Run: 2wm37s69 with config:\n",
      "\u001b[34m\u001b[1mwandb\u001b[0m: \tbandwidth: 0.04622984831869886\n",
      "\u001b[34m\u001b[1mwandb\u001b[0m: \tkernel: triangular\n"
     ]
    },
    {
     "data": {
      "text/html": [
       "Tracking run with wandb version 0.12.21"
      ],
      "text/plain": [
       "<IPython.core.display.HTML object>"
      ]
     },
     "metadata": {},
     "output_type": "display_data"
    },
    {
     "data": {
      "text/html": [
       "Run data is saved locally in <code>/Users/aakashsasikumar/Documents/MSc/Research/Dissimilar Policy/building-MARL/studies/wandb/run-20220728_180807-2wm37s69</code>"
      ],
      "text/plain": [
       "<IPython.core.display.HTML object>"
      ]
     },
     "metadata": {},
     "output_type": "display_data"
    },
    {
     "data": {
      "text/html": [
       "Syncing run <strong><a href=\"https://wandb.ai/aakashsasikumar/ContinuousOPEHyperParamTuningSNIPW_28_07_2022/runs/2wm37s69\" target=\"_blank\">grateful-sweep-27</a></strong> to <a href=\"https://wandb.ai/aakashsasikumar/ContinuousOPEHyperParamTuningSNIPW_28_07_2022\" target=\"_blank\">Weights & Biases</a> (<a href=\"https://wandb.me/run\" target=\"_blank\">docs</a>)<br/>Sweep page:  <a href=\"https://wandb.ai/aakashsasikumar/ContinuousOPEHyperParamTuningSNIPW_28_07_2022/sweeps/ci54h96s\" target=\"_blank\">https://wandb.ai/aakashsasikumar/ContinuousOPEHyperParamTuningSNIPW_28_07_2022/sweeps/ci54h96s</a>"
      ],
      "text/plain": [
       "<IPython.core.display.HTML object>"
      ]
     },
     "metadata": {},
     "output_type": "display_data"
    },
    {
     "name": "stderr",
     "output_type": "stream",
     "text": [
      "/Users/aakashsasikumar/.pyenv/versions/3.10.0/envs/test/lib/python3.10/site-packages/obp-0.5.5-py3.10.egg/obp/ope/estimators_continuous.py:388: RuntimeWarning: invalid value encountered in divide\n",
      "  estimated_rewards /= (kernel_func(u) / pscore).mean()\n"
     ]
    },
    {
     "data": {
      "text/html": [
       "Waiting for W&B process to finish... <strong style=\"color:green\">(success).</strong>"
      ],
      "text/plain": [
       "<IPython.core.display.HTML object>"
      ]
     },
     "metadata": {},
     "output_type": "display_data"
    },
    {
     "data": {
      "application/vnd.jupyter.widget-view+json": {
       "model_id": "40fe9450b86c43e6965d6150e0fd8347",
       "version_major": 2,
       "version_minor": 0
      },
      "text/plain": [
       "VBox(children=(Label(value='0.001 MB of 0.001 MB uploaded (0.000 MB deduped)\\r'), FloatProgress(value=1.0, max…"
      ]
     },
     "metadata": {},
     "output_type": "display_data"
    },
    {
     "data": {
      "text/html": [
       "<style>\n",
       "    table.wandb td:nth-child(1) { padding: 0 10px; text-align: left ; width: auto;} td:nth-child(2) {text-align: left ; width: 100%}\n",
       "    .wandb-row { display: flex; flex-direction: row; flex-wrap: wrap; justify-content: flex-start; width: 100% }\n",
       "    .wandb-col { display: flex; flex-direction: column; flex-basis: 100%; flex: 1; padding: 10px; }\n",
       "    </style>\n",
       "<div class=\"wandb-row\"><div class=\"wandb-col\"><h3>Run history:</h3><br/><table class=\"wandb\"><tr><td>average_spearman_correlation</td><td>▁</td></tr></table><br/></div><div class=\"wandb-col\"><h3>Run summary:</h3><br/><table class=\"wandb\"><tr><td>average_spearman_correlation</td><td>0.33984</td></tr></table><br/></div></div>"
      ],
      "text/plain": [
       "<IPython.core.display.HTML object>"
      ]
     },
     "metadata": {},
     "output_type": "display_data"
    },
    {
     "data": {
      "text/html": [
       "Synced <strong style=\"color:#cdcd00\">grateful-sweep-27</strong>: <a href=\"https://wandb.ai/aakashsasikumar/ContinuousOPEHyperParamTuningSNIPW_28_07_2022/runs/2wm37s69\" target=\"_blank\">https://wandb.ai/aakashsasikumar/ContinuousOPEHyperParamTuningSNIPW_28_07_2022/runs/2wm37s69</a><br/>Synced 5 W&B file(s), 0 media file(s), 0 artifact file(s) and 0 other file(s)"
      ],
      "text/plain": [
       "<IPython.core.display.HTML object>"
      ]
     },
     "metadata": {},
     "output_type": "display_data"
    },
    {
     "data": {
      "text/html": [
       "Find logs at: <code>./wandb/run-20220728_180807-2wm37s69/logs</code>"
      ],
      "text/plain": [
       "<IPython.core.display.HTML object>"
      ]
     },
     "metadata": {},
     "output_type": "display_data"
    },
    {
     "name": "stderr",
     "output_type": "stream",
     "text": [
      "\u001b[34m\u001b[1mwandb\u001b[0m: Agent Starting Run: srcxiidh with config:\n",
      "\u001b[34m\u001b[1mwandb\u001b[0m: \tbandwidth: 0.21923469965007952\n",
      "\u001b[34m\u001b[1mwandb\u001b[0m: \tkernel: triangular\n"
     ]
    },
    {
     "data": {
      "text/html": [
       "Tracking run with wandb version 0.12.21"
      ],
      "text/plain": [
       "<IPython.core.display.HTML object>"
      ]
     },
     "metadata": {},
     "output_type": "display_data"
    },
    {
     "data": {
      "text/html": [
       "Run data is saved locally in <code>/Users/aakashsasikumar/Documents/MSc/Research/Dissimilar Policy/building-MARL/studies/wandb/run-20220728_180900-srcxiidh</code>"
      ],
      "text/plain": [
       "<IPython.core.display.HTML object>"
      ]
     },
     "metadata": {},
     "output_type": "display_data"
    },
    {
     "data": {
      "text/html": [
       "Syncing run <strong><a href=\"https://wandb.ai/aakashsasikumar/ContinuousOPEHyperParamTuningSNIPW_28_07_2022/runs/srcxiidh\" target=\"_blank\">polished-sweep-28</a></strong> to <a href=\"https://wandb.ai/aakashsasikumar/ContinuousOPEHyperParamTuningSNIPW_28_07_2022\" target=\"_blank\">Weights & Biases</a> (<a href=\"https://wandb.me/run\" target=\"_blank\">docs</a>)<br/>Sweep page:  <a href=\"https://wandb.ai/aakashsasikumar/ContinuousOPEHyperParamTuningSNIPW_28_07_2022/sweeps/ci54h96s\" target=\"_blank\">https://wandb.ai/aakashsasikumar/ContinuousOPEHyperParamTuningSNIPW_28_07_2022/sweeps/ci54h96s</a>"
      ],
      "text/plain": [
       "<IPython.core.display.HTML object>"
      ]
     },
     "metadata": {},
     "output_type": "display_data"
    },
    {
     "name": "stderr",
     "output_type": "stream",
     "text": [
      "/Users/aakashsasikumar/.pyenv/versions/3.10.0/envs/test/lib/python3.10/site-packages/obp-0.5.5-py3.10.egg/obp/ope/estimators_continuous.py:388: RuntimeWarning: invalid value encountered in divide\n",
      "  estimated_rewards /= (kernel_func(u) / pscore).mean()\n"
     ]
    },
    {
     "data": {
      "text/html": [
       "Waiting for W&B process to finish... <strong style=\"color:green\">(success).</strong>"
      ],
      "text/plain": [
       "<IPython.core.display.HTML object>"
      ]
     },
     "metadata": {},
     "output_type": "display_data"
    },
    {
     "data": {
      "application/vnd.jupyter.widget-view+json": {
       "model_id": "bebc31941eb04de0b555e10ab0899791",
       "version_major": 2,
       "version_minor": 0
      },
      "text/plain": [
       "VBox(children=(Label(value='0.001 MB of 0.001 MB uploaded (0.000 MB deduped)\\r'), FloatProgress(value=1.0, max…"
      ]
     },
     "metadata": {},
     "output_type": "display_data"
    },
    {
     "data": {
      "text/html": [
       "<style>\n",
       "    table.wandb td:nth-child(1) { padding: 0 10px; text-align: left ; width: auto;} td:nth-child(2) {text-align: left ; width: 100%}\n",
       "    .wandb-row { display: flex; flex-direction: row; flex-wrap: wrap; justify-content: flex-start; width: 100% }\n",
       "    .wandb-col { display: flex; flex-direction: column; flex-basis: 100%; flex: 1; padding: 10px; }\n",
       "    </style>\n",
       "<div class=\"wandb-row\"><div class=\"wandb-col\"><h3>Run history:</h3><br/><table class=\"wandb\"><tr><td>average_spearman_correlation</td><td>▁</td></tr></table><br/></div><div class=\"wandb-col\"><h3>Run summary:</h3><br/><table class=\"wandb\"><tr><td>average_spearman_correlation</td><td>0.26943</td></tr></table><br/></div></div>"
      ],
      "text/plain": [
       "<IPython.core.display.HTML object>"
      ]
     },
     "metadata": {},
     "output_type": "display_data"
    },
    {
     "data": {
      "text/html": [
       "Synced <strong style=\"color:#cdcd00\">polished-sweep-28</strong>: <a href=\"https://wandb.ai/aakashsasikumar/ContinuousOPEHyperParamTuningSNIPW_28_07_2022/runs/srcxiidh\" target=\"_blank\">https://wandb.ai/aakashsasikumar/ContinuousOPEHyperParamTuningSNIPW_28_07_2022/runs/srcxiidh</a><br/>Synced 5 W&B file(s), 0 media file(s), 0 artifact file(s) and 0 other file(s)"
      ],
      "text/plain": [
       "<IPython.core.display.HTML object>"
      ]
     },
     "metadata": {},
     "output_type": "display_data"
    },
    {
     "data": {
      "text/html": [
       "Find logs at: <code>./wandb/run-20220728_180900-srcxiidh/logs</code>"
      ],
      "text/plain": [
       "<IPython.core.display.HTML object>"
      ]
     },
     "metadata": {},
     "output_type": "display_data"
    },
    {
     "name": "stderr",
     "output_type": "stream",
     "text": [
      "\u001b[34m\u001b[1mwandb\u001b[0m: Agent Starting Run: y3biyrk7 with config:\n",
      "\u001b[34m\u001b[1mwandb\u001b[0m: \tbandwidth: 0.12641310676203615\n",
      "\u001b[34m\u001b[1mwandb\u001b[0m: \tkernel: epanechnikov\n"
     ]
    },
    {
     "data": {
      "text/html": [
       "Tracking run with wandb version 0.12.21"
      ],
      "text/plain": [
       "<IPython.core.display.HTML object>"
      ]
     },
     "metadata": {},
     "output_type": "display_data"
    },
    {
     "data": {
      "text/html": [
       "Run data is saved locally in <code>/Users/aakashsasikumar/Documents/MSc/Research/Dissimilar Policy/building-MARL/studies/wandb/run-20220728_180958-y3biyrk7</code>"
      ],
      "text/plain": [
       "<IPython.core.display.HTML object>"
      ]
     },
     "metadata": {},
     "output_type": "display_data"
    },
    {
     "data": {
      "text/html": [
       "Syncing run <strong><a href=\"https://wandb.ai/aakashsasikumar/ContinuousOPEHyperParamTuningSNIPW_28_07_2022/runs/y3biyrk7\" target=\"_blank\">good-sweep-29</a></strong> to <a href=\"https://wandb.ai/aakashsasikumar/ContinuousOPEHyperParamTuningSNIPW_28_07_2022\" target=\"_blank\">Weights & Biases</a> (<a href=\"https://wandb.me/run\" target=\"_blank\">docs</a>)<br/>Sweep page:  <a href=\"https://wandb.ai/aakashsasikumar/ContinuousOPEHyperParamTuningSNIPW_28_07_2022/sweeps/ci54h96s\" target=\"_blank\">https://wandb.ai/aakashsasikumar/ContinuousOPEHyperParamTuningSNIPW_28_07_2022/sweeps/ci54h96s</a>"
      ],
      "text/plain": [
       "<IPython.core.display.HTML object>"
      ]
     },
     "metadata": {},
     "output_type": "display_data"
    },
    {
     "name": "stderr",
     "output_type": "stream",
     "text": [
      "/Users/aakashsasikumar/.pyenv/versions/3.10.0/envs/test/lib/python3.10/site-packages/obp-0.5.5-py3.10.egg/obp/ope/estimators_continuous.py:388: RuntimeWarning: invalid value encountered in divide\n",
      "  estimated_rewards /= (kernel_func(u) / pscore).mean()\n"
     ]
    },
    {
     "data": {
      "text/html": [
       "Waiting for W&B process to finish... <strong style=\"color:green\">(success).</strong>"
      ],
      "text/plain": [
       "<IPython.core.display.HTML object>"
      ]
     },
     "metadata": {},
     "output_type": "display_data"
    },
    {
     "data": {
      "application/vnd.jupyter.widget-view+json": {
       "model_id": "4cd0e39a9fc143a78ad3bc9820fc7bbe",
       "version_major": 2,
       "version_minor": 0
      },
      "text/plain": [
       "VBox(children=(Label(value='0.001 MB of 0.001 MB uploaded (0.000 MB deduped)\\r'), FloatProgress(value=1.0, max…"
      ]
     },
     "metadata": {},
     "output_type": "display_data"
    },
    {
     "data": {
      "text/html": [
       "<style>\n",
       "    table.wandb td:nth-child(1) { padding: 0 10px; text-align: left ; width: auto;} td:nth-child(2) {text-align: left ; width: 100%}\n",
       "    .wandb-row { display: flex; flex-direction: row; flex-wrap: wrap; justify-content: flex-start; width: 100% }\n",
       "    .wandb-col { display: flex; flex-direction: column; flex-basis: 100%; flex: 1; padding: 10px; }\n",
       "    </style>\n",
       "<div class=\"wandb-row\"><div class=\"wandb-col\"><h3>Run history:</h3><br/><table class=\"wandb\"><tr><td>average_spearman_correlation</td><td>▁</td></tr></table><br/></div><div class=\"wandb-col\"><h3>Run summary:</h3><br/><table class=\"wandb\"><tr><td>average_spearman_correlation</td><td>0.26755</td></tr></table><br/></div></div>"
      ],
      "text/plain": [
       "<IPython.core.display.HTML object>"
      ]
     },
     "metadata": {},
     "output_type": "display_data"
    },
    {
     "data": {
      "text/html": [
       "Synced <strong style=\"color:#cdcd00\">good-sweep-29</strong>: <a href=\"https://wandb.ai/aakashsasikumar/ContinuousOPEHyperParamTuningSNIPW_28_07_2022/runs/y3biyrk7\" target=\"_blank\">https://wandb.ai/aakashsasikumar/ContinuousOPEHyperParamTuningSNIPW_28_07_2022/runs/y3biyrk7</a><br/>Synced 5 W&B file(s), 0 media file(s), 0 artifact file(s) and 0 other file(s)"
      ],
      "text/plain": [
       "<IPython.core.display.HTML object>"
      ]
     },
     "metadata": {},
     "output_type": "display_data"
    },
    {
     "data": {
      "text/html": [
       "Find logs at: <code>./wandb/run-20220728_180958-y3biyrk7/logs</code>"
      ],
      "text/plain": [
       "<IPython.core.display.HTML object>"
      ]
     },
     "metadata": {},
     "output_type": "display_data"
    },
    {
     "name": "stderr",
     "output_type": "stream",
     "text": [
      "\u001b[34m\u001b[1mwandb\u001b[0m: Agent Starting Run: q54ogcil with config:\n",
      "\u001b[34m\u001b[1mwandb\u001b[0m: \tbandwidth: 0.04499155876652422\n",
      "\u001b[34m\u001b[1mwandb\u001b[0m: \tkernel: cosine\n"
     ]
    },
    {
     "data": {
      "text/html": [
       "Tracking run with wandb version 0.12.21"
      ],
      "text/plain": [
       "<IPython.core.display.HTML object>"
      ]
     },
     "metadata": {},
     "output_type": "display_data"
    },
    {
     "data": {
      "text/html": [
       "Run data is saved locally in <code>/Users/aakashsasikumar/Documents/MSc/Research/Dissimilar Policy/building-MARL/studies/wandb/run-20220728_181051-q54ogcil</code>"
      ],
      "text/plain": [
       "<IPython.core.display.HTML object>"
      ]
     },
     "metadata": {},
     "output_type": "display_data"
    },
    {
     "data": {
      "text/html": [
       "Syncing run <strong><a href=\"https://wandb.ai/aakashsasikumar/ContinuousOPEHyperParamTuningSNIPW_28_07_2022/runs/q54ogcil\" target=\"_blank\">easy-sweep-30</a></strong> to <a href=\"https://wandb.ai/aakashsasikumar/ContinuousOPEHyperParamTuningSNIPW_28_07_2022\" target=\"_blank\">Weights & Biases</a> (<a href=\"https://wandb.me/run\" target=\"_blank\">docs</a>)<br/>Sweep page:  <a href=\"https://wandb.ai/aakashsasikumar/ContinuousOPEHyperParamTuningSNIPW_28_07_2022/sweeps/ci54h96s\" target=\"_blank\">https://wandb.ai/aakashsasikumar/ContinuousOPEHyperParamTuningSNIPW_28_07_2022/sweeps/ci54h96s</a>"
      ],
      "text/plain": [
       "<IPython.core.display.HTML object>"
      ]
     },
     "metadata": {},
     "output_type": "display_data"
    },
    {
     "data": {
      "text/html": [
       "Waiting for W&B process to finish... <strong style=\"color:green\">(success).</strong>"
      ],
      "text/plain": [
       "<IPython.core.display.HTML object>"
      ]
     },
     "metadata": {},
     "output_type": "display_data"
    },
    {
     "data": {
      "application/vnd.jupyter.widget-view+json": {
       "model_id": "c8d6dfb76145408b8a889b0774aea641",
       "version_major": 2,
       "version_minor": 0
      },
      "text/plain": [
       "VBox(children=(Label(value='0.001 MB of 0.001 MB uploaded (0.000 MB deduped)\\r'), FloatProgress(value=1.0, max…"
      ]
     },
     "metadata": {},
     "output_type": "display_data"
    },
    {
     "data": {
      "text/html": [
       "<style>\n",
       "    table.wandb td:nth-child(1) { padding: 0 10px; text-align: left ; width: auto;} td:nth-child(2) {text-align: left ; width: 100%}\n",
       "    .wandb-row { display: flex; flex-direction: row; flex-wrap: wrap; justify-content: flex-start; width: 100% }\n",
       "    .wandb-col { display: flex; flex-direction: column; flex-basis: 100%; flex: 1; padding: 10px; }\n",
       "    </style>\n",
       "<div class=\"wandb-row\"><div class=\"wandb-col\"><h3>Run history:</h3><br/><table class=\"wandb\"><tr><td>average_spearman_correlation</td><td>▁</td></tr></table><br/></div><div class=\"wandb-col\"><h3>Run summary:</h3><br/><table class=\"wandb\"><tr><td>average_spearman_correlation</td><td>0.27862</td></tr></table><br/></div></div>"
      ],
      "text/plain": [
       "<IPython.core.display.HTML object>"
      ]
     },
     "metadata": {},
     "output_type": "display_data"
    },
    {
     "data": {
      "text/html": [
       "Synced <strong style=\"color:#cdcd00\">easy-sweep-30</strong>: <a href=\"https://wandb.ai/aakashsasikumar/ContinuousOPEHyperParamTuningSNIPW_28_07_2022/runs/q54ogcil\" target=\"_blank\">https://wandb.ai/aakashsasikumar/ContinuousOPEHyperParamTuningSNIPW_28_07_2022/runs/q54ogcil</a><br/>Synced 4 W&B file(s), 0 media file(s), 0 artifact file(s) and 0 other file(s)"
      ],
      "text/plain": [
       "<IPython.core.display.HTML object>"
      ]
     },
     "metadata": {},
     "output_type": "display_data"
    },
    {
     "data": {
      "text/html": [
       "Find logs at: <code>./wandb/run-20220728_181051-q54ogcil/logs</code>"
      ],
      "text/plain": [
       "<IPython.core.display.HTML object>"
      ]
     },
     "metadata": {},
     "output_type": "display_data"
    },
    {
     "name": "stderr",
     "output_type": "stream",
     "text": [
      "\u001b[34m\u001b[1mwandb\u001b[0m: Agent Starting Run: u1lhlk62 with config:\n",
      "\u001b[34m\u001b[1mwandb\u001b[0m: \tbandwidth: 0.4832140350106764\n",
      "\u001b[34m\u001b[1mwandb\u001b[0m: \tkernel: gaussian\n"
     ]
    },
    {
     "data": {
      "text/html": [
       "Tracking run with wandb version 0.12.21"
      ],
      "text/plain": [
       "<IPython.core.display.HTML object>"
      ]
     },
     "metadata": {},
     "output_type": "display_data"
    },
    {
     "data": {
      "text/html": [
       "Run data is saved locally in <code>/Users/aakashsasikumar/Documents/MSc/Research/Dissimilar Policy/building-MARL/studies/wandb/run-20220728_181144-u1lhlk62</code>"
      ],
      "text/plain": [
       "<IPython.core.display.HTML object>"
      ]
     },
     "metadata": {},
     "output_type": "display_data"
    },
    {
     "data": {
      "text/html": [
       "Syncing run <strong><a href=\"https://wandb.ai/aakashsasikumar/ContinuousOPEHyperParamTuningSNIPW_28_07_2022/runs/u1lhlk62\" target=\"_blank\">icy-sweep-31</a></strong> to <a href=\"https://wandb.ai/aakashsasikumar/ContinuousOPEHyperParamTuningSNIPW_28_07_2022\" target=\"_blank\">Weights & Biases</a> (<a href=\"https://wandb.me/run\" target=\"_blank\">docs</a>)<br/>Sweep page:  <a href=\"https://wandb.ai/aakashsasikumar/ContinuousOPEHyperParamTuningSNIPW_28_07_2022/sweeps/ci54h96s\" target=\"_blank\">https://wandb.ai/aakashsasikumar/ContinuousOPEHyperParamTuningSNIPW_28_07_2022/sweeps/ci54h96s</a>"
      ],
      "text/plain": [
       "<IPython.core.display.HTML object>"
      ]
     },
     "metadata": {},
     "output_type": "display_data"
    },
    {
     "data": {
      "text/html": [
       "Waiting for W&B process to finish... <strong style=\"color:green\">(success).</strong>"
      ],
      "text/plain": [
       "<IPython.core.display.HTML object>"
      ]
     },
     "metadata": {},
     "output_type": "display_data"
    },
    {
     "data": {
      "application/vnd.jupyter.widget-view+json": {
       "model_id": "94cd8a33d8154dc6be7783af52b21dae",
       "version_major": 2,
       "version_minor": 0
      },
      "text/plain": [
       "VBox(children=(Label(value='0.001 MB of 0.001 MB uploaded (0.000 MB deduped)\\r'), FloatProgress(value=1.0, max…"
      ]
     },
     "metadata": {},
     "output_type": "display_data"
    },
    {
     "data": {
      "text/html": [
       "<style>\n",
       "    table.wandb td:nth-child(1) { padding: 0 10px; text-align: left ; width: auto;} td:nth-child(2) {text-align: left ; width: 100%}\n",
       "    .wandb-row { display: flex; flex-direction: row; flex-wrap: wrap; justify-content: flex-start; width: 100% }\n",
       "    .wandb-col { display: flex; flex-direction: column; flex-basis: 100%; flex: 1; padding: 10px; }\n",
       "    </style>\n",
       "<div class=\"wandb-row\"><div class=\"wandb-col\"><h3>Run history:</h3><br/><table class=\"wandb\"><tr><td>average_spearman_correlation</td><td>▁</td></tr></table><br/></div><div class=\"wandb-col\"><h3>Run summary:</h3><br/><table class=\"wandb\"><tr><td>average_spearman_correlation</td><td>0.64996</td></tr></table><br/></div></div>"
      ],
      "text/plain": [
       "<IPython.core.display.HTML object>"
      ]
     },
     "metadata": {},
     "output_type": "display_data"
    },
    {
     "data": {
      "text/html": [
       "Synced <strong style=\"color:#cdcd00\">icy-sweep-31</strong>: <a href=\"https://wandb.ai/aakashsasikumar/ContinuousOPEHyperParamTuningSNIPW_28_07_2022/runs/u1lhlk62\" target=\"_blank\">https://wandb.ai/aakashsasikumar/ContinuousOPEHyperParamTuningSNIPW_28_07_2022/runs/u1lhlk62</a><br/>Synced 4 W&B file(s), 0 media file(s), 0 artifact file(s) and 0 other file(s)"
      ],
      "text/plain": [
       "<IPython.core.display.HTML object>"
      ]
     },
     "metadata": {},
     "output_type": "display_data"
    },
    {
     "data": {
      "text/html": [
       "Find logs at: <code>./wandb/run-20220728_181144-u1lhlk62/logs</code>"
      ],
      "text/plain": [
       "<IPython.core.display.HTML object>"
      ]
     },
     "metadata": {},
     "output_type": "display_data"
    },
    {
     "name": "stderr",
     "output_type": "stream",
     "text": [
      "\u001b[34m\u001b[1mwandb\u001b[0m: Agent Starting Run: j1fj4inr with config:\n",
      "\u001b[34m\u001b[1mwandb\u001b[0m: \tbandwidth: 0.3237225212797457\n",
      "\u001b[34m\u001b[1mwandb\u001b[0m: \tkernel: gaussian\n"
     ]
    },
    {
     "data": {
      "text/html": [
       "Tracking run with wandb version 0.12.21"
      ],
      "text/plain": [
       "<IPython.core.display.HTML object>"
      ]
     },
     "metadata": {},
     "output_type": "display_data"
    },
    {
     "data": {
      "text/html": [
       "Run data is saved locally in <code>/Users/aakashsasikumar/Documents/MSc/Research/Dissimilar Policy/building-MARL/studies/wandb/run-20220728_181242-j1fj4inr</code>"
      ],
      "text/plain": [
       "<IPython.core.display.HTML object>"
      ]
     },
     "metadata": {},
     "output_type": "display_data"
    },
    {
     "data": {
      "text/html": [
       "Syncing run <strong><a href=\"https://wandb.ai/aakashsasikumar/ContinuousOPEHyperParamTuningSNIPW_28_07_2022/runs/j1fj4inr\" target=\"_blank\">silvery-sweep-32</a></strong> to <a href=\"https://wandb.ai/aakashsasikumar/ContinuousOPEHyperParamTuningSNIPW_28_07_2022\" target=\"_blank\">Weights & Biases</a> (<a href=\"https://wandb.me/run\" target=\"_blank\">docs</a>)<br/>Sweep page:  <a href=\"https://wandb.ai/aakashsasikumar/ContinuousOPEHyperParamTuningSNIPW_28_07_2022/sweeps/ci54h96s\" target=\"_blank\">https://wandb.ai/aakashsasikumar/ContinuousOPEHyperParamTuningSNIPW_28_07_2022/sweeps/ci54h96s</a>"
      ],
      "text/plain": [
       "<IPython.core.display.HTML object>"
      ]
     },
     "metadata": {},
     "output_type": "display_data"
    },
    {
     "data": {
      "text/html": [
       "Waiting for W&B process to finish... <strong style=\"color:green\">(success).</strong>"
      ],
      "text/plain": [
       "<IPython.core.display.HTML object>"
      ]
     },
     "metadata": {},
     "output_type": "display_data"
    },
    {
     "data": {
      "application/vnd.jupyter.widget-view+json": {
       "model_id": "d44d38a179e94dcb906ad859c44912a4",
       "version_major": 2,
       "version_minor": 0
      },
      "text/plain": [
       "VBox(children=(Label(value='0.001 MB of 0.001 MB uploaded (0.000 MB deduped)\\r'), FloatProgress(value=1.0, max…"
      ]
     },
     "metadata": {},
     "output_type": "display_data"
    },
    {
     "data": {
      "text/html": [
       "<style>\n",
       "    table.wandb td:nth-child(1) { padding: 0 10px; text-align: left ; width: auto;} td:nth-child(2) {text-align: left ; width: 100%}\n",
       "    .wandb-row { display: flex; flex-direction: row; flex-wrap: wrap; justify-content: flex-start; width: 100% }\n",
       "    .wandb-col { display: flex; flex-direction: column; flex-basis: 100%; flex: 1; padding: 10px; }\n",
       "    </style>\n",
       "<div class=\"wandb-row\"><div class=\"wandb-col\"><h3>Run history:</h3><br/><table class=\"wandb\"><tr><td>average_spearman_correlation</td><td>▁</td></tr></table><br/></div><div class=\"wandb-col\"><h3>Run summary:</h3><br/><table class=\"wandb\"><tr><td>average_spearman_correlation</td><td>0.58745</td></tr></table><br/></div></div>"
      ],
      "text/plain": [
       "<IPython.core.display.HTML object>"
      ]
     },
     "metadata": {},
     "output_type": "display_data"
    },
    {
     "data": {
      "text/html": [
       "Synced <strong style=\"color:#cdcd00\">silvery-sweep-32</strong>: <a href=\"https://wandb.ai/aakashsasikumar/ContinuousOPEHyperParamTuningSNIPW_28_07_2022/runs/j1fj4inr\" target=\"_blank\">https://wandb.ai/aakashsasikumar/ContinuousOPEHyperParamTuningSNIPW_28_07_2022/runs/j1fj4inr</a><br/>Synced 4 W&B file(s), 0 media file(s), 0 artifact file(s) and 0 other file(s)"
      ],
      "text/plain": [
       "<IPython.core.display.HTML object>"
      ]
     },
     "metadata": {},
     "output_type": "display_data"
    },
    {
     "data": {
      "text/html": [
       "Find logs at: <code>./wandb/run-20220728_181242-j1fj4inr/logs</code>"
      ],
      "text/plain": [
       "<IPython.core.display.HTML object>"
      ]
     },
     "metadata": {},
     "output_type": "display_data"
    },
    {
     "name": "stderr",
     "output_type": "stream",
     "text": [
      "\u001b[34m\u001b[1mwandb\u001b[0m: Agent Starting Run: 6q5apdyy with config:\n",
      "\u001b[34m\u001b[1mwandb\u001b[0m: \tbandwidth: 0.3606641700183443\n",
      "\u001b[34m\u001b[1mwandb\u001b[0m: \tkernel: epanechnikov\n"
     ]
    },
    {
     "data": {
      "text/html": [
       "Tracking run with wandb version 0.12.21"
      ],
      "text/plain": [
       "<IPython.core.display.HTML object>"
      ]
     },
     "metadata": {},
     "output_type": "display_data"
    },
    {
     "data": {
      "text/html": [
       "Run data is saved locally in <code>/Users/aakashsasikumar/Documents/MSc/Research/Dissimilar Policy/building-MARL/studies/wandb/run-20220728_181335-6q5apdyy</code>"
      ],
      "text/plain": [
       "<IPython.core.display.HTML object>"
      ]
     },
     "metadata": {},
     "output_type": "display_data"
    },
    {
     "data": {
      "text/html": [
       "Syncing run <strong><a href=\"https://wandb.ai/aakashsasikumar/ContinuousOPEHyperParamTuningSNIPW_28_07_2022/runs/6q5apdyy\" target=\"_blank\">sparkling-sweep-33</a></strong> to <a href=\"https://wandb.ai/aakashsasikumar/ContinuousOPEHyperParamTuningSNIPW_28_07_2022\" target=\"_blank\">Weights & Biases</a> (<a href=\"https://wandb.me/run\" target=\"_blank\">docs</a>)<br/>Sweep page:  <a href=\"https://wandb.ai/aakashsasikumar/ContinuousOPEHyperParamTuningSNIPW_28_07_2022/sweeps/ci54h96s\" target=\"_blank\">https://wandb.ai/aakashsasikumar/ContinuousOPEHyperParamTuningSNIPW_28_07_2022/sweeps/ci54h96s</a>"
      ],
      "text/plain": [
       "<IPython.core.display.HTML object>"
      ]
     },
     "metadata": {},
     "output_type": "display_data"
    },
    {
     "name": "stderr",
     "output_type": "stream",
     "text": [
      "/Users/aakashsasikumar/.pyenv/versions/3.10.0/envs/test/lib/python3.10/site-packages/obp-0.5.5-py3.10.egg/obp/ope/estimators_continuous.py:388: RuntimeWarning: invalid value encountered in divide\n",
      "  estimated_rewards /= (kernel_func(u) / pscore).mean()\n"
     ]
    },
    {
     "data": {
      "text/html": [
       "Waiting for W&B process to finish... <strong style=\"color:green\">(success).</strong>"
      ],
      "text/plain": [
       "<IPython.core.display.HTML object>"
      ]
     },
     "metadata": {},
     "output_type": "display_data"
    },
    {
     "data": {
      "application/vnd.jupyter.widget-view+json": {
       "model_id": "db325b5adc88468893e56c1c3e3e61f0",
       "version_major": 2,
       "version_minor": 0
      },
      "text/plain": [
       "VBox(children=(Label(value='0.001 MB of 0.001 MB uploaded (0.000 MB deduped)\\r'), FloatProgress(value=1.0, max…"
      ]
     },
     "metadata": {},
     "output_type": "display_data"
    },
    {
     "data": {
      "text/html": [
       "<style>\n",
       "    table.wandb td:nth-child(1) { padding: 0 10px; text-align: left ; width: auto;} td:nth-child(2) {text-align: left ; width: 100%}\n",
       "    .wandb-row { display: flex; flex-direction: row; flex-wrap: wrap; justify-content: flex-start; width: 100% }\n",
       "    .wandb-col { display: flex; flex-direction: column; flex-basis: 100%; flex: 1; padding: 10px; }\n",
       "    </style>\n",
       "<div class=\"wandb-row\"><div class=\"wandb-col\"><h3>Run history:</h3><br/><table class=\"wandb\"><tr><td>average_spearman_correlation</td><td>▁</td></tr></table><br/></div><div class=\"wandb-col\"><h3>Run summary:</h3><br/><table class=\"wandb\"><tr><td>average_spearman_correlation</td><td>0.22465</td></tr></table><br/></div></div>"
      ],
      "text/plain": [
       "<IPython.core.display.HTML object>"
      ]
     },
     "metadata": {},
     "output_type": "display_data"
    },
    {
     "data": {
      "text/html": [
       "Synced <strong style=\"color:#cdcd00\">sparkling-sweep-33</strong>: <a href=\"https://wandb.ai/aakashsasikumar/ContinuousOPEHyperParamTuningSNIPW_28_07_2022/runs/6q5apdyy\" target=\"_blank\">https://wandb.ai/aakashsasikumar/ContinuousOPEHyperParamTuningSNIPW_28_07_2022/runs/6q5apdyy</a><br/>Synced 5 W&B file(s), 0 media file(s), 0 artifact file(s) and 0 other file(s)"
      ],
      "text/plain": [
       "<IPython.core.display.HTML object>"
      ]
     },
     "metadata": {},
     "output_type": "display_data"
    },
    {
     "data": {
      "text/html": [
       "Find logs at: <code>./wandb/run-20220728_181335-6q5apdyy/logs</code>"
      ],
      "text/plain": [
       "<IPython.core.display.HTML object>"
      ]
     },
     "metadata": {},
     "output_type": "display_data"
    },
    {
     "name": "stderr",
     "output_type": "stream",
     "text": [
      "\u001b[34m\u001b[1mwandb\u001b[0m: Agent Starting Run: 95mwb3ud with config:\n",
      "\u001b[34m\u001b[1mwandb\u001b[0m: \tbandwidth: 0.16740458287379711\n",
      "\u001b[34m\u001b[1mwandb\u001b[0m: \tkernel: epanechnikov\n"
     ]
    },
    {
     "data": {
      "text/html": [
       "Tracking run with wandb version 0.12.21"
      ],
      "text/plain": [
       "<IPython.core.display.HTML object>"
      ]
     },
     "metadata": {},
     "output_type": "display_data"
    },
    {
     "data": {
      "text/html": [
       "Run data is saved locally in <code>/Users/aakashsasikumar/Documents/MSc/Research/Dissimilar Policy/building-MARL/studies/wandb/run-20220728_181434-95mwb3ud</code>"
      ],
      "text/plain": [
       "<IPython.core.display.HTML object>"
      ]
     },
     "metadata": {},
     "output_type": "display_data"
    },
    {
     "data": {
      "text/html": [
       "Syncing run <strong><a href=\"https://wandb.ai/aakashsasikumar/ContinuousOPEHyperParamTuningSNIPW_28_07_2022/runs/95mwb3ud\" target=\"_blank\">swept-sweep-34</a></strong> to <a href=\"https://wandb.ai/aakashsasikumar/ContinuousOPEHyperParamTuningSNIPW_28_07_2022\" target=\"_blank\">Weights & Biases</a> (<a href=\"https://wandb.me/run\" target=\"_blank\">docs</a>)<br/>Sweep page:  <a href=\"https://wandb.ai/aakashsasikumar/ContinuousOPEHyperParamTuningSNIPW_28_07_2022/sweeps/ci54h96s\" target=\"_blank\">https://wandb.ai/aakashsasikumar/ContinuousOPEHyperParamTuningSNIPW_28_07_2022/sweeps/ci54h96s</a>"
      ],
      "text/plain": [
       "<IPython.core.display.HTML object>"
      ]
     },
     "metadata": {},
     "output_type": "display_data"
    },
    {
     "name": "stderr",
     "output_type": "stream",
     "text": [
      "/Users/aakashsasikumar/.pyenv/versions/3.10.0/envs/test/lib/python3.10/site-packages/obp-0.5.5-py3.10.egg/obp/ope/estimators_continuous.py:388: RuntimeWarning: invalid value encountered in divide\n",
      "  estimated_rewards /= (kernel_func(u) / pscore).mean()\n"
     ]
    },
    {
     "data": {
      "text/html": [
       "Waiting for W&B process to finish... <strong style=\"color:green\">(success).</strong>"
      ],
      "text/plain": [
       "<IPython.core.display.HTML object>"
      ]
     },
     "metadata": {},
     "output_type": "display_data"
    },
    {
     "data": {
      "application/vnd.jupyter.widget-view+json": {
       "model_id": "f8240373ef444701a734600b6d32e076",
       "version_major": 2,
       "version_minor": 0
      },
      "text/plain": [
       "VBox(children=(Label(value='0.001 MB of 0.001 MB uploaded (0.000 MB deduped)\\r'), FloatProgress(value=1.0, max…"
      ]
     },
     "metadata": {},
     "output_type": "display_data"
    },
    {
     "data": {
      "text/html": [
       "<style>\n",
       "    table.wandb td:nth-child(1) { padding: 0 10px; text-align: left ; width: auto;} td:nth-child(2) {text-align: left ; width: 100%}\n",
       "    .wandb-row { display: flex; flex-direction: row; flex-wrap: wrap; justify-content: flex-start; width: 100% }\n",
       "    .wandb-col { display: flex; flex-direction: column; flex-basis: 100%; flex: 1; padding: 10px; }\n",
       "    </style>\n",
       "<div class=\"wandb-row\"><div class=\"wandb-col\"><h3>Run history:</h3><br/><table class=\"wandb\"><tr><td>average_spearman_correlation</td><td>▁</td></tr></table><br/></div><div class=\"wandb-col\"><h3>Run summary:</h3><br/><table class=\"wandb\"><tr><td>average_spearman_correlation</td><td>0.28185</td></tr></table><br/></div></div>"
      ],
      "text/plain": [
       "<IPython.core.display.HTML object>"
      ]
     },
     "metadata": {},
     "output_type": "display_data"
    },
    {
     "data": {
      "text/html": [
       "Synced <strong style=\"color:#cdcd00\">swept-sweep-34</strong>: <a href=\"https://wandb.ai/aakashsasikumar/ContinuousOPEHyperParamTuningSNIPW_28_07_2022/runs/95mwb3ud\" target=\"_blank\">https://wandb.ai/aakashsasikumar/ContinuousOPEHyperParamTuningSNIPW_28_07_2022/runs/95mwb3ud</a><br/>Synced 5 W&B file(s), 0 media file(s), 0 artifact file(s) and 0 other file(s)"
      ],
      "text/plain": [
       "<IPython.core.display.HTML object>"
      ]
     },
     "metadata": {},
     "output_type": "display_data"
    },
    {
     "data": {
      "text/html": [
       "Find logs at: <code>./wandb/run-20220728_181434-95mwb3ud/logs</code>"
      ],
      "text/plain": [
       "<IPython.core.display.HTML object>"
      ]
     },
     "metadata": {},
     "output_type": "display_data"
    },
    {
     "name": "stderr",
     "output_type": "stream",
     "text": [
      "\u001b[34m\u001b[1mwandb\u001b[0m: Sweep Agent: Waiting for job.\n",
      "\u001b[34m\u001b[1mwandb\u001b[0m: Job received.\n",
      "\u001b[34m\u001b[1mwandb\u001b[0m: Agent Starting Run: in9qxr9d with config:\n",
      "\u001b[34m\u001b[1mwandb\u001b[0m: \tbandwidth: 0.1931577292462589\n",
      "\u001b[34m\u001b[1mwandb\u001b[0m: \tkernel: cosine\n"
     ]
    },
    {
     "data": {
      "text/html": [
       "Tracking run with wandb version 0.12.21"
      ],
      "text/plain": [
       "<IPython.core.display.HTML object>"
      ]
     },
     "metadata": {},
     "output_type": "display_data"
    },
    {
     "data": {
      "text/html": [
       "Run data is saved locally in <code>/Users/aakashsasikumar/Documents/MSc/Research/Dissimilar Policy/building-MARL/studies/wandb/run-20220728_181537-in9qxr9d</code>"
      ],
      "text/plain": [
       "<IPython.core.display.HTML object>"
      ]
     },
     "metadata": {},
     "output_type": "display_data"
    },
    {
     "data": {
      "text/html": [
       "Syncing run <strong><a href=\"https://wandb.ai/aakashsasikumar/ContinuousOPEHyperParamTuningSNIPW_28_07_2022/runs/in9qxr9d\" target=\"_blank\">driven-sweep-35</a></strong> to <a href=\"https://wandb.ai/aakashsasikumar/ContinuousOPEHyperParamTuningSNIPW_28_07_2022\" target=\"_blank\">Weights & Biases</a> (<a href=\"https://wandb.me/run\" target=\"_blank\">docs</a>)<br/>Sweep page:  <a href=\"https://wandb.ai/aakashsasikumar/ContinuousOPEHyperParamTuningSNIPW_28_07_2022/sweeps/ci54h96s\" target=\"_blank\">https://wandb.ai/aakashsasikumar/ContinuousOPEHyperParamTuningSNIPW_28_07_2022/sweeps/ci54h96s</a>"
      ],
      "text/plain": [
       "<IPython.core.display.HTML object>"
      ]
     },
     "metadata": {},
     "output_type": "display_data"
    },
    {
     "data": {
      "text/html": [
       "Waiting for W&B process to finish... <strong style=\"color:green\">(success).</strong>"
      ],
      "text/plain": [
       "<IPython.core.display.HTML object>"
      ]
     },
     "metadata": {},
     "output_type": "display_data"
    },
    {
     "data": {
      "application/vnd.jupyter.widget-view+json": {
       "model_id": "e32c787b4f3a499a90e7c3acad2a7ea1",
       "version_major": 2,
       "version_minor": 0
      },
      "text/plain": [
       "VBox(children=(Label(value='0.001 MB of 0.001 MB uploaded (0.000 MB deduped)\\r'), FloatProgress(value=1.0, max…"
      ]
     },
     "metadata": {},
     "output_type": "display_data"
    },
    {
     "data": {
      "text/html": [
       "<style>\n",
       "    table.wandb td:nth-child(1) { padding: 0 10px; text-align: left ; width: auto;} td:nth-child(2) {text-align: left ; width: 100%}\n",
       "    .wandb-row { display: flex; flex-direction: row; flex-wrap: wrap; justify-content: flex-start; width: 100% }\n",
       "    .wandb-col { display: flex; flex-direction: column; flex-basis: 100%; flex: 1; padding: 10px; }\n",
       "    </style>\n",
       "<div class=\"wandb-row\"><div class=\"wandb-col\"><h3>Run history:</h3><br/><table class=\"wandb\"><tr><td>average_spearman_correlation</td><td>▁</td></tr></table><br/></div><div class=\"wandb-col\"><h3>Run summary:</h3><br/><table class=\"wandb\"><tr><td>average_spearman_correlation</td><td>0.38289</td></tr></table><br/></div></div>"
      ],
      "text/plain": [
       "<IPython.core.display.HTML object>"
      ]
     },
     "metadata": {},
     "output_type": "display_data"
    },
    {
     "data": {
      "text/html": [
       "Synced <strong style=\"color:#cdcd00\">driven-sweep-35</strong>: <a href=\"https://wandb.ai/aakashsasikumar/ContinuousOPEHyperParamTuningSNIPW_28_07_2022/runs/in9qxr9d\" target=\"_blank\">https://wandb.ai/aakashsasikumar/ContinuousOPEHyperParamTuningSNIPW_28_07_2022/runs/in9qxr9d</a><br/>Synced 4 W&B file(s), 0 media file(s), 0 artifact file(s) and 0 other file(s)"
      ],
      "text/plain": [
       "<IPython.core.display.HTML object>"
      ]
     },
     "metadata": {},
     "output_type": "display_data"
    },
    {
     "data": {
      "text/html": [
       "Find logs at: <code>./wandb/run-20220728_181537-in9qxr9d/logs</code>"
      ],
      "text/plain": [
       "<IPython.core.display.HTML object>"
      ]
     },
     "metadata": {},
     "output_type": "display_data"
    },
    {
     "name": "stderr",
     "output_type": "stream",
     "text": [
      "\u001b[34m\u001b[1mwandb\u001b[0m: Agent Starting Run: k4ic5bqu with config:\n",
      "\u001b[34m\u001b[1mwandb\u001b[0m: \tbandwidth: 0.3965536470211747\n",
      "\u001b[34m\u001b[1mwandb\u001b[0m: \tkernel: gaussian\n"
     ]
    },
    {
     "data": {
      "text/html": [
       "Tracking run with wandb version 0.12.21"
      ],
      "text/plain": [
       "<IPython.core.display.HTML object>"
      ]
     },
     "metadata": {},
     "output_type": "display_data"
    },
    {
     "data": {
      "text/html": [
       "Run data is saved locally in <code>/Users/aakashsasikumar/Documents/MSc/Research/Dissimilar Policy/building-MARL/studies/wandb/run-20220728_181632-k4ic5bqu</code>"
      ],
      "text/plain": [
       "<IPython.core.display.HTML object>"
      ]
     },
     "metadata": {},
     "output_type": "display_data"
    },
    {
     "data": {
      "text/html": [
       "Syncing run <strong><a href=\"https://wandb.ai/aakashsasikumar/ContinuousOPEHyperParamTuningSNIPW_28_07_2022/runs/k4ic5bqu\" target=\"_blank\">still-sweep-36</a></strong> to <a href=\"https://wandb.ai/aakashsasikumar/ContinuousOPEHyperParamTuningSNIPW_28_07_2022\" target=\"_blank\">Weights & Biases</a> (<a href=\"https://wandb.me/run\" target=\"_blank\">docs</a>)<br/>Sweep page:  <a href=\"https://wandb.ai/aakashsasikumar/ContinuousOPEHyperParamTuningSNIPW_28_07_2022/sweeps/ci54h96s\" target=\"_blank\">https://wandb.ai/aakashsasikumar/ContinuousOPEHyperParamTuningSNIPW_28_07_2022/sweeps/ci54h96s</a>"
      ],
      "text/plain": [
       "<IPython.core.display.HTML object>"
      ]
     },
     "metadata": {},
     "output_type": "display_data"
    },
    {
     "data": {
      "text/html": [
       "Waiting for W&B process to finish... <strong style=\"color:green\">(success).</strong>"
      ],
      "text/plain": [
       "<IPython.core.display.HTML object>"
      ]
     },
     "metadata": {},
     "output_type": "display_data"
    },
    {
     "data": {
      "application/vnd.jupyter.widget-view+json": {
       "model_id": "2c7be3face614c41acee6d335100b72b",
       "version_major": 2,
       "version_minor": 0
      },
      "text/plain": [
       "VBox(children=(Label(value='0.001 MB of 0.001 MB uploaded (0.000 MB deduped)\\r'), FloatProgress(value=1.0, max…"
      ]
     },
     "metadata": {},
     "output_type": "display_data"
    },
    {
     "data": {
      "text/html": [
       "<style>\n",
       "    table.wandb td:nth-child(1) { padding: 0 10px; text-align: left ; width: auto;} td:nth-child(2) {text-align: left ; width: 100%}\n",
       "    .wandb-row { display: flex; flex-direction: row; flex-wrap: wrap; justify-content: flex-start; width: 100% }\n",
       "    .wandb-col { display: flex; flex-direction: column; flex-basis: 100%; flex: 1; padding: 10px; }\n",
       "    </style>\n",
       "<div class=\"wandb-row\"><div class=\"wandb-col\"><h3>Run history:</h3><br/><table class=\"wandb\"><tr><td>average_spearman_correlation</td><td>▁</td></tr></table><br/></div><div class=\"wandb-col\"><h3>Run summary:</h3><br/><table class=\"wandb\"><tr><td>average_spearman_correlation</td><td>0.63654</td></tr></table><br/></div></div>"
      ],
      "text/plain": [
       "<IPython.core.display.HTML object>"
      ]
     },
     "metadata": {},
     "output_type": "display_data"
    },
    {
     "data": {
      "text/html": [
       "Synced <strong style=\"color:#cdcd00\">still-sweep-36</strong>: <a href=\"https://wandb.ai/aakashsasikumar/ContinuousOPEHyperParamTuningSNIPW_28_07_2022/runs/k4ic5bqu\" target=\"_blank\">https://wandb.ai/aakashsasikumar/ContinuousOPEHyperParamTuningSNIPW_28_07_2022/runs/k4ic5bqu</a><br/>Synced 4 W&B file(s), 0 media file(s), 0 artifact file(s) and 0 other file(s)"
      ],
      "text/plain": [
       "<IPython.core.display.HTML object>"
      ]
     },
     "metadata": {},
     "output_type": "display_data"
    },
    {
     "data": {
      "text/html": [
       "Find logs at: <code>./wandb/run-20220728_181632-k4ic5bqu/logs</code>"
      ],
      "text/plain": [
       "<IPython.core.display.HTML object>"
      ]
     },
     "metadata": {},
     "output_type": "display_data"
    },
    {
     "name": "stderr",
     "output_type": "stream",
     "text": [
      "\u001b[34m\u001b[1mwandb\u001b[0m: Sweep Agent: Waiting for job.\n",
      "\u001b[34m\u001b[1mwandb\u001b[0m: Job received.\n",
      "\u001b[34m\u001b[1mwandb\u001b[0m: Agent Starting Run: 7mh908fl with config:\n",
      "\u001b[34m\u001b[1mwandb\u001b[0m: \tbandwidth: 0.20015951108917412\n",
      "\u001b[34m\u001b[1mwandb\u001b[0m: \tkernel: epanechnikov\n"
     ]
    },
    {
     "data": {
      "text/html": [
       "Tracking run with wandb version 0.12.21"
      ],
      "text/plain": [
       "<IPython.core.display.HTML object>"
      ]
     },
     "metadata": {},
     "output_type": "display_data"
    },
    {
     "data": {
      "text/html": [
       "Run data is saved locally in <code>/Users/aakashsasikumar/Documents/MSc/Research/Dissimilar Policy/building-MARL/studies/wandb/run-20220728_181735-7mh908fl</code>"
      ],
      "text/plain": [
       "<IPython.core.display.HTML object>"
      ]
     },
     "metadata": {},
     "output_type": "display_data"
    },
    {
     "data": {
      "text/html": [
       "Syncing run <strong><a href=\"https://wandb.ai/aakashsasikumar/ContinuousOPEHyperParamTuningSNIPW_28_07_2022/runs/7mh908fl\" target=\"_blank\">dauntless-sweep-37</a></strong> to <a href=\"https://wandb.ai/aakashsasikumar/ContinuousOPEHyperParamTuningSNIPW_28_07_2022\" target=\"_blank\">Weights & Biases</a> (<a href=\"https://wandb.me/run\" target=\"_blank\">docs</a>)<br/>Sweep page:  <a href=\"https://wandb.ai/aakashsasikumar/ContinuousOPEHyperParamTuningSNIPW_28_07_2022/sweeps/ci54h96s\" target=\"_blank\">https://wandb.ai/aakashsasikumar/ContinuousOPEHyperParamTuningSNIPW_28_07_2022/sweeps/ci54h96s</a>"
      ],
      "text/plain": [
       "<IPython.core.display.HTML object>"
      ]
     },
     "metadata": {},
     "output_type": "display_data"
    },
    {
     "name": "stderr",
     "output_type": "stream",
     "text": [
      "/Users/aakashsasikumar/.pyenv/versions/3.10.0/envs/test/lib/python3.10/site-packages/obp-0.5.5-py3.10.egg/obp/ope/estimators_continuous.py:388: RuntimeWarning: invalid value encountered in divide\n",
      "  estimated_rewards /= (kernel_func(u) / pscore).mean()\n"
     ]
    },
    {
     "data": {
      "text/html": [
       "Waiting for W&B process to finish... <strong style=\"color:green\">(success).</strong>"
      ],
      "text/plain": [
       "<IPython.core.display.HTML object>"
      ]
     },
     "metadata": {},
     "output_type": "display_data"
    },
    {
     "data": {
      "application/vnd.jupyter.widget-view+json": {
       "model_id": "64b66974e6704049836ebdfb44a07222",
       "version_major": 2,
       "version_minor": 0
      },
      "text/plain": [
       "VBox(children=(Label(value='0.001 MB of 0.001 MB uploaded (0.000 MB deduped)\\r'), FloatProgress(value=1.0, max…"
      ]
     },
     "metadata": {},
     "output_type": "display_data"
    },
    {
     "data": {
      "text/html": [
       "<style>\n",
       "    table.wandb td:nth-child(1) { padding: 0 10px; text-align: left ; width: auto;} td:nth-child(2) {text-align: left ; width: 100%}\n",
       "    .wandb-row { display: flex; flex-direction: row; flex-wrap: wrap; justify-content: flex-start; width: 100% }\n",
       "    .wandb-col { display: flex; flex-direction: column; flex-basis: 100%; flex: 1; padding: 10px; }\n",
       "    </style>\n",
       "<div class=\"wandb-row\"><div class=\"wandb-col\"><h3>Run history:</h3><br/><table class=\"wandb\"><tr><td>average_spearman_correlation</td><td>▁</td></tr></table><br/></div><div class=\"wandb-col\"><h3>Run summary:</h3><br/><table class=\"wandb\"><tr><td>average_spearman_correlation</td><td>0.27781</td></tr></table><br/></div></div>"
      ],
      "text/plain": [
       "<IPython.core.display.HTML object>"
      ]
     },
     "metadata": {},
     "output_type": "display_data"
    },
    {
     "data": {
      "text/html": [
       "Synced <strong style=\"color:#cdcd00\">dauntless-sweep-37</strong>: <a href=\"https://wandb.ai/aakashsasikumar/ContinuousOPEHyperParamTuningSNIPW_28_07_2022/runs/7mh908fl\" target=\"_blank\">https://wandb.ai/aakashsasikumar/ContinuousOPEHyperParamTuningSNIPW_28_07_2022/runs/7mh908fl</a><br/>Synced 5 W&B file(s), 0 media file(s), 0 artifact file(s) and 0 other file(s)"
      ],
      "text/plain": [
       "<IPython.core.display.HTML object>"
      ]
     },
     "metadata": {},
     "output_type": "display_data"
    },
    {
     "data": {
      "text/html": [
       "Find logs at: <code>./wandb/run-20220728_181735-7mh908fl/logs</code>"
      ],
      "text/plain": [
       "<IPython.core.display.HTML object>"
      ]
     },
     "metadata": {},
     "output_type": "display_data"
    },
    {
     "name": "stderr",
     "output_type": "stream",
     "text": [
      "\u001b[34m\u001b[1mwandb\u001b[0m: Agent Starting Run: e0rqkvcu with config:\n",
      "\u001b[34m\u001b[1mwandb\u001b[0m: \tbandwidth: 0.3708726057231202\n",
      "\u001b[34m\u001b[1mwandb\u001b[0m: \tkernel: cosine\n"
     ]
    },
    {
     "data": {
      "text/html": [
       "Tracking run with wandb version 0.12.21"
      ],
      "text/plain": [
       "<IPython.core.display.HTML object>"
      ]
     },
     "metadata": {},
     "output_type": "display_data"
    },
    {
     "data": {
      "text/html": [
       "Run data is saved locally in <code>/Users/aakashsasikumar/Documents/MSc/Research/Dissimilar Policy/building-MARL/studies/wandb/run-20220728_181828-e0rqkvcu</code>"
      ],
      "text/plain": [
       "<IPython.core.display.HTML object>"
      ]
     },
     "metadata": {},
     "output_type": "display_data"
    },
    {
     "data": {
      "text/html": [
       "Syncing run <strong><a href=\"https://wandb.ai/aakashsasikumar/ContinuousOPEHyperParamTuningSNIPW_28_07_2022/runs/e0rqkvcu\" target=\"_blank\">sparkling-sweep-38</a></strong> to <a href=\"https://wandb.ai/aakashsasikumar/ContinuousOPEHyperParamTuningSNIPW_28_07_2022\" target=\"_blank\">Weights & Biases</a> (<a href=\"https://wandb.me/run\" target=\"_blank\">docs</a>)<br/>Sweep page:  <a href=\"https://wandb.ai/aakashsasikumar/ContinuousOPEHyperParamTuningSNIPW_28_07_2022/sweeps/ci54h96s\" target=\"_blank\">https://wandb.ai/aakashsasikumar/ContinuousOPEHyperParamTuningSNIPW_28_07_2022/sweeps/ci54h96s</a>"
      ],
      "text/plain": [
       "<IPython.core.display.HTML object>"
      ]
     },
     "metadata": {},
     "output_type": "display_data"
    },
    {
     "data": {
      "text/html": [
       "Waiting for W&B process to finish... <strong style=\"color:green\">(success).</strong>"
      ],
      "text/plain": [
       "<IPython.core.display.HTML object>"
      ]
     },
     "metadata": {},
     "output_type": "display_data"
    },
    {
     "data": {
      "application/vnd.jupyter.widget-view+json": {
       "model_id": "0d9bbc1ee5774d1ba05aec65837d5057",
       "version_major": 2,
       "version_minor": 0
      },
      "text/plain": [
       "VBox(children=(Label(value='0.001 MB of 0.001 MB uploaded (0.000 MB deduped)\\r'), FloatProgress(value=1.0, max…"
      ]
     },
     "metadata": {},
     "output_type": "display_data"
    },
    {
     "data": {
      "text/html": [
       "<style>\n",
       "    table.wandb td:nth-child(1) { padding: 0 10px; text-align: left ; width: auto;} td:nth-child(2) {text-align: left ; width: 100%}\n",
       "    .wandb-row { display: flex; flex-direction: row; flex-wrap: wrap; justify-content: flex-start; width: 100% }\n",
       "    .wandb-col { display: flex; flex-direction: column; flex-basis: 100%; flex: 1; padding: 10px; }\n",
       "    </style>\n",
       "<div class=\"wandb-row\"><div class=\"wandb-col\"><h3>Run history:</h3><br/><table class=\"wandb\"><tr><td>average_spearman_correlation</td><td>▁</td></tr></table><br/></div><div class=\"wandb-col\"><h3>Run summary:</h3><br/><table class=\"wandb\"><tr><td>average_spearman_correlation</td><td>0.31803</td></tr></table><br/></div></div>"
      ],
      "text/plain": [
       "<IPython.core.display.HTML object>"
      ]
     },
     "metadata": {},
     "output_type": "display_data"
    },
    {
     "data": {
      "text/html": [
       "Synced <strong style=\"color:#cdcd00\">sparkling-sweep-38</strong>: <a href=\"https://wandb.ai/aakashsasikumar/ContinuousOPEHyperParamTuningSNIPW_28_07_2022/runs/e0rqkvcu\" target=\"_blank\">https://wandb.ai/aakashsasikumar/ContinuousOPEHyperParamTuningSNIPW_28_07_2022/runs/e0rqkvcu</a><br/>Synced 4 W&B file(s), 0 media file(s), 0 artifact file(s) and 0 other file(s)"
      ],
      "text/plain": [
       "<IPython.core.display.HTML object>"
      ]
     },
     "metadata": {},
     "output_type": "display_data"
    },
    {
     "data": {
      "text/html": [
       "Find logs at: <code>./wandb/run-20220728_181828-e0rqkvcu/logs</code>"
      ],
      "text/plain": [
       "<IPython.core.display.HTML object>"
      ]
     },
     "metadata": {},
     "output_type": "display_data"
    },
    {
     "name": "stderr",
     "output_type": "stream",
     "text": [
      "\u001b[34m\u001b[1mwandb\u001b[0m: Agent Starting Run: al8wcmqh with config:\n",
      "\u001b[34m\u001b[1mwandb\u001b[0m: \tbandwidth: 0.06798062734354438\n",
      "\u001b[34m\u001b[1mwandb\u001b[0m: \tkernel: cosine\n"
     ]
    },
    {
     "data": {
      "text/html": [
       "Tracking run with wandb version 0.12.21"
      ],
      "text/plain": [
       "<IPython.core.display.HTML object>"
      ]
     },
     "metadata": {},
     "output_type": "display_data"
    },
    {
     "data": {
      "text/html": [
       "Run data is saved locally in <code>/Users/aakashsasikumar/Documents/MSc/Research/Dissimilar Policy/building-MARL/studies/wandb/run-20220728_181922-al8wcmqh</code>"
      ],
      "text/plain": [
       "<IPython.core.display.HTML object>"
      ]
     },
     "metadata": {},
     "output_type": "display_data"
    },
    {
     "data": {
      "text/html": [
       "Syncing run <strong><a href=\"https://wandb.ai/aakashsasikumar/ContinuousOPEHyperParamTuningSNIPW_28_07_2022/runs/al8wcmqh\" target=\"_blank\">dry-sweep-39</a></strong> to <a href=\"https://wandb.ai/aakashsasikumar/ContinuousOPEHyperParamTuningSNIPW_28_07_2022\" target=\"_blank\">Weights & Biases</a> (<a href=\"https://wandb.me/run\" target=\"_blank\">docs</a>)<br/>Sweep page:  <a href=\"https://wandb.ai/aakashsasikumar/ContinuousOPEHyperParamTuningSNIPW_28_07_2022/sweeps/ci54h96s\" target=\"_blank\">https://wandb.ai/aakashsasikumar/ContinuousOPEHyperParamTuningSNIPW_28_07_2022/sweeps/ci54h96s</a>"
      ],
      "text/plain": [
       "<IPython.core.display.HTML object>"
      ]
     },
     "metadata": {},
     "output_type": "display_data"
    },
    {
     "data": {
      "text/html": [
       "Waiting for W&B process to finish... <strong style=\"color:green\">(success).</strong>"
      ],
      "text/plain": [
       "<IPython.core.display.HTML object>"
      ]
     },
     "metadata": {},
     "output_type": "display_data"
    },
    {
     "data": {
      "application/vnd.jupyter.widget-view+json": {
       "model_id": "1b04cdad984940698d094826377b8055",
       "version_major": 2,
       "version_minor": 0
      },
      "text/plain": [
       "VBox(children=(Label(value='0.001 MB of 0.001 MB uploaded (0.000 MB deduped)\\r'), FloatProgress(value=1.0, max…"
      ]
     },
     "metadata": {},
     "output_type": "display_data"
    },
    {
     "data": {
      "text/html": [
       "<style>\n",
       "    table.wandb td:nth-child(1) { padding: 0 10px; text-align: left ; width: auto;} td:nth-child(2) {text-align: left ; width: 100%}\n",
       "    .wandb-row { display: flex; flex-direction: row; flex-wrap: wrap; justify-content: flex-start; width: 100% }\n",
       "    .wandb-col { display: flex; flex-direction: column; flex-basis: 100%; flex: 1; padding: 10px; }\n",
       "    </style>\n",
       "<div class=\"wandb-row\"><div class=\"wandb-col\"><h3>Run history:</h3><br/><table class=\"wandb\"><tr><td>average_spearman_correlation</td><td>▁</td></tr></table><br/></div><div class=\"wandb-col\"><h3>Run summary:</h3><br/><table class=\"wandb\"><tr><td>average_spearman_correlation</td><td>0.34528</td></tr></table><br/></div></div>"
      ],
      "text/plain": [
       "<IPython.core.display.HTML object>"
      ]
     },
     "metadata": {},
     "output_type": "display_data"
    },
    {
     "data": {
      "text/html": [
       "Synced <strong style=\"color:#cdcd00\">dry-sweep-39</strong>: <a href=\"https://wandb.ai/aakashsasikumar/ContinuousOPEHyperParamTuningSNIPW_28_07_2022/runs/al8wcmqh\" target=\"_blank\">https://wandb.ai/aakashsasikumar/ContinuousOPEHyperParamTuningSNIPW_28_07_2022/runs/al8wcmqh</a><br/>Synced 4 W&B file(s), 0 media file(s), 0 artifact file(s) and 0 other file(s)"
      ],
      "text/plain": [
       "<IPython.core.display.HTML object>"
      ]
     },
     "metadata": {},
     "output_type": "display_data"
    },
    {
     "data": {
      "text/html": [
       "Find logs at: <code>./wandb/run-20220728_181922-al8wcmqh/logs</code>"
      ],
      "text/plain": [
       "<IPython.core.display.HTML object>"
      ]
     },
     "metadata": {},
     "output_type": "display_data"
    },
    {
     "name": "stderr",
     "output_type": "stream",
     "text": [
      "\u001b[34m\u001b[1mwandb\u001b[0m: Agent Starting Run: dr2an8xc with config:\n",
      "\u001b[34m\u001b[1mwandb\u001b[0m: \tbandwidth: 0.06456989107439243\n",
      "\u001b[34m\u001b[1mwandb\u001b[0m: \tkernel: gaussian\n"
     ]
    },
    {
     "data": {
      "text/html": [
       "Tracking run with wandb version 0.12.21"
      ],
      "text/plain": [
       "<IPython.core.display.HTML object>"
      ]
     },
     "metadata": {},
     "output_type": "display_data"
    },
    {
     "data": {
      "text/html": [
       "Run data is saved locally in <code>/Users/aakashsasikumar/Documents/MSc/Research/Dissimilar Policy/building-MARL/studies/wandb/run-20220728_182015-dr2an8xc</code>"
      ],
      "text/plain": [
       "<IPython.core.display.HTML object>"
      ]
     },
     "metadata": {},
     "output_type": "display_data"
    },
    {
     "data": {
      "text/html": [
       "Syncing run <strong><a href=\"https://wandb.ai/aakashsasikumar/ContinuousOPEHyperParamTuningSNIPW_28_07_2022/runs/dr2an8xc\" target=\"_blank\">sunny-sweep-40</a></strong> to <a href=\"https://wandb.ai/aakashsasikumar/ContinuousOPEHyperParamTuningSNIPW_28_07_2022\" target=\"_blank\">Weights & Biases</a> (<a href=\"https://wandb.me/run\" target=\"_blank\">docs</a>)<br/>Sweep page:  <a href=\"https://wandb.ai/aakashsasikumar/ContinuousOPEHyperParamTuningSNIPW_28_07_2022/sweeps/ci54h96s\" target=\"_blank\">https://wandb.ai/aakashsasikumar/ContinuousOPEHyperParamTuningSNIPW_28_07_2022/sweeps/ci54h96s</a>"
      ],
      "text/plain": [
       "<IPython.core.display.HTML object>"
      ]
     },
     "metadata": {},
     "output_type": "display_data"
    },
    {
     "data": {
      "text/html": [
       "Waiting for W&B process to finish... <strong style=\"color:green\">(success).</strong>"
      ],
      "text/plain": [
       "<IPython.core.display.HTML object>"
      ]
     },
     "metadata": {},
     "output_type": "display_data"
    },
    {
     "data": {
      "application/vnd.jupyter.widget-view+json": {
       "model_id": "9fc60f9c11f94f6e96f9d7a137bc83ae",
       "version_major": 2,
       "version_minor": 0
      },
      "text/plain": [
       "VBox(children=(Label(value='0.001 MB of 0.001 MB uploaded (0.000 MB deduped)\\r'), FloatProgress(value=1.0, max…"
      ]
     },
     "metadata": {},
     "output_type": "display_data"
    },
    {
     "data": {
      "text/html": [
       "<style>\n",
       "    table.wandb td:nth-child(1) { padding: 0 10px; text-align: left ; width: auto;} td:nth-child(2) {text-align: left ; width: 100%}\n",
       "    .wandb-row { display: flex; flex-direction: row; flex-wrap: wrap; justify-content: flex-start; width: 100% }\n",
       "    .wandb-col { display: flex; flex-direction: column; flex-basis: 100%; flex: 1; padding: 10px; }\n",
       "    </style>\n",
       "<div class=\"wandb-row\"><div class=\"wandb-col\"><h3>Run history:</h3><br/><table class=\"wandb\"><tr><td>average_spearman_correlation</td><td>▁</td></tr></table><br/></div><div class=\"wandb-col\"><h3>Run summary:</h3><br/><table class=\"wandb\"><tr><td>average_spearman_correlation</td><td>0.21782</td></tr></table><br/></div></div>"
      ],
      "text/plain": [
       "<IPython.core.display.HTML object>"
      ]
     },
     "metadata": {},
     "output_type": "display_data"
    },
    {
     "data": {
      "text/html": [
       "Synced <strong style=\"color:#cdcd00\">sunny-sweep-40</strong>: <a href=\"https://wandb.ai/aakashsasikumar/ContinuousOPEHyperParamTuningSNIPW_28_07_2022/runs/dr2an8xc\" target=\"_blank\">https://wandb.ai/aakashsasikumar/ContinuousOPEHyperParamTuningSNIPW_28_07_2022/runs/dr2an8xc</a><br/>Synced 4 W&B file(s), 0 media file(s), 0 artifact file(s) and 0 other file(s)"
      ],
      "text/plain": [
       "<IPython.core.display.HTML object>"
      ]
     },
     "metadata": {},
     "output_type": "display_data"
    },
    {
     "data": {
      "text/html": [
       "Find logs at: <code>./wandb/run-20220728_182015-dr2an8xc/logs</code>"
      ],
      "text/plain": [
       "<IPython.core.display.HTML object>"
      ]
     },
     "metadata": {},
     "output_type": "display_data"
    },
    {
     "name": "stderr",
     "output_type": "stream",
     "text": [
      "\u001b[34m\u001b[1mwandb\u001b[0m: Agent Starting Run: djcvl5t3 with config:\n",
      "\u001b[34m\u001b[1mwandb\u001b[0m: \tbandwidth: 0.36222148813079896\n",
      "\u001b[34m\u001b[1mwandb\u001b[0m: \tkernel: cosine\n"
     ]
    },
    {
     "data": {
      "text/html": [
       "Tracking run with wandb version 0.12.21"
      ],
      "text/plain": [
       "<IPython.core.display.HTML object>"
      ]
     },
     "metadata": {},
     "output_type": "display_data"
    },
    {
     "data": {
      "text/html": [
       "Run data is saved locally in <code>/Users/aakashsasikumar/Documents/MSc/Research/Dissimilar Policy/building-MARL/studies/wandb/run-20220728_182113-djcvl5t3</code>"
      ],
      "text/plain": [
       "<IPython.core.display.HTML object>"
      ]
     },
     "metadata": {},
     "output_type": "display_data"
    },
    {
     "data": {
      "text/html": [
       "Syncing run <strong><a href=\"https://wandb.ai/aakashsasikumar/ContinuousOPEHyperParamTuningSNIPW_28_07_2022/runs/djcvl5t3\" target=\"_blank\">noble-sweep-41</a></strong> to <a href=\"https://wandb.ai/aakashsasikumar/ContinuousOPEHyperParamTuningSNIPW_28_07_2022\" target=\"_blank\">Weights & Biases</a> (<a href=\"https://wandb.me/run\" target=\"_blank\">docs</a>)<br/>Sweep page:  <a href=\"https://wandb.ai/aakashsasikumar/ContinuousOPEHyperParamTuningSNIPW_28_07_2022/sweeps/ci54h96s\" target=\"_blank\">https://wandb.ai/aakashsasikumar/ContinuousOPEHyperParamTuningSNIPW_28_07_2022/sweeps/ci54h96s</a>"
      ],
      "text/plain": [
       "<IPython.core.display.HTML object>"
      ]
     },
     "metadata": {},
     "output_type": "display_data"
    },
    {
     "data": {
      "text/html": [
       "Waiting for W&B process to finish... <strong style=\"color:green\">(success).</strong>"
      ],
      "text/plain": [
       "<IPython.core.display.HTML object>"
      ]
     },
     "metadata": {},
     "output_type": "display_data"
    },
    {
     "data": {
      "application/vnd.jupyter.widget-view+json": {
       "model_id": "cc5eaac9fb4346baba9920c39f13c8bd",
       "version_major": 2,
       "version_minor": 0
      },
      "text/plain": [
       "VBox(children=(Label(value='0.001 MB of 0.001 MB uploaded (0.000 MB deduped)\\r'), FloatProgress(value=1.0, max…"
      ]
     },
     "metadata": {},
     "output_type": "display_data"
    },
    {
     "data": {
      "text/html": [
       "<style>\n",
       "    table.wandb td:nth-child(1) { padding: 0 10px; text-align: left ; width: auto;} td:nth-child(2) {text-align: left ; width: 100%}\n",
       "    .wandb-row { display: flex; flex-direction: row; flex-wrap: wrap; justify-content: flex-start; width: 100% }\n",
       "    .wandb-col { display: flex; flex-direction: column; flex-basis: 100%; flex: 1; padding: 10px; }\n",
       "    </style>\n",
       "<div class=\"wandb-row\"><div class=\"wandb-col\"><h3>Run history:</h3><br/><table class=\"wandb\"><tr><td>average_spearman_correlation</td><td>▁</td></tr></table><br/></div><div class=\"wandb-col\"><h3>Run summary:</h3><br/><table class=\"wandb\"><tr><td>average_spearman_correlation</td><td>0.31475</td></tr></table><br/></div></div>"
      ],
      "text/plain": [
       "<IPython.core.display.HTML object>"
      ]
     },
     "metadata": {},
     "output_type": "display_data"
    },
    {
     "data": {
      "text/html": [
       "Synced <strong style=\"color:#cdcd00\">noble-sweep-41</strong>: <a href=\"https://wandb.ai/aakashsasikumar/ContinuousOPEHyperParamTuningSNIPW_28_07_2022/runs/djcvl5t3\" target=\"_blank\">https://wandb.ai/aakashsasikumar/ContinuousOPEHyperParamTuningSNIPW_28_07_2022/runs/djcvl5t3</a><br/>Synced 4 W&B file(s), 0 media file(s), 0 artifact file(s) and 0 other file(s)"
      ],
      "text/plain": [
       "<IPython.core.display.HTML object>"
      ]
     },
     "metadata": {},
     "output_type": "display_data"
    },
    {
     "data": {
      "text/html": [
       "Find logs at: <code>./wandb/run-20220728_182113-djcvl5t3/logs</code>"
      ],
      "text/plain": [
       "<IPython.core.display.HTML object>"
      ]
     },
     "metadata": {},
     "output_type": "display_data"
    },
    {
     "name": "stderr",
     "output_type": "stream",
     "text": [
      "\u001b[34m\u001b[1mwandb\u001b[0m: Agent Starting Run: 73b14ds0 with config:\n",
      "\u001b[34m\u001b[1mwandb\u001b[0m: \tbandwidth: 0.0745964113899909\n",
      "\u001b[34m\u001b[1mwandb\u001b[0m: \tkernel: triangular\n"
     ]
    },
    {
     "data": {
      "text/html": [
       "Tracking run with wandb version 0.12.21"
      ],
      "text/plain": [
       "<IPython.core.display.HTML object>"
      ]
     },
     "metadata": {},
     "output_type": "display_data"
    },
    {
     "data": {
      "text/html": [
       "Run data is saved locally in <code>/Users/aakashsasikumar/Documents/MSc/Research/Dissimilar Policy/building-MARL/studies/wandb/run-20220728_182205-73b14ds0</code>"
      ],
      "text/plain": [
       "<IPython.core.display.HTML object>"
      ]
     },
     "metadata": {},
     "output_type": "display_data"
    },
    {
     "data": {
      "text/html": [
       "Syncing run <strong><a href=\"https://wandb.ai/aakashsasikumar/ContinuousOPEHyperParamTuningSNIPW_28_07_2022/runs/73b14ds0\" target=\"_blank\">soft-sweep-42</a></strong> to <a href=\"https://wandb.ai/aakashsasikumar/ContinuousOPEHyperParamTuningSNIPW_28_07_2022\" target=\"_blank\">Weights & Biases</a> (<a href=\"https://wandb.me/run\" target=\"_blank\">docs</a>)<br/>Sweep page:  <a href=\"https://wandb.ai/aakashsasikumar/ContinuousOPEHyperParamTuningSNIPW_28_07_2022/sweeps/ci54h96s\" target=\"_blank\">https://wandb.ai/aakashsasikumar/ContinuousOPEHyperParamTuningSNIPW_28_07_2022/sweeps/ci54h96s</a>"
      ],
      "text/plain": [
       "<IPython.core.display.HTML object>"
      ]
     },
     "metadata": {},
     "output_type": "display_data"
    },
    {
     "name": "stderr",
     "output_type": "stream",
     "text": [
      "/Users/aakashsasikumar/.pyenv/versions/3.10.0/envs/test/lib/python3.10/site-packages/obp-0.5.5-py3.10.egg/obp/ope/estimators_continuous.py:388: RuntimeWarning: invalid value encountered in divide\n",
      "  estimated_rewards /= (kernel_func(u) / pscore).mean()\n"
     ]
    },
    {
     "data": {
      "text/html": [
       "Waiting for W&B process to finish... <strong style=\"color:green\">(success).</strong>"
      ],
      "text/plain": [
       "<IPython.core.display.HTML object>"
      ]
     },
     "metadata": {},
     "output_type": "display_data"
    },
    {
     "data": {
      "application/vnd.jupyter.widget-view+json": {
       "model_id": "97b98edceccf4b3583cfb857801d5a7f",
       "version_major": 2,
       "version_minor": 0
      },
      "text/plain": [
       "VBox(children=(Label(value='0.001 MB of 0.001 MB uploaded (0.000 MB deduped)\\r'), FloatProgress(value=1.0, max…"
      ]
     },
     "metadata": {},
     "output_type": "display_data"
    },
    {
     "data": {
      "text/html": [
       "<style>\n",
       "    table.wandb td:nth-child(1) { padding: 0 10px; text-align: left ; width: auto;} td:nth-child(2) {text-align: left ; width: 100%}\n",
       "    .wandb-row { display: flex; flex-direction: row; flex-wrap: wrap; justify-content: flex-start; width: 100% }\n",
       "    .wandb-col { display: flex; flex-direction: column; flex-basis: 100%; flex: 1; padding: 10px; }\n",
       "    </style>\n",
       "<div class=\"wandb-row\"><div class=\"wandb-col\"><h3>Run history:</h3><br/><table class=\"wandb\"><tr><td>average_spearman_correlation</td><td>▁</td></tr></table><br/></div><div class=\"wandb-col\"><h3>Run summary:</h3><br/><table class=\"wandb\"><tr><td>average_spearman_correlation</td><td>0.31194</td></tr></table><br/></div></div>"
      ],
      "text/plain": [
       "<IPython.core.display.HTML object>"
      ]
     },
     "metadata": {},
     "output_type": "display_data"
    },
    {
     "data": {
      "text/html": [
       "Synced <strong style=\"color:#cdcd00\">soft-sweep-42</strong>: <a href=\"https://wandb.ai/aakashsasikumar/ContinuousOPEHyperParamTuningSNIPW_28_07_2022/runs/73b14ds0\" target=\"_blank\">https://wandb.ai/aakashsasikumar/ContinuousOPEHyperParamTuningSNIPW_28_07_2022/runs/73b14ds0</a><br/>Synced 5 W&B file(s), 0 media file(s), 0 artifact file(s) and 0 other file(s)"
      ],
      "text/plain": [
       "<IPython.core.display.HTML object>"
      ]
     },
     "metadata": {},
     "output_type": "display_data"
    },
    {
     "data": {
      "text/html": [
       "Find logs at: <code>./wandb/run-20220728_182205-73b14ds0/logs</code>"
      ],
      "text/plain": [
       "<IPython.core.display.HTML object>"
      ]
     },
     "metadata": {},
     "output_type": "display_data"
    },
    {
     "name": "stderr",
     "output_type": "stream",
     "text": [
      "\u001b[34m\u001b[1mwandb\u001b[0m: Sweep Agent: Waiting for job.\n",
      "\u001b[34m\u001b[1mwandb\u001b[0m: Job received.\n",
      "\u001b[34m\u001b[1mwandb\u001b[0m: Agent Starting Run: edbwbins with config:\n",
      "\u001b[34m\u001b[1mwandb\u001b[0m: \tbandwidth: 0.11434791376947796\n",
      "\u001b[34m\u001b[1mwandb\u001b[0m: \tkernel: gaussian\n"
     ]
    },
    {
     "data": {
      "text/html": [
       "Tracking run with wandb version 0.12.21"
      ],
      "text/plain": [
       "<IPython.core.display.HTML object>"
      ]
     },
     "metadata": {},
     "output_type": "display_data"
    },
    {
     "data": {
      "text/html": [
       "Run data is saved locally in <code>/Users/aakashsasikumar/Documents/MSc/Research/Dissimilar Policy/building-MARL/studies/wandb/run-20220728_182309-edbwbins</code>"
      ],
      "text/plain": [
       "<IPython.core.display.HTML object>"
      ]
     },
     "metadata": {},
     "output_type": "display_data"
    },
    {
     "data": {
      "text/html": [
       "Syncing run <strong><a href=\"https://wandb.ai/aakashsasikumar/ContinuousOPEHyperParamTuningSNIPW_28_07_2022/runs/edbwbins\" target=\"_blank\">autumn-sweep-43</a></strong> to <a href=\"https://wandb.ai/aakashsasikumar/ContinuousOPEHyperParamTuningSNIPW_28_07_2022\" target=\"_blank\">Weights & Biases</a> (<a href=\"https://wandb.me/run\" target=\"_blank\">docs</a>)<br/>Sweep page:  <a href=\"https://wandb.ai/aakashsasikumar/ContinuousOPEHyperParamTuningSNIPW_28_07_2022/sweeps/ci54h96s\" target=\"_blank\">https://wandb.ai/aakashsasikumar/ContinuousOPEHyperParamTuningSNIPW_28_07_2022/sweeps/ci54h96s</a>"
      ],
      "text/plain": [
       "<IPython.core.display.HTML object>"
      ]
     },
     "metadata": {},
     "output_type": "display_data"
    },
    {
     "data": {
      "text/html": [
       "Waiting for W&B process to finish... <strong style=\"color:green\">(success).</strong>"
      ],
      "text/plain": [
       "<IPython.core.display.HTML object>"
      ]
     },
     "metadata": {},
     "output_type": "display_data"
    },
    {
     "data": {
      "application/vnd.jupyter.widget-view+json": {
       "model_id": "f43dd47739e440b683a21a28fb9a3289",
       "version_major": 2,
       "version_minor": 0
      },
      "text/plain": [
       "VBox(children=(Label(value='0.001 MB of 0.001 MB uploaded (0.000 MB deduped)\\r'), FloatProgress(value=1.0, max…"
      ]
     },
     "metadata": {},
     "output_type": "display_data"
    },
    {
     "data": {
      "text/html": [
       "<style>\n",
       "    table.wandb td:nth-child(1) { padding: 0 10px; text-align: left ; width: auto;} td:nth-child(2) {text-align: left ; width: 100%}\n",
       "    .wandb-row { display: flex; flex-direction: row; flex-wrap: wrap; justify-content: flex-start; width: 100% }\n",
       "    .wandb-col { display: flex; flex-direction: column; flex-basis: 100%; flex: 1; padding: 10px; }\n",
       "    </style>\n",
       "<div class=\"wandb-row\"><div class=\"wandb-col\"><h3>Run history:</h3><br/><table class=\"wandb\"><tr><td>average_spearman_correlation</td><td>▁</td></tr></table><br/></div><div class=\"wandb-col\"><h3>Run summary:</h3><br/><table class=\"wandb\"><tr><td>average_spearman_correlation</td><td>0.20042</td></tr></table><br/></div></div>"
      ],
      "text/plain": [
       "<IPython.core.display.HTML object>"
      ]
     },
     "metadata": {},
     "output_type": "display_data"
    },
    {
     "data": {
      "text/html": [
       "Synced <strong style=\"color:#cdcd00\">autumn-sweep-43</strong>: <a href=\"https://wandb.ai/aakashsasikumar/ContinuousOPEHyperParamTuningSNIPW_28_07_2022/runs/edbwbins\" target=\"_blank\">https://wandb.ai/aakashsasikumar/ContinuousOPEHyperParamTuningSNIPW_28_07_2022/runs/edbwbins</a><br/>Synced 4 W&B file(s), 0 media file(s), 0 artifact file(s) and 0 other file(s)"
      ],
      "text/plain": [
       "<IPython.core.display.HTML object>"
      ]
     },
     "metadata": {},
     "output_type": "display_data"
    },
    {
     "data": {
      "text/html": [
       "Find logs at: <code>./wandb/run-20220728_182309-edbwbins/logs</code>"
      ],
      "text/plain": [
       "<IPython.core.display.HTML object>"
      ]
     },
     "metadata": {},
     "output_type": "display_data"
    },
    {
     "name": "stderr",
     "output_type": "stream",
     "text": [
      "\u001b[34m\u001b[1mwandb\u001b[0m: Agent Starting Run: me9xkxtk with config:\n",
      "\u001b[34m\u001b[1mwandb\u001b[0m: \tbandwidth: 0.3553185275980034\n",
      "\u001b[34m\u001b[1mwandb\u001b[0m: \tkernel: triangular\n"
     ]
    },
    {
     "data": {
      "text/html": [
       "Tracking run with wandb version 0.12.21"
      ],
      "text/plain": [
       "<IPython.core.display.HTML object>"
      ]
     },
     "metadata": {},
     "output_type": "display_data"
    },
    {
     "data": {
      "text/html": [
       "Run data is saved locally in <code>/Users/aakashsasikumar/Documents/MSc/Research/Dissimilar Policy/building-MARL/studies/wandb/run-20220728_182402-me9xkxtk</code>"
      ],
      "text/plain": [
       "<IPython.core.display.HTML object>"
      ]
     },
     "metadata": {},
     "output_type": "display_data"
    },
    {
     "data": {
      "text/html": [
       "Syncing run <strong><a href=\"https://wandb.ai/aakashsasikumar/ContinuousOPEHyperParamTuningSNIPW_28_07_2022/runs/me9xkxtk\" target=\"_blank\">olive-sweep-44</a></strong> to <a href=\"https://wandb.ai/aakashsasikumar/ContinuousOPEHyperParamTuningSNIPW_28_07_2022\" target=\"_blank\">Weights & Biases</a> (<a href=\"https://wandb.me/run\" target=\"_blank\">docs</a>)<br/>Sweep page:  <a href=\"https://wandb.ai/aakashsasikumar/ContinuousOPEHyperParamTuningSNIPW_28_07_2022/sweeps/ci54h96s\" target=\"_blank\">https://wandb.ai/aakashsasikumar/ContinuousOPEHyperParamTuningSNIPW_28_07_2022/sweeps/ci54h96s</a>"
      ],
      "text/plain": [
       "<IPython.core.display.HTML object>"
      ]
     },
     "metadata": {},
     "output_type": "display_data"
    },
    {
     "name": "stderr",
     "output_type": "stream",
     "text": [
      "/Users/aakashsasikumar/.pyenv/versions/3.10.0/envs/test/lib/python3.10/site-packages/obp-0.5.5-py3.10.egg/obp/ope/estimators_continuous.py:388: RuntimeWarning: invalid value encountered in divide\n",
      "  estimated_rewards /= (kernel_func(u) / pscore).mean()\n"
     ]
    },
    {
     "data": {
      "text/html": [
       "Waiting for W&B process to finish... <strong style=\"color:green\">(success).</strong>"
      ],
      "text/plain": [
       "<IPython.core.display.HTML object>"
      ]
     },
     "metadata": {},
     "output_type": "display_data"
    },
    {
     "data": {
      "application/vnd.jupyter.widget-view+json": {
       "model_id": "1e8aa15be6924c589fede5cb6be95cff",
       "version_major": 2,
       "version_minor": 0
      },
      "text/plain": [
       "VBox(children=(Label(value='0.001 MB of 0.001 MB uploaded (0.000 MB deduped)\\r'), FloatProgress(value=1.0, max…"
      ]
     },
     "metadata": {},
     "output_type": "display_data"
    },
    {
     "data": {
      "text/html": [
       "<style>\n",
       "    table.wandb td:nth-child(1) { padding: 0 10px; text-align: left ; width: auto;} td:nth-child(2) {text-align: left ; width: 100%}\n",
       "    .wandb-row { display: flex; flex-direction: row; flex-wrap: wrap; justify-content: flex-start; width: 100% }\n",
       "    .wandb-col { display: flex; flex-direction: column; flex-basis: 100%; flex: 1; padding: 10px; }\n",
       "    </style>\n",
       "<div class=\"wandb-row\"><div class=\"wandb-col\"><h3>Run history:</h3><br/><table class=\"wandb\"><tr><td>average_spearman_correlation</td><td>▁</td></tr></table><br/></div><div class=\"wandb-col\"><h3>Run summary:</h3><br/><table class=\"wandb\"><tr><td>average_spearman_correlation</td><td>0.23777</td></tr></table><br/></div></div>"
      ],
      "text/plain": [
       "<IPython.core.display.HTML object>"
      ]
     },
     "metadata": {},
     "output_type": "display_data"
    },
    {
     "data": {
      "text/html": [
       "Synced <strong style=\"color:#cdcd00\">olive-sweep-44</strong>: <a href=\"https://wandb.ai/aakashsasikumar/ContinuousOPEHyperParamTuningSNIPW_28_07_2022/runs/me9xkxtk\" target=\"_blank\">https://wandb.ai/aakashsasikumar/ContinuousOPEHyperParamTuningSNIPW_28_07_2022/runs/me9xkxtk</a><br/>Synced 5 W&B file(s), 0 media file(s), 0 artifact file(s) and 0 other file(s)"
      ],
      "text/plain": [
       "<IPython.core.display.HTML object>"
      ]
     },
     "metadata": {},
     "output_type": "display_data"
    },
    {
     "data": {
      "text/html": [
       "Find logs at: <code>./wandb/run-20220728_182402-me9xkxtk/logs</code>"
      ],
      "text/plain": [
       "<IPython.core.display.HTML object>"
      ]
     },
     "metadata": {},
     "output_type": "display_data"
    },
    {
     "name": "stderr",
     "output_type": "stream",
     "text": [
      "\u001b[34m\u001b[1mwandb\u001b[0m: Sweep Agent: Waiting for job.\n",
      "\u001b[34m\u001b[1mwandb\u001b[0m: Job received.\n",
      "\u001b[34m\u001b[1mwandb\u001b[0m: Agent Starting Run: adlawk36 with config:\n",
      "\u001b[34m\u001b[1mwandb\u001b[0m: \tbandwidth: 0.10783456245454852\n",
      "\u001b[34m\u001b[1mwandb\u001b[0m: \tkernel: triangular\n"
     ]
    },
    {
     "data": {
      "text/html": [
       "Tracking run with wandb version 0.12.21"
      ],
      "text/plain": [
       "<IPython.core.display.HTML object>"
      ]
     },
     "metadata": {},
     "output_type": "display_data"
    },
    {
     "data": {
      "text/html": [
       "Run data is saved locally in <code>/Users/aakashsasikumar/Documents/MSc/Research/Dissimilar Policy/building-MARL/studies/wandb/run-20220728_182504-adlawk36</code>"
      ],
      "text/plain": [
       "<IPython.core.display.HTML object>"
      ]
     },
     "metadata": {},
     "output_type": "display_data"
    },
    {
     "data": {
      "text/html": [
       "Syncing run <strong><a href=\"https://wandb.ai/aakashsasikumar/ContinuousOPEHyperParamTuningSNIPW_28_07_2022/runs/adlawk36\" target=\"_blank\">eternal-sweep-45</a></strong> to <a href=\"https://wandb.ai/aakashsasikumar/ContinuousOPEHyperParamTuningSNIPW_28_07_2022\" target=\"_blank\">Weights & Biases</a> (<a href=\"https://wandb.me/run\" target=\"_blank\">docs</a>)<br/>Sweep page:  <a href=\"https://wandb.ai/aakashsasikumar/ContinuousOPEHyperParamTuningSNIPW_28_07_2022/sweeps/ci54h96s\" target=\"_blank\">https://wandb.ai/aakashsasikumar/ContinuousOPEHyperParamTuningSNIPW_28_07_2022/sweeps/ci54h96s</a>"
      ],
      "text/plain": [
       "<IPython.core.display.HTML object>"
      ]
     },
     "metadata": {},
     "output_type": "display_data"
    },
    {
     "name": "stderr",
     "output_type": "stream",
     "text": [
      "/Users/aakashsasikumar/.pyenv/versions/3.10.0/envs/test/lib/python3.10/site-packages/obp-0.5.5-py3.10.egg/obp/ope/estimators_continuous.py:388: RuntimeWarning: invalid value encountered in divide\n",
      "  estimated_rewards /= (kernel_func(u) / pscore).mean()\n"
     ]
    },
    {
     "data": {
      "text/html": [
       "Waiting for W&B process to finish... <strong style=\"color:green\">(success).</strong>"
      ],
      "text/plain": [
       "<IPython.core.display.HTML object>"
      ]
     },
     "metadata": {},
     "output_type": "display_data"
    },
    {
     "data": {
      "application/vnd.jupyter.widget-view+json": {
       "model_id": "52213bb24fcd4a80a43d77638ced8108",
       "version_major": 2,
       "version_minor": 0
      },
      "text/plain": [
       "VBox(children=(Label(value='0.001 MB of 0.001 MB uploaded (0.000 MB deduped)\\r'), FloatProgress(value=1.0, max…"
      ]
     },
     "metadata": {},
     "output_type": "display_data"
    },
    {
     "data": {
      "text/html": [
       "<style>\n",
       "    table.wandb td:nth-child(1) { padding: 0 10px; text-align: left ; width: auto;} td:nth-child(2) {text-align: left ; width: 100%}\n",
       "    .wandb-row { display: flex; flex-direction: row; flex-wrap: wrap; justify-content: flex-start; width: 100% }\n",
       "    .wandb-col { display: flex; flex-direction: column; flex-basis: 100%; flex: 1; padding: 10px; }\n",
       "    </style>\n",
       "<div class=\"wandb-row\"><div class=\"wandb-col\"><h3>Run history:</h3><br/><table class=\"wandb\"><tr><td>average_spearman_correlation</td><td>▁</td></tr></table><br/></div><div class=\"wandb-col\"><h3>Run summary:</h3><br/><table class=\"wandb\"><tr><td>average_spearman_correlation</td><td>0.27226</td></tr></table><br/></div></div>"
      ],
      "text/plain": [
       "<IPython.core.display.HTML object>"
      ]
     },
     "metadata": {},
     "output_type": "display_data"
    },
    {
     "data": {
      "text/html": [
       "Synced <strong style=\"color:#cdcd00\">eternal-sweep-45</strong>: <a href=\"https://wandb.ai/aakashsasikumar/ContinuousOPEHyperParamTuningSNIPW_28_07_2022/runs/adlawk36\" target=\"_blank\">https://wandb.ai/aakashsasikumar/ContinuousOPEHyperParamTuningSNIPW_28_07_2022/runs/adlawk36</a><br/>Synced 5 W&B file(s), 0 media file(s), 0 artifact file(s) and 0 other file(s)"
      ],
      "text/plain": [
       "<IPython.core.display.HTML object>"
      ]
     },
     "metadata": {},
     "output_type": "display_data"
    },
    {
     "data": {
      "text/html": [
       "Find logs at: <code>./wandb/run-20220728_182504-adlawk36/logs</code>"
      ],
      "text/plain": [
       "<IPython.core.display.HTML object>"
      ]
     },
     "metadata": {},
     "output_type": "display_data"
    },
    {
     "name": "stderr",
     "output_type": "stream",
     "text": [
      "\u001b[34m\u001b[1mwandb\u001b[0m: Agent Starting Run: qzt3jpyk with config:\n",
      "\u001b[34m\u001b[1mwandb\u001b[0m: \tbandwidth: 0.3536365355861065\n",
      "\u001b[34m\u001b[1mwandb\u001b[0m: \tkernel: epanechnikov\n"
     ]
    },
    {
     "data": {
      "text/html": [
       "Tracking run with wandb version 0.12.21"
      ],
      "text/plain": [
       "<IPython.core.display.HTML object>"
      ]
     },
     "metadata": {},
     "output_type": "display_data"
    },
    {
     "data": {
      "text/html": [
       "Run data is saved locally in <code>/Users/aakashsasikumar/Documents/MSc/Research/Dissimilar Policy/building-MARL/studies/wandb/run-20220728_182558-qzt3jpyk</code>"
      ],
      "text/plain": [
       "<IPython.core.display.HTML object>"
      ]
     },
     "metadata": {},
     "output_type": "display_data"
    },
    {
     "data": {
      "text/html": [
       "Syncing run <strong><a href=\"https://wandb.ai/aakashsasikumar/ContinuousOPEHyperParamTuningSNIPW_28_07_2022/runs/qzt3jpyk\" target=\"_blank\">worthy-sweep-46</a></strong> to <a href=\"https://wandb.ai/aakashsasikumar/ContinuousOPEHyperParamTuningSNIPW_28_07_2022\" target=\"_blank\">Weights & Biases</a> (<a href=\"https://wandb.me/run\" target=\"_blank\">docs</a>)<br/>Sweep page:  <a href=\"https://wandb.ai/aakashsasikumar/ContinuousOPEHyperParamTuningSNIPW_28_07_2022/sweeps/ci54h96s\" target=\"_blank\">https://wandb.ai/aakashsasikumar/ContinuousOPEHyperParamTuningSNIPW_28_07_2022/sweeps/ci54h96s</a>"
      ],
      "text/plain": [
       "<IPython.core.display.HTML object>"
      ]
     },
     "metadata": {},
     "output_type": "display_data"
    },
    {
     "name": "stderr",
     "output_type": "stream",
     "text": [
      "/Users/aakashsasikumar/.pyenv/versions/3.10.0/envs/test/lib/python3.10/site-packages/obp-0.5.5-py3.10.egg/obp/ope/estimators_continuous.py:388: RuntimeWarning: invalid value encountered in divide\n",
      "  estimated_rewards /= (kernel_func(u) / pscore).mean()\n"
     ]
    },
    {
     "data": {
      "text/html": [
       "Waiting for W&B process to finish... <strong style=\"color:green\">(success).</strong>"
      ],
      "text/plain": [
       "<IPython.core.display.HTML object>"
      ]
     },
     "metadata": {},
     "output_type": "display_data"
    },
    {
     "data": {
      "application/vnd.jupyter.widget-view+json": {
       "model_id": "75fadd7d5928458588323fc2177618eb",
       "version_major": 2,
       "version_minor": 0
      },
      "text/plain": [
       "VBox(children=(Label(value='0.001 MB of 0.001 MB uploaded (0.000 MB deduped)\\r'), FloatProgress(value=1.0, max…"
      ]
     },
     "metadata": {},
     "output_type": "display_data"
    },
    {
     "data": {
      "text/html": [
       "<style>\n",
       "    table.wandb td:nth-child(1) { padding: 0 10px; text-align: left ; width: auto;} td:nth-child(2) {text-align: left ; width: 100%}\n",
       "    .wandb-row { display: flex; flex-direction: row; flex-wrap: wrap; justify-content: flex-start; width: 100% }\n",
       "    .wandb-col { display: flex; flex-direction: column; flex-basis: 100%; flex: 1; padding: 10px; }\n",
       "    </style>\n",
       "<div class=\"wandb-row\"><div class=\"wandb-col\"><h3>Run history:</h3><br/><table class=\"wandb\"><tr><td>average_spearman_correlation</td><td>▁</td></tr></table><br/></div><div class=\"wandb-col\"><h3>Run summary:</h3><br/><table class=\"wandb\"><tr><td>average_spearman_correlation</td><td>0.23095</td></tr></table><br/></div></div>"
      ],
      "text/plain": [
       "<IPython.core.display.HTML object>"
      ]
     },
     "metadata": {},
     "output_type": "display_data"
    },
    {
     "data": {
      "text/html": [
       "Synced <strong style=\"color:#cdcd00\">worthy-sweep-46</strong>: <a href=\"https://wandb.ai/aakashsasikumar/ContinuousOPEHyperParamTuningSNIPW_28_07_2022/runs/qzt3jpyk\" target=\"_blank\">https://wandb.ai/aakashsasikumar/ContinuousOPEHyperParamTuningSNIPW_28_07_2022/runs/qzt3jpyk</a><br/>Synced 5 W&B file(s), 0 media file(s), 0 artifact file(s) and 0 other file(s)"
      ],
      "text/plain": [
       "<IPython.core.display.HTML object>"
      ]
     },
     "metadata": {},
     "output_type": "display_data"
    },
    {
     "data": {
      "text/html": [
       "Find logs at: <code>./wandb/run-20220728_182558-qzt3jpyk/logs</code>"
      ],
      "text/plain": [
       "<IPython.core.display.HTML object>"
      ]
     },
     "metadata": {},
     "output_type": "display_data"
    },
    {
     "name": "stderr",
     "output_type": "stream",
     "text": [
      "\u001b[34m\u001b[1mwandb\u001b[0m: Agent Starting Run: woaz5k4c with config:\n",
      "\u001b[34m\u001b[1mwandb\u001b[0m: \tbandwidth: 0.27285042831773554\n",
      "\u001b[34m\u001b[1mwandb\u001b[0m: \tkernel: gaussian\n"
     ]
    },
    {
     "data": {
      "text/html": [
       "Tracking run with wandb version 0.12.21"
      ],
      "text/plain": [
       "<IPython.core.display.HTML object>"
      ]
     },
     "metadata": {},
     "output_type": "display_data"
    },
    {
     "data": {
      "text/html": [
       "Run data is saved locally in <code>/Users/aakashsasikumar/Documents/MSc/Research/Dissimilar Policy/building-MARL/studies/wandb/run-20220728_182651-woaz5k4c</code>"
      ],
      "text/plain": [
       "<IPython.core.display.HTML object>"
      ]
     },
     "metadata": {},
     "output_type": "display_data"
    },
    {
     "data": {
      "text/html": [
       "Syncing run <strong><a href=\"https://wandb.ai/aakashsasikumar/ContinuousOPEHyperParamTuningSNIPW_28_07_2022/runs/woaz5k4c\" target=\"_blank\">gallant-sweep-47</a></strong> to <a href=\"https://wandb.ai/aakashsasikumar/ContinuousOPEHyperParamTuningSNIPW_28_07_2022\" target=\"_blank\">Weights & Biases</a> (<a href=\"https://wandb.me/run\" target=\"_blank\">docs</a>)<br/>Sweep page:  <a href=\"https://wandb.ai/aakashsasikumar/ContinuousOPEHyperParamTuningSNIPW_28_07_2022/sweeps/ci54h96s\" target=\"_blank\">https://wandb.ai/aakashsasikumar/ContinuousOPEHyperParamTuningSNIPW_28_07_2022/sweeps/ci54h96s</a>"
      ],
      "text/plain": [
       "<IPython.core.display.HTML object>"
      ]
     },
     "metadata": {},
     "output_type": "display_data"
    },
    {
     "data": {
      "text/html": [
       "Waiting for W&B process to finish... <strong style=\"color:green\">(success).</strong>"
      ],
      "text/plain": [
       "<IPython.core.display.HTML object>"
      ]
     },
     "metadata": {},
     "output_type": "display_data"
    },
    {
     "data": {
      "application/vnd.jupyter.widget-view+json": {
       "model_id": "0843e52e6c154864900f204b4939cef5",
       "version_major": 2,
       "version_minor": 0
      },
      "text/plain": [
       "VBox(children=(Label(value='0.001 MB of 0.001 MB uploaded (0.000 MB deduped)\\r'), FloatProgress(value=1.0, max…"
      ]
     },
     "metadata": {},
     "output_type": "display_data"
    },
    {
     "data": {
      "text/html": [
       "<style>\n",
       "    table.wandb td:nth-child(1) { padding: 0 10px; text-align: left ; width: auto;} td:nth-child(2) {text-align: left ; width: 100%}\n",
       "    .wandb-row { display: flex; flex-direction: row; flex-wrap: wrap; justify-content: flex-start; width: 100% }\n",
       "    .wandb-col { display: flex; flex-direction: column; flex-basis: 100%; flex: 1; padding: 10px; }\n",
       "    </style>\n",
       "<div class=\"wandb-row\"><div class=\"wandb-col\"><h3>Run history:</h3><br/><table class=\"wandb\"><tr><td>average_spearman_correlation</td><td>▁</td></tr></table><br/></div><div class=\"wandb-col\"><h3>Run summary:</h3><br/><table class=\"wandb\"><tr><td>average_spearman_correlation</td><td>0.52263</td></tr></table><br/></div></div>"
      ],
      "text/plain": [
       "<IPython.core.display.HTML object>"
      ]
     },
     "metadata": {},
     "output_type": "display_data"
    },
    {
     "data": {
      "text/html": [
       "Synced <strong style=\"color:#cdcd00\">gallant-sweep-47</strong>: <a href=\"https://wandb.ai/aakashsasikumar/ContinuousOPEHyperParamTuningSNIPW_28_07_2022/runs/woaz5k4c\" target=\"_blank\">https://wandb.ai/aakashsasikumar/ContinuousOPEHyperParamTuningSNIPW_28_07_2022/runs/woaz5k4c</a><br/>Synced 4 W&B file(s), 0 media file(s), 0 artifact file(s) and 0 other file(s)"
      ],
      "text/plain": [
       "<IPython.core.display.HTML object>"
      ]
     },
     "metadata": {},
     "output_type": "display_data"
    },
    {
     "data": {
      "text/html": [
       "Find logs at: <code>./wandb/run-20220728_182651-woaz5k4c/logs</code>"
      ],
      "text/plain": [
       "<IPython.core.display.HTML object>"
      ]
     },
     "metadata": {},
     "output_type": "display_data"
    },
    {
     "name": "stderr",
     "output_type": "stream",
     "text": [
      "\u001b[34m\u001b[1mwandb\u001b[0m: Agent Starting Run: gqbi23io with config:\n",
      "\u001b[34m\u001b[1mwandb\u001b[0m: \tbandwidth: 0.12131483445651114\n",
      "\u001b[34m\u001b[1mwandb\u001b[0m: \tkernel: cosine\n"
     ]
    },
    {
     "data": {
      "text/html": [
       "Tracking run with wandb version 0.12.21"
      ],
      "text/plain": [
       "<IPython.core.display.HTML object>"
      ]
     },
     "metadata": {},
     "output_type": "display_data"
    },
    {
     "data": {
      "text/html": [
       "Run data is saved locally in <code>/Users/aakashsasikumar/Documents/MSc/Research/Dissimilar Policy/building-MARL/studies/wandb/run-20220728_182750-gqbi23io</code>"
      ],
      "text/plain": [
       "<IPython.core.display.HTML object>"
      ]
     },
     "metadata": {},
     "output_type": "display_data"
    },
    {
     "data": {
      "text/html": [
       "Syncing run <strong><a href=\"https://wandb.ai/aakashsasikumar/ContinuousOPEHyperParamTuningSNIPW_28_07_2022/runs/gqbi23io\" target=\"_blank\">misty-sweep-48</a></strong> to <a href=\"https://wandb.ai/aakashsasikumar/ContinuousOPEHyperParamTuningSNIPW_28_07_2022\" target=\"_blank\">Weights & Biases</a> (<a href=\"https://wandb.me/run\" target=\"_blank\">docs</a>)<br/>Sweep page:  <a href=\"https://wandb.ai/aakashsasikumar/ContinuousOPEHyperParamTuningSNIPW_28_07_2022/sweeps/ci54h96s\" target=\"_blank\">https://wandb.ai/aakashsasikumar/ContinuousOPEHyperParamTuningSNIPW_28_07_2022/sweeps/ci54h96s</a>"
      ],
      "text/plain": [
       "<IPython.core.display.HTML object>"
      ]
     },
     "metadata": {},
     "output_type": "display_data"
    },
    {
     "data": {
      "text/html": [
       "Waiting for W&B process to finish... <strong style=\"color:green\">(success).</strong>"
      ],
      "text/plain": [
       "<IPython.core.display.HTML object>"
      ]
     },
     "metadata": {},
     "output_type": "display_data"
    },
    {
     "data": {
      "application/vnd.jupyter.widget-view+json": {
       "model_id": "5006eff58937446881b693e86cd40b23",
       "version_major": 2,
       "version_minor": 0
      },
      "text/plain": [
       "VBox(children=(Label(value='0.001 MB of 0.001 MB uploaded (0.000 MB deduped)\\r'), FloatProgress(value=1.0, max…"
      ]
     },
     "metadata": {},
     "output_type": "display_data"
    },
    {
     "data": {
      "text/html": [
       "<style>\n",
       "    table.wandb td:nth-child(1) { padding: 0 10px; text-align: left ; width: auto;} td:nth-child(2) {text-align: left ; width: 100%}\n",
       "    .wandb-row { display: flex; flex-direction: row; flex-wrap: wrap; justify-content: flex-start; width: 100% }\n",
       "    .wandb-col { display: flex; flex-direction: column; flex-basis: 100%; flex: 1; padding: 10px; }\n",
       "    </style>\n",
       "<div class=\"wandb-row\"><div class=\"wandb-col\"><h3>Run history:</h3><br/><table class=\"wandb\"><tr><td>average_spearman_correlation</td><td>▁</td></tr></table><br/></div><div class=\"wandb-col\"><h3>Run summary:</h3><br/><table class=\"wandb\"><tr><td>average_spearman_correlation</td><td>0.41033</td></tr></table><br/></div></div>"
      ],
      "text/plain": [
       "<IPython.core.display.HTML object>"
      ]
     },
     "metadata": {},
     "output_type": "display_data"
    },
    {
     "data": {
      "text/html": [
       "Synced <strong style=\"color:#cdcd00\">misty-sweep-48</strong>: <a href=\"https://wandb.ai/aakashsasikumar/ContinuousOPEHyperParamTuningSNIPW_28_07_2022/runs/gqbi23io\" target=\"_blank\">https://wandb.ai/aakashsasikumar/ContinuousOPEHyperParamTuningSNIPW_28_07_2022/runs/gqbi23io</a><br/>Synced 4 W&B file(s), 0 media file(s), 0 artifact file(s) and 0 other file(s)"
      ],
      "text/plain": [
       "<IPython.core.display.HTML object>"
      ]
     },
     "metadata": {},
     "output_type": "display_data"
    },
    {
     "data": {
      "text/html": [
       "Find logs at: <code>./wandb/run-20220728_182750-gqbi23io/logs</code>"
      ],
      "text/plain": [
       "<IPython.core.display.HTML object>"
      ]
     },
     "metadata": {},
     "output_type": "display_data"
    },
    {
     "name": "stderr",
     "output_type": "stream",
     "text": [
      "\u001b[34m\u001b[1mwandb\u001b[0m: Agent Starting Run: r3c3he0o with config:\n",
      "\u001b[34m\u001b[1mwandb\u001b[0m: \tbandwidth: 0.22236751112527747\n",
      "\u001b[34m\u001b[1mwandb\u001b[0m: \tkernel: epanechnikov\n"
     ]
    },
    {
     "data": {
      "text/html": [
       "Tracking run with wandb version 0.12.21"
      ],
      "text/plain": [
       "<IPython.core.display.HTML object>"
      ]
     },
     "metadata": {},
     "output_type": "display_data"
    },
    {
     "data": {
      "text/html": [
       "Run data is saved locally in <code>/Users/aakashsasikumar/Documents/MSc/Research/Dissimilar Policy/building-MARL/studies/wandb/run-20220728_182843-r3c3he0o</code>"
      ],
      "text/plain": [
       "<IPython.core.display.HTML object>"
      ]
     },
     "metadata": {},
     "output_type": "display_data"
    },
    {
     "data": {
      "text/html": [
       "Syncing run <strong><a href=\"https://wandb.ai/aakashsasikumar/ContinuousOPEHyperParamTuningSNIPW_28_07_2022/runs/r3c3he0o\" target=\"_blank\">sandy-sweep-49</a></strong> to <a href=\"https://wandb.ai/aakashsasikumar/ContinuousOPEHyperParamTuningSNIPW_28_07_2022\" target=\"_blank\">Weights & Biases</a> (<a href=\"https://wandb.me/run\" target=\"_blank\">docs</a>)<br/>Sweep page:  <a href=\"https://wandb.ai/aakashsasikumar/ContinuousOPEHyperParamTuningSNIPW_28_07_2022/sweeps/ci54h96s\" target=\"_blank\">https://wandb.ai/aakashsasikumar/ContinuousOPEHyperParamTuningSNIPW_28_07_2022/sweeps/ci54h96s</a>"
      ],
      "text/plain": [
       "<IPython.core.display.HTML object>"
      ]
     },
     "metadata": {},
     "output_type": "display_data"
    },
    {
     "name": "stderr",
     "output_type": "stream",
     "text": [
      "/Users/aakashsasikumar/.pyenv/versions/3.10.0/envs/test/lib/python3.10/site-packages/obp-0.5.5-py3.10.egg/obp/ope/estimators_continuous.py:388: RuntimeWarning: invalid value encountered in divide\n",
      "  estimated_rewards /= (kernel_func(u) / pscore).mean()\n"
     ]
    },
    {
     "data": {
      "text/html": [
       "Waiting for W&B process to finish... <strong style=\"color:green\">(success).</strong>"
      ],
      "text/plain": [
       "<IPython.core.display.HTML object>"
      ]
     },
     "metadata": {},
     "output_type": "display_data"
    },
    {
     "data": {
      "application/vnd.jupyter.widget-view+json": {
       "model_id": "b8cf282ba9804efa809bd02b7e1ff613",
       "version_major": 2,
       "version_minor": 0
      },
      "text/plain": [
       "VBox(children=(Label(value='0.001 MB of 0.001 MB uploaded (0.000 MB deduped)\\r'), FloatProgress(value=1.0, max…"
      ]
     },
     "metadata": {},
     "output_type": "display_data"
    },
    {
     "data": {
      "text/html": [
       "<style>\n",
       "    table.wandb td:nth-child(1) { padding: 0 10px; text-align: left ; width: auto;} td:nth-child(2) {text-align: left ; width: 100%}\n",
       "    .wandb-row { display: flex; flex-direction: row; flex-wrap: wrap; justify-content: flex-start; width: 100% }\n",
       "    .wandb-col { display: flex; flex-direction: column; flex-basis: 100%; flex: 1; padding: 10px; }\n",
       "    </style>\n",
       "<div class=\"wandb-row\"><div class=\"wandb-col\"><h3>Run history:</h3><br/><table class=\"wandb\"><tr><td>average_spearman_correlation</td><td>▁</td></tr></table><br/></div><div class=\"wandb-col\"><h3>Run summary:</h3><br/><table class=\"wandb\"><tr><td>average_spearman_correlation</td><td>0.27123</td></tr></table><br/></div></div>"
      ],
      "text/plain": [
       "<IPython.core.display.HTML object>"
      ]
     },
     "metadata": {},
     "output_type": "display_data"
    },
    {
     "data": {
      "text/html": [
       "Synced <strong style=\"color:#cdcd00\">sandy-sweep-49</strong>: <a href=\"https://wandb.ai/aakashsasikumar/ContinuousOPEHyperParamTuningSNIPW_28_07_2022/runs/r3c3he0o\" target=\"_blank\">https://wandb.ai/aakashsasikumar/ContinuousOPEHyperParamTuningSNIPW_28_07_2022/runs/r3c3he0o</a><br/>Synced 5 W&B file(s), 0 media file(s), 0 artifact file(s) and 0 other file(s)"
      ],
      "text/plain": [
       "<IPython.core.display.HTML object>"
      ]
     },
     "metadata": {},
     "output_type": "display_data"
    },
    {
     "data": {
      "text/html": [
       "Find logs at: <code>./wandb/run-20220728_182843-r3c3he0o/logs</code>"
      ],
      "text/plain": [
       "<IPython.core.display.HTML object>"
      ]
     },
     "metadata": {},
     "output_type": "display_data"
    },
    {
     "name": "stderr",
     "output_type": "stream",
     "text": [
      "\u001b[34m\u001b[1mwandb\u001b[0m: Agent Starting Run: 5u6iwf72 with config:\n",
      "\u001b[34m\u001b[1mwandb\u001b[0m: \tbandwidth: 0.04446213871698035\n",
      "\u001b[34m\u001b[1mwandb\u001b[0m: \tkernel: triangular\n"
     ]
    },
    {
     "data": {
      "text/html": [
       "Tracking run with wandb version 0.12.21"
      ],
      "text/plain": [
       "<IPython.core.display.HTML object>"
      ]
     },
     "metadata": {},
     "output_type": "display_data"
    },
    {
     "data": {
      "text/html": [
       "Run data is saved locally in <code>/Users/aakashsasikumar/Documents/MSc/Research/Dissimilar Policy/building-MARL/studies/wandb/run-20220728_182940-5u6iwf72</code>"
      ],
      "text/plain": [
       "<IPython.core.display.HTML object>"
      ]
     },
     "metadata": {},
     "output_type": "display_data"
    },
    {
     "data": {
      "text/html": [
       "Syncing run <strong><a href=\"https://wandb.ai/aakashsasikumar/ContinuousOPEHyperParamTuningSNIPW_28_07_2022/runs/5u6iwf72\" target=\"_blank\">neat-sweep-50</a></strong> to <a href=\"https://wandb.ai/aakashsasikumar/ContinuousOPEHyperParamTuningSNIPW_28_07_2022\" target=\"_blank\">Weights & Biases</a> (<a href=\"https://wandb.me/run\" target=\"_blank\">docs</a>)<br/>Sweep page:  <a href=\"https://wandb.ai/aakashsasikumar/ContinuousOPEHyperParamTuningSNIPW_28_07_2022/sweeps/ci54h96s\" target=\"_blank\">https://wandb.ai/aakashsasikumar/ContinuousOPEHyperParamTuningSNIPW_28_07_2022/sweeps/ci54h96s</a>"
      ],
      "text/plain": [
       "<IPython.core.display.HTML object>"
      ]
     },
     "metadata": {},
     "output_type": "display_data"
    },
    {
     "name": "stderr",
     "output_type": "stream",
     "text": [
      "/Users/aakashsasikumar/.pyenv/versions/3.10.0/envs/test/lib/python3.10/site-packages/obp-0.5.5-py3.10.egg/obp/ope/estimators_continuous.py:388: RuntimeWarning: invalid value encountered in divide\n",
      "  estimated_rewards /= (kernel_func(u) / pscore).mean()\n"
     ]
    },
    {
     "data": {
      "text/html": [
       "Waiting for W&B process to finish... <strong style=\"color:green\">(success).</strong>"
      ],
      "text/plain": [
       "<IPython.core.display.HTML object>"
      ]
     },
     "metadata": {},
     "output_type": "display_data"
    },
    {
     "data": {
      "application/vnd.jupyter.widget-view+json": {
       "model_id": "a7f868f13d3943a19c5c92da539d7da0",
       "version_major": 2,
       "version_minor": 0
      },
      "text/plain": [
       "VBox(children=(Label(value='0.001 MB of 0.001 MB uploaded (0.000 MB deduped)\\r'), FloatProgress(value=1.0, max…"
      ]
     },
     "metadata": {},
     "output_type": "display_data"
    },
    {
     "data": {
      "text/html": [
       "<style>\n",
       "    table.wandb td:nth-child(1) { padding: 0 10px; text-align: left ; width: auto;} td:nth-child(2) {text-align: left ; width: 100%}\n",
       "    .wandb-row { display: flex; flex-direction: row; flex-wrap: wrap; justify-content: flex-start; width: 100% }\n",
       "    .wandb-col { display: flex; flex-direction: column; flex-basis: 100%; flex: 1; padding: 10px; }\n",
       "    </style>\n",
       "<div class=\"wandb-row\"><div class=\"wandb-col\"><h3>Run history:</h3><br/><table class=\"wandb\"><tr><td>average_spearman_correlation</td><td>▁</td></tr></table><br/></div><div class=\"wandb-col\"><h3>Run summary:</h3><br/><table class=\"wandb\"><tr><td>average_spearman_correlation</td><td>0.34255</td></tr></table><br/></div></div>"
      ],
      "text/plain": [
       "<IPython.core.display.HTML object>"
      ]
     },
     "metadata": {},
     "output_type": "display_data"
    },
    {
     "data": {
      "text/html": [
       "Synced <strong style=\"color:#cdcd00\">neat-sweep-50</strong>: <a href=\"https://wandb.ai/aakashsasikumar/ContinuousOPEHyperParamTuningSNIPW_28_07_2022/runs/5u6iwf72\" target=\"_blank\">https://wandb.ai/aakashsasikumar/ContinuousOPEHyperParamTuningSNIPW_28_07_2022/runs/5u6iwf72</a><br/>Synced 5 W&B file(s), 0 media file(s), 0 artifact file(s) and 0 other file(s)"
      ],
      "text/plain": [
       "<IPython.core.display.HTML object>"
      ]
     },
     "metadata": {},
     "output_type": "display_data"
    },
    {
     "data": {
      "text/html": [
       "Find logs at: <code>./wandb/run-20220728_182940-5u6iwf72/logs</code>"
      ],
      "text/plain": [
       "<IPython.core.display.HTML object>"
      ]
     },
     "metadata": {},
     "output_type": "display_data"
    },
    {
     "name": "stderr",
     "output_type": "stream",
     "text": [
      "\u001b[34m\u001b[1mwandb\u001b[0m: Agent Starting Run: i2x708w9 with config:\n",
      "\u001b[34m\u001b[1mwandb\u001b[0m: \tbandwidth: 0.16509925342699144\n",
      "\u001b[34m\u001b[1mwandb\u001b[0m: \tkernel: gaussian\n"
     ]
    },
    {
     "data": {
      "text/html": [
       "Tracking run with wandb version 0.12.21"
      ],
      "text/plain": [
       "<IPython.core.display.HTML object>"
      ]
     },
     "metadata": {},
     "output_type": "display_data"
    },
    {
     "data": {
      "text/html": [
       "Run data is saved locally in <code>/Users/aakashsasikumar/Documents/MSc/Research/Dissimilar Policy/building-MARL/studies/wandb/run-20220728_183038-i2x708w9</code>"
      ],
      "text/plain": [
       "<IPython.core.display.HTML object>"
      ]
     },
     "metadata": {},
     "output_type": "display_data"
    },
    {
     "data": {
      "text/html": [
       "Syncing run <strong><a href=\"https://wandb.ai/aakashsasikumar/ContinuousOPEHyperParamTuningSNIPW_28_07_2022/runs/i2x708w9\" target=\"_blank\">electric-sweep-51</a></strong> to <a href=\"https://wandb.ai/aakashsasikumar/ContinuousOPEHyperParamTuningSNIPW_28_07_2022\" target=\"_blank\">Weights & Biases</a> (<a href=\"https://wandb.me/run\" target=\"_blank\">docs</a>)<br/>Sweep page:  <a href=\"https://wandb.ai/aakashsasikumar/ContinuousOPEHyperParamTuningSNIPW_28_07_2022/sweeps/ci54h96s\" target=\"_blank\">https://wandb.ai/aakashsasikumar/ContinuousOPEHyperParamTuningSNIPW_28_07_2022/sweeps/ci54h96s</a>"
      ],
      "text/plain": [
       "<IPython.core.display.HTML object>"
      ]
     },
     "metadata": {},
     "output_type": "display_data"
    },
    {
     "data": {
      "text/html": [
       "Waiting for W&B process to finish... <strong style=\"color:green\">(success).</strong>"
      ],
      "text/plain": [
       "<IPython.core.display.HTML object>"
      ]
     },
     "metadata": {},
     "output_type": "display_data"
    },
    {
     "data": {
      "application/vnd.jupyter.widget-view+json": {
       "model_id": "a23d5cf3e0814697bdf39096c67485f4",
       "version_major": 2,
       "version_minor": 0
      },
      "text/plain": [
       "VBox(children=(Label(value='0.001 MB of 0.001 MB uploaded (0.000 MB deduped)\\r'), FloatProgress(value=1.0, max…"
      ]
     },
     "metadata": {},
     "output_type": "display_data"
    },
    {
     "data": {
      "text/html": [
       "<style>\n",
       "    table.wandb td:nth-child(1) { padding: 0 10px; text-align: left ; width: auto;} td:nth-child(2) {text-align: left ; width: 100%}\n",
       "    .wandb-row { display: flex; flex-direction: row; flex-wrap: wrap; justify-content: flex-start; width: 100% }\n",
       "    .wandb-col { display: flex; flex-direction: column; flex-basis: 100%; flex: 1; padding: 10px; }\n",
       "    </style>\n",
       "<div class=\"wandb-row\"><div class=\"wandb-col\"><h3>Run history:</h3><br/><table class=\"wandb\"><tr><td>average_spearman_correlation</td><td>▁</td></tr></table><br/></div><div class=\"wandb-col\"><h3>Run summary:</h3><br/><table class=\"wandb\"><tr><td>average_spearman_correlation</td><td>0.1599</td></tr></table><br/></div></div>"
      ],
      "text/plain": [
       "<IPython.core.display.HTML object>"
      ]
     },
     "metadata": {},
     "output_type": "display_data"
    },
    {
     "data": {
      "text/html": [
       "Synced <strong style=\"color:#cdcd00\">electric-sweep-51</strong>: <a href=\"https://wandb.ai/aakashsasikumar/ContinuousOPEHyperParamTuningSNIPW_28_07_2022/runs/i2x708w9\" target=\"_blank\">https://wandb.ai/aakashsasikumar/ContinuousOPEHyperParamTuningSNIPW_28_07_2022/runs/i2x708w9</a><br/>Synced 4 W&B file(s), 0 media file(s), 0 artifact file(s) and 0 other file(s)"
      ],
      "text/plain": [
       "<IPython.core.display.HTML object>"
      ]
     },
     "metadata": {},
     "output_type": "display_data"
    },
    {
     "data": {
      "text/html": [
       "Find logs at: <code>./wandb/run-20220728_183038-i2x708w9/logs</code>"
      ],
      "text/plain": [
       "<IPython.core.display.HTML object>"
      ]
     },
     "metadata": {},
     "output_type": "display_data"
    },
    {
     "name": "stderr",
     "output_type": "stream",
     "text": [
      "\u001b[34m\u001b[1mwandb\u001b[0m: Agent Starting Run: 03fq9qoz with config:\n",
      "\u001b[34m\u001b[1mwandb\u001b[0m: \tbandwidth: 0.10696086973546104\n",
      "\u001b[34m\u001b[1mwandb\u001b[0m: \tkernel: gaussian\n"
     ]
    },
    {
     "data": {
      "text/html": [
       "Tracking run with wandb version 0.12.21"
      ],
      "text/plain": [
       "<IPython.core.display.HTML object>"
      ]
     },
     "metadata": {},
     "output_type": "display_data"
    },
    {
     "data": {
      "text/html": [
       "Run data is saved locally in <code>/Users/aakashsasikumar/Documents/MSc/Research/Dissimilar Policy/building-MARL/studies/wandb/run-20220728_183131-03fq9qoz</code>"
      ],
      "text/plain": [
       "<IPython.core.display.HTML object>"
      ]
     },
     "metadata": {},
     "output_type": "display_data"
    },
    {
     "data": {
      "text/html": [
       "Syncing run <strong><a href=\"https://wandb.ai/aakashsasikumar/ContinuousOPEHyperParamTuningSNIPW_28_07_2022/runs/03fq9qoz\" target=\"_blank\">glad-sweep-52</a></strong> to <a href=\"https://wandb.ai/aakashsasikumar/ContinuousOPEHyperParamTuningSNIPW_28_07_2022\" target=\"_blank\">Weights & Biases</a> (<a href=\"https://wandb.me/run\" target=\"_blank\">docs</a>)<br/>Sweep page:  <a href=\"https://wandb.ai/aakashsasikumar/ContinuousOPEHyperParamTuningSNIPW_28_07_2022/sweeps/ci54h96s\" target=\"_blank\">https://wandb.ai/aakashsasikumar/ContinuousOPEHyperParamTuningSNIPW_28_07_2022/sweeps/ci54h96s</a>"
      ],
      "text/plain": [
       "<IPython.core.display.HTML object>"
      ]
     },
     "metadata": {},
     "output_type": "display_data"
    },
    {
     "data": {
      "text/html": [
       "Waiting for W&B process to finish... <strong style=\"color:green\">(success).</strong>"
      ],
      "text/plain": [
       "<IPython.core.display.HTML object>"
      ]
     },
     "metadata": {},
     "output_type": "display_data"
    },
    {
     "data": {
      "application/vnd.jupyter.widget-view+json": {
       "model_id": "700d0a1a647a4fa78ff195db912b70e3",
       "version_major": 2,
       "version_minor": 0
      },
      "text/plain": [
       "VBox(children=(Label(value='0.001 MB of 0.001 MB uploaded (0.000 MB deduped)\\r'), FloatProgress(value=1.0, max…"
      ]
     },
     "metadata": {},
     "output_type": "display_data"
    },
    {
     "data": {
      "text/html": [
       "<style>\n",
       "    table.wandb td:nth-child(1) { padding: 0 10px; text-align: left ; width: auto;} td:nth-child(2) {text-align: left ; width: 100%}\n",
       "    .wandb-row { display: flex; flex-direction: row; flex-wrap: wrap; justify-content: flex-start; width: 100% }\n",
       "    .wandb-col { display: flex; flex-direction: column; flex-basis: 100%; flex: 1; padding: 10px; }\n",
       "    </style>\n",
       "<div class=\"wandb-row\"><div class=\"wandb-col\"><h3>Run history:</h3><br/><table class=\"wandb\"><tr><td>average_spearman_correlation</td><td>▁</td></tr></table><br/></div><div class=\"wandb-col\"><h3>Run summary:</h3><br/><table class=\"wandb\"><tr><td>average_spearman_correlation</td><td>0.20564</td></tr></table><br/></div></div>"
      ],
      "text/plain": [
       "<IPython.core.display.HTML object>"
      ]
     },
     "metadata": {},
     "output_type": "display_data"
    },
    {
     "data": {
      "text/html": [
       "Synced <strong style=\"color:#cdcd00\">glad-sweep-52</strong>: <a href=\"https://wandb.ai/aakashsasikumar/ContinuousOPEHyperParamTuningSNIPW_28_07_2022/runs/03fq9qoz\" target=\"_blank\">https://wandb.ai/aakashsasikumar/ContinuousOPEHyperParamTuningSNIPW_28_07_2022/runs/03fq9qoz</a><br/>Synced 4 W&B file(s), 0 media file(s), 0 artifact file(s) and 0 other file(s)"
      ],
      "text/plain": [
       "<IPython.core.display.HTML object>"
      ]
     },
     "metadata": {},
     "output_type": "display_data"
    },
    {
     "data": {
      "text/html": [
       "Find logs at: <code>./wandb/run-20220728_183131-03fq9qoz/logs</code>"
      ],
      "text/plain": [
       "<IPython.core.display.HTML object>"
      ]
     },
     "metadata": {},
     "output_type": "display_data"
    },
    {
     "name": "stderr",
     "output_type": "stream",
     "text": [
      "\u001b[34m\u001b[1mwandb\u001b[0m: Sweep Agent: Waiting for job.\n",
      "\u001b[34m\u001b[1mwandb\u001b[0m: Job received.\n",
      "\u001b[34m\u001b[1mwandb\u001b[0m: Agent Starting Run: kr7voohr with config:\n",
      "\u001b[34m\u001b[1mwandb\u001b[0m: \tbandwidth: 0.3209529320016347\n",
      "\u001b[34m\u001b[1mwandb\u001b[0m: \tkernel: cosine\n"
     ]
    },
    {
     "data": {
      "text/html": [
       "Tracking run with wandb version 0.12.21"
      ],
      "text/plain": [
       "<IPython.core.display.HTML object>"
      ]
     },
     "metadata": {},
     "output_type": "display_data"
    },
    {
     "data": {
      "text/html": [
       "Run data is saved locally in <code>/Users/aakashsasikumar/Documents/MSc/Research/Dissimilar Policy/building-MARL/studies/wandb/run-20220728_183234-kr7voohr</code>"
      ],
      "text/plain": [
       "<IPython.core.display.HTML object>"
      ]
     },
     "metadata": {},
     "output_type": "display_data"
    },
    {
     "data": {
      "text/html": [
       "Syncing run <strong><a href=\"https://wandb.ai/aakashsasikumar/ContinuousOPEHyperParamTuningSNIPW_28_07_2022/runs/kr7voohr\" target=\"_blank\">hearty-sweep-53</a></strong> to <a href=\"https://wandb.ai/aakashsasikumar/ContinuousOPEHyperParamTuningSNIPW_28_07_2022\" target=\"_blank\">Weights & Biases</a> (<a href=\"https://wandb.me/run\" target=\"_blank\">docs</a>)<br/>Sweep page:  <a href=\"https://wandb.ai/aakashsasikumar/ContinuousOPEHyperParamTuningSNIPW_28_07_2022/sweeps/ci54h96s\" target=\"_blank\">https://wandb.ai/aakashsasikumar/ContinuousOPEHyperParamTuningSNIPW_28_07_2022/sweeps/ci54h96s</a>"
      ],
      "text/plain": [
       "<IPython.core.display.HTML object>"
      ]
     },
     "metadata": {},
     "output_type": "display_data"
    },
    {
     "data": {
      "text/html": [
       "Waiting for W&B process to finish... <strong style=\"color:green\">(success).</strong>"
      ],
      "text/plain": [
       "<IPython.core.display.HTML object>"
      ]
     },
     "metadata": {},
     "output_type": "display_data"
    },
    {
     "data": {
      "application/vnd.jupyter.widget-view+json": {
       "model_id": "1ab2386325994761b2f885ee36bf8735",
       "version_major": 2,
       "version_minor": 0
      },
      "text/plain": [
       "VBox(children=(Label(value='0.001 MB of 0.001 MB uploaded (0.000 MB deduped)\\r'), FloatProgress(value=1.0, max…"
      ]
     },
     "metadata": {},
     "output_type": "display_data"
    },
    {
     "data": {
      "text/html": [
       "<style>\n",
       "    table.wandb td:nth-child(1) { padding: 0 10px; text-align: left ; width: auto;} td:nth-child(2) {text-align: left ; width: 100%}\n",
       "    .wandb-row { display: flex; flex-direction: row; flex-wrap: wrap; justify-content: flex-start; width: 100% }\n",
       "    .wandb-col { display: flex; flex-direction: column; flex-basis: 100%; flex: 1; padding: 10px; }\n",
       "    </style>\n",
       "<div class=\"wandb-row\"><div class=\"wandb-col\"><h3>Run history:</h3><br/><table class=\"wandb\"><tr><td>average_spearman_correlation</td><td>▁</td></tr></table><br/></div><div class=\"wandb-col\"><h3>Run summary:</h3><br/><table class=\"wandb\"><tr><td>average_spearman_correlation</td><td>0.34883</td></tr></table><br/></div></div>"
      ],
      "text/plain": [
       "<IPython.core.display.HTML object>"
      ]
     },
     "metadata": {},
     "output_type": "display_data"
    },
    {
     "data": {
      "text/html": [
       "Synced <strong style=\"color:#cdcd00\">hearty-sweep-53</strong>: <a href=\"https://wandb.ai/aakashsasikumar/ContinuousOPEHyperParamTuningSNIPW_28_07_2022/runs/kr7voohr\" target=\"_blank\">https://wandb.ai/aakashsasikumar/ContinuousOPEHyperParamTuningSNIPW_28_07_2022/runs/kr7voohr</a><br/>Synced 4 W&B file(s), 0 media file(s), 0 artifact file(s) and 0 other file(s)"
      ],
      "text/plain": [
       "<IPython.core.display.HTML object>"
      ]
     },
     "metadata": {},
     "output_type": "display_data"
    },
    {
     "data": {
      "text/html": [
       "Find logs at: <code>./wandb/run-20220728_183234-kr7voohr/logs</code>"
      ],
      "text/plain": [
       "<IPython.core.display.HTML object>"
      ]
     },
     "metadata": {},
     "output_type": "display_data"
    },
    {
     "name": "stderr",
     "output_type": "stream",
     "text": [
      "\u001b[34m\u001b[1mwandb\u001b[0m: Agent Starting Run: a4lsmcyv with config:\n",
      "\u001b[34m\u001b[1mwandb\u001b[0m: \tbandwidth: 0.08916191365441323\n",
      "\u001b[34m\u001b[1mwandb\u001b[0m: \tkernel: triangular\n"
     ]
    },
    {
     "data": {
      "text/html": [
       "Tracking run with wandb version 0.12.21"
      ],
      "text/plain": [
       "<IPython.core.display.HTML object>"
      ]
     },
     "metadata": {},
     "output_type": "display_data"
    },
    {
     "data": {
      "text/html": [
       "Run data is saved locally in <code>/Users/aakashsasikumar/Documents/MSc/Research/Dissimilar Policy/building-MARL/studies/wandb/run-20220728_183333-a4lsmcyv</code>"
      ],
      "text/plain": [
       "<IPython.core.display.HTML object>"
      ]
     },
     "metadata": {},
     "output_type": "display_data"
    },
    {
     "data": {
      "text/html": [
       "Syncing run <strong><a href=\"https://wandb.ai/aakashsasikumar/ContinuousOPEHyperParamTuningSNIPW_28_07_2022/runs/a4lsmcyv\" target=\"_blank\">clean-sweep-54</a></strong> to <a href=\"https://wandb.ai/aakashsasikumar/ContinuousOPEHyperParamTuningSNIPW_28_07_2022\" target=\"_blank\">Weights & Biases</a> (<a href=\"https://wandb.me/run\" target=\"_blank\">docs</a>)<br/>Sweep page:  <a href=\"https://wandb.ai/aakashsasikumar/ContinuousOPEHyperParamTuningSNIPW_28_07_2022/sweeps/ci54h96s\" target=\"_blank\">https://wandb.ai/aakashsasikumar/ContinuousOPEHyperParamTuningSNIPW_28_07_2022/sweeps/ci54h96s</a>"
      ],
      "text/plain": [
       "<IPython.core.display.HTML object>"
      ]
     },
     "metadata": {},
     "output_type": "display_data"
    },
    {
     "name": "stderr",
     "output_type": "stream",
     "text": [
      "/Users/aakashsasikumar/.pyenv/versions/3.10.0/envs/test/lib/python3.10/site-packages/obp-0.5.5-py3.10.egg/obp/ope/estimators_continuous.py:388: RuntimeWarning: invalid value encountered in divide\n",
      "  estimated_rewards /= (kernel_func(u) / pscore).mean()\n"
     ]
    },
    {
     "data": {
      "text/html": [
       "Waiting for W&B process to finish... <strong style=\"color:green\">(success).</strong>"
      ],
      "text/plain": [
       "<IPython.core.display.HTML object>"
      ]
     },
     "metadata": {},
     "output_type": "display_data"
    },
    {
     "data": {
      "application/vnd.jupyter.widget-view+json": {
       "model_id": "be7b934959d64f549a84bce23bc11f68",
       "version_major": 2,
       "version_minor": 0
      },
      "text/plain": [
       "VBox(children=(Label(value='0.001 MB of 0.001 MB uploaded (0.000 MB deduped)\\r'), FloatProgress(value=1.0, max…"
      ]
     },
     "metadata": {},
     "output_type": "display_data"
    },
    {
     "data": {
      "text/html": [
       "<style>\n",
       "    table.wandb td:nth-child(1) { padding: 0 10px; text-align: left ; width: auto;} td:nth-child(2) {text-align: left ; width: 100%}\n",
       "    .wandb-row { display: flex; flex-direction: row; flex-wrap: wrap; justify-content: flex-start; width: 100% }\n",
       "    .wandb-col { display: flex; flex-direction: column; flex-basis: 100%; flex: 1; padding: 10px; }\n",
       "    </style>\n",
       "<div class=\"wandb-row\"><div class=\"wandb-col\"><h3>Run history:</h3><br/><table class=\"wandb\"><tr><td>average_spearman_correlation</td><td>▁</td></tr></table><br/></div><div class=\"wandb-col\"><h3>Run summary:</h3><br/><table class=\"wandb\"><tr><td>average_spearman_correlation</td><td>0.28893</td></tr></table><br/></div></div>"
      ],
      "text/plain": [
       "<IPython.core.display.HTML object>"
      ]
     },
     "metadata": {},
     "output_type": "display_data"
    },
    {
     "data": {
      "text/html": [
       "Synced <strong style=\"color:#cdcd00\">clean-sweep-54</strong>: <a href=\"https://wandb.ai/aakashsasikumar/ContinuousOPEHyperParamTuningSNIPW_28_07_2022/runs/a4lsmcyv\" target=\"_blank\">https://wandb.ai/aakashsasikumar/ContinuousOPEHyperParamTuningSNIPW_28_07_2022/runs/a4lsmcyv</a><br/>Synced 5 W&B file(s), 0 media file(s), 0 artifact file(s) and 0 other file(s)"
      ],
      "text/plain": [
       "<IPython.core.display.HTML object>"
      ]
     },
     "metadata": {},
     "output_type": "display_data"
    },
    {
     "data": {
      "text/html": [
       "Find logs at: <code>./wandb/run-20220728_183333-a4lsmcyv/logs</code>"
      ],
      "text/plain": [
       "<IPython.core.display.HTML object>"
      ]
     },
     "metadata": {},
     "output_type": "display_data"
    },
    {
     "name": "stderr",
     "output_type": "stream",
     "text": [
      "\u001b[34m\u001b[1mwandb\u001b[0m: Sweep Agent: Waiting for job.\n",
      "\u001b[34m\u001b[1mwandb\u001b[0m: Job received.\n",
      "\u001b[34m\u001b[1mwandb\u001b[0m: Agent Starting Run: cg5solsf with config:\n",
      "\u001b[34m\u001b[1mwandb\u001b[0m: \tbandwidth: 0.24320059296582913\n",
      "\u001b[34m\u001b[1mwandb\u001b[0m: \tkernel: triangular\n"
     ]
    },
    {
     "data": {
      "text/html": [
       "Tracking run with wandb version 0.12.21"
      ],
      "text/plain": [
       "<IPython.core.display.HTML object>"
      ]
     },
     "metadata": {},
     "output_type": "display_data"
    },
    {
     "data": {
      "text/html": [
       "Run data is saved locally in <code>/Users/aakashsasikumar/Documents/MSc/Research/Dissimilar Policy/building-MARL/studies/wandb/run-20220728_183433-cg5solsf</code>"
      ],
      "text/plain": [
       "<IPython.core.display.HTML object>"
      ]
     },
     "metadata": {},
     "output_type": "display_data"
    },
    {
     "data": {
      "text/html": [
       "Syncing run <strong><a href=\"https://wandb.ai/aakashsasikumar/ContinuousOPEHyperParamTuningSNIPW_28_07_2022/runs/cg5solsf\" target=\"_blank\">smart-sweep-55</a></strong> to <a href=\"https://wandb.ai/aakashsasikumar/ContinuousOPEHyperParamTuningSNIPW_28_07_2022\" target=\"_blank\">Weights & Biases</a> (<a href=\"https://wandb.me/run\" target=\"_blank\">docs</a>)<br/>Sweep page:  <a href=\"https://wandb.ai/aakashsasikumar/ContinuousOPEHyperParamTuningSNIPW_28_07_2022/sweeps/ci54h96s\" target=\"_blank\">https://wandb.ai/aakashsasikumar/ContinuousOPEHyperParamTuningSNIPW_28_07_2022/sweeps/ci54h96s</a>"
      ],
      "text/plain": [
       "<IPython.core.display.HTML object>"
      ]
     },
     "metadata": {},
     "output_type": "display_data"
    },
    {
     "name": "stderr",
     "output_type": "stream",
     "text": [
      "/Users/aakashsasikumar/.pyenv/versions/3.10.0/envs/test/lib/python3.10/site-packages/obp-0.5.5-py3.10.egg/obp/ope/estimators_continuous.py:388: RuntimeWarning: invalid value encountered in divide\n",
      "  estimated_rewards /= (kernel_func(u) / pscore).mean()\n"
     ]
    },
    {
     "data": {
      "text/html": [
       "Waiting for W&B process to finish... <strong style=\"color:green\">(success).</strong>"
      ],
      "text/plain": [
       "<IPython.core.display.HTML object>"
      ]
     },
     "metadata": {},
     "output_type": "display_data"
    },
    {
     "data": {
      "application/vnd.jupyter.widget-view+json": {
       "model_id": "a8763a6e95a94bbfa86a09734bde87d6",
       "version_major": 2,
       "version_minor": 0
      },
      "text/plain": [
       "VBox(children=(Label(value='0.001 MB of 0.001 MB uploaded (0.000 MB deduped)\\r'), FloatProgress(value=1.0, max…"
      ]
     },
     "metadata": {},
     "output_type": "display_data"
    },
    {
     "data": {
      "text/html": [
       "<style>\n",
       "    table.wandb td:nth-child(1) { padding: 0 10px; text-align: left ; width: auto;} td:nth-child(2) {text-align: left ; width: 100%}\n",
       "    .wandb-row { display: flex; flex-direction: row; flex-wrap: wrap; justify-content: flex-start; width: 100% }\n",
       "    .wandb-col { display: flex; flex-direction: column; flex-basis: 100%; flex: 1; padding: 10px; }\n",
       "    </style>\n",
       "<div class=\"wandb-row\"><div class=\"wandb-col\"><h3>Run history:</h3><br/><table class=\"wandb\"><tr><td>average_spearman_correlation</td><td>▁</td></tr></table><br/></div><div class=\"wandb-col\"><h3>Run summary:</h3><br/><table class=\"wandb\"><tr><td>average_spearman_correlation</td><td>0.27597</td></tr></table><br/></div></div>"
      ],
      "text/plain": [
       "<IPython.core.display.HTML object>"
      ]
     },
     "metadata": {},
     "output_type": "display_data"
    },
    {
     "data": {
      "text/html": [
       "Synced <strong style=\"color:#cdcd00\">smart-sweep-55</strong>: <a href=\"https://wandb.ai/aakashsasikumar/ContinuousOPEHyperParamTuningSNIPW_28_07_2022/runs/cg5solsf\" target=\"_blank\">https://wandb.ai/aakashsasikumar/ContinuousOPEHyperParamTuningSNIPW_28_07_2022/runs/cg5solsf</a><br/>Synced 5 W&B file(s), 0 media file(s), 0 artifact file(s) and 0 other file(s)"
      ],
      "text/plain": [
       "<IPython.core.display.HTML object>"
      ]
     },
     "metadata": {},
     "output_type": "display_data"
    },
    {
     "data": {
      "text/html": [
       "Find logs at: <code>./wandb/run-20220728_183433-cg5solsf/logs</code>"
      ],
      "text/plain": [
       "<IPython.core.display.HTML object>"
      ]
     },
     "metadata": {},
     "output_type": "display_data"
    },
    {
     "name": "stderr",
     "output_type": "stream",
     "text": [
      "\u001b[34m\u001b[1mwandb\u001b[0m: Agent Starting Run: 63n2sae5 with config:\n",
      "\u001b[34m\u001b[1mwandb\u001b[0m: \tbandwidth: 0.16316932585662292\n",
      "\u001b[34m\u001b[1mwandb\u001b[0m: \tkernel: cosine\n"
     ]
    },
    {
     "data": {
      "text/html": [
       "Tracking run with wandb version 0.12.21"
      ],
      "text/plain": [
       "<IPython.core.display.HTML object>"
      ]
     },
     "metadata": {},
     "output_type": "display_data"
    },
    {
     "data": {
      "text/html": [
       "Run data is saved locally in <code>/Users/aakashsasikumar/Documents/MSc/Research/Dissimilar Policy/building-MARL/studies/wandb/run-20220728_183527-63n2sae5</code>"
      ],
      "text/plain": [
       "<IPython.core.display.HTML object>"
      ]
     },
     "metadata": {},
     "output_type": "display_data"
    },
    {
     "data": {
      "text/html": [
       "Syncing run <strong><a href=\"https://wandb.ai/aakashsasikumar/ContinuousOPEHyperParamTuningSNIPW_28_07_2022/runs/63n2sae5\" target=\"_blank\">ruby-sweep-56</a></strong> to <a href=\"https://wandb.ai/aakashsasikumar/ContinuousOPEHyperParamTuningSNIPW_28_07_2022\" target=\"_blank\">Weights & Biases</a> (<a href=\"https://wandb.me/run\" target=\"_blank\">docs</a>)<br/>Sweep page:  <a href=\"https://wandb.ai/aakashsasikumar/ContinuousOPEHyperParamTuningSNIPW_28_07_2022/sweeps/ci54h96s\" target=\"_blank\">https://wandb.ai/aakashsasikumar/ContinuousOPEHyperParamTuningSNIPW_28_07_2022/sweeps/ci54h96s</a>"
      ],
      "text/plain": [
       "<IPython.core.display.HTML object>"
      ]
     },
     "metadata": {},
     "output_type": "display_data"
    },
    {
     "data": {
      "text/html": [
       "Waiting for W&B process to finish... <strong style=\"color:green\">(success).</strong>"
      ],
      "text/plain": [
       "<IPython.core.display.HTML object>"
      ]
     },
     "metadata": {},
     "output_type": "display_data"
    },
    {
     "data": {
      "application/vnd.jupyter.widget-view+json": {
       "model_id": "1d7950bf128c4bd9bdf2c2b482263bcf",
       "version_major": 2,
       "version_minor": 0
      },
      "text/plain": [
       "VBox(children=(Label(value='0.001 MB of 0.001 MB uploaded (0.000 MB deduped)\\r'), FloatProgress(value=1.0, max…"
      ]
     },
     "metadata": {},
     "output_type": "display_data"
    },
    {
     "data": {
      "text/html": [
       "<style>\n",
       "    table.wandb td:nth-child(1) { padding: 0 10px; text-align: left ; width: auto;} td:nth-child(2) {text-align: left ; width: 100%}\n",
       "    .wandb-row { display: flex; flex-direction: row; flex-wrap: wrap; justify-content: flex-start; width: 100% }\n",
       "    .wandb-col { display: flex; flex-direction: column; flex-basis: 100%; flex: 1; padding: 10px; }\n",
       "    </style>\n",
       "<div class=\"wandb-row\"><div class=\"wandb-col\"><h3>Run history:</h3><br/><table class=\"wandb\"><tr><td>average_spearman_correlation</td><td>▁</td></tr></table><br/></div><div class=\"wandb-col\"><h3>Run summary:</h3><br/><table class=\"wandb\"><tr><td>average_spearman_correlation</td><td>0.39961</td></tr></table><br/></div></div>"
      ],
      "text/plain": [
       "<IPython.core.display.HTML object>"
      ]
     },
     "metadata": {},
     "output_type": "display_data"
    },
    {
     "data": {
      "text/html": [
       "Synced <strong style=\"color:#cdcd00\">ruby-sweep-56</strong>: <a href=\"https://wandb.ai/aakashsasikumar/ContinuousOPEHyperParamTuningSNIPW_28_07_2022/runs/63n2sae5\" target=\"_blank\">https://wandb.ai/aakashsasikumar/ContinuousOPEHyperParamTuningSNIPW_28_07_2022/runs/63n2sae5</a><br/>Synced 4 W&B file(s), 0 media file(s), 0 artifact file(s) and 0 other file(s)"
      ],
      "text/plain": [
       "<IPython.core.display.HTML object>"
      ]
     },
     "metadata": {},
     "output_type": "display_data"
    },
    {
     "data": {
      "text/html": [
       "Find logs at: <code>./wandb/run-20220728_183527-63n2sae5/logs</code>"
      ],
      "text/plain": [
       "<IPython.core.display.HTML object>"
      ]
     },
     "metadata": {},
     "output_type": "display_data"
    },
    {
     "name": "stderr",
     "output_type": "stream",
     "text": [
      "\u001b[34m\u001b[1mwandb\u001b[0m: Sweep Agent: Waiting for job.\n",
      "\u001b[34m\u001b[1mwandb\u001b[0m: Job received.\n",
      "\u001b[34m\u001b[1mwandb\u001b[0m: Agent Starting Run: pgu8ba3f with config:\n",
      "\u001b[34m\u001b[1mwandb\u001b[0m: \tbandwidth: 0.1231972884464358\n",
      "\u001b[34m\u001b[1mwandb\u001b[0m: \tkernel: epanechnikov\n"
     ]
    },
    {
     "data": {
      "text/html": [
       "Tracking run with wandb version 0.12.21"
      ],
      "text/plain": [
       "<IPython.core.display.HTML object>"
      ]
     },
     "metadata": {},
     "output_type": "display_data"
    },
    {
     "data": {
      "text/html": [
       "Run data is saved locally in <code>/Users/aakashsasikumar/Documents/MSc/Research/Dissimilar Policy/building-MARL/studies/wandb/run-20220728_183630-pgu8ba3f</code>"
      ],
      "text/plain": [
       "<IPython.core.display.HTML object>"
      ]
     },
     "metadata": {},
     "output_type": "display_data"
    },
    {
     "data": {
      "text/html": [
       "Syncing run <strong><a href=\"https://wandb.ai/aakashsasikumar/ContinuousOPEHyperParamTuningSNIPW_28_07_2022/runs/pgu8ba3f\" target=\"_blank\">avid-sweep-57</a></strong> to <a href=\"https://wandb.ai/aakashsasikumar/ContinuousOPEHyperParamTuningSNIPW_28_07_2022\" target=\"_blank\">Weights & Biases</a> (<a href=\"https://wandb.me/run\" target=\"_blank\">docs</a>)<br/>Sweep page:  <a href=\"https://wandb.ai/aakashsasikumar/ContinuousOPEHyperParamTuningSNIPW_28_07_2022/sweeps/ci54h96s\" target=\"_blank\">https://wandb.ai/aakashsasikumar/ContinuousOPEHyperParamTuningSNIPW_28_07_2022/sweeps/ci54h96s</a>"
      ],
      "text/plain": [
       "<IPython.core.display.HTML object>"
      ]
     },
     "metadata": {},
     "output_type": "display_data"
    },
    {
     "name": "stderr",
     "output_type": "stream",
     "text": [
      "/Users/aakashsasikumar/.pyenv/versions/3.10.0/envs/test/lib/python3.10/site-packages/obp-0.5.5-py3.10.egg/obp/ope/estimators_continuous.py:388: RuntimeWarning: invalid value encountered in divide\n",
      "  estimated_rewards /= (kernel_func(u) / pscore).mean()\n"
     ]
    },
    {
     "data": {
      "text/html": [
       "Waiting for W&B process to finish... <strong style=\"color:green\">(success).</strong>"
      ],
      "text/plain": [
       "<IPython.core.display.HTML object>"
      ]
     },
     "metadata": {},
     "output_type": "display_data"
    },
    {
     "data": {
      "application/vnd.jupyter.widget-view+json": {
       "model_id": "62d5520be0984a20adb7dd7dda815533",
       "version_major": 2,
       "version_minor": 0
      },
      "text/plain": [
       "VBox(children=(Label(value='0.001 MB of 0.001 MB uploaded (0.000 MB deduped)\\r'), FloatProgress(value=1.0, max…"
      ]
     },
     "metadata": {},
     "output_type": "display_data"
    },
    {
     "data": {
      "text/html": [
       "<style>\n",
       "    table.wandb td:nth-child(1) { padding: 0 10px; text-align: left ; width: auto;} td:nth-child(2) {text-align: left ; width: 100%}\n",
       "    .wandb-row { display: flex; flex-direction: row; flex-wrap: wrap; justify-content: flex-start; width: 100% }\n",
       "    .wandb-col { display: flex; flex-direction: column; flex-basis: 100%; flex: 1; padding: 10px; }\n",
       "    </style>\n",
       "<div class=\"wandb-row\"><div class=\"wandb-col\"><h3>Run history:</h3><br/><table class=\"wandb\"><tr><td>average_spearman_correlation</td><td>▁</td></tr></table><br/></div><div class=\"wandb-col\"><h3>Run summary:</h3><br/><table class=\"wandb\"><tr><td>average_spearman_correlation</td><td>0.27302</td></tr></table><br/></div></div>"
      ],
      "text/plain": [
       "<IPython.core.display.HTML object>"
      ]
     },
     "metadata": {},
     "output_type": "display_data"
    },
    {
     "data": {
      "text/html": [
       "Synced <strong style=\"color:#cdcd00\">avid-sweep-57</strong>: <a href=\"https://wandb.ai/aakashsasikumar/ContinuousOPEHyperParamTuningSNIPW_28_07_2022/runs/pgu8ba3f\" target=\"_blank\">https://wandb.ai/aakashsasikumar/ContinuousOPEHyperParamTuningSNIPW_28_07_2022/runs/pgu8ba3f</a><br/>Synced 5 W&B file(s), 0 media file(s), 0 artifact file(s) and 0 other file(s)"
      ],
      "text/plain": [
       "<IPython.core.display.HTML object>"
      ]
     },
     "metadata": {},
     "output_type": "display_data"
    },
    {
     "data": {
      "text/html": [
       "Find logs at: <code>./wandb/run-20220728_183630-pgu8ba3f/logs</code>"
      ],
      "text/plain": [
       "<IPython.core.display.HTML object>"
      ]
     },
     "metadata": {},
     "output_type": "display_data"
    },
    {
     "name": "stderr",
     "output_type": "stream",
     "text": [
      "\u001b[34m\u001b[1mwandb\u001b[0m: Sweep Agent: Waiting for job.\n",
      "\u001b[34m\u001b[1mwandb\u001b[0m: Job received.\n",
      "\u001b[34m\u001b[1mwandb\u001b[0m: Agent Starting Run: swjrpa0f with config:\n",
      "\u001b[34m\u001b[1mwandb\u001b[0m: \tbandwidth: 0.18095165812691488\n",
      "\u001b[34m\u001b[1mwandb\u001b[0m: \tkernel: gaussian\n"
     ]
    },
    {
     "data": {
      "text/html": [
       "Tracking run with wandb version 0.12.21"
      ],
      "text/plain": [
       "<IPython.core.display.HTML object>"
      ]
     },
     "metadata": {},
     "output_type": "display_data"
    },
    {
     "data": {
      "text/html": [
       "Run data is saved locally in <code>/Users/aakashsasikumar/Documents/MSc/Research/Dissimilar Policy/building-MARL/studies/wandb/run-20220728_183731-swjrpa0f</code>"
      ],
      "text/plain": [
       "<IPython.core.display.HTML object>"
      ]
     },
     "metadata": {},
     "output_type": "display_data"
    },
    {
     "data": {
      "text/html": [
       "Syncing run <strong><a href=\"https://wandb.ai/aakashsasikumar/ContinuousOPEHyperParamTuningSNIPW_28_07_2022/runs/swjrpa0f\" target=\"_blank\">glad-sweep-58</a></strong> to <a href=\"https://wandb.ai/aakashsasikumar/ContinuousOPEHyperParamTuningSNIPW_28_07_2022\" target=\"_blank\">Weights & Biases</a> (<a href=\"https://wandb.me/run\" target=\"_blank\">docs</a>)<br/>Sweep page:  <a href=\"https://wandb.ai/aakashsasikumar/ContinuousOPEHyperParamTuningSNIPW_28_07_2022/sweeps/ci54h96s\" target=\"_blank\">https://wandb.ai/aakashsasikumar/ContinuousOPEHyperParamTuningSNIPW_28_07_2022/sweeps/ci54h96s</a>"
      ],
      "text/plain": [
       "<IPython.core.display.HTML object>"
      ]
     },
     "metadata": {},
     "output_type": "display_data"
    },
    {
     "data": {
      "text/html": [
       "Waiting for W&B process to finish... <strong style=\"color:green\">(success).</strong>"
      ],
      "text/plain": [
       "<IPython.core.display.HTML object>"
      ]
     },
     "metadata": {},
     "output_type": "display_data"
    },
    {
     "data": {
      "application/vnd.jupyter.widget-view+json": {
       "model_id": "8dcb4c70a5814c32ab77bd7ba5b36596",
       "version_major": 2,
       "version_minor": 0
      },
      "text/plain": [
       "VBox(children=(Label(value='0.001 MB of 0.001 MB uploaded (0.000 MB deduped)\\r'), FloatProgress(value=1.0, max…"
      ]
     },
     "metadata": {},
     "output_type": "display_data"
    },
    {
     "data": {
      "text/html": [
       "<style>\n",
       "    table.wandb td:nth-child(1) { padding: 0 10px; text-align: left ; width: auto;} td:nth-child(2) {text-align: left ; width: 100%}\n",
       "    .wandb-row { display: flex; flex-direction: row; flex-wrap: wrap; justify-content: flex-start; width: 100% }\n",
       "    .wandb-col { display: flex; flex-direction: column; flex-basis: 100%; flex: 1; padding: 10px; }\n",
       "    </style>\n",
       "<div class=\"wandb-row\"><div class=\"wandb-col\"><h3>Run history:</h3><br/><table class=\"wandb\"><tr><td>average_spearman_correlation</td><td>▁</td></tr></table><br/></div><div class=\"wandb-col\"><h3>Run summary:</h3><br/><table class=\"wandb\"><tr><td>average_spearman_correlation</td><td>0.18583</td></tr></table><br/></div></div>"
      ],
      "text/plain": [
       "<IPython.core.display.HTML object>"
      ]
     },
     "metadata": {},
     "output_type": "display_data"
    },
    {
     "data": {
      "text/html": [
       "Synced <strong style=\"color:#cdcd00\">glad-sweep-58</strong>: <a href=\"https://wandb.ai/aakashsasikumar/ContinuousOPEHyperParamTuningSNIPW_28_07_2022/runs/swjrpa0f\" target=\"_blank\">https://wandb.ai/aakashsasikumar/ContinuousOPEHyperParamTuningSNIPW_28_07_2022/runs/swjrpa0f</a><br/>Synced 4 W&B file(s), 0 media file(s), 0 artifact file(s) and 0 other file(s)"
      ],
      "text/plain": [
       "<IPython.core.display.HTML object>"
      ]
     },
     "metadata": {},
     "output_type": "display_data"
    },
    {
     "data": {
      "text/html": [
       "Find logs at: <code>./wandb/run-20220728_183731-swjrpa0f/logs</code>"
      ],
      "text/plain": [
       "<IPython.core.display.HTML object>"
      ]
     },
     "metadata": {},
     "output_type": "display_data"
    },
    {
     "name": "stderr",
     "output_type": "stream",
     "text": [
      "\u001b[34m\u001b[1mwandb\u001b[0m: Agent Starting Run: y6ia8wg2 with config:\n",
      "\u001b[34m\u001b[1mwandb\u001b[0m: \tbandwidth: 0.001944359142891372\n",
      "\u001b[34m\u001b[1mwandb\u001b[0m: \tkernel: triangular\n"
     ]
    },
    {
     "data": {
      "text/html": [
       "Tracking run with wandb version 0.12.21"
      ],
      "text/plain": [
       "<IPython.core.display.HTML object>"
      ]
     },
     "metadata": {},
     "output_type": "display_data"
    },
    {
     "data": {
      "text/html": [
       "Run data is saved locally in <code>/Users/aakashsasikumar/Documents/MSc/Research/Dissimilar Policy/building-MARL/studies/wandb/run-20220728_183824-y6ia8wg2</code>"
      ],
      "text/plain": [
       "<IPython.core.display.HTML object>"
      ]
     },
     "metadata": {},
     "output_type": "display_data"
    },
    {
     "data": {
      "text/html": [
       "Syncing run <strong><a href=\"https://wandb.ai/aakashsasikumar/ContinuousOPEHyperParamTuningSNIPW_28_07_2022/runs/y6ia8wg2\" target=\"_blank\">generous-sweep-59</a></strong> to <a href=\"https://wandb.ai/aakashsasikumar/ContinuousOPEHyperParamTuningSNIPW_28_07_2022\" target=\"_blank\">Weights & Biases</a> (<a href=\"https://wandb.me/run\" target=\"_blank\">docs</a>)<br/>Sweep page:  <a href=\"https://wandb.ai/aakashsasikumar/ContinuousOPEHyperParamTuningSNIPW_28_07_2022/sweeps/ci54h96s\" target=\"_blank\">https://wandb.ai/aakashsasikumar/ContinuousOPEHyperParamTuningSNIPW_28_07_2022/sweeps/ci54h96s</a>"
      ],
      "text/plain": [
       "<IPython.core.display.HTML object>"
      ]
     },
     "metadata": {},
     "output_type": "display_data"
    },
    {
     "name": "stderr",
     "output_type": "stream",
     "text": [
      "/Users/aakashsasikumar/.pyenv/versions/3.10.0/envs/test/lib/python3.10/site-packages/obp-0.5.5-py3.10.egg/obp/ope/estimators_continuous.py:388: RuntimeWarning: invalid value encountered in divide\n",
      "  estimated_rewards /= (kernel_func(u) / pscore).mean()\n"
     ]
    },
    {
     "data": {
      "text/html": [
       "Waiting for W&B process to finish... <strong style=\"color:green\">(success).</strong>"
      ],
      "text/plain": [
       "<IPython.core.display.HTML object>"
      ]
     },
     "metadata": {},
     "output_type": "display_data"
    },
    {
     "data": {
      "application/vnd.jupyter.widget-view+json": {
       "model_id": "5dd38cd6bbba494b9db13c1c1f6b2502",
       "version_major": 2,
       "version_minor": 0
      },
      "text/plain": [
       "VBox(children=(Label(value='0.001 MB of 0.001 MB uploaded (0.000 MB deduped)\\r'), FloatProgress(value=1.0, max…"
      ]
     },
     "metadata": {},
     "output_type": "display_data"
    },
    {
     "data": {
      "text/html": [
       "<style>\n",
       "    table.wandb td:nth-child(1) { padding: 0 10px; text-align: left ; width: auto;} td:nth-child(2) {text-align: left ; width: 100%}\n",
       "    .wandb-row { display: flex; flex-direction: row; flex-wrap: wrap; justify-content: flex-start; width: 100% }\n",
       "    .wandb-col { display: flex; flex-direction: column; flex-basis: 100%; flex: 1; padding: 10px; }\n",
       "    </style>\n",
       "<div class=\"wandb-row\"><div class=\"wandb-col\"><h3>Run history:</h3><br/><table class=\"wandb\"><tr><td>average_spearman_correlation</td><td>▁</td></tr></table><br/></div><div class=\"wandb-col\"><h3>Run summary:</h3><br/><table class=\"wandb\"><tr><td>average_spearman_correlation</td><td>0.14399</td></tr></table><br/></div></div>"
      ],
      "text/plain": [
       "<IPython.core.display.HTML object>"
      ]
     },
     "metadata": {},
     "output_type": "display_data"
    },
    {
     "data": {
      "text/html": [
       "Synced <strong style=\"color:#cdcd00\">generous-sweep-59</strong>: <a href=\"https://wandb.ai/aakashsasikumar/ContinuousOPEHyperParamTuningSNIPW_28_07_2022/runs/y6ia8wg2\" target=\"_blank\">https://wandb.ai/aakashsasikumar/ContinuousOPEHyperParamTuningSNIPW_28_07_2022/runs/y6ia8wg2</a><br/>Synced 5 W&B file(s), 0 media file(s), 0 artifact file(s) and 0 other file(s)"
      ],
      "text/plain": [
       "<IPython.core.display.HTML object>"
      ]
     },
     "metadata": {},
     "output_type": "display_data"
    },
    {
     "data": {
      "text/html": [
       "Find logs at: <code>./wandb/run-20220728_183824-y6ia8wg2/logs</code>"
      ],
      "text/plain": [
       "<IPython.core.display.HTML object>"
      ]
     },
     "metadata": {},
     "output_type": "display_data"
    },
    {
     "name": "stderr",
     "output_type": "stream",
     "text": [
      "\u001b[34m\u001b[1mwandb\u001b[0m: Sweep Agent: Waiting for job.\n",
      "\u001b[34m\u001b[1mwandb\u001b[0m: Job received.\n",
      "\u001b[34m\u001b[1mwandb\u001b[0m: Agent Starting Run: gd3c5o5z with config:\n",
      "\u001b[34m\u001b[1mwandb\u001b[0m: \tbandwidth: 0.2107070088984576\n",
      "\u001b[34m\u001b[1mwandb\u001b[0m: \tkernel: cosine\n"
     ]
    },
    {
     "data": {
      "text/html": [
       "Tracking run with wandb version 0.12.21"
      ],
      "text/plain": [
       "<IPython.core.display.HTML object>"
      ]
     },
     "metadata": {},
     "output_type": "display_data"
    },
    {
     "data": {
      "text/html": [
       "Run data is saved locally in <code>/Users/aakashsasikumar/Documents/MSc/Research/Dissimilar Policy/building-MARL/studies/wandb/run-20220728_183927-gd3c5o5z</code>"
      ],
      "text/plain": [
       "<IPython.core.display.HTML object>"
      ]
     },
     "metadata": {},
     "output_type": "display_data"
    },
    {
     "data": {
      "text/html": [
       "Syncing run <strong><a href=\"https://wandb.ai/aakashsasikumar/ContinuousOPEHyperParamTuningSNIPW_28_07_2022/runs/gd3c5o5z\" target=\"_blank\">dry-sweep-60</a></strong> to <a href=\"https://wandb.ai/aakashsasikumar/ContinuousOPEHyperParamTuningSNIPW_28_07_2022\" target=\"_blank\">Weights & Biases</a> (<a href=\"https://wandb.me/run\" target=\"_blank\">docs</a>)<br/>Sweep page:  <a href=\"https://wandb.ai/aakashsasikumar/ContinuousOPEHyperParamTuningSNIPW_28_07_2022/sweeps/ci54h96s\" target=\"_blank\">https://wandb.ai/aakashsasikumar/ContinuousOPEHyperParamTuningSNIPW_28_07_2022/sweeps/ci54h96s</a>"
      ],
      "text/plain": [
       "<IPython.core.display.HTML object>"
      ]
     },
     "metadata": {},
     "output_type": "display_data"
    },
    {
     "data": {
      "text/html": [
       "Waiting for W&B process to finish... <strong style=\"color:green\">(success).</strong>"
      ],
      "text/plain": [
       "<IPython.core.display.HTML object>"
      ]
     },
     "metadata": {},
     "output_type": "display_data"
    },
    {
     "data": {
      "application/vnd.jupyter.widget-view+json": {
       "model_id": "6bfc7ac4140d4cd5bb7977133e857a18",
       "version_major": 2,
       "version_minor": 0
      },
      "text/plain": [
       "VBox(children=(Label(value='0.001 MB of 0.001 MB uploaded (0.000 MB deduped)\\r'), FloatProgress(value=1.0, max…"
      ]
     },
     "metadata": {},
     "output_type": "display_data"
    },
    {
     "data": {
      "text/html": [
       "<style>\n",
       "    table.wandb td:nth-child(1) { padding: 0 10px; text-align: left ; width: auto;} td:nth-child(2) {text-align: left ; width: 100%}\n",
       "    .wandb-row { display: flex; flex-direction: row; flex-wrap: wrap; justify-content: flex-start; width: 100% }\n",
       "    .wandb-col { display: flex; flex-direction: column; flex-basis: 100%; flex: 1; padding: 10px; }\n",
       "    </style>\n",
       "<div class=\"wandb-row\"><div class=\"wandb-col\"><h3>Run history:</h3><br/><table class=\"wandb\"><tr><td>average_spearman_correlation</td><td>▁</td></tr></table><br/></div><div class=\"wandb-col\"><h3>Run summary:</h3><br/><table class=\"wandb\"><tr><td>average_spearman_correlation</td><td>0.37756</td></tr></table><br/></div></div>"
      ],
      "text/plain": [
       "<IPython.core.display.HTML object>"
      ]
     },
     "metadata": {},
     "output_type": "display_data"
    },
    {
     "data": {
      "text/html": [
       "Synced <strong style=\"color:#cdcd00\">dry-sweep-60</strong>: <a href=\"https://wandb.ai/aakashsasikumar/ContinuousOPEHyperParamTuningSNIPW_28_07_2022/runs/gd3c5o5z\" target=\"_blank\">https://wandb.ai/aakashsasikumar/ContinuousOPEHyperParamTuningSNIPW_28_07_2022/runs/gd3c5o5z</a><br/>Synced 4 W&B file(s), 0 media file(s), 0 artifact file(s) and 0 other file(s)"
      ],
      "text/plain": [
       "<IPython.core.display.HTML object>"
      ]
     },
     "metadata": {},
     "output_type": "display_data"
    },
    {
     "data": {
      "text/html": [
       "Find logs at: <code>./wandb/run-20220728_183927-gd3c5o5z/logs</code>"
      ],
      "text/plain": [
       "<IPython.core.display.HTML object>"
      ]
     },
     "metadata": {},
     "output_type": "display_data"
    },
    {
     "name": "stderr",
     "output_type": "stream",
     "text": [
      "\u001b[34m\u001b[1mwandb\u001b[0m: Agent Starting Run: 6se54077 with config:\n",
      "\u001b[34m\u001b[1mwandb\u001b[0m: \tbandwidth: 0.10943957201986082\n",
      "\u001b[34m\u001b[1mwandb\u001b[0m: \tkernel: gaussian\n"
     ]
    },
    {
     "data": {
      "text/html": [
       "Tracking run with wandb version 0.12.21"
      ],
      "text/plain": [
       "<IPython.core.display.HTML object>"
      ]
     },
     "metadata": {},
     "output_type": "display_data"
    },
    {
     "data": {
      "text/html": [
       "Run data is saved locally in <code>/Users/aakashsasikumar/Documents/MSc/Research/Dissimilar Policy/building-MARL/studies/wandb/run-20220728_184021-6se54077</code>"
      ],
      "text/plain": [
       "<IPython.core.display.HTML object>"
      ]
     },
     "metadata": {},
     "output_type": "display_data"
    },
    {
     "data": {
      "text/html": [
       "Syncing run <strong><a href=\"https://wandb.ai/aakashsasikumar/ContinuousOPEHyperParamTuningSNIPW_28_07_2022/runs/6se54077\" target=\"_blank\">eternal-sweep-61</a></strong> to <a href=\"https://wandb.ai/aakashsasikumar/ContinuousOPEHyperParamTuningSNIPW_28_07_2022\" target=\"_blank\">Weights & Biases</a> (<a href=\"https://wandb.me/run\" target=\"_blank\">docs</a>)<br/>Sweep page:  <a href=\"https://wandb.ai/aakashsasikumar/ContinuousOPEHyperParamTuningSNIPW_28_07_2022/sweeps/ci54h96s\" target=\"_blank\">https://wandb.ai/aakashsasikumar/ContinuousOPEHyperParamTuningSNIPW_28_07_2022/sweeps/ci54h96s</a>"
      ],
      "text/plain": [
       "<IPython.core.display.HTML object>"
      ]
     },
     "metadata": {},
     "output_type": "display_data"
    },
    {
     "data": {
      "text/html": [
       "Waiting for W&B process to finish... <strong style=\"color:green\">(success).</strong>"
      ],
      "text/plain": [
       "<IPython.core.display.HTML object>"
      ]
     },
     "metadata": {},
     "output_type": "display_data"
    },
    {
     "data": {
      "application/vnd.jupyter.widget-view+json": {
       "model_id": "8014182fbdd54532ac546491c270b1ca",
       "version_major": 2,
       "version_minor": 0
      },
      "text/plain": [
       "VBox(children=(Label(value='0.001 MB of 0.001 MB uploaded (0.000 MB deduped)\\r'), FloatProgress(value=1.0, max…"
      ]
     },
     "metadata": {},
     "output_type": "display_data"
    },
    {
     "data": {
      "text/html": [
       "<style>\n",
       "    table.wandb td:nth-child(1) { padding: 0 10px; text-align: left ; width: auto;} td:nth-child(2) {text-align: left ; width: 100%}\n",
       "    .wandb-row { display: flex; flex-direction: row; flex-wrap: wrap; justify-content: flex-start; width: 100% }\n",
       "    .wandb-col { display: flex; flex-direction: column; flex-basis: 100%; flex: 1; padding: 10px; }\n",
       "    </style>\n",
       "<div class=\"wandb-row\"><div class=\"wandb-col\"><h3>Run history:</h3><br/><table class=\"wandb\"><tr><td>average_spearman_correlation</td><td>▁</td></tr></table><br/></div><div class=\"wandb-col\"><h3>Run summary:</h3><br/><table class=\"wandb\"><tr><td>average_spearman_correlation</td><td>0.20395</td></tr></table><br/></div></div>"
      ],
      "text/plain": [
       "<IPython.core.display.HTML object>"
      ]
     },
     "metadata": {},
     "output_type": "display_data"
    },
    {
     "data": {
      "text/html": [
       "Synced <strong style=\"color:#cdcd00\">eternal-sweep-61</strong>: <a href=\"https://wandb.ai/aakashsasikumar/ContinuousOPEHyperParamTuningSNIPW_28_07_2022/runs/6se54077\" target=\"_blank\">https://wandb.ai/aakashsasikumar/ContinuousOPEHyperParamTuningSNIPW_28_07_2022/runs/6se54077</a><br/>Synced 4 W&B file(s), 0 media file(s), 0 artifact file(s) and 0 other file(s)"
      ],
      "text/plain": [
       "<IPython.core.display.HTML object>"
      ]
     },
     "metadata": {},
     "output_type": "display_data"
    },
    {
     "data": {
      "text/html": [
       "Find logs at: <code>./wandb/run-20220728_184021-6se54077/logs</code>"
      ],
      "text/plain": [
       "<IPython.core.display.HTML object>"
      ]
     },
     "metadata": {},
     "output_type": "display_data"
    },
    {
     "name": "stderr",
     "output_type": "stream",
     "text": [
      "\u001b[34m\u001b[1mwandb\u001b[0m: Agent Starting Run: 91v9trfw with config:\n",
      "\u001b[34m\u001b[1mwandb\u001b[0m: \tbandwidth: 0.1494199278490458\n",
      "\u001b[34m\u001b[1mwandb\u001b[0m: \tkernel: triangular\n"
     ]
    },
    {
     "data": {
      "text/html": [
       "Tracking run with wandb version 0.12.21"
      ],
      "text/plain": [
       "<IPython.core.display.HTML object>"
      ]
     },
     "metadata": {},
     "output_type": "display_data"
    },
    {
     "data": {
      "text/html": [
       "Run data is saved locally in <code>/Users/aakashsasikumar/Documents/MSc/Research/Dissimilar Policy/building-MARL/studies/wandb/run-20220728_184119-91v9trfw</code>"
      ],
      "text/plain": [
       "<IPython.core.display.HTML object>"
      ]
     },
     "metadata": {},
     "output_type": "display_data"
    },
    {
     "data": {
      "text/html": [
       "Syncing run <strong><a href=\"https://wandb.ai/aakashsasikumar/ContinuousOPEHyperParamTuningSNIPW_28_07_2022/runs/91v9trfw\" target=\"_blank\">usual-sweep-62</a></strong> to <a href=\"https://wandb.ai/aakashsasikumar/ContinuousOPEHyperParamTuningSNIPW_28_07_2022\" target=\"_blank\">Weights & Biases</a> (<a href=\"https://wandb.me/run\" target=\"_blank\">docs</a>)<br/>Sweep page:  <a href=\"https://wandb.ai/aakashsasikumar/ContinuousOPEHyperParamTuningSNIPW_28_07_2022/sweeps/ci54h96s\" target=\"_blank\">https://wandb.ai/aakashsasikumar/ContinuousOPEHyperParamTuningSNIPW_28_07_2022/sweeps/ci54h96s</a>"
      ],
      "text/plain": [
       "<IPython.core.display.HTML object>"
      ]
     },
     "metadata": {},
     "output_type": "display_data"
    },
    {
     "name": "stderr",
     "output_type": "stream",
     "text": [
      "/Users/aakashsasikumar/.pyenv/versions/3.10.0/envs/test/lib/python3.10/site-packages/obp-0.5.5-py3.10.egg/obp/ope/estimators_continuous.py:388: RuntimeWarning: invalid value encountered in divide\n",
      "  estimated_rewards /= (kernel_func(u) / pscore).mean()\n"
     ]
    },
    {
     "data": {
      "text/html": [
       "Waiting for W&B process to finish... <strong style=\"color:green\">(success).</strong>"
      ],
      "text/plain": [
       "<IPython.core.display.HTML object>"
      ]
     },
     "metadata": {},
     "output_type": "display_data"
    },
    {
     "data": {
      "application/vnd.jupyter.widget-view+json": {
       "model_id": "7ec6269d9c074be4907ba3b0cb75cf32",
       "version_major": 2,
       "version_minor": 0
      },
      "text/plain": [
       "VBox(children=(Label(value='0.001 MB of 0.001 MB uploaded (0.000 MB deduped)\\r'), FloatProgress(value=1.0, max…"
      ]
     },
     "metadata": {},
     "output_type": "display_data"
    },
    {
     "data": {
      "text/html": [
       "<style>\n",
       "    table.wandb td:nth-child(1) { padding: 0 10px; text-align: left ; width: auto;} td:nth-child(2) {text-align: left ; width: 100%}\n",
       "    .wandb-row { display: flex; flex-direction: row; flex-wrap: wrap; justify-content: flex-start; width: 100% }\n",
       "    .wandb-col { display: flex; flex-direction: column; flex-basis: 100%; flex: 1; padding: 10px; }\n",
       "    </style>\n",
       "<div class=\"wandb-row\"><div class=\"wandb-col\"><h3>Run history:</h3><br/><table class=\"wandb\"><tr><td>average_spearman_correlation</td><td>▁</td></tr></table><br/></div><div class=\"wandb-col\"><h3>Run summary:</h3><br/><table class=\"wandb\"><tr><td>average_spearman_correlation</td><td>0.28251</td></tr></table><br/></div></div>"
      ],
      "text/plain": [
       "<IPython.core.display.HTML object>"
      ]
     },
     "metadata": {},
     "output_type": "display_data"
    },
    {
     "data": {
      "text/html": [
       "Synced <strong style=\"color:#cdcd00\">usual-sweep-62</strong>: <a href=\"https://wandb.ai/aakashsasikumar/ContinuousOPEHyperParamTuningSNIPW_28_07_2022/runs/91v9trfw\" target=\"_blank\">https://wandb.ai/aakashsasikumar/ContinuousOPEHyperParamTuningSNIPW_28_07_2022/runs/91v9trfw</a><br/>Synced 5 W&B file(s), 0 media file(s), 0 artifact file(s) and 0 other file(s)"
      ],
      "text/plain": [
       "<IPython.core.display.HTML object>"
      ]
     },
     "metadata": {},
     "output_type": "display_data"
    },
    {
     "data": {
      "text/html": [
       "Find logs at: <code>./wandb/run-20220728_184119-91v9trfw/logs</code>"
      ],
      "text/plain": [
       "<IPython.core.display.HTML object>"
      ]
     },
     "metadata": {},
     "output_type": "display_data"
    },
    {
     "name": "stderr",
     "output_type": "stream",
     "text": [
      "\u001b[34m\u001b[1mwandb\u001b[0m: Agent Starting Run: voyknpvh with config:\n",
      "\u001b[34m\u001b[1mwandb\u001b[0m: \tbandwidth: 0.031647350471198155\n",
      "\u001b[34m\u001b[1mwandb\u001b[0m: \tkernel: cosine\n"
     ]
    },
    {
     "data": {
      "text/html": [
       "Tracking run with wandb version 0.12.21"
      ],
      "text/plain": [
       "<IPython.core.display.HTML object>"
      ]
     },
     "metadata": {},
     "output_type": "display_data"
    },
    {
     "data": {
      "text/html": [
       "Run data is saved locally in <code>/Users/aakashsasikumar/Documents/MSc/Research/Dissimilar Policy/building-MARL/studies/wandb/run-20220728_184212-voyknpvh</code>"
      ],
      "text/plain": [
       "<IPython.core.display.HTML object>"
      ]
     },
     "metadata": {},
     "output_type": "display_data"
    },
    {
     "data": {
      "text/html": [
       "Syncing run <strong><a href=\"https://wandb.ai/aakashsasikumar/ContinuousOPEHyperParamTuningSNIPW_28_07_2022/runs/voyknpvh\" target=\"_blank\">hearty-sweep-63</a></strong> to <a href=\"https://wandb.ai/aakashsasikumar/ContinuousOPEHyperParamTuningSNIPW_28_07_2022\" target=\"_blank\">Weights & Biases</a> (<a href=\"https://wandb.me/run\" target=\"_blank\">docs</a>)<br/>Sweep page:  <a href=\"https://wandb.ai/aakashsasikumar/ContinuousOPEHyperParamTuningSNIPW_28_07_2022/sweeps/ci54h96s\" target=\"_blank\">https://wandb.ai/aakashsasikumar/ContinuousOPEHyperParamTuningSNIPW_28_07_2022/sweeps/ci54h96s</a>"
      ],
      "text/plain": [
       "<IPython.core.display.HTML object>"
      ]
     },
     "metadata": {},
     "output_type": "display_data"
    },
    {
     "data": {
      "text/html": [
       "Waiting for W&B process to finish... <strong style=\"color:green\">(success).</strong>"
      ],
      "text/plain": [
       "<IPython.core.display.HTML object>"
      ]
     },
     "metadata": {},
     "output_type": "display_data"
    },
    {
     "data": {
      "application/vnd.jupyter.widget-view+json": {
       "model_id": "8029795885e14890859d84ee689a5c0a",
       "version_major": 2,
       "version_minor": 0
      },
      "text/plain": [
       "VBox(children=(Label(value='0.001 MB of 0.001 MB uploaded (0.000 MB deduped)\\r'), FloatProgress(value=1.0, max…"
      ]
     },
     "metadata": {},
     "output_type": "display_data"
    },
    {
     "data": {
      "text/html": [
       "<style>\n",
       "    table.wandb td:nth-child(1) { padding: 0 10px; text-align: left ; width: auto;} td:nth-child(2) {text-align: left ; width: 100%}\n",
       "    .wandb-row { display: flex; flex-direction: row; flex-wrap: wrap; justify-content: flex-start; width: 100% }\n",
       "    .wandb-col { display: flex; flex-direction: column; flex-basis: 100%; flex: 1; padding: 10px; }\n",
       "    </style>\n",
       "<div class=\"wandb-row\"><div class=\"wandb-col\"><h3>Run history:</h3><br/><table class=\"wandb\"><tr><td>average_spearman_correlation</td><td>▁</td></tr></table><br/></div><div class=\"wandb-col\"><h3>Run summary:</h3><br/><table class=\"wandb\"><tr><td>average_spearman_correlation</td><td>0.26211</td></tr></table><br/></div></div>"
      ],
      "text/plain": [
       "<IPython.core.display.HTML object>"
      ]
     },
     "metadata": {},
     "output_type": "display_data"
    },
    {
     "data": {
      "text/html": [
       "Synced <strong style=\"color:#cdcd00\">hearty-sweep-63</strong>: <a href=\"https://wandb.ai/aakashsasikumar/ContinuousOPEHyperParamTuningSNIPW_28_07_2022/runs/voyknpvh\" target=\"_blank\">https://wandb.ai/aakashsasikumar/ContinuousOPEHyperParamTuningSNIPW_28_07_2022/runs/voyknpvh</a><br/>Synced 4 W&B file(s), 0 media file(s), 0 artifact file(s) and 0 other file(s)"
      ],
      "text/plain": [
       "<IPython.core.display.HTML object>"
      ]
     },
     "metadata": {},
     "output_type": "display_data"
    },
    {
     "data": {
      "text/html": [
       "Find logs at: <code>./wandb/run-20220728_184212-voyknpvh/logs</code>"
      ],
      "text/plain": [
       "<IPython.core.display.HTML object>"
      ]
     },
     "metadata": {},
     "output_type": "display_data"
    },
    {
     "name": "stderr",
     "output_type": "stream",
     "text": [
      "\u001b[34m\u001b[1mwandb\u001b[0m: Agent Starting Run: 6v8jinxb with config:\n",
      "\u001b[34m\u001b[1mwandb\u001b[0m: \tbandwidth: 0.3857683438813712\n",
      "\u001b[34m\u001b[1mwandb\u001b[0m: \tkernel: cosine\n"
     ]
    },
    {
     "data": {
      "text/html": [
       "Tracking run with wandb version 0.12.21"
      ],
      "text/plain": [
       "<IPython.core.display.HTML object>"
      ]
     },
     "metadata": {},
     "output_type": "display_data"
    },
    {
     "data": {
      "text/html": [
       "Run data is saved locally in <code>/Users/aakashsasikumar/Documents/MSc/Research/Dissimilar Policy/building-MARL/studies/wandb/run-20220728_184310-6v8jinxb</code>"
      ],
      "text/plain": [
       "<IPython.core.display.HTML object>"
      ]
     },
     "metadata": {},
     "output_type": "display_data"
    },
    {
     "data": {
      "text/html": [
       "Syncing run <strong><a href=\"https://wandb.ai/aakashsasikumar/ContinuousOPEHyperParamTuningSNIPW_28_07_2022/runs/6v8jinxb\" target=\"_blank\">winter-sweep-64</a></strong> to <a href=\"https://wandb.ai/aakashsasikumar/ContinuousOPEHyperParamTuningSNIPW_28_07_2022\" target=\"_blank\">Weights & Biases</a> (<a href=\"https://wandb.me/run\" target=\"_blank\">docs</a>)<br/>Sweep page:  <a href=\"https://wandb.ai/aakashsasikumar/ContinuousOPEHyperParamTuningSNIPW_28_07_2022/sweeps/ci54h96s\" target=\"_blank\">https://wandb.ai/aakashsasikumar/ContinuousOPEHyperParamTuningSNIPW_28_07_2022/sweeps/ci54h96s</a>"
      ],
      "text/plain": [
       "<IPython.core.display.HTML object>"
      ]
     },
     "metadata": {},
     "output_type": "display_data"
    },
    {
     "data": {
      "text/html": [
       "Waiting for W&B process to finish... <strong style=\"color:green\">(success).</strong>"
      ],
      "text/plain": [
       "<IPython.core.display.HTML object>"
      ]
     },
     "metadata": {},
     "output_type": "display_data"
    },
    {
     "data": {
      "application/vnd.jupyter.widget-view+json": {
       "model_id": "01c528a7f40440c39196f81b4c92b3ca",
       "version_major": 2,
       "version_minor": 0
      },
      "text/plain": [
       "VBox(children=(Label(value='0.001 MB of 0.001 MB uploaded (0.000 MB deduped)\\r'), FloatProgress(value=1.0, max…"
      ]
     },
     "metadata": {},
     "output_type": "display_data"
    },
    {
     "data": {
      "text/html": [
       "<style>\n",
       "    table.wandb td:nth-child(1) { padding: 0 10px; text-align: left ; width: auto;} td:nth-child(2) {text-align: left ; width: 100%}\n",
       "    .wandb-row { display: flex; flex-direction: row; flex-wrap: wrap; justify-content: flex-start; width: 100% }\n",
       "    .wandb-col { display: flex; flex-direction: column; flex-basis: 100%; flex: 1; padding: 10px; }\n",
       "    </style>\n",
       "<div class=\"wandb-row\"><div class=\"wandb-col\"><h3>Run history:</h3><br/><table class=\"wandb\"><tr><td>average_spearman_correlation</td><td>▁</td></tr></table><br/></div><div class=\"wandb-col\"><h3>Run summary:</h3><br/><table class=\"wandb\"><tr><td>average_spearman_correlation</td><td>0.3009</td></tr></table><br/></div></div>"
      ],
      "text/plain": [
       "<IPython.core.display.HTML object>"
      ]
     },
     "metadata": {},
     "output_type": "display_data"
    },
    {
     "data": {
      "text/html": [
       "Synced <strong style=\"color:#cdcd00\">winter-sweep-64</strong>: <a href=\"https://wandb.ai/aakashsasikumar/ContinuousOPEHyperParamTuningSNIPW_28_07_2022/runs/6v8jinxb\" target=\"_blank\">https://wandb.ai/aakashsasikumar/ContinuousOPEHyperParamTuningSNIPW_28_07_2022/runs/6v8jinxb</a><br/>Synced 4 W&B file(s), 0 media file(s), 0 artifact file(s) and 0 other file(s)"
      ],
      "text/plain": [
       "<IPython.core.display.HTML object>"
      ]
     },
     "metadata": {},
     "output_type": "display_data"
    },
    {
     "data": {
      "text/html": [
       "Find logs at: <code>./wandb/run-20220728_184310-6v8jinxb/logs</code>"
      ],
      "text/plain": [
       "<IPython.core.display.HTML object>"
      ]
     },
     "metadata": {},
     "output_type": "display_data"
    },
    {
     "name": "stderr",
     "output_type": "stream",
     "text": [
      "\u001b[34m\u001b[1mwandb\u001b[0m: Agent Starting Run: 8tgjs7ev with config:\n",
      "\u001b[34m\u001b[1mwandb\u001b[0m: \tbandwidth: 0.045059178214086726\n",
      "\u001b[34m\u001b[1mwandb\u001b[0m: \tkernel: cosine\n"
     ]
    },
    {
     "data": {
      "text/html": [
       "Tracking run with wandb version 0.12.21"
      ],
      "text/plain": [
       "<IPython.core.display.HTML object>"
      ]
     },
     "metadata": {},
     "output_type": "display_data"
    },
    {
     "data": {
      "text/html": [
       "Run data is saved locally in <code>/Users/aakashsasikumar/Documents/MSc/Research/Dissimilar Policy/building-MARL/studies/wandb/run-20220728_184403-8tgjs7ev</code>"
      ],
      "text/plain": [
       "<IPython.core.display.HTML object>"
      ]
     },
     "metadata": {},
     "output_type": "display_data"
    },
    {
     "data": {
      "text/html": [
       "Syncing run <strong><a href=\"https://wandb.ai/aakashsasikumar/ContinuousOPEHyperParamTuningSNIPW_28_07_2022/runs/8tgjs7ev\" target=\"_blank\">solar-sweep-65</a></strong> to <a href=\"https://wandb.ai/aakashsasikumar/ContinuousOPEHyperParamTuningSNIPW_28_07_2022\" target=\"_blank\">Weights & Biases</a> (<a href=\"https://wandb.me/run\" target=\"_blank\">docs</a>)<br/>Sweep page:  <a href=\"https://wandb.ai/aakashsasikumar/ContinuousOPEHyperParamTuningSNIPW_28_07_2022/sweeps/ci54h96s\" target=\"_blank\">https://wandb.ai/aakashsasikumar/ContinuousOPEHyperParamTuningSNIPW_28_07_2022/sweeps/ci54h96s</a>"
      ],
      "text/plain": [
       "<IPython.core.display.HTML object>"
      ]
     },
     "metadata": {},
     "output_type": "display_data"
    },
    {
     "data": {
      "text/html": [
       "Waiting for W&B process to finish... <strong style=\"color:green\">(success).</strong>"
      ],
      "text/plain": [
       "<IPython.core.display.HTML object>"
      ]
     },
     "metadata": {},
     "output_type": "display_data"
    },
    {
     "data": {
      "application/vnd.jupyter.widget-view+json": {
       "model_id": "b78911eb318441f69bb56d71fa00e6db",
       "version_major": 2,
       "version_minor": 0
      },
      "text/plain": [
       "VBox(children=(Label(value='0.001 MB of 0.001 MB uploaded (0.000 MB deduped)\\r'), FloatProgress(value=1.0, max…"
      ]
     },
     "metadata": {},
     "output_type": "display_data"
    },
    {
     "data": {
      "text/html": [
       "<style>\n",
       "    table.wandb td:nth-child(1) { padding: 0 10px; text-align: left ; width: auto;} td:nth-child(2) {text-align: left ; width: 100%}\n",
       "    .wandb-row { display: flex; flex-direction: row; flex-wrap: wrap; justify-content: flex-start; width: 100% }\n",
       "    .wandb-col { display: flex; flex-direction: column; flex-basis: 100%; flex: 1; padding: 10px; }\n",
       "    </style>\n",
       "<div class=\"wandb-row\"><div class=\"wandb-col\"><h3>Run history:</h3><br/><table class=\"wandb\"><tr><td>average_spearman_correlation</td><td>▁</td></tr></table><br/></div><div class=\"wandb-col\"><h3>Run summary:</h3><br/><table class=\"wandb\"><tr><td>average_spearman_correlation</td><td>0.28974</td></tr></table><br/></div></div>"
      ],
      "text/plain": [
       "<IPython.core.display.HTML object>"
      ]
     },
     "metadata": {},
     "output_type": "display_data"
    },
    {
     "data": {
      "text/html": [
       "Synced <strong style=\"color:#cdcd00\">solar-sweep-65</strong>: <a href=\"https://wandb.ai/aakashsasikumar/ContinuousOPEHyperParamTuningSNIPW_28_07_2022/runs/8tgjs7ev\" target=\"_blank\">https://wandb.ai/aakashsasikumar/ContinuousOPEHyperParamTuningSNIPW_28_07_2022/runs/8tgjs7ev</a><br/>Synced 4 W&B file(s), 0 media file(s), 0 artifact file(s) and 0 other file(s)"
      ],
      "text/plain": [
       "<IPython.core.display.HTML object>"
      ]
     },
     "metadata": {},
     "output_type": "display_data"
    },
    {
     "data": {
      "text/html": [
       "Find logs at: <code>./wandb/run-20220728_184403-8tgjs7ev/logs</code>"
      ],
      "text/plain": [
       "<IPython.core.display.HTML object>"
      ]
     },
     "metadata": {},
     "output_type": "display_data"
    },
    {
     "name": "stderr",
     "output_type": "stream",
     "text": [
      "\u001b[34m\u001b[1mwandb\u001b[0m: Agent Starting Run: ko2noo55 with config:\n",
      "\u001b[34m\u001b[1mwandb\u001b[0m: \tbandwidth: 0.4649578792084173\n",
      "\u001b[34m\u001b[1mwandb\u001b[0m: \tkernel: triangular\n"
     ]
    },
    {
     "data": {
      "text/html": [
       "Tracking run with wandb version 0.12.21"
      ],
      "text/plain": [
       "<IPython.core.display.HTML object>"
      ]
     },
     "metadata": {},
     "output_type": "display_data"
    },
    {
     "data": {
      "text/html": [
       "Run data is saved locally in <code>/Users/aakashsasikumar/Documents/MSc/Research/Dissimilar Policy/building-MARL/studies/wandb/run-20220728_184502-ko2noo55</code>"
      ],
      "text/plain": [
       "<IPython.core.display.HTML object>"
      ]
     },
     "metadata": {},
     "output_type": "display_data"
    },
    {
     "data": {
      "text/html": [
       "Syncing run <strong><a href=\"https://wandb.ai/aakashsasikumar/ContinuousOPEHyperParamTuningSNIPW_28_07_2022/runs/ko2noo55\" target=\"_blank\">comic-sweep-66</a></strong> to <a href=\"https://wandb.ai/aakashsasikumar/ContinuousOPEHyperParamTuningSNIPW_28_07_2022\" target=\"_blank\">Weights & Biases</a> (<a href=\"https://wandb.me/run\" target=\"_blank\">docs</a>)<br/>Sweep page:  <a href=\"https://wandb.ai/aakashsasikumar/ContinuousOPEHyperParamTuningSNIPW_28_07_2022/sweeps/ci54h96s\" target=\"_blank\">https://wandb.ai/aakashsasikumar/ContinuousOPEHyperParamTuningSNIPW_28_07_2022/sweeps/ci54h96s</a>"
      ],
      "text/plain": [
       "<IPython.core.display.HTML object>"
      ]
     },
     "metadata": {},
     "output_type": "display_data"
    },
    {
     "name": "stderr",
     "output_type": "stream",
     "text": [
      "/Users/aakashsasikumar/.pyenv/versions/3.10.0/envs/test/lib/python3.10/site-packages/obp-0.5.5-py3.10.egg/obp/ope/estimators_continuous.py:388: RuntimeWarning: invalid value encountered in divide\n",
      "  estimated_rewards /= (kernel_func(u) / pscore).mean()\n"
     ]
    },
    {
     "data": {
      "text/html": [
       "Waiting for W&B process to finish... <strong style=\"color:green\">(success).</strong>"
      ],
      "text/plain": [
       "<IPython.core.display.HTML object>"
      ]
     },
     "metadata": {},
     "output_type": "display_data"
    },
    {
     "data": {
      "application/vnd.jupyter.widget-view+json": {
       "model_id": "275047b8e0664baa9900f27ca9664536",
       "version_major": 2,
       "version_minor": 0
      },
      "text/plain": [
       "VBox(children=(Label(value='0.001 MB of 0.001 MB uploaded (0.000 MB deduped)\\r'), FloatProgress(value=1.0, max…"
      ]
     },
     "metadata": {},
     "output_type": "display_data"
    },
    {
     "data": {
      "text/html": [
       "<style>\n",
       "    table.wandb td:nth-child(1) { padding: 0 10px; text-align: left ; width: auto;} td:nth-child(2) {text-align: left ; width: 100%}\n",
       "    .wandb-row { display: flex; flex-direction: row; flex-wrap: wrap; justify-content: flex-start; width: 100% }\n",
       "    .wandb-col { display: flex; flex-direction: column; flex-basis: 100%; flex: 1; padding: 10px; }\n",
       "    </style>\n",
       "<div class=\"wandb-row\"><div class=\"wandb-col\"><h3>Run history:</h3><br/><table class=\"wandb\"><tr><td>average_spearman_correlation</td><td>▁</td></tr></table><br/></div><div class=\"wandb-col\"><h3>Run summary:</h3><br/><table class=\"wandb\"><tr><td>average_spearman_correlation</td><td>0.20586</td></tr></table><br/></div></div>"
      ],
      "text/plain": [
       "<IPython.core.display.HTML object>"
      ]
     },
     "metadata": {},
     "output_type": "display_data"
    },
    {
     "data": {
      "text/html": [
       "Synced <strong style=\"color:#cdcd00\">comic-sweep-66</strong>: <a href=\"https://wandb.ai/aakashsasikumar/ContinuousOPEHyperParamTuningSNIPW_28_07_2022/runs/ko2noo55\" target=\"_blank\">https://wandb.ai/aakashsasikumar/ContinuousOPEHyperParamTuningSNIPW_28_07_2022/runs/ko2noo55</a><br/>Synced 5 W&B file(s), 0 media file(s), 0 artifact file(s) and 0 other file(s)"
      ],
      "text/plain": [
       "<IPython.core.display.HTML object>"
      ]
     },
     "metadata": {},
     "output_type": "display_data"
    },
    {
     "data": {
      "text/html": [
       "Find logs at: <code>./wandb/run-20220728_184502-ko2noo55/logs</code>"
      ],
      "text/plain": [
       "<IPython.core.display.HTML object>"
      ]
     },
     "metadata": {},
     "output_type": "display_data"
    },
    {
     "name": "stderr",
     "output_type": "stream",
     "text": [
      "\u001b[34m\u001b[1mwandb\u001b[0m: Agent Starting Run: m1f8absj with config:\n",
      "\u001b[34m\u001b[1mwandb\u001b[0m: \tbandwidth: 0.199721018243212\n",
      "\u001b[34m\u001b[1mwandb\u001b[0m: \tkernel: cosine\n"
     ]
    },
    {
     "data": {
      "text/html": [
       "Tracking run with wandb version 0.12.21"
      ],
      "text/plain": [
       "<IPython.core.display.HTML object>"
      ]
     },
     "metadata": {},
     "output_type": "display_data"
    },
    {
     "data": {
      "text/html": [
       "Run data is saved locally in <code>/Users/aakashsasikumar/Documents/MSc/Research/Dissimilar Policy/building-MARL/studies/wandb/run-20220728_184555-m1f8absj</code>"
      ],
      "text/plain": [
       "<IPython.core.display.HTML object>"
      ]
     },
     "metadata": {},
     "output_type": "display_data"
    },
    {
     "data": {
      "text/html": [
       "Syncing run <strong><a href=\"https://wandb.ai/aakashsasikumar/ContinuousOPEHyperParamTuningSNIPW_28_07_2022/runs/m1f8absj\" target=\"_blank\">hopeful-sweep-67</a></strong> to <a href=\"https://wandb.ai/aakashsasikumar/ContinuousOPEHyperParamTuningSNIPW_28_07_2022\" target=\"_blank\">Weights & Biases</a> (<a href=\"https://wandb.me/run\" target=\"_blank\">docs</a>)<br/>Sweep page:  <a href=\"https://wandb.ai/aakashsasikumar/ContinuousOPEHyperParamTuningSNIPW_28_07_2022/sweeps/ci54h96s\" target=\"_blank\">https://wandb.ai/aakashsasikumar/ContinuousOPEHyperParamTuningSNIPW_28_07_2022/sweeps/ci54h96s</a>"
      ],
      "text/plain": [
       "<IPython.core.display.HTML object>"
      ]
     },
     "metadata": {},
     "output_type": "display_data"
    },
    {
     "data": {
      "text/html": [
       "Waiting for W&B process to finish... <strong style=\"color:green\">(success).</strong>"
      ],
      "text/plain": [
       "<IPython.core.display.HTML object>"
      ]
     },
     "metadata": {},
     "output_type": "display_data"
    },
    {
     "data": {
      "application/vnd.jupyter.widget-view+json": {
       "model_id": "72679b37df7f438fbda14c35b1043aec",
       "version_major": 2,
       "version_minor": 0
      },
      "text/plain": [
       "VBox(children=(Label(value='0.001 MB of 0.001 MB uploaded (0.000 MB deduped)\\r'), FloatProgress(value=1.0, max…"
      ]
     },
     "metadata": {},
     "output_type": "display_data"
    },
    {
     "data": {
      "text/html": [
       "<style>\n",
       "    table.wandb td:nth-child(1) { padding: 0 10px; text-align: left ; width: auto;} td:nth-child(2) {text-align: left ; width: 100%}\n",
       "    .wandb-row { display: flex; flex-direction: row; flex-wrap: wrap; justify-content: flex-start; width: 100% }\n",
       "    .wandb-col { display: flex; flex-direction: column; flex-basis: 100%; flex: 1; padding: 10px; }\n",
       "    </style>\n",
       "<div class=\"wandb-row\"><div class=\"wandb-col\"><h3>Run history:</h3><br/><table class=\"wandb\"><tr><td>average_spearman_correlation</td><td>▁</td></tr></table><br/></div><div class=\"wandb-col\"><h3>Run summary:</h3><br/><table class=\"wandb\"><tr><td>average_spearman_correlation</td><td>0.37967</td></tr></table><br/></div></div>"
      ],
      "text/plain": [
       "<IPython.core.display.HTML object>"
      ]
     },
     "metadata": {},
     "output_type": "display_data"
    },
    {
     "data": {
      "text/html": [
       "Synced <strong style=\"color:#cdcd00\">hopeful-sweep-67</strong>: <a href=\"https://wandb.ai/aakashsasikumar/ContinuousOPEHyperParamTuningSNIPW_28_07_2022/runs/m1f8absj\" target=\"_blank\">https://wandb.ai/aakashsasikumar/ContinuousOPEHyperParamTuningSNIPW_28_07_2022/runs/m1f8absj</a><br/>Synced 4 W&B file(s), 0 media file(s), 0 artifact file(s) and 0 other file(s)"
      ],
      "text/plain": [
       "<IPython.core.display.HTML object>"
      ]
     },
     "metadata": {},
     "output_type": "display_data"
    },
    {
     "data": {
      "text/html": [
       "Find logs at: <code>./wandb/run-20220728_184555-m1f8absj/logs</code>"
      ],
      "text/plain": [
       "<IPython.core.display.HTML object>"
      ]
     },
     "metadata": {},
     "output_type": "display_data"
    },
    {
     "name": "stderr",
     "output_type": "stream",
     "text": [
      "\u001b[34m\u001b[1mwandb\u001b[0m: Agent Starting Run: m321qid7 with config:\n",
      "\u001b[34m\u001b[1mwandb\u001b[0m: \tbandwidth: 0.3736289705891255\n",
      "\u001b[34m\u001b[1mwandb\u001b[0m: \tkernel: cosine\n"
     ]
    },
    {
     "data": {
      "text/html": [
       "Tracking run with wandb version 0.12.21"
      ],
      "text/plain": [
       "<IPython.core.display.HTML object>"
      ]
     },
     "metadata": {},
     "output_type": "display_data"
    },
    {
     "data": {
      "text/html": [
       "Run data is saved locally in <code>/Users/aakashsasikumar/Documents/MSc/Research/Dissimilar Policy/building-MARL/studies/wandb/run-20220728_184647-m321qid7</code>"
      ],
      "text/plain": [
       "<IPython.core.display.HTML object>"
      ]
     },
     "metadata": {},
     "output_type": "display_data"
    },
    {
     "data": {
      "text/html": [
       "Syncing run <strong><a href=\"https://wandb.ai/aakashsasikumar/ContinuousOPEHyperParamTuningSNIPW_28_07_2022/runs/m321qid7\" target=\"_blank\">daily-sweep-68</a></strong> to <a href=\"https://wandb.ai/aakashsasikumar/ContinuousOPEHyperParamTuningSNIPW_28_07_2022\" target=\"_blank\">Weights & Biases</a> (<a href=\"https://wandb.me/run\" target=\"_blank\">docs</a>)<br/>Sweep page:  <a href=\"https://wandb.ai/aakashsasikumar/ContinuousOPEHyperParamTuningSNIPW_28_07_2022/sweeps/ci54h96s\" target=\"_blank\">https://wandb.ai/aakashsasikumar/ContinuousOPEHyperParamTuningSNIPW_28_07_2022/sweeps/ci54h96s</a>"
      ],
      "text/plain": [
       "<IPython.core.display.HTML object>"
      ]
     },
     "metadata": {},
     "output_type": "display_data"
    },
    {
     "data": {
      "text/html": [
       "Waiting for W&B process to finish... <strong style=\"color:green\">(success).</strong>"
      ],
      "text/plain": [
       "<IPython.core.display.HTML object>"
      ]
     },
     "metadata": {},
     "output_type": "display_data"
    },
    {
     "data": {
      "application/vnd.jupyter.widget-view+json": {
       "model_id": "535c12e9aab443ddb32b933a21c81861",
       "version_major": 2,
       "version_minor": 0
      },
      "text/plain": [
       "VBox(children=(Label(value='0.001 MB of 0.001 MB uploaded (0.000 MB deduped)\\r'), FloatProgress(value=1.0, max…"
      ]
     },
     "metadata": {},
     "output_type": "display_data"
    },
    {
     "data": {
      "text/html": [
       "<style>\n",
       "    table.wandb td:nth-child(1) { padding: 0 10px; text-align: left ; width: auto;} td:nth-child(2) {text-align: left ; width: 100%}\n",
       "    .wandb-row { display: flex; flex-direction: row; flex-wrap: wrap; justify-content: flex-start; width: 100% }\n",
       "    .wandb-col { display: flex; flex-direction: column; flex-basis: 100%; flex: 1; padding: 10px; }\n",
       "    </style>\n",
       "<div class=\"wandb-row\"><div class=\"wandb-col\"><h3>Run history:</h3><br/><table class=\"wandb\"><tr><td>average_spearman_correlation</td><td>▁</td></tr></table><br/></div><div class=\"wandb-col\"><h3>Run summary:</h3><br/><table class=\"wandb\"><tr><td>average_spearman_correlation</td><td>0.31302</td></tr></table><br/></div></div>"
      ],
      "text/plain": [
       "<IPython.core.display.HTML object>"
      ]
     },
     "metadata": {},
     "output_type": "display_data"
    },
    {
     "data": {
      "text/html": [
       "Synced <strong style=\"color:#cdcd00\">daily-sweep-68</strong>: <a href=\"https://wandb.ai/aakashsasikumar/ContinuousOPEHyperParamTuningSNIPW_28_07_2022/runs/m321qid7\" target=\"_blank\">https://wandb.ai/aakashsasikumar/ContinuousOPEHyperParamTuningSNIPW_28_07_2022/runs/m321qid7</a><br/>Synced 4 W&B file(s), 0 media file(s), 0 artifact file(s) and 0 other file(s)"
      ],
      "text/plain": [
       "<IPython.core.display.HTML object>"
      ]
     },
     "metadata": {},
     "output_type": "display_data"
    },
    {
     "data": {
      "text/html": [
       "Find logs at: <code>./wandb/run-20220728_184647-m321qid7/logs</code>"
      ],
      "text/plain": [
       "<IPython.core.display.HTML object>"
      ]
     },
     "metadata": {},
     "output_type": "display_data"
    },
    {
     "name": "stderr",
     "output_type": "stream",
     "text": [
      "\u001b[34m\u001b[1mwandb\u001b[0m: Sweep Agent: Waiting for job.\n",
      "\u001b[34m\u001b[1mwandb\u001b[0m: Job received.\n",
      "\u001b[34m\u001b[1mwandb\u001b[0m: Agent Starting Run: wgat28zk with config:\n",
      "\u001b[34m\u001b[1mwandb\u001b[0m: \tbandwidth: 0.13530292225295248\n",
      "\u001b[34m\u001b[1mwandb\u001b[0m: \tkernel: cosine\n"
     ]
    },
    {
     "data": {
      "text/html": [
       "Tracking run with wandb version 0.12.21"
      ],
      "text/plain": [
       "<IPython.core.display.HTML object>"
      ]
     },
     "metadata": {},
     "output_type": "display_data"
    },
    {
     "data": {
      "text/html": [
       "Run data is saved locally in <code>/Users/aakashsasikumar/Documents/MSc/Research/Dissimilar Policy/building-MARL/studies/wandb/run-20220728_184751-wgat28zk</code>"
      ],
      "text/plain": [
       "<IPython.core.display.HTML object>"
      ]
     },
     "metadata": {},
     "output_type": "display_data"
    },
    {
     "data": {
      "text/html": [
       "Syncing run <strong><a href=\"https://wandb.ai/aakashsasikumar/ContinuousOPEHyperParamTuningSNIPW_28_07_2022/runs/wgat28zk\" target=\"_blank\">lyric-sweep-69</a></strong> to <a href=\"https://wandb.ai/aakashsasikumar/ContinuousOPEHyperParamTuningSNIPW_28_07_2022\" target=\"_blank\">Weights & Biases</a> (<a href=\"https://wandb.me/run\" target=\"_blank\">docs</a>)<br/>Sweep page:  <a href=\"https://wandb.ai/aakashsasikumar/ContinuousOPEHyperParamTuningSNIPW_28_07_2022/sweeps/ci54h96s\" target=\"_blank\">https://wandb.ai/aakashsasikumar/ContinuousOPEHyperParamTuningSNIPW_28_07_2022/sweeps/ci54h96s</a>"
      ],
      "text/plain": [
       "<IPython.core.display.HTML object>"
      ]
     },
     "metadata": {},
     "output_type": "display_data"
    },
    {
     "data": {
      "text/html": [
       "Waiting for W&B process to finish... <strong style=\"color:green\">(success).</strong>"
      ],
      "text/plain": [
       "<IPython.core.display.HTML object>"
      ]
     },
     "metadata": {},
     "output_type": "display_data"
    },
    {
     "data": {
      "application/vnd.jupyter.widget-view+json": {
       "model_id": "4e323ca43eeb4ad9abcaa9b4b1a5ec3d",
       "version_major": 2,
       "version_minor": 0
      },
      "text/plain": [
       "VBox(children=(Label(value='0.001 MB of 0.001 MB uploaded (0.000 MB deduped)\\r'), FloatProgress(value=1.0, max…"
      ]
     },
     "metadata": {},
     "output_type": "display_data"
    },
    {
     "data": {
      "text/html": [
       "<style>\n",
       "    table.wandb td:nth-child(1) { padding: 0 10px; text-align: left ; width: auto;} td:nth-child(2) {text-align: left ; width: 100%}\n",
       "    .wandb-row { display: flex; flex-direction: row; flex-wrap: wrap; justify-content: flex-start; width: 100% }\n",
       "    .wandb-col { display: flex; flex-direction: column; flex-basis: 100%; flex: 1; padding: 10px; }\n",
       "    </style>\n",
       "<div class=\"wandb-row\"><div class=\"wandb-col\"><h3>Run history:</h3><br/><table class=\"wandb\"><tr><td>average_spearman_correlation</td><td>▁</td></tr></table><br/></div><div class=\"wandb-col\"><h3>Run summary:</h3><br/><table class=\"wandb\"><tr><td>average_spearman_correlation</td><td>0.38942</td></tr></table><br/></div></div>"
      ],
      "text/plain": [
       "<IPython.core.display.HTML object>"
      ]
     },
     "metadata": {},
     "output_type": "display_data"
    },
    {
     "data": {
      "text/html": [
       "Synced <strong style=\"color:#cdcd00\">lyric-sweep-69</strong>: <a href=\"https://wandb.ai/aakashsasikumar/ContinuousOPEHyperParamTuningSNIPW_28_07_2022/runs/wgat28zk\" target=\"_blank\">https://wandb.ai/aakashsasikumar/ContinuousOPEHyperParamTuningSNIPW_28_07_2022/runs/wgat28zk</a><br/>Synced 4 W&B file(s), 0 media file(s), 0 artifact file(s) and 0 other file(s)"
      ],
      "text/plain": [
       "<IPython.core.display.HTML object>"
      ]
     },
     "metadata": {},
     "output_type": "display_data"
    },
    {
     "data": {
      "text/html": [
       "Find logs at: <code>./wandb/run-20220728_184751-wgat28zk/logs</code>"
      ],
      "text/plain": [
       "<IPython.core.display.HTML object>"
      ]
     },
     "metadata": {},
     "output_type": "display_data"
    },
    {
     "name": "stderr",
     "output_type": "stream",
     "text": [
      "\u001b[34m\u001b[1mwandb\u001b[0m: Agent Starting Run: kerx8eqa with config:\n",
      "\u001b[34m\u001b[1mwandb\u001b[0m: \tbandwidth: 0.09881911838014255\n",
      "\u001b[34m\u001b[1mwandb\u001b[0m: \tkernel: gaussian\n"
     ]
    },
    {
     "data": {
      "text/html": [
       "Tracking run with wandb version 0.12.21"
      ],
      "text/plain": [
       "<IPython.core.display.HTML object>"
      ]
     },
     "metadata": {},
     "output_type": "display_data"
    },
    {
     "data": {
      "text/html": [
       "Run data is saved locally in <code>/Users/aakashsasikumar/Documents/MSc/Research/Dissimilar Policy/building-MARL/studies/wandb/run-20220728_184844-kerx8eqa</code>"
      ],
      "text/plain": [
       "<IPython.core.display.HTML object>"
      ]
     },
     "metadata": {},
     "output_type": "display_data"
    },
    {
     "data": {
      "text/html": [
       "Syncing run <strong><a href=\"https://wandb.ai/aakashsasikumar/ContinuousOPEHyperParamTuningSNIPW_28_07_2022/runs/kerx8eqa\" target=\"_blank\">vital-sweep-70</a></strong> to <a href=\"https://wandb.ai/aakashsasikumar/ContinuousOPEHyperParamTuningSNIPW_28_07_2022\" target=\"_blank\">Weights & Biases</a> (<a href=\"https://wandb.me/run\" target=\"_blank\">docs</a>)<br/>Sweep page:  <a href=\"https://wandb.ai/aakashsasikumar/ContinuousOPEHyperParamTuningSNIPW_28_07_2022/sweeps/ci54h96s\" target=\"_blank\">https://wandb.ai/aakashsasikumar/ContinuousOPEHyperParamTuningSNIPW_28_07_2022/sweeps/ci54h96s</a>"
      ],
      "text/plain": [
       "<IPython.core.display.HTML object>"
      ]
     },
     "metadata": {},
     "output_type": "display_data"
    },
    {
     "data": {
      "text/html": [
       "Waiting for W&B process to finish... <strong style=\"color:green\">(success).</strong>"
      ],
      "text/plain": [
       "<IPython.core.display.HTML object>"
      ]
     },
     "metadata": {},
     "output_type": "display_data"
    },
    {
     "data": {
      "application/vnd.jupyter.widget-view+json": {
       "model_id": "600601eb4acc4714a34fde23a17c4bb4",
       "version_major": 2,
       "version_minor": 0
      },
      "text/plain": [
       "VBox(children=(Label(value='0.001 MB of 0.001 MB uploaded (0.000 MB deduped)\\r'), FloatProgress(value=1.0, max…"
      ]
     },
     "metadata": {},
     "output_type": "display_data"
    },
    {
     "data": {
      "text/html": [
       "<style>\n",
       "    table.wandb td:nth-child(1) { padding: 0 10px; text-align: left ; width: auto;} td:nth-child(2) {text-align: left ; width: 100%}\n",
       "    .wandb-row { display: flex; flex-direction: row; flex-wrap: wrap; justify-content: flex-start; width: 100% }\n",
       "    .wandb-col { display: flex; flex-direction: column; flex-basis: 100%; flex: 1; padding: 10px; }\n",
       "    </style>\n",
       "<div class=\"wandb-row\"><div class=\"wandb-col\"><h3>Run history:</h3><br/><table class=\"wandb\"><tr><td>average_spearman_correlation</td><td>▁</td></tr></table><br/></div><div class=\"wandb-col\"><h3>Run summary:</h3><br/><table class=\"wandb\"><tr><td>average_spearman_correlation</td><td>0.20926</td></tr></table><br/></div></div>"
      ],
      "text/plain": [
       "<IPython.core.display.HTML object>"
      ]
     },
     "metadata": {},
     "output_type": "display_data"
    },
    {
     "data": {
      "text/html": [
       "Synced <strong style=\"color:#cdcd00\">vital-sweep-70</strong>: <a href=\"https://wandb.ai/aakashsasikumar/ContinuousOPEHyperParamTuningSNIPW_28_07_2022/runs/kerx8eqa\" target=\"_blank\">https://wandb.ai/aakashsasikumar/ContinuousOPEHyperParamTuningSNIPW_28_07_2022/runs/kerx8eqa</a><br/>Synced 4 W&B file(s), 0 media file(s), 0 artifact file(s) and 0 other file(s)"
      ],
      "text/plain": [
       "<IPython.core.display.HTML object>"
      ]
     },
     "metadata": {},
     "output_type": "display_data"
    },
    {
     "data": {
      "text/html": [
       "Find logs at: <code>./wandb/run-20220728_184844-kerx8eqa/logs</code>"
      ],
      "text/plain": [
       "<IPython.core.display.HTML object>"
      ]
     },
     "metadata": {},
     "output_type": "display_data"
    },
    {
     "name": "stderr",
     "output_type": "stream",
     "text": [
      "\u001b[34m\u001b[1mwandb\u001b[0m: Sweep Agent: Waiting for job.\n",
      "\u001b[34m\u001b[1mwandb\u001b[0m: Job received.\n",
      "\u001b[34m\u001b[1mwandb\u001b[0m: Agent Starting Run: 971g0u2q with config:\n",
      "\u001b[34m\u001b[1mwandb\u001b[0m: \tbandwidth: 0.4980154649404472\n",
      "\u001b[34m\u001b[1mwandb\u001b[0m: \tkernel: gaussian\n"
     ]
    },
    {
     "data": {
      "text/html": [
       "Tracking run with wandb version 0.12.21"
      ],
      "text/plain": [
       "<IPython.core.display.HTML object>"
      ]
     },
     "metadata": {},
     "output_type": "display_data"
    },
    {
     "data": {
      "text/html": [
       "Run data is saved locally in <code>/Users/aakashsasikumar/Documents/MSc/Research/Dissimilar Policy/building-MARL/studies/wandb/run-20220728_184948-971g0u2q</code>"
      ],
      "text/plain": [
       "<IPython.core.display.HTML object>"
      ]
     },
     "metadata": {},
     "output_type": "display_data"
    },
    {
     "data": {
      "text/html": [
       "Syncing run <strong><a href=\"https://wandb.ai/aakashsasikumar/ContinuousOPEHyperParamTuningSNIPW_28_07_2022/runs/971g0u2q\" target=\"_blank\">pleasant-sweep-71</a></strong> to <a href=\"https://wandb.ai/aakashsasikumar/ContinuousOPEHyperParamTuningSNIPW_28_07_2022\" target=\"_blank\">Weights & Biases</a> (<a href=\"https://wandb.me/run\" target=\"_blank\">docs</a>)<br/>Sweep page:  <a href=\"https://wandb.ai/aakashsasikumar/ContinuousOPEHyperParamTuningSNIPW_28_07_2022/sweeps/ci54h96s\" target=\"_blank\">https://wandb.ai/aakashsasikumar/ContinuousOPEHyperParamTuningSNIPW_28_07_2022/sweeps/ci54h96s</a>"
      ],
      "text/plain": [
       "<IPython.core.display.HTML object>"
      ]
     },
     "metadata": {},
     "output_type": "display_data"
    },
    {
     "data": {
      "text/html": [
       "Waiting for W&B process to finish... <strong style=\"color:green\">(success).</strong>"
      ],
      "text/plain": [
       "<IPython.core.display.HTML object>"
      ]
     },
     "metadata": {},
     "output_type": "display_data"
    },
    {
     "data": {
      "application/vnd.jupyter.widget-view+json": {
       "model_id": "97bdb2aa5da34bbb97e6c788bcf66e1c",
       "version_major": 2,
       "version_minor": 0
      },
      "text/plain": [
       "VBox(children=(Label(value='0.001 MB of 0.001 MB uploaded (0.000 MB deduped)\\r'), FloatProgress(value=1.0, max…"
      ]
     },
     "metadata": {},
     "output_type": "display_data"
    },
    {
     "data": {
      "text/html": [
       "<style>\n",
       "    table.wandb td:nth-child(1) { padding: 0 10px; text-align: left ; width: auto;} td:nth-child(2) {text-align: left ; width: 100%}\n",
       "    .wandb-row { display: flex; flex-direction: row; flex-wrap: wrap; justify-content: flex-start; width: 100% }\n",
       "    .wandb-col { display: flex; flex-direction: column; flex-basis: 100%; flex: 1; padding: 10px; }\n",
       "    </style>\n",
       "<div class=\"wandb-row\"><div class=\"wandb-col\"><h3>Run history:</h3><br/><table class=\"wandb\"><tr><td>average_spearman_correlation</td><td>▁</td></tr></table><br/></div><div class=\"wandb-col\"><h3>Run summary:</h3><br/><table class=\"wandb\"><tr><td>average_spearman_correlation</td><td>0.65098</td></tr></table><br/></div></div>"
      ],
      "text/plain": [
       "<IPython.core.display.HTML object>"
      ]
     },
     "metadata": {},
     "output_type": "display_data"
    },
    {
     "data": {
      "text/html": [
       "Synced <strong style=\"color:#cdcd00\">pleasant-sweep-71</strong>: <a href=\"https://wandb.ai/aakashsasikumar/ContinuousOPEHyperParamTuningSNIPW_28_07_2022/runs/971g0u2q\" target=\"_blank\">https://wandb.ai/aakashsasikumar/ContinuousOPEHyperParamTuningSNIPW_28_07_2022/runs/971g0u2q</a><br/>Synced 4 W&B file(s), 0 media file(s), 0 artifact file(s) and 0 other file(s)"
      ],
      "text/plain": [
       "<IPython.core.display.HTML object>"
      ]
     },
     "metadata": {},
     "output_type": "display_data"
    },
    {
     "data": {
      "text/html": [
       "Find logs at: <code>./wandb/run-20220728_184948-971g0u2q/logs</code>"
      ],
      "text/plain": [
       "<IPython.core.display.HTML object>"
      ]
     },
     "metadata": {},
     "output_type": "display_data"
    },
    {
     "name": "stderr",
     "output_type": "stream",
     "text": [
      "\u001b[34m\u001b[1mwandb\u001b[0m: Agent Starting Run: pm6daipa with config:\n",
      "\u001b[34m\u001b[1mwandb\u001b[0m: \tbandwidth: 0.253427320779735\n",
      "\u001b[34m\u001b[1mwandb\u001b[0m: \tkernel: gaussian\n"
     ]
    },
    {
     "data": {
      "text/html": [
       "Tracking run with wandb version 0.12.21"
      ],
      "text/plain": [
       "<IPython.core.display.HTML object>"
      ]
     },
     "metadata": {},
     "output_type": "display_data"
    },
    {
     "data": {
      "text/html": [
       "Run data is saved locally in <code>/Users/aakashsasikumar/Documents/MSc/Research/Dissimilar Policy/building-MARL/studies/wandb/run-20220728_185044-pm6daipa</code>"
      ],
      "text/plain": [
       "<IPython.core.display.HTML object>"
      ]
     },
     "metadata": {},
     "output_type": "display_data"
    },
    {
     "data": {
      "text/html": [
       "Syncing run <strong><a href=\"https://wandb.ai/aakashsasikumar/ContinuousOPEHyperParamTuningSNIPW_28_07_2022/runs/pm6daipa\" target=\"_blank\">silvery-sweep-72</a></strong> to <a href=\"https://wandb.ai/aakashsasikumar/ContinuousOPEHyperParamTuningSNIPW_28_07_2022\" target=\"_blank\">Weights & Biases</a> (<a href=\"https://wandb.me/run\" target=\"_blank\">docs</a>)<br/>Sweep page:  <a href=\"https://wandb.ai/aakashsasikumar/ContinuousOPEHyperParamTuningSNIPW_28_07_2022/sweeps/ci54h96s\" target=\"_blank\">https://wandb.ai/aakashsasikumar/ContinuousOPEHyperParamTuningSNIPW_28_07_2022/sweeps/ci54h96s</a>"
      ],
      "text/plain": [
       "<IPython.core.display.HTML object>"
      ]
     },
     "metadata": {},
     "output_type": "display_data"
    },
    {
     "data": {
      "text/html": [
       "Waiting for W&B process to finish... <strong style=\"color:green\">(success).</strong>"
      ],
      "text/plain": [
       "<IPython.core.display.HTML object>"
      ]
     },
     "metadata": {},
     "output_type": "display_data"
    },
    {
     "data": {
      "application/vnd.jupyter.widget-view+json": {
       "model_id": "60c7350623e2412bb19a242f3c3f2688",
       "version_major": 2,
       "version_minor": 0
      },
      "text/plain": [
       "VBox(children=(Label(value='0.001 MB of 0.001 MB uploaded (0.000 MB deduped)\\r'), FloatProgress(value=1.0, max…"
      ]
     },
     "metadata": {},
     "output_type": "display_data"
    },
    {
     "data": {
      "text/html": [
       "<style>\n",
       "    table.wandb td:nth-child(1) { padding: 0 10px; text-align: left ; width: auto;} td:nth-child(2) {text-align: left ; width: 100%}\n",
       "    .wandb-row { display: flex; flex-direction: row; flex-wrap: wrap; justify-content: flex-start; width: 100% }\n",
       "    .wandb-col { display: flex; flex-direction: column; flex-basis: 100%; flex: 1; padding: 10px; }\n",
       "    </style>\n",
       "<div class=\"wandb-row\"><div class=\"wandb-col\"><h3>Run history:</h3><br/><table class=\"wandb\"><tr><td>average_spearman_correlation</td><td>▁</td></tr></table><br/></div><div class=\"wandb-col\"><h3>Run summary:</h3><br/><table class=\"wandb\"><tr><td>average_spearman_correlation</td><td>0.47531</td></tr></table><br/></div></div>"
      ],
      "text/plain": [
       "<IPython.core.display.HTML object>"
      ]
     },
     "metadata": {},
     "output_type": "display_data"
    },
    {
     "data": {
      "text/html": [
       "Synced <strong style=\"color:#cdcd00\">silvery-sweep-72</strong>: <a href=\"https://wandb.ai/aakashsasikumar/ContinuousOPEHyperParamTuningSNIPW_28_07_2022/runs/pm6daipa\" target=\"_blank\">https://wandb.ai/aakashsasikumar/ContinuousOPEHyperParamTuningSNIPW_28_07_2022/runs/pm6daipa</a><br/>Synced 4 W&B file(s), 0 media file(s), 0 artifact file(s) and 0 other file(s)"
      ],
      "text/plain": [
       "<IPython.core.display.HTML object>"
      ]
     },
     "metadata": {},
     "output_type": "display_data"
    },
    {
     "data": {
      "text/html": [
       "Find logs at: <code>./wandb/run-20220728_185044-pm6daipa/logs</code>"
      ],
      "text/plain": [
       "<IPython.core.display.HTML object>"
      ]
     },
     "metadata": {},
     "output_type": "display_data"
    },
    {
     "name": "stderr",
     "output_type": "stream",
     "text": [
      "\u001b[34m\u001b[1mwandb\u001b[0m: Agent Starting Run: ukl206vz with config:\n",
      "\u001b[34m\u001b[1mwandb\u001b[0m: \tbandwidth: 0.41369333324548374\n",
      "\u001b[34m\u001b[1mwandb\u001b[0m: \tkernel: triangular\n"
     ]
    },
    {
     "data": {
      "text/html": [
       "Tracking run with wandb version 0.12.21"
      ],
      "text/plain": [
       "<IPython.core.display.HTML object>"
      ]
     },
     "metadata": {},
     "output_type": "display_data"
    },
    {
     "data": {
      "text/html": [
       "Run data is saved locally in <code>/Users/aakashsasikumar/Documents/MSc/Research/Dissimilar Policy/building-MARL/studies/wandb/run-20220728_185138-ukl206vz</code>"
      ],
      "text/plain": [
       "<IPython.core.display.HTML object>"
      ]
     },
     "metadata": {},
     "output_type": "display_data"
    },
    {
     "data": {
      "text/html": [
       "Syncing run <strong><a href=\"https://wandb.ai/aakashsasikumar/ContinuousOPEHyperParamTuningSNIPW_28_07_2022/runs/ukl206vz\" target=\"_blank\">polar-sweep-73</a></strong> to <a href=\"https://wandb.ai/aakashsasikumar/ContinuousOPEHyperParamTuningSNIPW_28_07_2022\" target=\"_blank\">Weights & Biases</a> (<a href=\"https://wandb.me/run\" target=\"_blank\">docs</a>)<br/>Sweep page:  <a href=\"https://wandb.ai/aakashsasikumar/ContinuousOPEHyperParamTuningSNIPW_28_07_2022/sweeps/ci54h96s\" target=\"_blank\">https://wandb.ai/aakashsasikumar/ContinuousOPEHyperParamTuningSNIPW_28_07_2022/sweeps/ci54h96s</a>"
      ],
      "text/plain": [
       "<IPython.core.display.HTML object>"
      ]
     },
     "metadata": {},
     "output_type": "display_data"
    },
    {
     "name": "stderr",
     "output_type": "stream",
     "text": [
      "/Users/aakashsasikumar/.pyenv/versions/3.10.0/envs/test/lib/python3.10/site-packages/obp-0.5.5-py3.10.egg/obp/ope/estimators_continuous.py:388: RuntimeWarning: invalid value encountered in divide\n",
      "  estimated_rewards /= (kernel_func(u) / pscore).mean()\n"
     ]
    },
    {
     "data": {
      "text/html": [
       "Waiting for W&B process to finish... <strong style=\"color:green\">(success).</strong>"
      ],
      "text/plain": [
       "<IPython.core.display.HTML object>"
      ]
     },
     "metadata": {},
     "output_type": "display_data"
    },
    {
     "data": {
      "application/vnd.jupyter.widget-view+json": {
       "model_id": "c90975cfee3f4973a0308afb63fd83a7",
       "version_major": 2,
       "version_minor": 0
      },
      "text/plain": [
       "VBox(children=(Label(value='0.001 MB of 0.001 MB uploaded (0.000 MB deduped)\\r'), FloatProgress(value=1.0, max…"
      ]
     },
     "metadata": {},
     "output_type": "display_data"
    },
    {
     "data": {
      "text/html": [
       "<style>\n",
       "    table.wandb td:nth-child(1) { padding: 0 10px; text-align: left ; width: auto;} td:nth-child(2) {text-align: left ; width: 100%}\n",
       "    .wandb-row { display: flex; flex-direction: row; flex-wrap: wrap; justify-content: flex-start; width: 100% }\n",
       "    .wandb-col { display: flex; flex-direction: column; flex-basis: 100%; flex: 1; padding: 10px; }\n",
       "    </style>\n",
       "<div class=\"wandb-row\"><div class=\"wandb-col\"><h3>Run history:</h3><br/><table class=\"wandb\"><tr><td>average_spearman_correlation</td><td>▁</td></tr></table><br/></div><div class=\"wandb-col\"><h3>Run summary:</h3><br/><table class=\"wandb\"><tr><td>average_spearman_correlation</td><td>0.22425</td></tr></table><br/></div></div>"
      ],
      "text/plain": [
       "<IPython.core.display.HTML object>"
      ]
     },
     "metadata": {},
     "output_type": "display_data"
    },
    {
     "data": {
      "text/html": [
       "Synced <strong style=\"color:#cdcd00\">polar-sweep-73</strong>: <a href=\"https://wandb.ai/aakashsasikumar/ContinuousOPEHyperParamTuningSNIPW_28_07_2022/runs/ukl206vz\" target=\"_blank\">https://wandb.ai/aakashsasikumar/ContinuousOPEHyperParamTuningSNIPW_28_07_2022/runs/ukl206vz</a><br/>Synced 5 W&B file(s), 0 media file(s), 0 artifact file(s) and 0 other file(s)"
      ],
      "text/plain": [
       "<IPython.core.display.HTML object>"
      ]
     },
     "metadata": {},
     "output_type": "display_data"
    },
    {
     "data": {
      "text/html": [
       "Find logs at: <code>./wandb/run-20220728_185138-ukl206vz/logs</code>"
      ],
      "text/plain": [
       "<IPython.core.display.HTML object>"
      ]
     },
     "metadata": {},
     "output_type": "display_data"
    },
    {
     "name": "stderr",
     "output_type": "stream",
     "text": [
      "\u001b[34m\u001b[1mwandb\u001b[0m: Agent Starting Run: l2af9k5m with config:\n",
      "\u001b[34m\u001b[1mwandb\u001b[0m: \tbandwidth: 0.39359793678961946\n",
      "\u001b[34m\u001b[1mwandb\u001b[0m: \tkernel: gaussian\n"
     ]
    },
    {
     "data": {
      "text/html": [
       "Tracking run with wandb version 0.12.21"
      ],
      "text/plain": [
       "<IPython.core.display.HTML object>"
      ]
     },
     "metadata": {},
     "output_type": "display_data"
    },
    {
     "data": {
      "text/html": [
       "Run data is saved locally in <code>/Users/aakashsasikumar/Documents/MSc/Research/Dissimilar Policy/building-MARL/studies/wandb/run-20220728_185237-l2af9k5m</code>"
      ],
      "text/plain": [
       "<IPython.core.display.HTML object>"
      ]
     },
     "metadata": {},
     "output_type": "display_data"
    },
    {
     "data": {
      "text/html": [
       "Syncing run <strong><a href=\"https://wandb.ai/aakashsasikumar/ContinuousOPEHyperParamTuningSNIPW_28_07_2022/runs/l2af9k5m\" target=\"_blank\">crimson-sweep-74</a></strong> to <a href=\"https://wandb.ai/aakashsasikumar/ContinuousOPEHyperParamTuningSNIPW_28_07_2022\" target=\"_blank\">Weights & Biases</a> (<a href=\"https://wandb.me/run\" target=\"_blank\">docs</a>)<br/>Sweep page:  <a href=\"https://wandb.ai/aakashsasikumar/ContinuousOPEHyperParamTuningSNIPW_28_07_2022/sweeps/ci54h96s\" target=\"_blank\">https://wandb.ai/aakashsasikumar/ContinuousOPEHyperParamTuningSNIPW_28_07_2022/sweeps/ci54h96s</a>"
      ],
      "text/plain": [
       "<IPython.core.display.HTML object>"
      ]
     },
     "metadata": {},
     "output_type": "display_data"
    },
    {
     "data": {
      "text/html": [
       "Waiting for W&B process to finish... <strong style=\"color:green\">(success).</strong>"
      ],
      "text/plain": [
       "<IPython.core.display.HTML object>"
      ]
     },
     "metadata": {},
     "output_type": "display_data"
    },
    {
     "data": {
      "application/vnd.jupyter.widget-view+json": {
       "model_id": "c345b87443ef4a2ab97970a998f42cb2",
       "version_major": 2,
       "version_minor": 0
      },
      "text/plain": [
       "VBox(children=(Label(value='0.001 MB of 0.001 MB uploaded (0.000 MB deduped)\\r'), FloatProgress(value=1.0, max…"
      ]
     },
     "metadata": {},
     "output_type": "display_data"
    },
    {
     "data": {
      "text/html": [
       "<style>\n",
       "    table.wandb td:nth-child(1) { padding: 0 10px; text-align: left ; width: auto;} td:nth-child(2) {text-align: left ; width: 100%}\n",
       "    .wandb-row { display: flex; flex-direction: row; flex-wrap: wrap; justify-content: flex-start; width: 100% }\n",
       "    .wandb-col { display: flex; flex-direction: column; flex-basis: 100%; flex: 1; padding: 10px; }\n",
       "    </style>\n",
       "<div class=\"wandb-row\"><div class=\"wandb-col\"><h3>Run history:</h3><br/><table class=\"wandb\"><tr><td>average_spearman_correlation</td><td>▁</td></tr></table><br/></div><div class=\"wandb-col\"><h3>Run summary:</h3><br/><table class=\"wandb\"><tr><td>average_spearman_correlation</td><td>0.63587</td></tr></table><br/></div></div>"
      ],
      "text/plain": [
       "<IPython.core.display.HTML object>"
      ]
     },
     "metadata": {},
     "output_type": "display_data"
    },
    {
     "data": {
      "text/html": [
       "Synced <strong style=\"color:#cdcd00\">crimson-sweep-74</strong>: <a href=\"https://wandb.ai/aakashsasikumar/ContinuousOPEHyperParamTuningSNIPW_28_07_2022/runs/l2af9k5m\" target=\"_blank\">https://wandb.ai/aakashsasikumar/ContinuousOPEHyperParamTuningSNIPW_28_07_2022/runs/l2af9k5m</a><br/>Synced 4 W&B file(s), 0 media file(s), 0 artifact file(s) and 0 other file(s)"
      ],
      "text/plain": [
       "<IPython.core.display.HTML object>"
      ]
     },
     "metadata": {},
     "output_type": "display_data"
    },
    {
     "data": {
      "text/html": [
       "Find logs at: <code>./wandb/run-20220728_185237-l2af9k5m/logs</code>"
      ],
      "text/plain": [
       "<IPython.core.display.HTML object>"
      ]
     },
     "metadata": {},
     "output_type": "display_data"
    },
    {
     "name": "stderr",
     "output_type": "stream",
     "text": [
      "\u001b[34m\u001b[1mwandb\u001b[0m: Agent Starting Run: m44cqwse with config:\n",
      "\u001b[34m\u001b[1mwandb\u001b[0m: \tbandwidth: 0.432936696479247\n",
      "\u001b[34m\u001b[1mwandb\u001b[0m: \tkernel: triangular\n"
     ]
    },
    {
     "data": {
      "text/html": [
       "Tracking run with wandb version 0.12.21"
      ],
      "text/plain": [
       "<IPython.core.display.HTML object>"
      ]
     },
     "metadata": {},
     "output_type": "display_data"
    },
    {
     "data": {
      "text/html": [
       "Run data is saved locally in <code>/Users/aakashsasikumar/Documents/MSc/Research/Dissimilar Policy/building-MARL/studies/wandb/run-20220728_185332-m44cqwse</code>"
      ],
      "text/plain": [
       "<IPython.core.display.HTML object>"
      ]
     },
     "metadata": {},
     "output_type": "display_data"
    },
    {
     "data": {
      "text/html": [
       "Syncing run <strong><a href=\"https://wandb.ai/aakashsasikumar/ContinuousOPEHyperParamTuningSNIPW_28_07_2022/runs/m44cqwse\" target=\"_blank\">glamorous-sweep-75</a></strong> to <a href=\"https://wandb.ai/aakashsasikumar/ContinuousOPEHyperParamTuningSNIPW_28_07_2022\" target=\"_blank\">Weights & Biases</a> (<a href=\"https://wandb.me/run\" target=\"_blank\">docs</a>)<br/>Sweep page:  <a href=\"https://wandb.ai/aakashsasikumar/ContinuousOPEHyperParamTuningSNIPW_28_07_2022/sweeps/ci54h96s\" target=\"_blank\">https://wandb.ai/aakashsasikumar/ContinuousOPEHyperParamTuningSNIPW_28_07_2022/sweeps/ci54h96s</a>"
      ],
      "text/plain": [
       "<IPython.core.display.HTML object>"
      ]
     },
     "metadata": {},
     "output_type": "display_data"
    },
    {
     "name": "stderr",
     "output_type": "stream",
     "text": [
      "/Users/aakashsasikumar/.pyenv/versions/3.10.0/envs/test/lib/python3.10/site-packages/obp-0.5.5-py3.10.egg/obp/ope/estimators_continuous.py:388: RuntimeWarning: invalid value encountered in divide\n",
      "  estimated_rewards /= (kernel_func(u) / pscore).mean()\n"
     ]
    },
    {
     "data": {
      "text/html": [
       "Waiting for W&B process to finish... <strong style=\"color:green\">(success).</strong>"
      ],
      "text/plain": [
       "<IPython.core.display.HTML object>"
      ]
     },
     "metadata": {},
     "output_type": "display_data"
    },
    {
     "data": {
      "application/vnd.jupyter.widget-view+json": {
       "model_id": "a99ea02d7ee5499e8f464fcbc6ad5efd",
       "version_major": 2,
       "version_minor": 0
      },
      "text/plain": [
       "VBox(children=(Label(value='0.001 MB of 0.001 MB uploaded (0.000 MB deduped)\\r'), FloatProgress(value=1.0, max…"
      ]
     },
     "metadata": {},
     "output_type": "display_data"
    },
    {
     "data": {
      "text/html": [
       "<style>\n",
       "    table.wandb td:nth-child(1) { padding: 0 10px; text-align: left ; width: auto;} td:nth-child(2) {text-align: left ; width: 100%}\n",
       "    .wandb-row { display: flex; flex-direction: row; flex-wrap: wrap; justify-content: flex-start; width: 100% }\n",
       "    .wandb-col { display: flex; flex-direction: column; flex-basis: 100%; flex: 1; padding: 10px; }\n",
       "    </style>\n",
       "<div class=\"wandb-row\"><div class=\"wandb-col\"><h3>Run history:</h3><br/><table class=\"wandb\"><tr><td>average_spearman_correlation</td><td>▁</td></tr></table><br/></div><div class=\"wandb-col\"><h3>Run summary:</h3><br/><table class=\"wandb\"><tr><td>average_spearman_correlation</td><td>0.21685</td></tr></table><br/></div></div>"
      ],
      "text/plain": [
       "<IPython.core.display.HTML object>"
      ]
     },
     "metadata": {},
     "output_type": "display_data"
    },
    {
     "data": {
      "text/html": [
       "Synced <strong style=\"color:#cdcd00\">glamorous-sweep-75</strong>: <a href=\"https://wandb.ai/aakashsasikumar/ContinuousOPEHyperParamTuningSNIPW_28_07_2022/runs/m44cqwse\" target=\"_blank\">https://wandb.ai/aakashsasikumar/ContinuousOPEHyperParamTuningSNIPW_28_07_2022/runs/m44cqwse</a><br/>Synced 5 W&B file(s), 0 media file(s), 0 artifact file(s) and 0 other file(s)"
      ],
      "text/plain": [
       "<IPython.core.display.HTML object>"
      ]
     },
     "metadata": {},
     "output_type": "display_data"
    },
    {
     "data": {
      "text/html": [
       "Find logs at: <code>./wandb/run-20220728_185332-m44cqwse/logs</code>"
      ],
      "text/plain": [
       "<IPython.core.display.HTML object>"
      ]
     },
     "metadata": {},
     "output_type": "display_data"
    },
    {
     "name": "stderr",
     "output_type": "stream",
     "text": [
      "\u001b[34m\u001b[1mwandb\u001b[0m: Agent Starting Run: jgwxv3pk with config:\n",
      "\u001b[34m\u001b[1mwandb\u001b[0m: \tbandwidth: 0.06016206720309086\n",
      "\u001b[34m\u001b[1mwandb\u001b[0m: \tkernel: epanechnikov\n"
     ]
    },
    {
     "data": {
      "text/html": [
       "Tracking run with wandb version 0.12.21"
      ],
      "text/plain": [
       "<IPython.core.display.HTML object>"
      ]
     },
     "metadata": {},
     "output_type": "display_data"
    },
    {
     "data": {
      "text/html": [
       "Run data is saved locally in <code>/Users/aakashsasikumar/Documents/MSc/Research/Dissimilar Policy/building-MARL/studies/wandb/run-20220728_185436-jgwxv3pk</code>"
      ],
      "text/plain": [
       "<IPython.core.display.HTML object>"
      ]
     },
     "metadata": {},
     "output_type": "display_data"
    },
    {
     "data": {
      "text/html": [
       "Syncing run <strong><a href=\"https://wandb.ai/aakashsasikumar/ContinuousOPEHyperParamTuningSNIPW_28_07_2022/runs/jgwxv3pk\" target=\"_blank\">cerulean-sweep-76</a></strong> to <a href=\"https://wandb.ai/aakashsasikumar/ContinuousOPEHyperParamTuningSNIPW_28_07_2022\" target=\"_blank\">Weights & Biases</a> (<a href=\"https://wandb.me/run\" target=\"_blank\">docs</a>)<br/>Sweep page:  <a href=\"https://wandb.ai/aakashsasikumar/ContinuousOPEHyperParamTuningSNIPW_28_07_2022/sweeps/ci54h96s\" target=\"_blank\">https://wandb.ai/aakashsasikumar/ContinuousOPEHyperParamTuningSNIPW_28_07_2022/sweeps/ci54h96s</a>"
      ],
      "text/plain": [
       "<IPython.core.display.HTML object>"
      ]
     },
     "metadata": {},
     "output_type": "display_data"
    },
    {
     "name": "stderr",
     "output_type": "stream",
     "text": [
      "/Users/aakashsasikumar/.pyenv/versions/3.10.0/envs/test/lib/python3.10/site-packages/obp-0.5.5-py3.10.egg/obp/ope/estimators_continuous.py:388: RuntimeWarning: invalid value encountered in divide\n",
      "  estimated_rewards /= (kernel_func(u) / pscore).mean()\n"
     ]
    },
    {
     "data": {
      "text/html": [
       "Waiting for W&B process to finish... <strong style=\"color:green\">(success).</strong>"
      ],
      "text/plain": [
       "<IPython.core.display.HTML object>"
      ]
     },
     "metadata": {},
     "output_type": "display_data"
    },
    {
     "data": {
      "application/vnd.jupyter.widget-view+json": {
       "model_id": "d8dbdfe0906a4dac88e7c4143746ae2f",
       "version_major": 2,
       "version_minor": 0
      },
      "text/plain": [
       "VBox(children=(Label(value='0.001 MB of 0.001 MB uploaded (0.000 MB deduped)\\r'), FloatProgress(value=1.0, max…"
      ]
     },
     "metadata": {},
     "output_type": "display_data"
    },
    {
     "data": {
      "text/html": [
       "<style>\n",
       "    table.wandb td:nth-child(1) { padding: 0 10px; text-align: left ; width: auto;} td:nth-child(2) {text-align: left ; width: 100%}\n",
       "    .wandb-row { display: flex; flex-direction: row; flex-wrap: wrap; justify-content: flex-start; width: 100% }\n",
       "    .wandb-col { display: flex; flex-direction: column; flex-basis: 100%; flex: 1; padding: 10px; }\n",
       "    </style>\n",
       "<div class=\"wandb-row\"><div class=\"wandb-col\"><h3>Run history:</h3><br/><table class=\"wandb\"><tr><td>average_spearman_correlation</td><td>▁</td></tr></table><br/></div><div class=\"wandb-col\"><h3>Run summary:</h3><br/><table class=\"wandb\"><tr><td>average_spearman_correlation</td><td>0.34003</td></tr></table><br/></div></div>"
      ],
      "text/plain": [
       "<IPython.core.display.HTML object>"
      ]
     },
     "metadata": {},
     "output_type": "display_data"
    },
    {
     "data": {
      "text/html": [
       "Synced <strong style=\"color:#cdcd00\">cerulean-sweep-76</strong>: <a href=\"https://wandb.ai/aakashsasikumar/ContinuousOPEHyperParamTuningSNIPW_28_07_2022/runs/jgwxv3pk\" target=\"_blank\">https://wandb.ai/aakashsasikumar/ContinuousOPEHyperParamTuningSNIPW_28_07_2022/runs/jgwxv3pk</a><br/>Synced 5 W&B file(s), 0 media file(s), 0 artifact file(s) and 0 other file(s)"
      ],
      "text/plain": [
       "<IPython.core.display.HTML object>"
      ]
     },
     "metadata": {},
     "output_type": "display_data"
    },
    {
     "data": {
      "text/html": [
       "Find logs at: <code>./wandb/run-20220728_185436-jgwxv3pk/logs</code>"
      ],
      "text/plain": [
       "<IPython.core.display.HTML object>"
      ]
     },
     "metadata": {},
     "output_type": "display_data"
    },
    {
     "name": "stderr",
     "output_type": "stream",
     "text": [
      "\u001b[34m\u001b[1mwandb\u001b[0m: Sweep Agent: Waiting for job.\n",
      "\u001b[34m\u001b[1mwandb\u001b[0m: Job received.\n",
      "\u001b[34m\u001b[1mwandb\u001b[0m: Agent Starting Run: tzwvhi6v with config:\n",
      "\u001b[34m\u001b[1mwandb\u001b[0m: \tbandwidth: 0.24959188015702805\n",
      "\u001b[34m\u001b[1mwandb\u001b[0m: \tkernel: gaussian\n"
     ]
    },
    {
     "data": {
      "text/html": [
       "Tracking run with wandb version 0.12.21"
      ],
      "text/plain": [
       "<IPython.core.display.HTML object>"
      ]
     },
     "metadata": {},
     "output_type": "display_data"
    },
    {
     "data": {
      "text/html": [
       "Run data is saved locally in <code>/Users/aakashsasikumar/Documents/MSc/Research/Dissimilar Policy/building-MARL/studies/wandb/run-20220728_185538-tzwvhi6v</code>"
      ],
      "text/plain": [
       "<IPython.core.display.HTML object>"
      ]
     },
     "metadata": {},
     "output_type": "display_data"
    },
    {
     "data": {
      "text/html": [
       "Syncing run <strong><a href=\"https://wandb.ai/aakashsasikumar/ContinuousOPEHyperParamTuningSNIPW_28_07_2022/runs/tzwvhi6v\" target=\"_blank\">major-sweep-77</a></strong> to <a href=\"https://wandb.ai/aakashsasikumar/ContinuousOPEHyperParamTuningSNIPW_28_07_2022\" target=\"_blank\">Weights & Biases</a> (<a href=\"https://wandb.me/run\" target=\"_blank\">docs</a>)<br/>Sweep page:  <a href=\"https://wandb.ai/aakashsasikumar/ContinuousOPEHyperParamTuningSNIPW_28_07_2022/sweeps/ci54h96s\" target=\"_blank\">https://wandb.ai/aakashsasikumar/ContinuousOPEHyperParamTuningSNIPW_28_07_2022/sweeps/ci54h96s</a>"
      ],
      "text/plain": [
       "<IPython.core.display.HTML object>"
      ]
     },
     "metadata": {},
     "output_type": "display_data"
    },
    {
     "data": {
      "text/html": [
       "Waiting for W&B process to finish... <strong style=\"color:green\">(success).</strong>"
      ],
      "text/plain": [
       "<IPython.core.display.HTML object>"
      ]
     },
     "metadata": {},
     "output_type": "display_data"
    },
    {
     "data": {
      "application/vnd.jupyter.widget-view+json": {
       "model_id": "60d71b4a68e4455db5dae15b314dfe75",
       "version_major": 2,
       "version_minor": 0
      },
      "text/plain": [
       "VBox(children=(Label(value='0.001 MB of 0.001 MB uploaded (0.000 MB deduped)\\r'), FloatProgress(value=1.0, max…"
      ]
     },
     "metadata": {},
     "output_type": "display_data"
    },
    {
     "data": {
      "text/html": [
       "<style>\n",
       "    table.wandb td:nth-child(1) { padding: 0 10px; text-align: left ; width: auto;} td:nth-child(2) {text-align: left ; width: 100%}\n",
       "    .wandb-row { display: flex; flex-direction: row; flex-wrap: wrap; justify-content: flex-start; width: 100% }\n",
       "    .wandb-col { display: flex; flex-direction: column; flex-basis: 100%; flex: 1; padding: 10px; }\n",
       "    </style>\n",
       "<div class=\"wandb-row\"><div class=\"wandb-col\"><h3>Run history:</h3><br/><table class=\"wandb\"><tr><td>average_spearman_correlation</td><td>▁</td></tr></table><br/></div><div class=\"wandb-col\"><h3>Run summary:</h3><br/><table class=\"wandb\"><tr><td>average_spearman_correlation</td><td>0.46326</td></tr></table><br/></div></div>"
      ],
      "text/plain": [
       "<IPython.core.display.HTML object>"
      ]
     },
     "metadata": {},
     "output_type": "display_data"
    },
    {
     "data": {
      "text/html": [
       "Synced <strong style=\"color:#cdcd00\">major-sweep-77</strong>: <a href=\"https://wandb.ai/aakashsasikumar/ContinuousOPEHyperParamTuningSNIPW_28_07_2022/runs/tzwvhi6v\" target=\"_blank\">https://wandb.ai/aakashsasikumar/ContinuousOPEHyperParamTuningSNIPW_28_07_2022/runs/tzwvhi6v</a><br/>Synced 4 W&B file(s), 0 media file(s), 0 artifact file(s) and 0 other file(s)"
      ],
      "text/plain": [
       "<IPython.core.display.HTML object>"
      ]
     },
     "metadata": {},
     "output_type": "display_data"
    },
    {
     "data": {
      "text/html": [
       "Find logs at: <code>./wandb/run-20220728_185538-tzwvhi6v/logs</code>"
      ],
      "text/plain": [
       "<IPython.core.display.HTML object>"
      ]
     },
     "metadata": {},
     "output_type": "display_data"
    },
    {
     "name": "stderr",
     "output_type": "stream",
     "text": [
      "\u001b[34m\u001b[1mwandb\u001b[0m: Agent Starting Run: 827vkz3c with config:\n",
      "\u001b[34m\u001b[1mwandb\u001b[0m: \tbandwidth: 0.22118213463253783\n",
      "\u001b[34m\u001b[1mwandb\u001b[0m: \tkernel: triangular\n"
     ]
    },
    {
     "data": {
      "text/html": [
       "Tracking run with wandb version 0.12.21"
      ],
      "text/plain": [
       "<IPython.core.display.HTML object>"
      ]
     },
     "metadata": {},
     "output_type": "display_data"
    },
    {
     "data": {
      "text/html": [
       "Run data is saved locally in <code>/Users/aakashsasikumar/Documents/MSc/Research/Dissimilar Policy/building-MARL/studies/wandb/run-20220728_185632-827vkz3c</code>"
      ],
      "text/plain": [
       "<IPython.core.display.HTML object>"
      ]
     },
     "metadata": {},
     "output_type": "display_data"
    },
    {
     "data": {
      "text/html": [
       "Syncing run <strong><a href=\"https://wandb.ai/aakashsasikumar/ContinuousOPEHyperParamTuningSNIPW_28_07_2022/runs/827vkz3c\" target=\"_blank\">peachy-sweep-78</a></strong> to <a href=\"https://wandb.ai/aakashsasikumar/ContinuousOPEHyperParamTuningSNIPW_28_07_2022\" target=\"_blank\">Weights & Biases</a> (<a href=\"https://wandb.me/run\" target=\"_blank\">docs</a>)<br/>Sweep page:  <a href=\"https://wandb.ai/aakashsasikumar/ContinuousOPEHyperParamTuningSNIPW_28_07_2022/sweeps/ci54h96s\" target=\"_blank\">https://wandb.ai/aakashsasikumar/ContinuousOPEHyperParamTuningSNIPW_28_07_2022/sweeps/ci54h96s</a>"
      ],
      "text/plain": [
       "<IPython.core.display.HTML object>"
      ]
     },
     "metadata": {},
     "output_type": "display_data"
    },
    {
     "name": "stderr",
     "output_type": "stream",
     "text": [
      "/Users/aakashsasikumar/.pyenv/versions/3.10.0/envs/test/lib/python3.10/site-packages/obp-0.5.5-py3.10.egg/obp/ope/estimators_continuous.py:388: RuntimeWarning: invalid value encountered in divide\n",
      "  estimated_rewards /= (kernel_func(u) / pscore).mean()\n"
     ]
    },
    {
     "data": {
      "text/html": [
       "Waiting for W&B process to finish... <strong style=\"color:green\">(success).</strong>"
      ],
      "text/plain": [
       "<IPython.core.display.HTML object>"
      ]
     },
     "metadata": {},
     "output_type": "display_data"
    },
    {
     "data": {
      "application/vnd.jupyter.widget-view+json": {
       "model_id": "ec2ee6753ea042a2b7dac99f41f18fce",
       "version_major": 2,
       "version_minor": 0
      },
      "text/plain": [
       "VBox(children=(Label(value='0.001 MB of 0.001 MB uploaded (0.000 MB deduped)\\r'), FloatProgress(value=1.0, max…"
      ]
     },
     "metadata": {},
     "output_type": "display_data"
    },
    {
     "data": {
      "text/html": [
       "<style>\n",
       "    table.wandb td:nth-child(1) { padding: 0 10px; text-align: left ; width: auto;} td:nth-child(2) {text-align: left ; width: 100%}\n",
       "    .wandb-row { display: flex; flex-direction: row; flex-wrap: wrap; justify-content: flex-start; width: 100% }\n",
       "    .wandb-col { display: flex; flex-direction: column; flex-basis: 100%; flex: 1; padding: 10px; }\n",
       "    </style>\n",
       "<div class=\"wandb-row\"><div class=\"wandb-col\"><h3>Run history:</h3><br/><table class=\"wandb\"><tr><td>average_spearman_correlation</td><td>▁</td></tr></table><br/></div><div class=\"wandb-col\"><h3>Run summary:</h3><br/><table class=\"wandb\"><tr><td>average_spearman_correlation</td><td>0.27583</td></tr></table><br/></div></div>"
      ],
      "text/plain": [
       "<IPython.core.display.HTML object>"
      ]
     },
     "metadata": {},
     "output_type": "display_data"
    },
    {
     "data": {
      "text/html": [
       "Synced <strong style=\"color:#cdcd00\">peachy-sweep-78</strong>: <a href=\"https://wandb.ai/aakashsasikumar/ContinuousOPEHyperParamTuningSNIPW_28_07_2022/runs/827vkz3c\" target=\"_blank\">https://wandb.ai/aakashsasikumar/ContinuousOPEHyperParamTuningSNIPW_28_07_2022/runs/827vkz3c</a><br/>Synced 5 W&B file(s), 0 media file(s), 0 artifact file(s) and 0 other file(s)"
      ],
      "text/plain": [
       "<IPython.core.display.HTML object>"
      ]
     },
     "metadata": {},
     "output_type": "display_data"
    },
    {
     "data": {
      "text/html": [
       "Find logs at: <code>./wandb/run-20220728_185632-827vkz3c/logs</code>"
      ],
      "text/plain": [
       "<IPython.core.display.HTML object>"
      ]
     },
     "metadata": {},
     "output_type": "display_data"
    },
    {
     "name": "stderr",
     "output_type": "stream",
     "text": [
      "\u001b[34m\u001b[1mwandb\u001b[0m: Agent Starting Run: 9gtgzu4r with config:\n",
      "\u001b[34m\u001b[1mwandb\u001b[0m: \tbandwidth: 0.4764541867616039\n",
      "\u001b[34m\u001b[1mwandb\u001b[0m: \tkernel: gaussian\n"
     ]
    },
    {
     "data": {
      "text/html": [
       "Tracking run with wandb version 0.12.21"
      ],
      "text/plain": [
       "<IPython.core.display.HTML object>"
      ]
     },
     "metadata": {},
     "output_type": "display_data"
    },
    {
     "data": {
      "text/html": [
       "Run data is saved locally in <code>/Users/aakashsasikumar/Documents/MSc/Research/Dissimilar Policy/building-MARL/studies/wandb/run-20220728_185730-9gtgzu4r</code>"
      ],
      "text/plain": [
       "<IPython.core.display.HTML object>"
      ]
     },
     "metadata": {},
     "output_type": "display_data"
    },
    {
     "data": {
      "text/html": [
       "Syncing run <strong><a href=\"https://wandb.ai/aakashsasikumar/ContinuousOPEHyperParamTuningSNIPW_28_07_2022/runs/9gtgzu4r\" target=\"_blank\">atomic-sweep-79</a></strong> to <a href=\"https://wandb.ai/aakashsasikumar/ContinuousOPEHyperParamTuningSNIPW_28_07_2022\" target=\"_blank\">Weights & Biases</a> (<a href=\"https://wandb.me/run\" target=\"_blank\">docs</a>)<br/>Sweep page:  <a href=\"https://wandb.ai/aakashsasikumar/ContinuousOPEHyperParamTuningSNIPW_28_07_2022/sweeps/ci54h96s\" target=\"_blank\">https://wandb.ai/aakashsasikumar/ContinuousOPEHyperParamTuningSNIPW_28_07_2022/sweeps/ci54h96s</a>"
      ],
      "text/plain": [
       "<IPython.core.display.HTML object>"
      ]
     },
     "metadata": {},
     "output_type": "display_data"
    },
    {
     "data": {
      "text/html": [
       "Waiting for W&B process to finish... <strong style=\"color:green\">(success).</strong>"
      ],
      "text/plain": [
       "<IPython.core.display.HTML object>"
      ]
     },
     "metadata": {},
     "output_type": "display_data"
    },
    {
     "data": {
      "application/vnd.jupyter.widget-view+json": {
       "model_id": "a2ca9c05eaf94670af30a29696a53070",
       "version_major": 2,
       "version_minor": 0
      },
      "text/plain": [
       "VBox(children=(Label(value='0.001 MB of 0.001 MB uploaded (0.000 MB deduped)\\r'), FloatProgress(value=1.0, max…"
      ]
     },
     "metadata": {},
     "output_type": "display_data"
    },
    {
     "data": {
      "text/html": [
       "<style>\n",
       "    table.wandb td:nth-child(1) { padding: 0 10px; text-align: left ; width: auto;} td:nth-child(2) {text-align: left ; width: 100%}\n",
       "    .wandb-row { display: flex; flex-direction: row; flex-wrap: wrap; justify-content: flex-start; width: 100% }\n",
       "    .wandb-col { display: flex; flex-direction: column; flex-basis: 100%; flex: 1; padding: 10px; }\n",
       "    </style>\n",
       "<div class=\"wandb-row\"><div class=\"wandb-col\"><h3>Run history:</h3><br/><table class=\"wandb\"><tr><td>average_spearman_correlation</td><td>▁</td></tr></table><br/></div><div class=\"wandb-col\"><h3>Run summary:</h3><br/><table class=\"wandb\"><tr><td>average_spearman_correlation</td><td>0.64905</td></tr></table><br/></div></div>"
      ],
      "text/plain": [
       "<IPython.core.display.HTML object>"
      ]
     },
     "metadata": {},
     "output_type": "display_data"
    },
    {
     "data": {
      "text/html": [
       "Synced <strong style=\"color:#cdcd00\">atomic-sweep-79</strong>: <a href=\"https://wandb.ai/aakashsasikumar/ContinuousOPEHyperParamTuningSNIPW_28_07_2022/runs/9gtgzu4r\" target=\"_blank\">https://wandb.ai/aakashsasikumar/ContinuousOPEHyperParamTuningSNIPW_28_07_2022/runs/9gtgzu4r</a><br/>Synced 4 W&B file(s), 0 media file(s), 0 artifact file(s) and 0 other file(s)"
      ],
      "text/plain": [
       "<IPython.core.display.HTML object>"
      ]
     },
     "metadata": {},
     "output_type": "display_data"
    },
    {
     "data": {
      "text/html": [
       "Find logs at: <code>./wandb/run-20220728_185730-9gtgzu4r/logs</code>"
      ],
      "text/plain": [
       "<IPython.core.display.HTML object>"
      ]
     },
     "metadata": {},
     "output_type": "display_data"
    },
    {
     "name": "stderr",
     "output_type": "stream",
     "text": [
      "\u001b[34m\u001b[1mwandb\u001b[0m: Sweep Agent: Waiting for job.\n",
      "\u001b[34m\u001b[1mwandb\u001b[0m: Job received.\n",
      "\u001b[34m\u001b[1mwandb\u001b[0m: Agent Starting Run: l1905vqx with config:\n",
      "\u001b[34m\u001b[1mwandb\u001b[0m: \tbandwidth: 0.25655470888476123\n",
      "\u001b[34m\u001b[1mwandb\u001b[0m: \tkernel: epanechnikov\n"
     ]
    },
    {
     "data": {
      "text/html": [
       "Tracking run with wandb version 0.12.21"
      ],
      "text/plain": [
       "<IPython.core.display.HTML object>"
      ]
     },
     "metadata": {},
     "output_type": "display_data"
    },
    {
     "data": {
      "text/html": [
       "Run data is saved locally in <code>/Users/aakashsasikumar/Documents/MSc/Research/Dissimilar Policy/building-MARL/studies/wandb/run-20220728_185833-l1905vqx</code>"
      ],
      "text/plain": [
       "<IPython.core.display.HTML object>"
      ]
     },
     "metadata": {},
     "output_type": "display_data"
    },
    {
     "data": {
      "text/html": [
       "Syncing run <strong><a href=\"https://wandb.ai/aakashsasikumar/ContinuousOPEHyperParamTuningSNIPW_28_07_2022/runs/l1905vqx\" target=\"_blank\">graceful-sweep-80</a></strong> to <a href=\"https://wandb.ai/aakashsasikumar/ContinuousOPEHyperParamTuningSNIPW_28_07_2022\" target=\"_blank\">Weights & Biases</a> (<a href=\"https://wandb.me/run\" target=\"_blank\">docs</a>)<br/>Sweep page:  <a href=\"https://wandb.ai/aakashsasikumar/ContinuousOPEHyperParamTuningSNIPW_28_07_2022/sweeps/ci54h96s\" target=\"_blank\">https://wandb.ai/aakashsasikumar/ContinuousOPEHyperParamTuningSNIPW_28_07_2022/sweeps/ci54h96s</a>"
      ],
      "text/plain": [
       "<IPython.core.display.HTML object>"
      ]
     },
     "metadata": {},
     "output_type": "display_data"
    },
    {
     "name": "stderr",
     "output_type": "stream",
     "text": [
      "/Users/aakashsasikumar/.pyenv/versions/3.10.0/envs/test/lib/python3.10/site-packages/obp-0.5.5-py3.10.egg/obp/ope/estimators_continuous.py:388: RuntimeWarning: invalid value encountered in divide\n",
      "  estimated_rewards /= (kernel_func(u) / pscore).mean()\n"
     ]
    },
    {
     "data": {
      "text/html": [
       "Waiting for W&B process to finish... <strong style=\"color:green\">(success).</strong>"
      ],
      "text/plain": [
       "<IPython.core.display.HTML object>"
      ]
     },
     "metadata": {},
     "output_type": "display_data"
    },
    {
     "data": {
      "application/vnd.jupyter.widget-view+json": {
       "model_id": "e35b411498d44a4498739d2c0b2da76b",
       "version_major": 2,
       "version_minor": 0
      },
      "text/plain": [
       "VBox(children=(Label(value='0.001 MB of 0.001 MB uploaded (0.000 MB deduped)\\r'), FloatProgress(value=1.0, max…"
      ]
     },
     "metadata": {},
     "output_type": "display_data"
    },
    {
     "data": {
      "text/html": [
       "<style>\n",
       "    table.wandb td:nth-child(1) { padding: 0 10px; text-align: left ; width: auto;} td:nth-child(2) {text-align: left ; width: 100%}\n",
       "    .wandb-row { display: flex; flex-direction: row; flex-wrap: wrap; justify-content: flex-start; width: 100% }\n",
       "    .wandb-col { display: flex; flex-direction: column; flex-basis: 100%; flex: 1; padding: 10px; }\n",
       "    </style>\n",
       "<div class=\"wandb-row\"><div class=\"wandb-col\"><h3>Run history:</h3><br/><table class=\"wandb\"><tr><td>average_spearman_correlation</td><td>▁</td></tr></table><br/></div><div class=\"wandb-col\"><h3>Run summary:</h3><br/><table class=\"wandb\"><tr><td>average_spearman_correlation</td><td>0.25684</td></tr></table><br/></div></div>"
      ],
      "text/plain": [
       "<IPython.core.display.HTML object>"
      ]
     },
     "metadata": {},
     "output_type": "display_data"
    },
    {
     "data": {
      "text/html": [
       "Synced <strong style=\"color:#cdcd00\">graceful-sweep-80</strong>: <a href=\"https://wandb.ai/aakashsasikumar/ContinuousOPEHyperParamTuningSNIPW_28_07_2022/runs/l1905vqx\" target=\"_blank\">https://wandb.ai/aakashsasikumar/ContinuousOPEHyperParamTuningSNIPW_28_07_2022/runs/l1905vqx</a><br/>Synced 5 W&B file(s), 0 media file(s), 0 artifact file(s) and 0 other file(s)"
      ],
      "text/plain": [
       "<IPython.core.display.HTML object>"
      ]
     },
     "metadata": {},
     "output_type": "display_data"
    },
    {
     "data": {
      "text/html": [
       "Find logs at: <code>./wandb/run-20220728_185833-l1905vqx/logs</code>"
      ],
      "text/plain": [
       "<IPython.core.display.HTML object>"
      ]
     },
     "metadata": {},
     "output_type": "display_data"
    },
    {
     "name": "stderr",
     "output_type": "stream",
     "text": [
      "\u001b[34m\u001b[1mwandb\u001b[0m: Agent Starting Run: zsv5zwa7 with config:\n",
      "\u001b[34m\u001b[1mwandb\u001b[0m: \tbandwidth: 0.040267779715958296\n",
      "\u001b[34m\u001b[1mwandb\u001b[0m: \tkernel: triangular\n"
     ]
    },
    {
     "data": {
      "text/html": [
       "Tracking run with wandb version 0.12.21"
      ],
      "text/plain": [
       "<IPython.core.display.HTML object>"
      ]
     },
     "metadata": {},
     "output_type": "display_data"
    },
    {
     "data": {
      "text/html": [
       "Run data is saved locally in <code>/Users/aakashsasikumar/Documents/MSc/Research/Dissimilar Policy/building-MARL/studies/wandb/run-20220728_185927-zsv5zwa7</code>"
      ],
      "text/plain": [
       "<IPython.core.display.HTML object>"
      ]
     },
     "metadata": {},
     "output_type": "display_data"
    },
    {
     "data": {
      "text/html": [
       "Syncing run <strong><a href=\"https://wandb.ai/aakashsasikumar/ContinuousOPEHyperParamTuningSNIPW_28_07_2022/runs/zsv5zwa7\" target=\"_blank\">vital-sweep-81</a></strong> to <a href=\"https://wandb.ai/aakashsasikumar/ContinuousOPEHyperParamTuningSNIPW_28_07_2022\" target=\"_blank\">Weights & Biases</a> (<a href=\"https://wandb.me/run\" target=\"_blank\">docs</a>)<br/>Sweep page:  <a href=\"https://wandb.ai/aakashsasikumar/ContinuousOPEHyperParamTuningSNIPW_28_07_2022/sweeps/ci54h96s\" target=\"_blank\">https://wandb.ai/aakashsasikumar/ContinuousOPEHyperParamTuningSNIPW_28_07_2022/sweeps/ci54h96s</a>"
      ],
      "text/plain": [
       "<IPython.core.display.HTML object>"
      ]
     },
     "metadata": {},
     "output_type": "display_data"
    },
    {
     "name": "stderr",
     "output_type": "stream",
     "text": [
      "/Users/aakashsasikumar/.pyenv/versions/3.10.0/envs/test/lib/python3.10/site-packages/obp-0.5.5-py3.10.egg/obp/ope/estimators_continuous.py:388: RuntimeWarning: invalid value encountered in divide\n",
      "  estimated_rewards /= (kernel_func(u) / pscore).mean()\n"
     ]
    },
    {
     "data": {
      "text/html": [
       "Waiting for W&B process to finish... <strong style=\"color:green\">(success).</strong>"
      ],
      "text/plain": [
       "<IPython.core.display.HTML object>"
      ]
     },
     "metadata": {},
     "output_type": "display_data"
    },
    {
     "data": {
      "application/vnd.jupyter.widget-view+json": {
       "model_id": "ab6920c5231f42d4af1dc440ed58897c",
       "version_major": 2,
       "version_minor": 0
      },
      "text/plain": [
       "VBox(children=(Label(value='0.001 MB of 0.001 MB uploaded (0.000 MB deduped)\\r'), FloatProgress(value=1.0, max…"
      ]
     },
     "metadata": {},
     "output_type": "display_data"
    },
    {
     "data": {
      "text/html": [
       "<style>\n",
       "    table.wandb td:nth-child(1) { padding: 0 10px; text-align: left ; width: auto;} td:nth-child(2) {text-align: left ; width: 100%}\n",
       "    .wandb-row { display: flex; flex-direction: row; flex-wrap: wrap; justify-content: flex-start; width: 100% }\n",
       "    .wandb-col { display: flex; flex-direction: column; flex-basis: 100%; flex: 1; padding: 10px; }\n",
       "    </style>\n",
       "<div class=\"wandb-row\"><div class=\"wandb-col\"><h3>Run history:</h3><br/><table class=\"wandb\"><tr><td>average_spearman_correlation</td><td>▁</td></tr></table><br/></div><div class=\"wandb-col\"><h3>Run summary:</h3><br/><table class=\"wandb\"><tr><td>average_spearman_correlation</td><td>0.33471</td></tr></table><br/></div></div>"
      ],
      "text/plain": [
       "<IPython.core.display.HTML object>"
      ]
     },
     "metadata": {},
     "output_type": "display_data"
    },
    {
     "data": {
      "text/html": [
       "Synced <strong style=\"color:#cdcd00\">vital-sweep-81</strong>: <a href=\"https://wandb.ai/aakashsasikumar/ContinuousOPEHyperParamTuningSNIPW_28_07_2022/runs/zsv5zwa7\" target=\"_blank\">https://wandb.ai/aakashsasikumar/ContinuousOPEHyperParamTuningSNIPW_28_07_2022/runs/zsv5zwa7</a><br/>Synced 5 W&B file(s), 0 media file(s), 0 artifact file(s) and 0 other file(s)"
      ],
      "text/plain": [
       "<IPython.core.display.HTML object>"
      ]
     },
     "metadata": {},
     "output_type": "display_data"
    },
    {
     "data": {
      "text/html": [
       "Find logs at: <code>./wandb/run-20220728_185927-zsv5zwa7/logs</code>"
      ],
      "text/plain": [
       "<IPython.core.display.HTML object>"
      ]
     },
     "metadata": {},
     "output_type": "display_data"
    },
    {
     "name": "stderr",
     "output_type": "stream",
     "text": [
      "\u001b[34m\u001b[1mwandb\u001b[0m: Agent Starting Run: 4fksd3va with config:\n",
      "\u001b[34m\u001b[1mwandb\u001b[0m: \tbandwidth: 0.4487526610470501\n",
      "\u001b[34m\u001b[1mwandb\u001b[0m: \tkernel: cosine\n"
     ]
    },
    {
     "data": {
      "text/html": [
       "Tracking run with wandb version 0.12.21"
      ],
      "text/plain": [
       "<IPython.core.display.HTML object>"
      ]
     },
     "metadata": {},
     "output_type": "display_data"
    },
    {
     "data": {
      "text/html": [
       "Run data is saved locally in <code>/Users/aakashsasikumar/Documents/MSc/Research/Dissimilar Policy/building-MARL/studies/wandb/run-20220728_190026-4fksd3va</code>"
      ],
      "text/plain": [
       "<IPython.core.display.HTML object>"
      ]
     },
     "metadata": {},
     "output_type": "display_data"
    },
    {
     "data": {
      "text/html": [
       "Syncing run <strong><a href=\"https://wandb.ai/aakashsasikumar/ContinuousOPEHyperParamTuningSNIPW_28_07_2022/runs/4fksd3va\" target=\"_blank\">summer-sweep-82</a></strong> to <a href=\"https://wandb.ai/aakashsasikumar/ContinuousOPEHyperParamTuningSNIPW_28_07_2022\" target=\"_blank\">Weights & Biases</a> (<a href=\"https://wandb.me/run\" target=\"_blank\">docs</a>)<br/>Sweep page:  <a href=\"https://wandb.ai/aakashsasikumar/ContinuousOPEHyperParamTuningSNIPW_28_07_2022/sweeps/ci54h96s\" target=\"_blank\">https://wandb.ai/aakashsasikumar/ContinuousOPEHyperParamTuningSNIPW_28_07_2022/sweeps/ci54h96s</a>"
      ],
      "text/plain": [
       "<IPython.core.display.HTML object>"
      ]
     },
     "metadata": {},
     "output_type": "display_data"
    },
    {
     "data": {
      "text/html": [
       "Waiting for W&B process to finish... <strong style=\"color:green\">(success).</strong>"
      ],
      "text/plain": [
       "<IPython.core.display.HTML object>"
      ]
     },
     "metadata": {},
     "output_type": "display_data"
    },
    {
     "data": {
      "application/vnd.jupyter.widget-view+json": {
       "model_id": "8740f38152574c88bb64c9aedc72174b",
       "version_major": 2,
       "version_minor": 0
      },
      "text/plain": [
       "VBox(children=(Label(value='0.001 MB of 0.001 MB uploaded (0.000 MB deduped)\\r'), FloatProgress(value=1.0, max…"
      ]
     },
     "metadata": {},
     "output_type": "display_data"
    },
    {
     "data": {
      "text/html": [
       "<style>\n",
       "    table.wandb td:nth-child(1) { padding: 0 10px; text-align: left ; width: auto;} td:nth-child(2) {text-align: left ; width: 100%}\n",
       "    .wandb-row { display: flex; flex-direction: row; flex-wrap: wrap; justify-content: flex-start; width: 100% }\n",
       "    .wandb-col { display: flex; flex-direction: column; flex-basis: 100%; flex: 1; padding: 10px; }\n",
       "    </style>\n",
       "<div class=\"wandb-row\"><div class=\"wandb-col\"><h3>Run history:</h3><br/><table class=\"wandb\"><tr><td>average_spearman_correlation</td><td>▁</td></tr></table><br/></div><div class=\"wandb-col\"><h3>Run summary:</h3><br/><table class=\"wandb\"><tr><td>average_spearman_correlation</td><td>0.25105</td></tr></table><br/></div></div>"
      ],
      "text/plain": [
       "<IPython.core.display.HTML object>"
      ]
     },
     "metadata": {},
     "output_type": "display_data"
    },
    {
     "data": {
      "text/html": [
       "Synced <strong style=\"color:#cdcd00\">summer-sweep-82</strong>: <a href=\"https://wandb.ai/aakashsasikumar/ContinuousOPEHyperParamTuningSNIPW_28_07_2022/runs/4fksd3va\" target=\"_blank\">https://wandb.ai/aakashsasikumar/ContinuousOPEHyperParamTuningSNIPW_28_07_2022/runs/4fksd3va</a><br/>Synced 4 W&B file(s), 0 media file(s), 0 artifact file(s) and 0 other file(s)"
      ],
      "text/plain": [
       "<IPython.core.display.HTML object>"
      ]
     },
     "metadata": {},
     "output_type": "display_data"
    },
    {
     "data": {
      "text/html": [
       "Find logs at: <code>./wandb/run-20220728_190026-4fksd3va/logs</code>"
      ],
      "text/plain": [
       "<IPython.core.display.HTML object>"
      ]
     },
     "metadata": {},
     "output_type": "display_data"
    },
    {
     "name": "stderr",
     "output_type": "stream",
     "text": [
      "\u001b[34m\u001b[1mwandb\u001b[0m: Agent Starting Run: 8wuxarlj with config:\n",
      "\u001b[34m\u001b[1mwandb\u001b[0m: \tbandwidth: 0.3253037847332823\n",
      "\u001b[34m\u001b[1mwandb\u001b[0m: \tkernel: triangular\n"
     ]
    },
    {
     "data": {
      "text/html": [
       "Tracking run with wandb version 0.12.21"
      ],
      "text/plain": [
       "<IPython.core.display.HTML object>"
      ]
     },
     "metadata": {},
     "output_type": "display_data"
    },
    {
     "data": {
      "text/html": [
       "Run data is saved locally in <code>/Users/aakashsasikumar/Documents/MSc/Research/Dissimilar Policy/building-MARL/studies/wandb/run-20220728_190120-8wuxarlj</code>"
      ],
      "text/plain": [
       "<IPython.core.display.HTML object>"
      ]
     },
     "metadata": {},
     "output_type": "display_data"
    },
    {
     "data": {
      "text/html": [
       "Syncing run <strong><a href=\"https://wandb.ai/aakashsasikumar/ContinuousOPEHyperParamTuningSNIPW_28_07_2022/runs/8wuxarlj\" target=\"_blank\">drawn-sweep-83</a></strong> to <a href=\"https://wandb.ai/aakashsasikumar/ContinuousOPEHyperParamTuningSNIPW_28_07_2022\" target=\"_blank\">Weights & Biases</a> (<a href=\"https://wandb.me/run\" target=\"_blank\">docs</a>)<br/>Sweep page:  <a href=\"https://wandb.ai/aakashsasikumar/ContinuousOPEHyperParamTuningSNIPW_28_07_2022/sweeps/ci54h96s\" target=\"_blank\">https://wandb.ai/aakashsasikumar/ContinuousOPEHyperParamTuningSNIPW_28_07_2022/sweeps/ci54h96s</a>"
      ],
      "text/plain": [
       "<IPython.core.display.HTML object>"
      ]
     },
     "metadata": {},
     "output_type": "display_data"
    },
    {
     "name": "stderr",
     "output_type": "stream",
     "text": [
      "/Users/aakashsasikumar/.pyenv/versions/3.10.0/envs/test/lib/python3.10/site-packages/obp-0.5.5-py3.10.egg/obp/ope/estimators_continuous.py:388: RuntimeWarning: invalid value encountered in divide\n",
      "  estimated_rewards /= (kernel_func(u) / pscore).mean()\n"
     ]
    },
    {
     "data": {
      "text/html": [
       "Waiting for W&B process to finish... <strong style=\"color:green\">(success).</strong>"
      ],
      "text/plain": [
       "<IPython.core.display.HTML object>"
      ]
     },
     "metadata": {},
     "output_type": "display_data"
    },
    {
     "data": {
      "application/vnd.jupyter.widget-view+json": {
       "model_id": "7ea28425e1ea4a7fb62e888540b76f26",
       "version_major": 2,
       "version_minor": 0
      },
      "text/plain": [
       "VBox(children=(Label(value='0.001 MB of 0.001 MB uploaded (0.000 MB deduped)\\r'), FloatProgress(value=1.0, max…"
      ]
     },
     "metadata": {},
     "output_type": "display_data"
    },
    {
     "data": {
      "text/html": [
       "<style>\n",
       "    table.wandb td:nth-child(1) { padding: 0 10px; text-align: left ; width: auto;} td:nth-child(2) {text-align: left ; width: 100%}\n",
       "    .wandb-row { display: flex; flex-direction: row; flex-wrap: wrap; justify-content: flex-start; width: 100% }\n",
       "    .wandb-col { display: flex; flex-direction: column; flex-basis: 100%; flex: 1; padding: 10px; }\n",
       "    </style>\n",
       "<div class=\"wandb-row\"><div class=\"wandb-col\"><h3>Run history:</h3><br/><table class=\"wandb\"><tr><td>average_spearman_correlation</td><td>▁</td></tr></table><br/></div><div class=\"wandb-col\"><h3>Run summary:</h3><br/><table class=\"wandb\"><tr><td>average_spearman_correlation</td><td>0.25082</td></tr></table><br/></div></div>"
      ],
      "text/plain": [
       "<IPython.core.display.HTML object>"
      ]
     },
     "metadata": {},
     "output_type": "display_data"
    },
    {
     "data": {
      "text/html": [
       "Synced <strong style=\"color:#cdcd00\">drawn-sweep-83</strong>: <a href=\"https://wandb.ai/aakashsasikumar/ContinuousOPEHyperParamTuningSNIPW_28_07_2022/runs/8wuxarlj\" target=\"_blank\">https://wandb.ai/aakashsasikumar/ContinuousOPEHyperParamTuningSNIPW_28_07_2022/runs/8wuxarlj</a><br/>Synced 5 W&B file(s), 0 media file(s), 0 artifact file(s) and 0 other file(s)"
      ],
      "text/plain": [
       "<IPython.core.display.HTML object>"
      ]
     },
     "metadata": {},
     "output_type": "display_data"
    },
    {
     "data": {
      "text/html": [
       "Find logs at: <code>./wandb/run-20220728_190120-8wuxarlj/logs</code>"
      ],
      "text/plain": [
       "<IPython.core.display.HTML object>"
      ]
     },
     "metadata": {},
     "output_type": "display_data"
    },
    {
     "name": "stderr",
     "output_type": "stream",
     "text": [
      "\u001b[34m\u001b[1mwandb\u001b[0m: Agent Starting Run: tntlqitw with config:\n",
      "\u001b[34m\u001b[1mwandb\u001b[0m: \tbandwidth: 0.3159302307270631\n",
      "\u001b[34m\u001b[1mwandb\u001b[0m: \tkernel: cosine\n"
     ]
    },
    {
     "data": {
      "text/html": [
       "Tracking run with wandb version 0.12.21"
      ],
      "text/plain": [
       "<IPython.core.display.HTML object>"
      ]
     },
     "metadata": {},
     "output_type": "display_data"
    },
    {
     "data": {
      "text/html": [
       "Run data is saved locally in <code>/Users/aakashsasikumar/Documents/MSc/Research/Dissimilar Policy/building-MARL/studies/wandb/run-20220728_190214-tntlqitw</code>"
      ],
      "text/plain": [
       "<IPython.core.display.HTML object>"
      ]
     },
     "metadata": {},
     "output_type": "display_data"
    },
    {
     "data": {
      "text/html": [
       "Syncing run <strong><a href=\"https://wandb.ai/aakashsasikumar/ContinuousOPEHyperParamTuningSNIPW_28_07_2022/runs/tntlqitw\" target=\"_blank\">kind-sweep-84</a></strong> to <a href=\"https://wandb.ai/aakashsasikumar/ContinuousOPEHyperParamTuningSNIPW_28_07_2022\" target=\"_blank\">Weights & Biases</a> (<a href=\"https://wandb.me/run\" target=\"_blank\">docs</a>)<br/>Sweep page:  <a href=\"https://wandb.ai/aakashsasikumar/ContinuousOPEHyperParamTuningSNIPW_28_07_2022/sweeps/ci54h96s\" target=\"_blank\">https://wandb.ai/aakashsasikumar/ContinuousOPEHyperParamTuningSNIPW_28_07_2022/sweeps/ci54h96s</a>"
      ],
      "text/plain": [
       "<IPython.core.display.HTML object>"
      ]
     },
     "metadata": {},
     "output_type": "display_data"
    },
    {
     "data": {
      "text/html": [
       "Waiting for W&B process to finish... <strong style=\"color:green\">(success).</strong>"
      ],
      "text/plain": [
       "<IPython.core.display.HTML object>"
      ]
     },
     "metadata": {},
     "output_type": "display_data"
    },
    {
     "data": {
      "application/vnd.jupyter.widget-view+json": {
       "model_id": "6387042203ac4d6988d575926233800c",
       "version_major": 2,
       "version_minor": 0
      },
      "text/plain": [
       "VBox(children=(Label(value='0.001 MB of 0.001 MB uploaded (0.000 MB deduped)\\r'), FloatProgress(value=1.0, max…"
      ]
     },
     "metadata": {},
     "output_type": "display_data"
    },
    {
     "data": {
      "text/html": [
       "<style>\n",
       "    table.wandb td:nth-child(1) { padding: 0 10px; text-align: left ; width: auto;} td:nth-child(2) {text-align: left ; width: 100%}\n",
       "    .wandb-row { display: flex; flex-direction: row; flex-wrap: wrap; justify-content: flex-start; width: 100% }\n",
       "    .wandb-col { display: flex; flex-direction: column; flex-basis: 100%; flex: 1; padding: 10px; }\n",
       "    </style>\n",
       "<div class=\"wandb-row\"><div class=\"wandb-col\"><h3>Run history:</h3><br/><table class=\"wandb\"><tr><td>average_spearman_correlation</td><td>▁</td></tr></table><br/></div><div class=\"wandb-col\"><h3>Run summary:</h3><br/><table class=\"wandb\"><tr><td>average_spearman_correlation</td><td>0.34827</td></tr></table><br/></div></div>"
      ],
      "text/plain": [
       "<IPython.core.display.HTML object>"
      ]
     },
     "metadata": {},
     "output_type": "display_data"
    },
    {
     "data": {
      "text/html": [
       "Synced <strong style=\"color:#cdcd00\">kind-sweep-84</strong>: <a href=\"https://wandb.ai/aakashsasikumar/ContinuousOPEHyperParamTuningSNIPW_28_07_2022/runs/tntlqitw\" target=\"_blank\">https://wandb.ai/aakashsasikumar/ContinuousOPEHyperParamTuningSNIPW_28_07_2022/runs/tntlqitw</a><br/>Synced 4 W&B file(s), 0 media file(s), 0 artifact file(s) and 0 other file(s)"
      ],
      "text/plain": [
       "<IPython.core.display.HTML object>"
      ]
     },
     "metadata": {},
     "output_type": "display_data"
    },
    {
     "data": {
      "text/html": [
       "Find logs at: <code>./wandb/run-20220728_190214-tntlqitw/logs</code>"
      ],
      "text/plain": [
       "<IPython.core.display.HTML object>"
      ]
     },
     "metadata": {},
     "output_type": "display_data"
    },
    {
     "name": "stderr",
     "output_type": "stream",
     "text": [
      "\u001b[34m\u001b[1mwandb\u001b[0m: Agent Starting Run: ztg6u3vj with config:\n",
      "\u001b[34m\u001b[1mwandb\u001b[0m: \tbandwidth: 0.2520182344271046\n",
      "\u001b[34m\u001b[1mwandb\u001b[0m: \tkernel: cosine\n"
     ]
    },
    {
     "data": {
      "text/html": [
       "Tracking run with wandb version 0.12.21"
      ],
      "text/plain": [
       "<IPython.core.display.HTML object>"
      ]
     },
     "metadata": {},
     "output_type": "display_data"
    },
    {
     "data": {
      "text/html": [
       "Run data is saved locally in <code>/Users/aakashsasikumar/Documents/MSc/Research/Dissimilar Policy/building-MARL/studies/wandb/run-20220728_190311-ztg6u3vj</code>"
      ],
      "text/plain": [
       "<IPython.core.display.HTML object>"
      ]
     },
     "metadata": {},
     "output_type": "display_data"
    },
    {
     "data": {
      "text/html": [
       "Syncing run <strong><a href=\"https://wandb.ai/aakashsasikumar/ContinuousOPEHyperParamTuningSNIPW_28_07_2022/runs/ztg6u3vj\" target=\"_blank\">amber-sweep-85</a></strong> to <a href=\"https://wandb.ai/aakashsasikumar/ContinuousOPEHyperParamTuningSNIPW_28_07_2022\" target=\"_blank\">Weights & Biases</a> (<a href=\"https://wandb.me/run\" target=\"_blank\">docs</a>)<br/>Sweep page:  <a href=\"https://wandb.ai/aakashsasikumar/ContinuousOPEHyperParamTuningSNIPW_28_07_2022/sweeps/ci54h96s\" target=\"_blank\">https://wandb.ai/aakashsasikumar/ContinuousOPEHyperParamTuningSNIPW_28_07_2022/sweeps/ci54h96s</a>"
      ],
      "text/plain": [
       "<IPython.core.display.HTML object>"
      ]
     },
     "metadata": {},
     "output_type": "display_data"
    },
    {
     "data": {
      "text/html": [
       "Waiting for W&B process to finish... <strong style=\"color:green\">(success).</strong>"
      ],
      "text/plain": [
       "<IPython.core.display.HTML object>"
      ]
     },
     "metadata": {},
     "output_type": "display_data"
    },
    {
     "data": {
      "application/vnd.jupyter.widget-view+json": {
       "model_id": "1462591bcff14cddb5449bddd78dd27a",
       "version_major": 2,
       "version_minor": 0
      },
      "text/plain": [
       "VBox(children=(Label(value='0.001 MB of 0.001 MB uploaded (0.000 MB deduped)\\r'), FloatProgress(value=1.0, max…"
      ]
     },
     "metadata": {},
     "output_type": "display_data"
    },
    {
     "data": {
      "text/html": [
       "<style>\n",
       "    table.wandb td:nth-child(1) { padding: 0 10px; text-align: left ; width: auto;} td:nth-child(2) {text-align: left ; width: 100%}\n",
       "    .wandb-row { display: flex; flex-direction: row; flex-wrap: wrap; justify-content: flex-start; width: 100% }\n",
       "    .wandb-col { display: flex; flex-direction: column; flex-basis: 100%; flex: 1; padding: 10px; }\n",
       "    </style>\n",
       "<div class=\"wandb-row\"><div class=\"wandb-col\"><h3>Run history:</h3><br/><table class=\"wandb\"><tr><td>average_spearman_correlation</td><td>▁</td></tr></table><br/></div><div class=\"wandb-col\"><h3>Run summary:</h3><br/><table class=\"wandb\"><tr><td>average_spearman_correlation</td><td>0.38377</td></tr></table><br/></div></div>"
      ],
      "text/plain": [
       "<IPython.core.display.HTML object>"
      ]
     },
     "metadata": {},
     "output_type": "display_data"
    },
    {
     "data": {
      "text/html": [
       "Synced <strong style=\"color:#cdcd00\">amber-sweep-85</strong>: <a href=\"https://wandb.ai/aakashsasikumar/ContinuousOPEHyperParamTuningSNIPW_28_07_2022/runs/ztg6u3vj\" target=\"_blank\">https://wandb.ai/aakashsasikumar/ContinuousOPEHyperParamTuningSNIPW_28_07_2022/runs/ztg6u3vj</a><br/>Synced 4 W&B file(s), 0 media file(s), 0 artifact file(s) and 0 other file(s)"
      ],
      "text/plain": [
       "<IPython.core.display.HTML object>"
      ]
     },
     "metadata": {},
     "output_type": "display_data"
    },
    {
     "data": {
      "text/html": [
       "Find logs at: <code>./wandb/run-20220728_190311-ztg6u3vj/logs</code>"
      ],
      "text/plain": [
       "<IPython.core.display.HTML object>"
      ]
     },
     "metadata": {},
     "output_type": "display_data"
    },
    {
     "name": "stderr",
     "output_type": "stream",
     "text": [
      "\u001b[34m\u001b[1mwandb\u001b[0m: Agent Starting Run: 3axpa9bo with config:\n",
      "\u001b[34m\u001b[1mwandb\u001b[0m: \tbandwidth: 0.25366076235449064\n",
      "\u001b[34m\u001b[1mwandb\u001b[0m: \tkernel: gaussian\n"
     ]
    },
    {
     "data": {
      "text/html": [
       "Tracking run with wandb version 0.12.21"
      ],
      "text/plain": [
       "<IPython.core.display.HTML object>"
      ]
     },
     "metadata": {},
     "output_type": "display_data"
    },
    {
     "data": {
      "text/html": [
       "Run data is saved locally in <code>/Users/aakashsasikumar/Documents/MSc/Research/Dissimilar Policy/building-MARL/studies/wandb/run-20220728_190404-3axpa9bo</code>"
      ],
      "text/plain": [
       "<IPython.core.display.HTML object>"
      ]
     },
     "metadata": {},
     "output_type": "display_data"
    },
    {
     "data": {
      "text/html": [
       "Syncing run <strong><a href=\"https://wandb.ai/aakashsasikumar/ContinuousOPEHyperParamTuningSNIPW_28_07_2022/runs/3axpa9bo\" target=\"_blank\">honest-sweep-86</a></strong> to <a href=\"https://wandb.ai/aakashsasikumar/ContinuousOPEHyperParamTuningSNIPW_28_07_2022\" target=\"_blank\">Weights & Biases</a> (<a href=\"https://wandb.me/run\" target=\"_blank\">docs</a>)<br/>Sweep page:  <a href=\"https://wandb.ai/aakashsasikumar/ContinuousOPEHyperParamTuningSNIPW_28_07_2022/sweeps/ci54h96s\" target=\"_blank\">https://wandb.ai/aakashsasikumar/ContinuousOPEHyperParamTuningSNIPW_28_07_2022/sweeps/ci54h96s</a>"
      ],
      "text/plain": [
       "<IPython.core.display.HTML object>"
      ]
     },
     "metadata": {},
     "output_type": "display_data"
    },
    {
     "data": {
      "text/html": [
       "Waiting for W&B process to finish... <strong style=\"color:green\">(success).</strong>"
      ],
      "text/plain": [
       "<IPython.core.display.HTML object>"
      ]
     },
     "metadata": {},
     "output_type": "display_data"
    },
    {
     "data": {
      "application/vnd.jupyter.widget-view+json": {
       "model_id": "a812328ecc734fca87f402ed4ab8937e",
       "version_major": 2,
       "version_minor": 0
      },
      "text/plain": [
       "VBox(children=(Label(value='0.001 MB of 0.001 MB uploaded (0.000 MB deduped)\\r'), FloatProgress(value=1.0, max…"
      ]
     },
     "metadata": {},
     "output_type": "display_data"
    },
    {
     "data": {
      "text/html": [
       "<style>\n",
       "    table.wandb td:nth-child(1) { padding: 0 10px; text-align: left ; width: auto;} td:nth-child(2) {text-align: left ; width: 100%}\n",
       "    .wandb-row { display: flex; flex-direction: row; flex-wrap: wrap; justify-content: flex-start; width: 100% }\n",
       "    .wandb-col { display: flex; flex-direction: column; flex-basis: 100%; flex: 1; padding: 10px; }\n",
       "    </style>\n",
       "<div class=\"wandb-row\"><div class=\"wandb-col\"><h3>Run history:</h3><br/><table class=\"wandb\"><tr><td>average_spearman_correlation</td><td>▁</td></tr></table><br/></div><div class=\"wandb-col\"><h3>Run summary:</h3><br/><table class=\"wandb\"><tr><td>average_spearman_correlation</td><td>0.47618</td></tr></table><br/></div></div>"
      ],
      "text/plain": [
       "<IPython.core.display.HTML object>"
      ]
     },
     "metadata": {},
     "output_type": "display_data"
    },
    {
     "data": {
      "text/html": [
       "Synced <strong style=\"color:#cdcd00\">honest-sweep-86</strong>: <a href=\"https://wandb.ai/aakashsasikumar/ContinuousOPEHyperParamTuningSNIPW_28_07_2022/runs/3axpa9bo\" target=\"_blank\">https://wandb.ai/aakashsasikumar/ContinuousOPEHyperParamTuningSNIPW_28_07_2022/runs/3axpa9bo</a><br/>Synced 4 W&B file(s), 0 media file(s), 0 artifact file(s) and 0 other file(s)"
      ],
      "text/plain": [
       "<IPython.core.display.HTML object>"
      ]
     },
     "metadata": {},
     "output_type": "display_data"
    },
    {
     "data": {
      "text/html": [
       "Find logs at: <code>./wandb/run-20220728_190404-3axpa9bo/logs</code>"
      ],
      "text/plain": [
       "<IPython.core.display.HTML object>"
      ]
     },
     "metadata": {},
     "output_type": "display_data"
    },
    {
     "name": "stderr",
     "output_type": "stream",
     "text": [
      "\u001b[34m\u001b[1mwandb\u001b[0m: Agent Starting Run: 53zgcpeo with config:\n",
      "\u001b[34m\u001b[1mwandb\u001b[0m: \tbandwidth: 0.1426171836454096\n",
      "\u001b[34m\u001b[1mwandb\u001b[0m: \tkernel: epanechnikov\n"
     ]
    },
    {
     "data": {
      "text/html": [
       "Tracking run with wandb version 0.12.21"
      ],
      "text/plain": [
       "<IPython.core.display.HTML object>"
      ]
     },
     "metadata": {},
     "output_type": "display_data"
    },
    {
     "data": {
      "text/html": [
       "Run data is saved locally in <code>/Users/aakashsasikumar/Documents/MSc/Research/Dissimilar Policy/building-MARL/studies/wandb/run-20220728_190503-53zgcpeo</code>"
      ],
      "text/plain": [
       "<IPython.core.display.HTML object>"
      ]
     },
     "metadata": {},
     "output_type": "display_data"
    },
    {
     "data": {
      "text/html": [
       "Syncing run <strong><a href=\"https://wandb.ai/aakashsasikumar/ContinuousOPEHyperParamTuningSNIPW_28_07_2022/runs/53zgcpeo\" target=\"_blank\">usual-sweep-87</a></strong> to <a href=\"https://wandb.ai/aakashsasikumar/ContinuousOPEHyperParamTuningSNIPW_28_07_2022\" target=\"_blank\">Weights & Biases</a> (<a href=\"https://wandb.me/run\" target=\"_blank\">docs</a>)<br/>Sweep page:  <a href=\"https://wandb.ai/aakashsasikumar/ContinuousOPEHyperParamTuningSNIPW_28_07_2022/sweeps/ci54h96s\" target=\"_blank\">https://wandb.ai/aakashsasikumar/ContinuousOPEHyperParamTuningSNIPW_28_07_2022/sweeps/ci54h96s</a>"
      ],
      "text/plain": [
       "<IPython.core.display.HTML object>"
      ]
     },
     "metadata": {},
     "output_type": "display_data"
    },
    {
     "name": "stderr",
     "output_type": "stream",
     "text": [
      "/Users/aakashsasikumar/.pyenv/versions/3.10.0/envs/test/lib/python3.10/site-packages/obp-0.5.5-py3.10.egg/obp/ope/estimators_continuous.py:388: RuntimeWarning: invalid value encountered in divide\n",
      "  estimated_rewards /= (kernel_func(u) / pscore).mean()\n"
     ]
    },
    {
     "data": {
      "text/html": [
       "Waiting for W&B process to finish... <strong style=\"color:green\">(success).</strong>"
      ],
      "text/plain": [
       "<IPython.core.display.HTML object>"
      ]
     },
     "metadata": {},
     "output_type": "display_data"
    },
    {
     "data": {
      "application/vnd.jupyter.widget-view+json": {
       "model_id": "1c540493edc14324ae093a81e5d90d0f",
       "version_major": 2,
       "version_minor": 0
      },
      "text/plain": [
       "VBox(children=(Label(value='0.001 MB of 0.001 MB uploaded (0.000 MB deduped)\\r'), FloatProgress(value=1.0, max…"
      ]
     },
     "metadata": {},
     "output_type": "display_data"
    },
    {
     "data": {
      "text/html": [
       "<style>\n",
       "    table.wandb td:nth-child(1) { padding: 0 10px; text-align: left ; width: auto;} td:nth-child(2) {text-align: left ; width: 100%}\n",
       "    .wandb-row { display: flex; flex-direction: row; flex-wrap: wrap; justify-content: flex-start; width: 100% }\n",
       "    .wandb-col { display: flex; flex-direction: column; flex-basis: 100%; flex: 1; padding: 10px; }\n",
       "    </style>\n",
       "<div class=\"wandb-row\"><div class=\"wandb-col\"><h3>Run history:</h3><br/><table class=\"wandb\"><tr><td>average_spearman_correlation</td><td>▁</td></tr></table><br/></div><div class=\"wandb-col\"><h3>Run summary:</h3><br/><table class=\"wandb\"><tr><td>average_spearman_correlation</td><td>0.26922</td></tr></table><br/></div></div>"
      ],
      "text/plain": [
       "<IPython.core.display.HTML object>"
      ]
     },
     "metadata": {},
     "output_type": "display_data"
    },
    {
     "data": {
      "text/html": [
       "Synced <strong style=\"color:#cdcd00\">usual-sweep-87</strong>: <a href=\"https://wandb.ai/aakashsasikumar/ContinuousOPEHyperParamTuningSNIPW_28_07_2022/runs/53zgcpeo\" target=\"_blank\">https://wandb.ai/aakashsasikumar/ContinuousOPEHyperParamTuningSNIPW_28_07_2022/runs/53zgcpeo</a><br/>Synced 5 W&B file(s), 0 media file(s), 0 artifact file(s) and 0 other file(s)"
      ],
      "text/plain": [
       "<IPython.core.display.HTML object>"
      ]
     },
     "metadata": {},
     "output_type": "display_data"
    },
    {
     "data": {
      "text/html": [
       "Find logs at: <code>./wandb/run-20220728_190503-53zgcpeo/logs</code>"
      ],
      "text/plain": [
       "<IPython.core.display.HTML object>"
      ]
     },
     "metadata": {},
     "output_type": "display_data"
    },
    {
     "name": "stderr",
     "output_type": "stream",
     "text": [
      "\u001b[34m\u001b[1mwandb\u001b[0m: Agent Starting Run: r2ls3qw5 with config:\n",
      "\u001b[34m\u001b[1mwandb\u001b[0m: \tbandwidth: 0.42409811649582047\n",
      "\u001b[34m\u001b[1mwandb\u001b[0m: \tkernel: epanechnikov\n"
     ]
    },
    {
     "data": {
      "text/html": [
       "Tracking run with wandb version 0.12.21"
      ],
      "text/plain": [
       "<IPython.core.display.HTML object>"
      ]
     },
     "metadata": {},
     "output_type": "display_data"
    },
    {
     "data": {
      "text/html": [
       "Run data is saved locally in <code>/Users/aakashsasikumar/Documents/MSc/Research/Dissimilar Policy/building-MARL/studies/wandb/run-20220728_190601-r2ls3qw5</code>"
      ],
      "text/plain": [
       "<IPython.core.display.HTML object>"
      ]
     },
     "metadata": {},
     "output_type": "display_data"
    },
    {
     "data": {
      "text/html": [
       "Syncing run <strong><a href=\"https://wandb.ai/aakashsasikumar/ContinuousOPEHyperParamTuningSNIPW_28_07_2022/runs/r2ls3qw5\" target=\"_blank\">major-sweep-88</a></strong> to <a href=\"https://wandb.ai/aakashsasikumar/ContinuousOPEHyperParamTuningSNIPW_28_07_2022\" target=\"_blank\">Weights & Biases</a> (<a href=\"https://wandb.me/run\" target=\"_blank\">docs</a>)<br/>Sweep page:  <a href=\"https://wandb.ai/aakashsasikumar/ContinuousOPEHyperParamTuningSNIPW_28_07_2022/sweeps/ci54h96s\" target=\"_blank\">https://wandb.ai/aakashsasikumar/ContinuousOPEHyperParamTuningSNIPW_28_07_2022/sweeps/ci54h96s</a>"
      ],
      "text/plain": [
       "<IPython.core.display.HTML object>"
      ]
     },
     "metadata": {},
     "output_type": "display_data"
    },
    {
     "name": "stderr",
     "output_type": "stream",
     "text": [
      "/Users/aakashsasikumar/.pyenv/versions/3.10.0/envs/test/lib/python3.10/site-packages/obp-0.5.5-py3.10.egg/obp/ope/estimators_continuous.py:388: RuntimeWarning: invalid value encountered in divide\n",
      "  estimated_rewards /= (kernel_func(u) / pscore).mean()\n"
     ]
    },
    {
     "data": {
      "text/html": [
       "Waiting for W&B process to finish... <strong style=\"color:green\">(success).</strong>"
      ],
      "text/plain": [
       "<IPython.core.display.HTML object>"
      ]
     },
     "metadata": {},
     "output_type": "display_data"
    },
    {
     "data": {
      "application/vnd.jupyter.widget-view+json": {
       "model_id": "1211245031274054aa48851088601bd2",
       "version_major": 2,
       "version_minor": 0
      },
      "text/plain": [
       "VBox(children=(Label(value='0.001 MB of 0.001 MB uploaded (0.000 MB deduped)\\r'), FloatProgress(value=1.0, max…"
      ]
     },
     "metadata": {},
     "output_type": "display_data"
    },
    {
     "data": {
      "text/html": [
       "<style>\n",
       "    table.wandb td:nth-child(1) { padding: 0 10px; text-align: left ; width: auto;} td:nth-child(2) {text-align: left ; width: 100%}\n",
       "    .wandb-row { display: flex; flex-direction: row; flex-wrap: wrap; justify-content: flex-start; width: 100% }\n",
       "    .wandb-col { display: flex; flex-direction: column; flex-basis: 100%; flex: 1; padding: 10px; }\n",
       "    </style>\n",
       "<div class=\"wandb-row\"><div class=\"wandb-col\"><h3>Run history:</h3><br/><table class=\"wandb\"><tr><td>average_spearman_correlation</td><td>▁</td></tr></table><br/></div><div class=\"wandb-col\"><h3>Run summary:</h3><br/><table class=\"wandb\"><tr><td>average_spearman_correlation</td><td>0.20521</td></tr></table><br/></div></div>"
      ],
      "text/plain": [
       "<IPython.core.display.HTML object>"
      ]
     },
     "metadata": {},
     "output_type": "display_data"
    },
    {
     "data": {
      "text/html": [
       "Synced <strong style=\"color:#cdcd00\">major-sweep-88</strong>: <a href=\"https://wandb.ai/aakashsasikumar/ContinuousOPEHyperParamTuningSNIPW_28_07_2022/runs/r2ls3qw5\" target=\"_blank\">https://wandb.ai/aakashsasikumar/ContinuousOPEHyperParamTuningSNIPW_28_07_2022/runs/r2ls3qw5</a><br/>Synced 5 W&B file(s), 0 media file(s), 0 artifact file(s) and 0 other file(s)"
      ],
      "text/plain": [
       "<IPython.core.display.HTML object>"
      ]
     },
     "metadata": {},
     "output_type": "display_data"
    },
    {
     "data": {
      "text/html": [
       "Find logs at: <code>./wandb/run-20220728_190601-r2ls3qw5/logs</code>"
      ],
      "text/plain": [
       "<IPython.core.display.HTML object>"
      ]
     },
     "metadata": {},
     "output_type": "display_data"
    },
    {
     "name": "stderr",
     "output_type": "stream",
     "text": [
      "\u001b[34m\u001b[1mwandb\u001b[0m: Agent Starting Run: owfzzfh2 with config:\n",
      "\u001b[34m\u001b[1mwandb\u001b[0m: \tbandwidth: 0.2282194044588487\n",
      "\u001b[34m\u001b[1mwandb\u001b[0m: \tkernel: gaussian\n"
     ]
    },
    {
     "data": {
      "text/html": [
       "Tracking run with wandb version 0.12.21"
      ],
      "text/plain": [
       "<IPython.core.display.HTML object>"
      ]
     },
     "metadata": {},
     "output_type": "display_data"
    },
    {
     "data": {
      "text/html": [
       "Run data is saved locally in <code>/Users/aakashsasikumar/Documents/MSc/Research/Dissimilar Policy/building-MARL/studies/wandb/run-20220728_190653-owfzzfh2</code>"
      ],
      "text/plain": [
       "<IPython.core.display.HTML object>"
      ]
     },
     "metadata": {},
     "output_type": "display_data"
    },
    {
     "data": {
      "text/html": [
       "Syncing run <strong><a href=\"https://wandb.ai/aakashsasikumar/ContinuousOPEHyperParamTuningSNIPW_28_07_2022/runs/owfzzfh2\" target=\"_blank\">dry-sweep-89</a></strong> to <a href=\"https://wandb.ai/aakashsasikumar/ContinuousOPEHyperParamTuningSNIPW_28_07_2022\" target=\"_blank\">Weights & Biases</a> (<a href=\"https://wandb.me/run\" target=\"_blank\">docs</a>)<br/>Sweep page:  <a href=\"https://wandb.ai/aakashsasikumar/ContinuousOPEHyperParamTuningSNIPW_28_07_2022/sweeps/ci54h96s\" target=\"_blank\">https://wandb.ai/aakashsasikumar/ContinuousOPEHyperParamTuningSNIPW_28_07_2022/sweeps/ci54h96s</a>"
      ],
      "text/plain": [
       "<IPython.core.display.HTML object>"
      ]
     },
     "metadata": {},
     "output_type": "display_data"
    },
    {
     "data": {
      "text/html": [
       "Waiting for W&B process to finish... <strong style=\"color:green\">(success).</strong>"
      ],
      "text/plain": [
       "<IPython.core.display.HTML object>"
      ]
     },
     "metadata": {},
     "output_type": "display_data"
    },
    {
     "data": {
      "application/vnd.jupyter.widget-view+json": {
       "model_id": "037593ec07d643038bf533eba059fb28",
       "version_major": 2,
       "version_minor": 0
      },
      "text/plain": [
       "VBox(children=(Label(value='0.001 MB of 0.001 MB uploaded (0.000 MB deduped)\\r'), FloatProgress(value=1.0, max…"
      ]
     },
     "metadata": {},
     "output_type": "display_data"
    },
    {
     "data": {
      "text/html": [
       "<style>\n",
       "    table.wandb td:nth-child(1) { padding: 0 10px; text-align: left ; width: auto;} td:nth-child(2) {text-align: left ; width: 100%}\n",
       "    .wandb-row { display: flex; flex-direction: row; flex-wrap: wrap; justify-content: flex-start; width: 100% }\n",
       "    .wandb-col { display: flex; flex-direction: column; flex-basis: 100%; flex: 1; padding: 10px; }\n",
       "    </style>\n",
       "<div class=\"wandb-row\"><div class=\"wandb-col\"><h3>Run history:</h3><br/><table class=\"wandb\"><tr><td>average_spearman_correlation</td><td>▁</td></tr></table><br/></div><div class=\"wandb-col\"><h3>Run summary:</h3><br/><table class=\"wandb\"><tr><td>average_spearman_correlation</td><td>0.38045</td></tr></table><br/></div></div>"
      ],
      "text/plain": [
       "<IPython.core.display.HTML object>"
      ]
     },
     "metadata": {},
     "output_type": "display_data"
    },
    {
     "data": {
      "text/html": [
       "Synced <strong style=\"color:#cdcd00\">dry-sweep-89</strong>: <a href=\"https://wandb.ai/aakashsasikumar/ContinuousOPEHyperParamTuningSNIPW_28_07_2022/runs/owfzzfh2\" target=\"_blank\">https://wandb.ai/aakashsasikumar/ContinuousOPEHyperParamTuningSNIPW_28_07_2022/runs/owfzzfh2</a><br/>Synced 4 W&B file(s), 0 media file(s), 0 artifact file(s) and 0 other file(s)"
      ],
      "text/plain": [
       "<IPython.core.display.HTML object>"
      ]
     },
     "metadata": {},
     "output_type": "display_data"
    },
    {
     "data": {
      "text/html": [
       "Find logs at: <code>./wandb/run-20220728_190653-owfzzfh2/logs</code>"
      ],
      "text/plain": [
       "<IPython.core.display.HTML object>"
      ]
     },
     "metadata": {},
     "output_type": "display_data"
    },
    {
     "name": "stderr",
     "output_type": "stream",
     "text": [
      "\u001b[34m\u001b[1mwandb\u001b[0m: Agent Starting Run: u3n5txvc with config:\n",
      "\u001b[34m\u001b[1mwandb\u001b[0m: \tbandwidth: 0.3096635892104467\n",
      "\u001b[34m\u001b[1mwandb\u001b[0m: \tkernel: gaussian\n"
     ]
    },
    {
     "data": {
      "text/html": [
       "Tracking run with wandb version 0.12.21"
      ],
      "text/plain": [
       "<IPython.core.display.HTML object>"
      ]
     },
     "metadata": {},
     "output_type": "display_data"
    },
    {
     "data": {
      "text/html": [
       "Run data is saved locally in <code>/Users/aakashsasikumar/Documents/MSc/Research/Dissimilar Policy/building-MARL/studies/wandb/run-20220728_190751-u3n5txvc</code>"
      ],
      "text/plain": [
       "<IPython.core.display.HTML object>"
      ]
     },
     "metadata": {},
     "output_type": "display_data"
    },
    {
     "data": {
      "text/html": [
       "Syncing run <strong><a href=\"https://wandb.ai/aakashsasikumar/ContinuousOPEHyperParamTuningSNIPW_28_07_2022/runs/u3n5txvc\" target=\"_blank\">lucky-sweep-90</a></strong> to <a href=\"https://wandb.ai/aakashsasikumar/ContinuousOPEHyperParamTuningSNIPW_28_07_2022\" target=\"_blank\">Weights & Biases</a> (<a href=\"https://wandb.me/run\" target=\"_blank\">docs</a>)<br/>Sweep page:  <a href=\"https://wandb.ai/aakashsasikumar/ContinuousOPEHyperParamTuningSNIPW_28_07_2022/sweeps/ci54h96s\" target=\"_blank\">https://wandb.ai/aakashsasikumar/ContinuousOPEHyperParamTuningSNIPW_28_07_2022/sweeps/ci54h96s</a>"
      ],
      "text/plain": [
       "<IPython.core.display.HTML object>"
      ]
     },
     "metadata": {},
     "output_type": "display_data"
    },
    {
     "data": {
      "text/html": [
       "Waiting for W&B process to finish... <strong style=\"color:green\">(success).</strong>"
      ],
      "text/plain": [
       "<IPython.core.display.HTML object>"
      ]
     },
     "metadata": {},
     "output_type": "display_data"
    },
    {
     "data": {
      "application/vnd.jupyter.widget-view+json": {
       "model_id": "d9e8066f09844426b27979394b035168",
       "version_major": 2,
       "version_minor": 0
      },
      "text/plain": [
       "VBox(children=(Label(value='0.001 MB of 0.001 MB uploaded (0.000 MB deduped)\\r'), FloatProgress(value=1.0, max…"
      ]
     },
     "metadata": {},
     "output_type": "display_data"
    },
    {
     "data": {
      "text/html": [
       "<style>\n",
       "    table.wandb td:nth-child(1) { padding: 0 10px; text-align: left ; width: auto;} td:nth-child(2) {text-align: left ; width: 100%}\n",
       "    .wandb-row { display: flex; flex-direction: row; flex-wrap: wrap; justify-content: flex-start; width: 100% }\n",
       "    .wandb-col { display: flex; flex-direction: column; flex-basis: 100%; flex: 1; padding: 10px; }\n",
       "    </style>\n",
       "<div class=\"wandb-row\"><div class=\"wandb-col\"><h3>Run history:</h3><br/><table class=\"wandb\"><tr><td>average_spearman_correlation</td><td>▁</td></tr></table><br/></div><div class=\"wandb-col\"><h3>Run summary:</h3><br/><table class=\"wandb\"><tr><td>average_spearman_correlation</td><td>0.5749</td></tr></table><br/></div></div>"
      ],
      "text/plain": [
       "<IPython.core.display.HTML object>"
      ]
     },
     "metadata": {},
     "output_type": "display_data"
    },
    {
     "data": {
      "text/html": [
       "Synced <strong style=\"color:#cdcd00\">lucky-sweep-90</strong>: <a href=\"https://wandb.ai/aakashsasikumar/ContinuousOPEHyperParamTuningSNIPW_28_07_2022/runs/u3n5txvc\" target=\"_blank\">https://wandb.ai/aakashsasikumar/ContinuousOPEHyperParamTuningSNIPW_28_07_2022/runs/u3n5txvc</a><br/>Synced 4 W&B file(s), 0 media file(s), 0 artifact file(s) and 0 other file(s)"
      ],
      "text/plain": [
       "<IPython.core.display.HTML object>"
      ]
     },
     "metadata": {},
     "output_type": "display_data"
    },
    {
     "data": {
      "text/html": [
       "Find logs at: <code>./wandb/run-20220728_190751-u3n5txvc/logs</code>"
      ],
      "text/plain": [
       "<IPython.core.display.HTML object>"
      ]
     },
     "metadata": {},
     "output_type": "display_data"
    },
    {
     "name": "stderr",
     "output_type": "stream",
     "text": [
      "\u001b[34m\u001b[1mwandb\u001b[0m: Agent Starting Run: ropphbo1 with config:\n",
      "\u001b[34m\u001b[1mwandb\u001b[0m: \tbandwidth: 0.31944127759503\n",
      "\u001b[34m\u001b[1mwandb\u001b[0m: \tkernel: gaussian\n"
     ]
    },
    {
     "data": {
      "text/html": [
       "Tracking run with wandb version 0.12.21"
      ],
      "text/plain": [
       "<IPython.core.display.HTML object>"
      ]
     },
     "metadata": {},
     "output_type": "display_data"
    },
    {
     "data": {
      "text/html": [
       "Run data is saved locally in <code>/Users/aakashsasikumar/Documents/MSc/Research/Dissimilar Policy/building-MARL/studies/wandb/run-20220728_190845-ropphbo1</code>"
      ],
      "text/plain": [
       "<IPython.core.display.HTML object>"
      ]
     },
     "metadata": {},
     "output_type": "display_data"
    },
    {
     "data": {
      "text/html": [
       "Syncing run <strong><a href=\"https://wandb.ai/aakashsasikumar/ContinuousOPEHyperParamTuningSNIPW_28_07_2022/runs/ropphbo1\" target=\"_blank\">sweepy-sweep-91</a></strong> to <a href=\"https://wandb.ai/aakashsasikumar/ContinuousOPEHyperParamTuningSNIPW_28_07_2022\" target=\"_blank\">Weights & Biases</a> (<a href=\"https://wandb.me/run\" target=\"_blank\">docs</a>)<br/>Sweep page:  <a href=\"https://wandb.ai/aakashsasikumar/ContinuousOPEHyperParamTuningSNIPW_28_07_2022/sweeps/ci54h96s\" target=\"_blank\">https://wandb.ai/aakashsasikumar/ContinuousOPEHyperParamTuningSNIPW_28_07_2022/sweeps/ci54h96s</a>"
      ],
      "text/plain": [
       "<IPython.core.display.HTML object>"
      ]
     },
     "metadata": {},
     "output_type": "display_data"
    },
    {
     "data": {
      "text/html": [
       "Waiting for W&B process to finish... <strong style=\"color:green\">(success).</strong>"
      ],
      "text/plain": [
       "<IPython.core.display.HTML object>"
      ]
     },
     "metadata": {},
     "output_type": "display_data"
    },
    {
     "data": {
      "application/vnd.jupyter.widget-view+json": {
       "model_id": "9a1ebb0eb5fa4a0aa7ab17db6fbee13b",
       "version_major": 2,
       "version_minor": 0
      },
      "text/plain": [
       "VBox(children=(Label(value='0.001 MB of 0.001 MB uploaded (0.000 MB deduped)\\r'), FloatProgress(value=1.0, max…"
      ]
     },
     "metadata": {},
     "output_type": "display_data"
    },
    {
     "data": {
      "text/html": [
       "<style>\n",
       "    table.wandb td:nth-child(1) { padding: 0 10px; text-align: left ; width: auto;} td:nth-child(2) {text-align: left ; width: 100%}\n",
       "    .wandb-row { display: flex; flex-direction: row; flex-wrap: wrap; justify-content: flex-start; width: 100% }\n",
       "    .wandb-col { display: flex; flex-direction: column; flex-basis: 100%; flex: 1; padding: 10px; }\n",
       "    </style>\n",
       "<div class=\"wandb-row\"><div class=\"wandb-col\"><h3>Run history:</h3><br/><table class=\"wandb\"><tr><td>average_spearman_correlation</td><td>▁</td></tr></table><br/></div><div class=\"wandb-col\"><h3>Run summary:</h3><br/><table class=\"wandb\"><tr><td>average_spearman_correlation</td><td>0.58465</td></tr></table><br/></div></div>"
      ],
      "text/plain": [
       "<IPython.core.display.HTML object>"
      ]
     },
     "metadata": {},
     "output_type": "display_data"
    },
    {
     "data": {
      "text/html": [
       "Synced <strong style=\"color:#cdcd00\">sweepy-sweep-91</strong>: <a href=\"https://wandb.ai/aakashsasikumar/ContinuousOPEHyperParamTuningSNIPW_28_07_2022/runs/ropphbo1\" target=\"_blank\">https://wandb.ai/aakashsasikumar/ContinuousOPEHyperParamTuningSNIPW_28_07_2022/runs/ropphbo1</a><br/>Synced 4 W&B file(s), 0 media file(s), 0 artifact file(s) and 0 other file(s)"
      ],
      "text/plain": [
       "<IPython.core.display.HTML object>"
      ]
     },
     "metadata": {},
     "output_type": "display_data"
    },
    {
     "data": {
      "text/html": [
       "Find logs at: <code>./wandb/run-20220728_190845-ropphbo1/logs</code>"
      ],
      "text/plain": [
       "<IPython.core.display.HTML object>"
      ]
     },
     "metadata": {},
     "output_type": "display_data"
    },
    {
     "name": "stderr",
     "output_type": "stream",
     "text": [
      "\u001b[34m\u001b[1mwandb\u001b[0m: Agent Starting Run: 05i1lctk with config:\n",
      "\u001b[34m\u001b[1mwandb\u001b[0m: \tbandwidth: 0.3146650148410831\n",
      "\u001b[34m\u001b[1mwandb\u001b[0m: \tkernel: cosine\n"
     ]
    },
    {
     "data": {
      "text/html": [
       "Tracking run with wandb version 0.12.21"
      ],
      "text/plain": [
       "<IPython.core.display.HTML object>"
      ]
     },
     "metadata": {},
     "output_type": "display_data"
    },
    {
     "data": {
      "text/html": [
       "Run data is saved locally in <code>/Users/aakashsasikumar/Documents/MSc/Research/Dissimilar Policy/building-MARL/studies/wandb/run-20220728_190938-05i1lctk</code>"
      ],
      "text/plain": [
       "<IPython.core.display.HTML object>"
      ]
     },
     "metadata": {},
     "output_type": "display_data"
    },
    {
     "data": {
      "text/html": [
       "Syncing run <strong><a href=\"https://wandb.ai/aakashsasikumar/ContinuousOPEHyperParamTuningSNIPW_28_07_2022/runs/05i1lctk\" target=\"_blank\">trim-sweep-92</a></strong> to <a href=\"https://wandb.ai/aakashsasikumar/ContinuousOPEHyperParamTuningSNIPW_28_07_2022\" target=\"_blank\">Weights & Biases</a> (<a href=\"https://wandb.me/run\" target=\"_blank\">docs</a>)<br/>Sweep page:  <a href=\"https://wandb.ai/aakashsasikumar/ContinuousOPEHyperParamTuningSNIPW_28_07_2022/sweeps/ci54h96s\" target=\"_blank\">https://wandb.ai/aakashsasikumar/ContinuousOPEHyperParamTuningSNIPW_28_07_2022/sweeps/ci54h96s</a>"
      ],
      "text/plain": [
       "<IPython.core.display.HTML object>"
      ]
     },
     "metadata": {},
     "output_type": "display_data"
    },
    {
     "data": {
      "text/html": [
       "Waiting for W&B process to finish... <strong style=\"color:green\">(success).</strong>"
      ],
      "text/plain": [
       "<IPython.core.display.HTML object>"
      ]
     },
     "metadata": {},
     "output_type": "display_data"
    },
    {
     "data": {
      "application/vnd.jupyter.widget-view+json": {
       "model_id": "dc621a304a224195823359b1660125d9",
       "version_major": 2,
       "version_minor": 0
      },
      "text/plain": [
       "VBox(children=(Label(value='0.001 MB of 0.001 MB uploaded (0.000 MB deduped)\\r'), FloatProgress(value=1.0, max…"
      ]
     },
     "metadata": {},
     "output_type": "display_data"
    },
    {
     "data": {
      "text/html": [
       "<style>\n",
       "    table.wandb td:nth-child(1) { padding: 0 10px; text-align: left ; width: auto;} td:nth-child(2) {text-align: left ; width: 100%}\n",
       "    .wandb-row { display: flex; flex-direction: row; flex-wrap: wrap; justify-content: flex-start; width: 100% }\n",
       "    .wandb-col { display: flex; flex-direction: column; flex-basis: 100%; flex: 1; padding: 10px; }\n",
       "    </style>\n",
       "<div class=\"wandb-row\"><div class=\"wandb-col\"><h3>Run history:</h3><br/><table class=\"wandb\"><tr><td>average_spearman_correlation</td><td>▁</td></tr></table><br/></div><div class=\"wandb-col\"><h3>Run summary:</h3><br/><table class=\"wandb\"><tr><td>average_spearman_correlation</td><td>0.34519</td></tr></table><br/></div></div>"
      ],
      "text/plain": [
       "<IPython.core.display.HTML object>"
      ]
     },
     "metadata": {},
     "output_type": "display_data"
    },
    {
     "data": {
      "text/html": [
       "Synced <strong style=\"color:#cdcd00\">trim-sweep-92</strong>: <a href=\"https://wandb.ai/aakashsasikumar/ContinuousOPEHyperParamTuningSNIPW_28_07_2022/runs/05i1lctk\" target=\"_blank\">https://wandb.ai/aakashsasikumar/ContinuousOPEHyperParamTuningSNIPW_28_07_2022/runs/05i1lctk</a><br/>Synced 4 W&B file(s), 0 media file(s), 0 artifact file(s) and 0 other file(s)"
      ],
      "text/plain": [
       "<IPython.core.display.HTML object>"
      ]
     },
     "metadata": {},
     "output_type": "display_data"
    },
    {
     "data": {
      "text/html": [
       "Find logs at: <code>./wandb/run-20220728_190938-05i1lctk/logs</code>"
      ],
      "text/plain": [
       "<IPython.core.display.HTML object>"
      ]
     },
     "metadata": {},
     "output_type": "display_data"
    },
    {
     "name": "stderr",
     "output_type": "stream",
     "text": [
      "\u001b[34m\u001b[1mwandb\u001b[0m: Agent Starting Run: rphjjqts with config:\n",
      "\u001b[34m\u001b[1mwandb\u001b[0m: \tbandwidth: 0.08505074619447961\n",
      "\u001b[34m\u001b[1mwandb\u001b[0m: \tkernel: triangular\n"
     ]
    },
    {
     "data": {
      "text/html": [
       "Tracking run with wandb version 0.12.21"
      ],
      "text/plain": [
       "<IPython.core.display.HTML object>"
      ]
     },
     "metadata": {},
     "output_type": "display_data"
    },
    {
     "data": {
      "text/html": [
       "Run data is saved locally in <code>/Users/aakashsasikumar/Documents/MSc/Research/Dissimilar Policy/building-MARL/studies/wandb/run-20220728_191035-rphjjqts</code>"
      ],
      "text/plain": [
       "<IPython.core.display.HTML object>"
      ]
     },
     "metadata": {},
     "output_type": "display_data"
    },
    {
     "data": {
      "text/html": [
       "Syncing run <strong><a href=\"https://wandb.ai/aakashsasikumar/ContinuousOPEHyperParamTuningSNIPW_28_07_2022/runs/rphjjqts\" target=\"_blank\">dulcet-sweep-93</a></strong> to <a href=\"https://wandb.ai/aakashsasikumar/ContinuousOPEHyperParamTuningSNIPW_28_07_2022\" target=\"_blank\">Weights & Biases</a> (<a href=\"https://wandb.me/run\" target=\"_blank\">docs</a>)<br/>Sweep page:  <a href=\"https://wandb.ai/aakashsasikumar/ContinuousOPEHyperParamTuningSNIPW_28_07_2022/sweeps/ci54h96s\" target=\"_blank\">https://wandb.ai/aakashsasikumar/ContinuousOPEHyperParamTuningSNIPW_28_07_2022/sweeps/ci54h96s</a>"
      ],
      "text/plain": [
       "<IPython.core.display.HTML object>"
      ]
     },
     "metadata": {},
     "output_type": "display_data"
    },
    {
     "name": "stderr",
     "output_type": "stream",
     "text": [
      "/Users/aakashsasikumar/.pyenv/versions/3.10.0/envs/test/lib/python3.10/site-packages/obp-0.5.5-py3.10.egg/obp/ope/estimators_continuous.py:388: RuntimeWarning: invalid value encountered in divide\n",
      "  estimated_rewards /= (kernel_func(u) / pscore).mean()\n"
     ]
    },
    {
     "data": {
      "text/html": [
       "Waiting for W&B process to finish... <strong style=\"color:green\">(success).</strong>"
      ],
      "text/plain": [
       "<IPython.core.display.HTML object>"
      ]
     },
     "metadata": {},
     "output_type": "display_data"
    },
    {
     "data": {
      "application/vnd.jupyter.widget-view+json": {
       "model_id": "c946c203d36d4faa8017bf13f49c83d3",
       "version_major": 2,
       "version_minor": 0
      },
      "text/plain": [
       "VBox(children=(Label(value='0.001 MB of 0.001 MB uploaded (0.000 MB deduped)\\r'), FloatProgress(value=1.0, max…"
      ]
     },
     "metadata": {},
     "output_type": "display_data"
    },
    {
     "data": {
      "text/html": [
       "<style>\n",
       "    table.wandb td:nth-child(1) { padding: 0 10px; text-align: left ; width: auto;} td:nth-child(2) {text-align: left ; width: 100%}\n",
       "    .wandb-row { display: flex; flex-direction: row; flex-wrap: wrap; justify-content: flex-start; width: 100% }\n",
       "    .wandb-col { display: flex; flex-direction: column; flex-basis: 100%; flex: 1; padding: 10px; }\n",
       "    </style>\n",
       "<div class=\"wandb-row\"><div class=\"wandb-col\"><h3>Run history:</h3><br/><table class=\"wandb\"><tr><td>average_spearman_correlation</td><td>▁</td></tr></table><br/></div><div class=\"wandb-col\"><h3>Run summary:</h3><br/><table class=\"wandb\"><tr><td>average_spearman_correlation</td><td>0.30498</td></tr></table><br/></div></div>"
      ],
      "text/plain": [
       "<IPython.core.display.HTML object>"
      ]
     },
     "metadata": {},
     "output_type": "display_data"
    },
    {
     "data": {
      "text/html": [
       "Synced <strong style=\"color:#cdcd00\">dulcet-sweep-93</strong>: <a href=\"https://wandb.ai/aakashsasikumar/ContinuousOPEHyperParamTuningSNIPW_28_07_2022/runs/rphjjqts\" target=\"_blank\">https://wandb.ai/aakashsasikumar/ContinuousOPEHyperParamTuningSNIPW_28_07_2022/runs/rphjjqts</a><br/>Synced 5 W&B file(s), 0 media file(s), 0 artifact file(s) and 0 other file(s)"
      ],
      "text/plain": [
       "<IPython.core.display.HTML object>"
      ]
     },
     "metadata": {},
     "output_type": "display_data"
    },
    {
     "data": {
      "text/html": [
       "Find logs at: <code>./wandb/run-20220728_191035-rphjjqts/logs</code>"
      ],
      "text/plain": [
       "<IPython.core.display.HTML object>"
      ]
     },
     "metadata": {},
     "output_type": "display_data"
    },
    {
     "name": "stderr",
     "output_type": "stream",
     "text": [
      "\u001b[34m\u001b[1mwandb\u001b[0m: Agent Starting Run: 1ce73241 with config:\n",
      "\u001b[34m\u001b[1mwandb\u001b[0m: \tbandwidth: 0.34070182505191793\n",
      "\u001b[34m\u001b[1mwandb\u001b[0m: \tkernel: cosine\n"
     ]
    },
    {
     "data": {
      "text/html": [
       "Tracking run with wandb version 0.12.21"
      ],
      "text/plain": [
       "<IPython.core.display.HTML object>"
      ]
     },
     "metadata": {},
     "output_type": "display_data"
    },
    {
     "data": {
      "text/html": [
       "Run data is saved locally in <code>/Users/aakashsasikumar/Documents/MSc/Research/Dissimilar Policy/building-MARL/studies/wandb/run-20220728_191129-1ce73241</code>"
      ],
      "text/plain": [
       "<IPython.core.display.HTML object>"
      ]
     },
     "metadata": {},
     "output_type": "display_data"
    },
    {
     "data": {
      "text/html": [
       "Syncing run <strong><a href=\"https://wandb.ai/aakashsasikumar/ContinuousOPEHyperParamTuningSNIPW_28_07_2022/runs/1ce73241\" target=\"_blank\">sweepy-sweep-94</a></strong> to <a href=\"https://wandb.ai/aakashsasikumar/ContinuousOPEHyperParamTuningSNIPW_28_07_2022\" target=\"_blank\">Weights & Biases</a> (<a href=\"https://wandb.me/run\" target=\"_blank\">docs</a>)<br/>Sweep page:  <a href=\"https://wandb.ai/aakashsasikumar/ContinuousOPEHyperParamTuningSNIPW_28_07_2022/sweeps/ci54h96s\" target=\"_blank\">https://wandb.ai/aakashsasikumar/ContinuousOPEHyperParamTuningSNIPW_28_07_2022/sweeps/ci54h96s</a>"
      ],
      "text/plain": [
       "<IPython.core.display.HTML object>"
      ]
     },
     "metadata": {},
     "output_type": "display_data"
    },
    {
     "data": {
      "text/html": [
       "Waiting for W&B process to finish... <strong style=\"color:green\">(success).</strong>"
      ],
      "text/plain": [
       "<IPython.core.display.HTML object>"
      ]
     },
     "metadata": {},
     "output_type": "display_data"
    },
    {
     "data": {
      "application/vnd.jupyter.widget-view+json": {
       "model_id": "e1454696843240869270722a38632f63",
       "version_major": 2,
       "version_minor": 0
      },
      "text/plain": [
       "VBox(children=(Label(value='0.001 MB of 0.001 MB uploaded (0.000 MB deduped)\\r'), FloatProgress(value=1.0, max…"
      ]
     },
     "metadata": {},
     "output_type": "display_data"
    },
    {
     "data": {
      "text/html": [
       "<style>\n",
       "    table.wandb td:nth-child(1) { padding: 0 10px; text-align: left ; width: auto;} td:nth-child(2) {text-align: left ; width: 100%}\n",
       "    .wandb-row { display: flex; flex-direction: row; flex-wrap: wrap; justify-content: flex-start; width: 100% }\n",
       "    .wandb-col { display: flex; flex-direction: column; flex-basis: 100%; flex: 1; padding: 10px; }\n",
       "    </style>\n",
       "<div class=\"wandb-row\"><div class=\"wandb-col\"><h3>Run history:</h3><br/><table class=\"wandb\"><tr><td>average_spearman_correlation</td><td>▁</td></tr></table><br/></div><div class=\"wandb-col\"><h3>Run summary:</h3><br/><table class=\"wandb\"><tr><td>average_spearman_correlation</td><td>0.32485</td></tr></table><br/></div></div>"
      ],
      "text/plain": [
       "<IPython.core.display.HTML object>"
      ]
     },
     "metadata": {},
     "output_type": "display_data"
    },
    {
     "data": {
      "text/html": [
       "Synced <strong style=\"color:#cdcd00\">sweepy-sweep-94</strong>: <a href=\"https://wandb.ai/aakashsasikumar/ContinuousOPEHyperParamTuningSNIPW_28_07_2022/runs/1ce73241\" target=\"_blank\">https://wandb.ai/aakashsasikumar/ContinuousOPEHyperParamTuningSNIPW_28_07_2022/runs/1ce73241</a><br/>Synced 4 W&B file(s), 0 media file(s), 0 artifact file(s) and 0 other file(s)"
      ],
      "text/plain": [
       "<IPython.core.display.HTML object>"
      ]
     },
     "metadata": {},
     "output_type": "display_data"
    },
    {
     "data": {
      "text/html": [
       "Find logs at: <code>./wandb/run-20220728_191129-1ce73241/logs</code>"
      ],
      "text/plain": [
       "<IPython.core.display.HTML object>"
      ]
     },
     "metadata": {},
     "output_type": "display_data"
    },
    {
     "name": "stderr",
     "output_type": "stream",
     "text": [
      "\u001b[34m\u001b[1mwandb\u001b[0m: Agent Starting Run: nyumev7m with config:\n",
      "\u001b[34m\u001b[1mwandb\u001b[0m: \tbandwidth: 0.0029950803811935045\n",
      "\u001b[34m\u001b[1mwandb\u001b[0m: \tkernel: cosine\n"
     ]
    },
    {
     "data": {
      "text/html": [
       "Tracking run with wandb version 0.12.21"
      ],
      "text/plain": [
       "<IPython.core.display.HTML object>"
      ]
     },
     "metadata": {},
     "output_type": "display_data"
    },
    {
     "data": {
      "text/html": [
       "Run data is saved locally in <code>/Users/aakashsasikumar/Documents/MSc/Research/Dissimilar Policy/building-MARL/studies/wandb/run-20220728_191227-nyumev7m</code>"
      ],
      "text/plain": [
       "<IPython.core.display.HTML object>"
      ]
     },
     "metadata": {},
     "output_type": "display_data"
    },
    {
     "data": {
      "text/html": [
       "Syncing run <strong><a href=\"https://wandb.ai/aakashsasikumar/ContinuousOPEHyperParamTuningSNIPW_28_07_2022/runs/nyumev7m\" target=\"_blank\">polished-sweep-95</a></strong> to <a href=\"https://wandb.ai/aakashsasikumar/ContinuousOPEHyperParamTuningSNIPW_28_07_2022\" target=\"_blank\">Weights & Biases</a> (<a href=\"https://wandb.me/run\" target=\"_blank\">docs</a>)<br/>Sweep page:  <a href=\"https://wandb.ai/aakashsasikumar/ContinuousOPEHyperParamTuningSNIPW_28_07_2022/sweeps/ci54h96s\" target=\"_blank\">https://wandb.ai/aakashsasikumar/ContinuousOPEHyperParamTuningSNIPW_28_07_2022/sweeps/ci54h96s</a>"
      ],
      "text/plain": [
       "<IPython.core.display.HTML object>"
      ]
     },
     "metadata": {},
     "output_type": "display_data"
    },
    {
     "data": {
      "text/html": [
       "Waiting for W&B process to finish... <strong style=\"color:green\">(success).</strong>"
      ],
      "text/plain": [
       "<IPython.core.display.HTML object>"
      ]
     },
     "metadata": {},
     "output_type": "display_data"
    },
    {
     "data": {
      "application/vnd.jupyter.widget-view+json": {
       "model_id": "51a09b73fe6043f88610bbb24a7117cc",
       "version_major": 2,
       "version_minor": 0
      },
      "text/plain": [
       "VBox(children=(Label(value='0.001 MB of 0.001 MB uploaded (0.000 MB deduped)\\r'), FloatProgress(value=1.0, max…"
      ]
     },
     "metadata": {},
     "output_type": "display_data"
    },
    {
     "data": {
      "text/html": [
       "<style>\n",
       "    table.wandb td:nth-child(1) { padding: 0 10px; text-align: left ; width: auto;} td:nth-child(2) {text-align: left ; width: 100%}\n",
       "    .wandb-row { display: flex; flex-direction: row; flex-wrap: wrap; justify-content: flex-start; width: 100% }\n",
       "    .wandb-col { display: flex; flex-direction: column; flex-basis: 100%; flex: 1; padding: 10px; }\n",
       "    </style>\n",
       "<div class=\"wandb-row\"><div class=\"wandb-col\"><h3>Run history:</h3><br/><table class=\"wandb\"><tr><td>average_spearman_correlation</td><td>▁</td></tr></table><br/></div><div class=\"wandb-col\"><h3>Run summary:</h3><br/><table class=\"wandb\"><tr><td>average_spearman_correlation</td><td>0.25419</td></tr></table><br/></div></div>"
      ],
      "text/plain": [
       "<IPython.core.display.HTML object>"
      ]
     },
     "metadata": {},
     "output_type": "display_data"
    },
    {
     "data": {
      "text/html": [
       "Synced <strong style=\"color:#cdcd00\">polished-sweep-95</strong>: <a href=\"https://wandb.ai/aakashsasikumar/ContinuousOPEHyperParamTuningSNIPW_28_07_2022/runs/nyumev7m\" target=\"_blank\">https://wandb.ai/aakashsasikumar/ContinuousOPEHyperParamTuningSNIPW_28_07_2022/runs/nyumev7m</a><br/>Synced 4 W&B file(s), 0 media file(s), 0 artifact file(s) and 0 other file(s)"
      ],
      "text/plain": [
       "<IPython.core.display.HTML object>"
      ]
     },
     "metadata": {},
     "output_type": "display_data"
    },
    {
     "data": {
      "text/html": [
       "Find logs at: <code>./wandb/run-20220728_191227-nyumev7m/logs</code>"
      ],
      "text/plain": [
       "<IPython.core.display.HTML object>"
      ]
     },
     "metadata": {},
     "output_type": "display_data"
    },
    {
     "name": "stderr",
     "output_type": "stream",
     "text": [
      "\u001b[34m\u001b[1mwandb\u001b[0m: Agent Starting Run: 8t1p6fzy with config:\n",
      "\u001b[34m\u001b[1mwandb\u001b[0m: \tbandwidth: 0.46187434262776433\n",
      "\u001b[34m\u001b[1mwandb\u001b[0m: \tkernel: triangular\n"
     ]
    },
    {
     "data": {
      "text/html": [
       "Tracking run with wandb version 0.12.21"
      ],
      "text/plain": [
       "<IPython.core.display.HTML object>"
      ]
     },
     "metadata": {},
     "output_type": "display_data"
    },
    {
     "data": {
      "text/html": [
       "Run data is saved locally in <code>/Users/aakashsasikumar/Documents/MSc/Research/Dissimilar Policy/building-MARL/studies/wandb/run-20220728_191326-8t1p6fzy</code>"
      ],
      "text/plain": [
       "<IPython.core.display.HTML object>"
      ]
     },
     "metadata": {},
     "output_type": "display_data"
    },
    {
     "data": {
      "text/html": [
       "Syncing run <strong><a href=\"https://wandb.ai/aakashsasikumar/ContinuousOPEHyperParamTuningSNIPW_28_07_2022/runs/8t1p6fzy\" target=\"_blank\">magic-sweep-96</a></strong> to <a href=\"https://wandb.ai/aakashsasikumar/ContinuousOPEHyperParamTuningSNIPW_28_07_2022\" target=\"_blank\">Weights & Biases</a> (<a href=\"https://wandb.me/run\" target=\"_blank\">docs</a>)<br/>Sweep page:  <a href=\"https://wandb.ai/aakashsasikumar/ContinuousOPEHyperParamTuningSNIPW_28_07_2022/sweeps/ci54h96s\" target=\"_blank\">https://wandb.ai/aakashsasikumar/ContinuousOPEHyperParamTuningSNIPW_28_07_2022/sweeps/ci54h96s</a>"
      ],
      "text/plain": [
       "<IPython.core.display.HTML object>"
      ]
     },
     "metadata": {},
     "output_type": "display_data"
    },
    {
     "name": "stderr",
     "output_type": "stream",
     "text": [
      "/Users/aakashsasikumar/.pyenv/versions/3.10.0/envs/test/lib/python3.10/site-packages/obp-0.5.5-py3.10.egg/obp/ope/estimators_continuous.py:388: RuntimeWarning: invalid value encountered in divide\n",
      "  estimated_rewards /= (kernel_func(u) / pscore).mean()\n"
     ]
    },
    {
     "data": {
      "text/html": [
       "Waiting for W&B process to finish... <strong style=\"color:green\">(success).</strong>"
      ],
      "text/plain": [
       "<IPython.core.display.HTML object>"
      ]
     },
     "metadata": {},
     "output_type": "display_data"
    },
    {
     "data": {
      "application/vnd.jupyter.widget-view+json": {
       "model_id": "0b72960507564caf8950ff7a4750d730",
       "version_major": 2,
       "version_minor": 0
      },
      "text/plain": [
       "VBox(children=(Label(value='0.001 MB of 0.001 MB uploaded (0.000 MB deduped)\\r'), FloatProgress(value=1.0, max…"
      ]
     },
     "metadata": {},
     "output_type": "display_data"
    },
    {
     "data": {
      "text/html": [
       "<style>\n",
       "    table.wandb td:nth-child(1) { padding: 0 10px; text-align: left ; width: auto;} td:nth-child(2) {text-align: left ; width: 100%}\n",
       "    .wandb-row { display: flex; flex-direction: row; flex-wrap: wrap; justify-content: flex-start; width: 100% }\n",
       "    .wandb-col { display: flex; flex-direction: column; flex-basis: 100%; flex: 1; padding: 10px; }\n",
       "    </style>\n",
       "<div class=\"wandb-row\"><div class=\"wandb-col\"><h3>Run history:</h3><br/><table class=\"wandb\"><tr><td>average_spearman_correlation</td><td>▁</td></tr></table><br/></div><div class=\"wandb-col\"><h3>Run summary:</h3><br/><table class=\"wandb\"><tr><td>average_spearman_correlation</td><td>0.20601</td></tr></table><br/></div></div>"
      ],
      "text/plain": [
       "<IPython.core.display.HTML object>"
      ]
     },
     "metadata": {},
     "output_type": "display_data"
    },
    {
     "data": {
      "text/html": [
       "Synced <strong style=\"color:#cdcd00\">magic-sweep-96</strong>: <a href=\"https://wandb.ai/aakashsasikumar/ContinuousOPEHyperParamTuningSNIPW_28_07_2022/runs/8t1p6fzy\" target=\"_blank\">https://wandb.ai/aakashsasikumar/ContinuousOPEHyperParamTuningSNIPW_28_07_2022/runs/8t1p6fzy</a><br/>Synced 5 W&B file(s), 0 media file(s), 0 artifact file(s) and 0 other file(s)"
      ],
      "text/plain": [
       "<IPython.core.display.HTML object>"
      ]
     },
     "metadata": {},
     "output_type": "display_data"
    },
    {
     "data": {
      "text/html": [
       "Find logs at: <code>./wandb/run-20220728_191326-8t1p6fzy/logs</code>"
      ],
      "text/plain": [
       "<IPython.core.display.HTML object>"
      ]
     },
     "metadata": {},
     "output_type": "display_data"
    },
    {
     "name": "stderr",
     "output_type": "stream",
     "text": [
      "\u001b[34m\u001b[1mwandb\u001b[0m: Agent Starting Run: 0ogumqxn with config:\n",
      "\u001b[34m\u001b[1mwandb\u001b[0m: \tbandwidth: 0.22549702520101633\n",
      "\u001b[34m\u001b[1mwandb\u001b[0m: \tkernel: cosine\n"
     ]
    },
    {
     "data": {
      "text/html": [
       "Tracking run with wandb version 0.12.21"
      ],
      "text/plain": [
       "<IPython.core.display.HTML object>"
      ]
     },
     "metadata": {},
     "output_type": "display_data"
    },
    {
     "data": {
      "text/html": [
       "Run data is saved locally in <code>/Users/aakashsasikumar/Documents/MSc/Research/Dissimilar Policy/building-MARL/studies/wandb/run-20220728_191419-0ogumqxn</code>"
      ],
      "text/plain": [
       "<IPython.core.display.HTML object>"
      ]
     },
     "metadata": {},
     "output_type": "display_data"
    },
    {
     "data": {
      "text/html": [
       "Syncing run <strong><a href=\"https://wandb.ai/aakashsasikumar/ContinuousOPEHyperParamTuningSNIPW_28_07_2022/runs/0ogumqxn\" target=\"_blank\">colorful-sweep-97</a></strong> to <a href=\"https://wandb.ai/aakashsasikumar/ContinuousOPEHyperParamTuningSNIPW_28_07_2022\" target=\"_blank\">Weights & Biases</a> (<a href=\"https://wandb.me/run\" target=\"_blank\">docs</a>)<br/>Sweep page:  <a href=\"https://wandb.ai/aakashsasikumar/ContinuousOPEHyperParamTuningSNIPW_28_07_2022/sweeps/ci54h96s\" target=\"_blank\">https://wandb.ai/aakashsasikumar/ContinuousOPEHyperParamTuningSNIPW_28_07_2022/sweeps/ci54h96s</a>"
      ],
      "text/plain": [
       "<IPython.core.display.HTML object>"
      ]
     },
     "metadata": {},
     "output_type": "display_data"
    },
    {
     "data": {
      "text/html": [
       "Waiting for W&B process to finish... <strong style=\"color:green\">(success).</strong>"
      ],
      "text/plain": [
       "<IPython.core.display.HTML object>"
      ]
     },
     "metadata": {},
     "output_type": "display_data"
    },
    {
     "data": {
      "application/vnd.jupyter.widget-view+json": {
       "model_id": "1bc552e57deb40dd8ac7f6c2cd447a36",
       "version_major": 2,
       "version_minor": 0
      },
      "text/plain": [
       "VBox(children=(Label(value='0.001 MB of 0.001 MB uploaded (0.000 MB deduped)\\r'), FloatProgress(value=1.0, max…"
      ]
     },
     "metadata": {},
     "output_type": "display_data"
    },
    {
     "data": {
      "text/html": [
       "<style>\n",
       "    table.wandb td:nth-child(1) { padding: 0 10px; text-align: left ; width: auto;} td:nth-child(2) {text-align: left ; width: 100%}\n",
       "    .wandb-row { display: flex; flex-direction: row; flex-wrap: wrap; justify-content: flex-start; width: 100% }\n",
       "    .wandb-col { display: flex; flex-direction: column; flex-basis: 100%; flex: 1; padding: 10px; }\n",
       "    </style>\n",
       "<div class=\"wandb-row\"><div class=\"wandb-col\"><h3>Run history:</h3><br/><table class=\"wandb\"><tr><td>average_spearman_correlation</td><td>▁</td></tr></table><br/></div><div class=\"wandb-col\"><h3>Run summary:</h3><br/><table class=\"wandb\"><tr><td>average_spearman_correlation</td><td>0.38817</td></tr></table><br/></div></div>"
      ],
      "text/plain": [
       "<IPython.core.display.HTML object>"
      ]
     },
     "metadata": {},
     "output_type": "display_data"
    },
    {
     "data": {
      "text/html": [
       "Synced <strong style=\"color:#cdcd00\">colorful-sweep-97</strong>: <a href=\"https://wandb.ai/aakashsasikumar/ContinuousOPEHyperParamTuningSNIPW_28_07_2022/runs/0ogumqxn\" target=\"_blank\">https://wandb.ai/aakashsasikumar/ContinuousOPEHyperParamTuningSNIPW_28_07_2022/runs/0ogumqxn</a><br/>Synced 4 W&B file(s), 0 media file(s), 0 artifact file(s) and 0 other file(s)"
      ],
      "text/plain": [
       "<IPython.core.display.HTML object>"
      ]
     },
     "metadata": {},
     "output_type": "display_data"
    },
    {
     "data": {
      "text/html": [
       "Find logs at: <code>./wandb/run-20220728_191419-0ogumqxn/logs</code>"
      ],
      "text/plain": [
       "<IPython.core.display.HTML object>"
      ]
     },
     "metadata": {},
     "output_type": "display_data"
    },
    {
     "name": "stderr",
     "output_type": "stream",
     "text": [
      "\u001b[34m\u001b[1mwandb\u001b[0m: Agent Starting Run: ozrgo0lv with config:\n",
      "\u001b[34m\u001b[1mwandb\u001b[0m: \tbandwidth: 0.2604600955653822\n",
      "\u001b[34m\u001b[1mwandb\u001b[0m: \tkernel: triangular\n"
     ]
    },
    {
     "data": {
      "text/html": [
       "Tracking run with wandb version 0.12.21"
      ],
      "text/plain": [
       "<IPython.core.display.HTML object>"
      ]
     },
     "metadata": {},
     "output_type": "display_data"
    },
    {
     "data": {
      "text/html": [
       "Run data is saved locally in <code>/Users/aakashsasikumar/Documents/MSc/Research/Dissimilar Policy/building-MARL/studies/wandb/run-20220728_191513-ozrgo0lv</code>"
      ],
      "text/plain": [
       "<IPython.core.display.HTML object>"
      ]
     },
     "metadata": {},
     "output_type": "display_data"
    },
    {
     "data": {
      "text/html": [
       "Syncing run <strong><a href=\"https://wandb.ai/aakashsasikumar/ContinuousOPEHyperParamTuningSNIPW_28_07_2022/runs/ozrgo0lv\" target=\"_blank\">breezy-sweep-98</a></strong> to <a href=\"https://wandb.ai/aakashsasikumar/ContinuousOPEHyperParamTuningSNIPW_28_07_2022\" target=\"_blank\">Weights & Biases</a> (<a href=\"https://wandb.me/run\" target=\"_blank\">docs</a>)<br/>Sweep page:  <a href=\"https://wandb.ai/aakashsasikumar/ContinuousOPEHyperParamTuningSNIPW_28_07_2022/sweeps/ci54h96s\" target=\"_blank\">https://wandb.ai/aakashsasikumar/ContinuousOPEHyperParamTuningSNIPW_28_07_2022/sweeps/ci54h96s</a>"
      ],
      "text/plain": [
       "<IPython.core.display.HTML object>"
      ]
     },
     "metadata": {},
     "output_type": "display_data"
    },
    {
     "name": "stderr",
     "output_type": "stream",
     "text": [
      "/Users/aakashsasikumar/.pyenv/versions/3.10.0/envs/test/lib/python3.10/site-packages/obp-0.5.5-py3.10.egg/obp/ope/estimators_continuous.py:388: RuntimeWarning: invalid value encountered in divide\n",
      "  estimated_rewards /= (kernel_func(u) / pscore).mean()\n"
     ]
    },
    {
     "data": {
      "text/html": [
       "Waiting for W&B process to finish... <strong style=\"color:green\">(success).</strong>"
      ],
      "text/plain": [
       "<IPython.core.display.HTML object>"
      ]
     },
     "metadata": {},
     "output_type": "display_data"
    },
    {
     "data": {
      "application/vnd.jupyter.widget-view+json": {
       "model_id": "10de4fb0d65544658f08834cb506401d",
       "version_major": 2,
       "version_minor": 0
      },
      "text/plain": [
       "VBox(children=(Label(value='0.001 MB of 0.001 MB uploaded (0.000 MB deduped)\\r'), FloatProgress(value=1.0, max…"
      ]
     },
     "metadata": {},
     "output_type": "display_data"
    },
    {
     "data": {
      "text/html": [
       "<style>\n",
       "    table.wandb td:nth-child(1) { padding: 0 10px; text-align: left ; width: auto;} td:nth-child(2) {text-align: left ; width: 100%}\n",
       "    .wandb-row { display: flex; flex-direction: row; flex-wrap: wrap; justify-content: flex-start; width: 100% }\n",
       "    .wandb-col { display: flex; flex-direction: column; flex-basis: 100%; flex: 1; padding: 10px; }\n",
       "    </style>\n",
       "<div class=\"wandb-row\"><div class=\"wandb-col\"><h3>Run history:</h3><br/><table class=\"wandb\"><tr><td>average_spearman_correlation</td><td>▁</td></tr></table><br/></div><div class=\"wandb-col\"><h3>Run summary:</h3><br/><table class=\"wandb\"><tr><td>average_spearman_correlation</td><td>0.26762</td></tr></table><br/></div></div>"
      ],
      "text/plain": [
       "<IPython.core.display.HTML object>"
      ]
     },
     "metadata": {},
     "output_type": "display_data"
    },
    {
     "data": {
      "text/html": [
       "Synced <strong style=\"color:#cdcd00\">breezy-sweep-98</strong>: <a href=\"https://wandb.ai/aakashsasikumar/ContinuousOPEHyperParamTuningSNIPW_28_07_2022/runs/ozrgo0lv\" target=\"_blank\">https://wandb.ai/aakashsasikumar/ContinuousOPEHyperParamTuningSNIPW_28_07_2022/runs/ozrgo0lv</a><br/>Synced 5 W&B file(s), 0 media file(s), 0 artifact file(s) and 0 other file(s)"
      ],
      "text/plain": [
       "<IPython.core.display.HTML object>"
      ]
     },
     "metadata": {},
     "output_type": "display_data"
    },
    {
     "data": {
      "text/html": [
       "Find logs at: <code>./wandb/run-20220728_191513-ozrgo0lv/logs</code>"
      ],
      "text/plain": [
       "<IPython.core.display.HTML object>"
      ]
     },
     "metadata": {},
     "output_type": "display_data"
    },
    {
     "name": "stderr",
     "output_type": "stream",
     "text": [
      "\u001b[34m\u001b[1mwandb\u001b[0m: Agent Starting Run: 2gc52jf8 with config:\n",
      "\u001b[34m\u001b[1mwandb\u001b[0m: \tbandwidth: 0.15805141676165663\n",
      "\u001b[34m\u001b[1mwandb\u001b[0m: \tkernel: triangular\n"
     ]
    },
    {
     "data": {
      "text/html": [
       "Tracking run with wandb version 0.12.21"
      ],
      "text/plain": [
       "<IPython.core.display.HTML object>"
      ]
     },
     "metadata": {},
     "output_type": "display_data"
    },
    {
     "data": {
      "text/html": [
       "Run data is saved locally in <code>/Users/aakashsasikumar/Documents/MSc/Research/Dissimilar Policy/building-MARL/studies/wandb/run-20220728_191611-2gc52jf8</code>"
      ],
      "text/plain": [
       "<IPython.core.display.HTML object>"
      ]
     },
     "metadata": {},
     "output_type": "display_data"
    },
    {
     "data": {
      "text/html": [
       "Syncing run <strong><a href=\"https://wandb.ai/aakashsasikumar/ContinuousOPEHyperParamTuningSNIPW_28_07_2022/runs/2gc52jf8\" target=\"_blank\">fanciful-sweep-99</a></strong> to <a href=\"https://wandb.ai/aakashsasikumar/ContinuousOPEHyperParamTuningSNIPW_28_07_2022\" target=\"_blank\">Weights & Biases</a> (<a href=\"https://wandb.me/run\" target=\"_blank\">docs</a>)<br/>Sweep page:  <a href=\"https://wandb.ai/aakashsasikumar/ContinuousOPEHyperParamTuningSNIPW_28_07_2022/sweeps/ci54h96s\" target=\"_blank\">https://wandb.ai/aakashsasikumar/ContinuousOPEHyperParamTuningSNIPW_28_07_2022/sweeps/ci54h96s</a>"
      ],
      "text/plain": [
       "<IPython.core.display.HTML object>"
      ]
     },
     "metadata": {},
     "output_type": "display_data"
    },
    {
     "name": "stderr",
     "output_type": "stream",
     "text": [
      "/Users/aakashsasikumar/.pyenv/versions/3.10.0/envs/test/lib/python3.10/site-packages/obp-0.5.5-py3.10.egg/obp/ope/estimators_continuous.py:388: RuntimeWarning: invalid value encountered in divide\n",
      "  estimated_rewards /= (kernel_func(u) / pscore).mean()\n"
     ]
    },
    {
     "data": {
      "text/html": [
       "Waiting for W&B process to finish... <strong style=\"color:green\">(success).</strong>"
      ],
      "text/plain": [
       "<IPython.core.display.HTML object>"
      ]
     },
     "metadata": {},
     "output_type": "display_data"
    },
    {
     "data": {
      "application/vnd.jupyter.widget-view+json": {
       "model_id": "24335fb09cd842919782ec234ec5cd3e",
       "version_major": 2,
       "version_minor": 0
      },
      "text/plain": [
       "VBox(children=(Label(value='0.001 MB of 0.001 MB uploaded (0.000 MB deduped)\\r'), FloatProgress(value=1.0, max…"
      ]
     },
     "metadata": {},
     "output_type": "display_data"
    },
    {
     "data": {
      "text/html": [
       "<style>\n",
       "    table.wandb td:nth-child(1) { padding: 0 10px; text-align: left ; width: auto;} td:nth-child(2) {text-align: left ; width: 100%}\n",
       "    .wandb-row { display: flex; flex-direction: row; flex-wrap: wrap; justify-content: flex-start; width: 100% }\n",
       "    .wandb-col { display: flex; flex-direction: column; flex-basis: 100%; flex: 1; padding: 10px; }\n",
       "    </style>\n",
       "<div class=\"wandb-row\"><div class=\"wandb-col\"><h3>Run history:</h3><br/><table class=\"wandb\"><tr><td>average_spearman_correlation</td><td>▁</td></tr></table><br/></div><div class=\"wandb-col\"><h3>Run summary:</h3><br/><table class=\"wandb\"><tr><td>average_spearman_correlation</td><td>0.2869</td></tr></table><br/></div></div>"
      ],
      "text/plain": [
       "<IPython.core.display.HTML object>"
      ]
     },
     "metadata": {},
     "output_type": "display_data"
    },
    {
     "data": {
      "text/html": [
       "Synced <strong style=\"color:#cdcd00\">fanciful-sweep-99</strong>: <a href=\"https://wandb.ai/aakashsasikumar/ContinuousOPEHyperParamTuningSNIPW_28_07_2022/runs/2gc52jf8\" target=\"_blank\">https://wandb.ai/aakashsasikumar/ContinuousOPEHyperParamTuningSNIPW_28_07_2022/runs/2gc52jf8</a><br/>Synced 5 W&B file(s), 0 media file(s), 0 artifact file(s) and 0 other file(s)"
      ],
      "text/plain": [
       "<IPython.core.display.HTML object>"
      ]
     },
     "metadata": {},
     "output_type": "display_data"
    },
    {
     "data": {
      "text/html": [
       "Find logs at: <code>./wandb/run-20220728_191611-2gc52jf8/logs</code>"
      ],
      "text/plain": [
       "<IPython.core.display.HTML object>"
      ]
     },
     "metadata": {},
     "output_type": "display_data"
    },
    {
     "name": "stderr",
     "output_type": "stream",
     "text": [
      "\u001b[34m\u001b[1mwandb\u001b[0m: Agent Starting Run: 1mkvbecj with config:\n",
      "\u001b[34m\u001b[1mwandb\u001b[0m: \tbandwidth: 0.04331731296962388\n",
      "\u001b[34m\u001b[1mwandb\u001b[0m: \tkernel: triangular\n"
     ]
    },
    {
     "data": {
      "text/html": [
       "Tracking run with wandb version 0.12.21"
      ],
      "text/plain": [
       "<IPython.core.display.HTML object>"
      ]
     },
     "metadata": {},
     "output_type": "display_data"
    },
    {
     "data": {
      "text/html": [
       "Run data is saved locally in <code>/Users/aakashsasikumar/Documents/MSc/Research/Dissimilar Policy/building-MARL/studies/wandb/run-20220728_191703-1mkvbecj</code>"
      ],
      "text/plain": [
       "<IPython.core.display.HTML object>"
      ]
     },
     "metadata": {},
     "output_type": "display_data"
    },
    {
     "data": {
      "text/html": [
       "Syncing run <strong><a href=\"https://wandb.ai/aakashsasikumar/ContinuousOPEHyperParamTuningSNIPW_28_07_2022/runs/1mkvbecj\" target=\"_blank\">earnest-sweep-100</a></strong> to <a href=\"https://wandb.ai/aakashsasikumar/ContinuousOPEHyperParamTuningSNIPW_28_07_2022\" target=\"_blank\">Weights & Biases</a> (<a href=\"https://wandb.me/run\" target=\"_blank\">docs</a>)<br/>Sweep page:  <a href=\"https://wandb.ai/aakashsasikumar/ContinuousOPEHyperParamTuningSNIPW_28_07_2022/sweeps/ci54h96s\" target=\"_blank\">https://wandb.ai/aakashsasikumar/ContinuousOPEHyperParamTuningSNIPW_28_07_2022/sweeps/ci54h96s</a>"
      ],
      "text/plain": [
       "<IPython.core.display.HTML object>"
      ]
     },
     "metadata": {},
     "output_type": "display_data"
    },
    {
     "name": "stderr",
     "output_type": "stream",
     "text": [
      "/Users/aakashsasikumar/.pyenv/versions/3.10.0/envs/test/lib/python3.10/site-packages/obp-0.5.5-py3.10.egg/obp/ope/estimators_continuous.py:388: RuntimeWarning: invalid value encountered in divide\n",
      "  estimated_rewards /= (kernel_func(u) / pscore).mean()\n"
     ]
    },
    {
     "data": {
      "text/html": [
       "Waiting for W&B process to finish... <strong style=\"color:green\">(success).</strong>"
      ],
      "text/plain": [
       "<IPython.core.display.HTML object>"
      ]
     },
     "metadata": {},
     "output_type": "display_data"
    },
    {
     "data": {
      "application/vnd.jupyter.widget-view+json": {
       "model_id": "37e12b9ea48d443db8c4b9978fe9e234",
       "version_major": 2,
       "version_minor": 0
      },
      "text/plain": [
       "VBox(children=(Label(value='0.001 MB of 0.001 MB uploaded (0.000 MB deduped)\\r'), FloatProgress(value=1.0, max…"
      ]
     },
     "metadata": {},
     "output_type": "display_data"
    },
    {
     "data": {
      "text/html": [
       "<style>\n",
       "    table.wandb td:nth-child(1) { padding: 0 10px; text-align: left ; width: auto;} td:nth-child(2) {text-align: left ; width: 100%}\n",
       "    .wandb-row { display: flex; flex-direction: row; flex-wrap: wrap; justify-content: flex-start; width: 100% }\n",
       "    .wandb-col { display: flex; flex-direction: column; flex-basis: 100%; flex: 1; padding: 10px; }\n",
       "    </style>\n",
       "<div class=\"wandb-row\"><div class=\"wandb-col\"><h3>Run history:</h3><br/><table class=\"wandb\"><tr><td>average_spearman_correlation</td><td>▁</td></tr></table><br/></div><div class=\"wandb-col\"><h3>Run summary:</h3><br/><table class=\"wandb\"><tr><td>average_spearman_correlation</td><td>0.33529</td></tr></table><br/></div></div>"
      ],
      "text/plain": [
       "<IPython.core.display.HTML object>"
      ]
     },
     "metadata": {},
     "output_type": "display_data"
    },
    {
     "data": {
      "text/html": [
       "Synced <strong style=\"color:#cdcd00\">earnest-sweep-100</strong>: <a href=\"https://wandb.ai/aakashsasikumar/ContinuousOPEHyperParamTuningSNIPW_28_07_2022/runs/1mkvbecj\" target=\"_blank\">https://wandb.ai/aakashsasikumar/ContinuousOPEHyperParamTuningSNIPW_28_07_2022/runs/1mkvbecj</a><br/>Synced 5 W&B file(s), 0 media file(s), 0 artifact file(s) and 0 other file(s)"
      ],
      "text/plain": [
       "<IPython.core.display.HTML object>"
      ]
     },
     "metadata": {},
     "output_type": "display_data"
    },
    {
     "data": {
      "text/html": [
       "Find logs at: <code>./wandb/run-20220728_191703-1mkvbecj/logs</code>"
      ],
      "text/plain": [
       "<IPython.core.display.HTML object>"
      ]
     },
     "metadata": {},
     "output_type": "display_data"
    },
    {
     "name": "stderr",
     "output_type": "stream",
     "text": [
      "wandb: Network error (ReadTimeout), entering retry loop.\n"
     ]
    }
   ],
   "source": [
    "wandb.agent(sweep_id, evaluate_hyperparams, count=100)"
   ]
  },
  {
   "cell_type": "code",
   "execution_count": null,
   "id": "10863b33-3489-4324-87d9-6640a8752121",
   "metadata": {},
   "outputs": [],
   "source": []
  }
 ],
 "metadata": {
  "kernelspec": {
   "display_name": "Python 3 (ipykernel)",
   "language": "python",
   "name": "python3"
  },
  "language_info": {
   "codemirror_mode": {
    "name": "ipython",
    "version": 3
   },
   "file_extension": ".py",
   "mimetype": "text/x-python",
   "name": "python",
   "nbconvert_exporter": "python",
   "pygments_lexer": "ipython3",
   "version": "3.10.0"
  }
 },
 "nbformat": 4,
 "nbformat_minor": 5
}
