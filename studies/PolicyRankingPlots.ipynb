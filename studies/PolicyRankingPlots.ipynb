{
 "cells": [
  {
   "cell_type": "markdown",
   "id": "2ba2e915",
   "metadata": {},
   "source": [
    "# Plots Comparing Different Policy Ranking Methods"
   ]
  },
  {
   "cell_type": "code",
   "execution_count": 4,
   "id": "6d9156fb",
   "metadata": {},
   "outputs": [],
   "source": [
    "import pickle\n",
    "import seaborn as sns\n",
    "import matplotlib.pyplot as plt\n",
    "import numpy as np\n",
    "import pandas as pd\n",
    "\n",
    "%matplotlib inline"
   ]
  },
  {
   "cell_type": "code",
   "execution_count": 5,
   "id": "1e6f2c1b",
   "metadata": {},
   "outputs": [],
   "source": [
    "grad_norm_correlation_loc = \"data/15zone/grad_norm/spearman_corr/grad_norm_spearman_corrs_15_days_18_09_2022_new_policies.pkl\"\n",
    "snip_correlation_loc = \"data/15zone/snip/spearman_corr/snip_spearman_corr_15_days_18_09_2022.pkl\"\n",
    "jacob_cov_correlation_loc = \"data/15zone/jacob_cov/spearman_corr/sjacob_cov_spearman_corr_15_days_18_09_2022.pkl\"\n",
    "synflow_correlation_loc = \"data/15zone/synflow/spearman_corr/synflow_spearman_corr_15_days_18_09_2022.pkl\"\n",
    "\n",
    "# grad_norm_correlation_loc_30 = \"data/grad_norm_ipw_spearman_corrs_03_07_2022.pkl\"\n",
    "# snip_correlation_loc_30 = \"data/snip_spearman_corr_07_07_2022.pkl\"\n",
    "# jacob_cov_correlation_loc_30 = \"data/jacob_cov_spearman_corr_12_07_2022.pkl\"\n",
    "# synflow_correlation_loc_30 = \"data/synflow_spearman_corr_11_07_2022.pkl\"\n",
    "\n",
    "ipw_correlation_loc_15 = \"data/15zone/ipw/spearman_corr/ipw_spearman_corr_15_days_18_09_2022.pkl\"\n",
    "snipw_correlation_loc_15 = \"data/15zone/snipw/spearman_corr/snipw_spearman_corr_15_days_19_09_2022.pkl\"\n",
    "# ipw_correlation_loc = \"data/ipw_spearman_corrs_14_06_2022.pkl\"\n",
    "# snipw_correlation_loc = \"data/snipw_spearman_corr_14_06_2022.pkl\"\n",
    "\n",
    "# ucb_correlation_1_0_loc = \"data/ucb_corr_12_07_2022.pkl\"\n",
    "\n",
    "# fqe_corr_loc_0 = \"data/fqe_spearman_corr_12_07_2022.pkl\"\n",
    "\n",
    "continuous_gaussian_15 = \"data/15zone/ContinuousActionGaussian/spearman_corr/GaussianKernel_0.3_15_days_06_09_2022.pkl\"\n",
    "\n",
    "\n",
    "with open(grad_norm_correlation_loc, \"rb\") as f:\n",
    "    grad_norm_corr = pickle.load(f)\n",
    "\n",
    "with open(snip_correlation_loc, \"rb\") as f:\n",
    "    snip_corr = pickle.load(f)\n",
    "\n",
    "with open(jacob_cov_correlation_loc, \"rb\") as f:\n",
    "    jacob_cov_corr = pickle.load(f)\n",
    "\n",
    "with open(synflow_correlation_loc, \"rb\") as f:\n",
    "    synflow_corr = pickle.load(f)\n",
    "\n",
    "# with open(ipw_correlation_loc, \"rb\") as f:\n",
    "#     ipw_corr = pickle.load(f)\n",
    "\n",
    "# with open(snipw_correlation_loc, \"rb\") as f:\n",
    "#     snipw_corr = pickle.load(f)\n",
    "\n",
    "with open(ipw_correlation_loc_15, \"rb\") as f:\n",
    "    ipw_corr_15 = pickle.load(f)\n",
    "\n",
    "with open(snipw_correlation_loc_15, \"rb\") as f:\n",
    "    snipw_corr_15 = pickle.load(f)\n",
    "    \n",
    "# with open(grad_norm_correlation_loc_30, \"rb\") as f:\n",
    "#     grad_norm_corr_30 = pickle.load(f)\n",
    "\n",
    "# with open(snip_correlation_loc_30, \"rb\") as f:\n",
    "#     snip_corr_30 = pickle.load(f)\n",
    "    \n",
    "# with open(jacob_cov_correlation_loc_30, \"rb\") as f:\n",
    "#     jacob_cov_corr_30 = pickle.load(f)\n",
    "\n",
    "# with open(synflow_correlation_loc_30, \"rb\") as f:\n",
    "#     synflow_corr_30 = pickle.load(f)\n",
    "    \n",
    "# with open(ucb_correlation_1_0_loc, \"rb\") as f:\n",
    "#     ucb_corr_1_0 = pickle.load(f)\n",
    "    \n",
    "# with open(fqe_corr_loc_0, \"rb\") as f:\n",
    "#     fqe_corr_0 = pickle.load(f)\n",
    "\n",
    "with open(continuous_gaussian_15, \"rb\") as f:\n",
    "    continuous_gauss_corr_15 = pickle.load(f)"
   ]
  },
  {
   "cell_type": "markdown",
   "id": "8fc595b9",
   "metadata": {},
   "source": [
    "## Spearman Correlation Across all Zones"
   ]
  },
  {
   "cell_type": "code",
   "execution_count": 6,
   "id": "c06c8a91",
   "metadata": {},
   "outputs": [],
   "source": [
    "grad_norm_abs = [abs(val.correlation) for val in grad_norm_corr.values()]\n",
    "snip_abs = [abs(val.correlation) for val in snip_corr.values()]\n",
    "jacob_cov_abs = [abs(val.correlation) for val in jacob_cov_corr.values()]\n",
    "synflow_abs = [abs(val.correlation) for val in synflow_corr.values()]\n",
    "\n",
    "# grad_norm_abs_30 = [abs(val.correlation) for val in grad_norm_corr_30.values()]\n",
    "# snip_abs_30 = [abs(val.correlation) for val in snip_corr_30.values()]\n",
    "# jacob_cov_abs_30 = [abs(val.correlation) for val in jacob_cov_corr_30.values()]\n",
    "# synflow_abs_30 = [abs(val.correlation) for val in synflow_corr_30.values()]\n",
    "\n",
    "# ipw_abs = [abs(val.correlation) for val in ipw_corr.values()]\n",
    "# snipw_abs = [abs(val.correlation) for val in snipw_corr.values()]\n",
    "\n",
    "ipw_abs_15 = [abs(val.correlation) for val in ipw_corr_15.values()]\n",
    "snipw_abs_15 = [abs(val.correlation) for val in snipw_corr_15.values()]\n",
    "\n",
    "# ucb_abs_1_0 = [abs(val.correlation) for val in ucb_corr_1_0.values()]\n",
    "\n",
    "# fqe_abs_0 = [abs(val.correlation) for val in fqe_corr_0.values()]\n",
    "\n",
    "cont_gauss_abs_15 = [abs(val.correlation) for val in continuous_gauss_corr_15.values()]\n",
    "\n",
    "grad_norm_df = pd.DataFrame()\n",
    "grad_norm_df[\"method\"] = [\"ZCP: GN*\" for i in range(len(grad_norm_abs))]\n",
    "grad_norm_df[\"correlation\"] = grad_norm_abs\n",
    "\n",
    "snip_df = pd.DataFrame()\n",
    "snip_df[\"method\"] = [\"ZCP: SNIP*\" for i in range(len(snip_abs))]\n",
    "snip_df[\"correlation\"] = snip_abs\n",
    "\n",
    "jacob_cov_df = pd.DataFrame()\n",
    "jacob_cov_df[\"method\"] = [\"ZCP: Jacob-Cov\" for i in range(len(jacob_cov_abs))]\n",
    "jacob_cov_df[\"correlation\"] = jacob_cov_abs\n",
    "\n",
    "synflow_df = pd.DataFrame()\n",
    "synflow_df[\"method\"] = [\"ZCP: Synflow\" for i in range(len(synflow_abs))]\n",
    "synflow_df[\"correlation\"] = synflow_abs\n",
    "\n",
    "# grad_norm_df_30 = pd.DataFrame()\n",
    "# grad_norm_df_30[\"method\"] = [\"ZCP: Grad-Norm (30)\" for i in range(len(grad_norm_abs_30))]\n",
    "# grad_norm_df_30[\"correlation\"] = grad_norm_abs_30\n",
    "\n",
    "# snip_df_30 = pd.DataFrame()\n",
    "# snip_df_30[\"method\"] = [\"ZCP: SNIP (30)\" for i in range(len(snip_abs_30))]\n",
    "# snip_df_30[\"correlation\"] = snip_abs_30\n",
    "\n",
    "# jacob_cov_df_30 = pd.DataFrame()\n",
    "# jacob_cov_df_30[\"method\"] = [\"NAS: Jacob-Cov (30)\" for i in range(len(jacob_cov_abs_30))]\n",
    "# jacob_cov_df_30[\"correlation\"] = jacob_cov_abs_30\n",
    "\n",
    "# synflow_df_30 = pd.DataFrame()\n",
    "# synflow_df_30[\"method\"] = [\"ZCP: Synflow (30)\" for i in range(len(synflow_abs_30))]\n",
    "# synflow_df_30[\"correlation\"] = synflow_abs_30\n",
    "\n",
    "# ipw_df = pd.DataFrame()\n",
    "# ipw_df[\"method\"] = [\"OPE: IPW (30)\" for i in range(len(ipw_abs))]\n",
    "# ipw_df[\"correlation\"] = ipw_abs\n",
    "\n",
    "# snipw_df = pd.DataFrame()\n",
    "# snipw_df[\"method\"] = [\"OPE: SNIPW (30)\" for i in range(len(snipw_abs))]\n",
    "# snipw_df[\"correlation\"] = snipw_abs\n",
    "\n",
    "ipw_df_15 = pd.DataFrame()\n",
    "ipw_df_15[\"method\"] = [\"OPE: IPW\" for i in range(len(ipw_abs_15))]\n",
    "ipw_df_15[\"correlation\"] = ipw_abs_15\n",
    "\n",
    "snipw_df_15 = pd.DataFrame()\n",
    "snipw_df_15[\"method\"] = [\"OPE: SNIPW\" for i in range(len(snipw_abs_15))]\n",
    "snipw_df_15[\"correlation\"] = snipw_abs_15\n",
    "\n",
    "# ucb_df_0_1 = pd.DataFrame()\n",
    "# ucb_df_0_1[\"method\"] = [\"UCB: (1)\" for i in range(len(ucb_abs_1_0))]\n",
    "# ucb_df_0_1[\"correlation\"] = ucb_abs_1_0\n",
    "\n",
    "# fqe_df_0 = pd.DataFrame()\n",
    "# fqe_df_0[\"method\"] = [\"OPE: FQE (30)\" for i in range(len(fqe_abs_0))]\n",
    "# fqe_df_0[\"correlation\"] = fqe_abs_0\n",
    "\n",
    "cont_gauss_15_df = pd.DataFrame()\n",
    "cont_gauss_15_df[\"method\"] = [\"OPE: GK\" for i in range(len(cont_gauss_abs_15))]\n",
    "cont_gauss_15_df[\"correlation\"] = cont_gauss_abs_15\n",
    "\n",
    "# plot_dfs = [grad_norm_df, snip_df, jacob_cov_df, synflow_df, ipw_df_15, snipw_df_15, cont_gauss_15_df]\n",
    "plot_dfs = [grad_norm_df, snip_df, ipw_df_15, snipw_df_15, cont_gauss_15_df]\n",
    "\n",
    "\n",
    "# boxplot_df = pd.concat([grad_norm_df, grad_norm_df_30, snip_df,\n",
    "#                         snip_df_30, jacob_cov_df, jacob_cov_df_30,\n",
    "#                         synflow_df, synflow_df_30,\n",
    "#                         ipw_df_15, ipw_df,\n",
    "#                         snipw_df_15, snipw_df, fqe_df_0,\n",
    "#                         ucb_df_0_1])\n",
    "\n",
    "boxplot_df = pd.concat(plot_dfs)"
   ]
  },
  {
   "cell_type": "code",
   "execution_count": 17,
   "id": "27c7cd28-0e0d-4dde-9720-012735a1b825",
   "metadata": {},
   "outputs": [],
   "source": [
    "font = {'family' : 'normal',\n",
    "        'weight' : 'normal',\n",
    "        'size'   : 13}\n",
    "plt.rc(\"font\", **font)"
   ]
  },
  {
   "cell_type": "code",
   "execution_count": 18,
   "id": "b4d92ba2",
   "metadata": {},
   "outputs": [
    {
     "name": "stderr",
     "output_type": "stream",
     "text": [
      "findfont: Font family ['normal'] not found. Falling back to DejaVu Sans.\n"
     ]
    },
    {
     "data": {
      "image/png": "[encoded data removed]",
      "text/plain": [
       "<Figure size 576x288 with 1 Axes>"
      ]
     },
     "metadata": {
      "needs_background": "light"
     },
     "output_type": "display_data"
    }
   ],
   "source": [
    "plt.figure(figsize=(8, 4))\n",
    "\n",
    "# plt.title(\"Spearman's Rank Correlation\")\n",
    "sns.boxplot(x=\"method\", y=\"correlation\", data=boxplot_df)\n",
    "sns.swarmplot(x=\"method\", y=\"correlation\", data=boxplot_df, color=\"black\")\n",
    "plt.xlabel(\"Ranking Method\")\n",
    "plt.ylabel(\"Spearman's Correlation Coefficient\")\n",
    "# plt.xticks(rotation=45)\n",
    "plt.yticks(np.arange(0.0, 1.1, step=0.2))\n",
    "plt.savefig(\"plots/spearman_corr_boxplot_26_09_2022.pdf\", dpi=300, bbox_inches=\"tight\")"
   ]
  },
  {
   "cell_type": "code",
   "execution_count": 16,
   "id": "41a41a5b",
   "metadata": {},
   "outputs": [
    {
     "data": {
      "text/plain": [
       "[]"
      ]
     },
     "execution_count": 16,
     "metadata": {},
     "output_type": "execute_result"
    }
   ],
   "source": [
    "[val for val in boxplot_df[boxplot_df[\"method\"] == \"ZCP: SNIP+IPW\"][\"correlation\"].values]"
   ]
  },
  {
   "cell_type": "code",
   "execution_count": 31,
   "id": "ba9d07cd-a4db-406e-9046-6af306d78b05",
   "metadata": {},
   "outputs": [
    {
     "data": {
      "text/plain": [
       "[0.6865461379890686,\n",
       " 0.6369612189430071,\n",
       " 0.6257318273268654,\n",
       " 0.6209011775719514,\n",
       " 0.6330619441564675,\n",
       " 0.6300092341279773,\n",
       " 0.6305946149171981,\n",
       " 0.7265522434160954,\n",
       " 0.6322384578781809,\n",
       " 0.6222749693766,\n",
       " 0.6314754588129122,\n",
       " 0.7400385675995389,\n",
       " 0.6335536383969931,\n",
       " 0.6222746490963496,\n",
       " 0.6319791589873984]"
      ]
     },
     "execution_count": 31,
     "metadata": {},
     "output_type": "execute_result"
    }
   ],
   "source": [
    "[val for val in boxplot_df[boxplot_df[\"method\"] == \"ZCP: GN+IPW\"][\"correlation\"].values]"
   ]
  },
  {
   "cell_type": "code",
   "execution_count": null,
   "id": "76fc628f-751a-4df7-a8d7-fc074a5b41d9",
   "metadata": {},
   "outputs": [],
   "source": []
  }
 ],
 "metadata": {
  "kernelspec": {
   "display_name": "Python 3 (ipykernel)",
   "language": "python",
   "name": "python3"
  },
  "language_info": {
   "codemirror_mode": {
    "name": "ipython",
    "version": 3
   },
   "file_extension": ".py",
   "mimetype": "text/x-python",
   "name": "python",
   "nbconvert_exporter": "python",
   "pygments_lexer": "ipython3",
   "version": "3.10.0"
  }
 },
 "nbformat": 4,
 "nbformat_minor": 5
}
