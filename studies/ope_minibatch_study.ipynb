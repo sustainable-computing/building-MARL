{
 "cells": [
  {
   "cell_type": "markdown",
   "id": "607db1a6",
   "metadata": {},
   "source": [
    "# Offline Policy Evaluation w/ minibatch\n",
    "\n",
    "Testing offline policy evalation with zone-agnostic behavior policy model"
   ]
  },
  {
   "cell_type": "code",
   "execution_count": 1,
   "id": "2533d122",
   "metadata": {},
   "outputs": [],
   "source": [
    "import numpy as np\n",
    "import sys\n",
    "import matplotlib.pyplot as plt\n",
    "import pandas as pd\n",
    "import pickle\n",
    "sys.path.insert(0, \"../\")\n",
    "import torch\n",
    "from ppo import PPO\n",
    "import glob\n",
    "from tqdm.notebook import tqdm"
   ]
  },
  {
   "cell_type": "code",
   "execution_count": 2,
   "id": "9be8a4ff",
   "metadata": {},
   "outputs": [],
   "source": [
    "log_data = pd.read_csv(\"../data/rule_based_log_data/0_cleaned_log.csv\")\n",
    "with open(\"../data/rule_based_log_data/action_probs_all_data.pkl\", \"rb\") as f:\n",
    "    behavior_model = pickle.load(f)"
   ]
  },
  {
   "cell_type": "markdown",
   "id": "fa6f3549",
   "metadata": {},
   "source": [
    "## 30 Day MiniBatch"
   ]
  },
  {
   "cell_type": "code",
   "execution_count": 3,
   "id": "c4728dc4",
   "metadata": {},
   "outputs": [],
   "source": [
    "num_ts_per_day = 4 * 24\n",
    "num_days = 30\n",
    "ts_end = num_ts_per_day * num_days\n",
    "zones = log_data[\"zone\"].unique()\n",
    "# zone = \"Perimeter_bot_ZN_1\"\n",
    "# log_data = log_data[log_data[\"zone\"] == zone].sort_values(by=[\"timestep\"])\n",
    "# log_data = log_data[:ts_end]"
   ]
  },
  {
   "cell_type": "markdown",
   "id": "2a666fde",
   "metadata": {},
   "source": [
    "## Loading all Policies"
   ]
  },
  {
   "cell_type": "code",
   "execution_count": 4,
   "id": "a4dc0889",
   "metadata": {},
   "outputs": [],
   "source": [
    "policy_list = sorted(list(glob.glob(f\"../policy_library/**.pth\")))"
   ]
  },
  {
   "cell_type": "markdown",
   "id": "a5b95aa6",
   "metadata": {},
   "source": [
    "### 1. Inverse Probability Weighting"
   ]
  },
  {
   "cell_type": "code",
   "execution_count": null,
   "id": "ab212710",
   "metadata": {},
   "outputs": [
    {
     "name": "stdout",
     "output_type": "stream",
     "text": [
      "Perimeter_top_ZN_3\n"
     ]
    },
    {
     "data": {
      "application/vnd.jupyter.widget-view+json": {
       "model_id": "806da8bfa1374f89a4b8c3f80c171f88",
       "version_major": 2,
       "version_minor": 0
      },
      "text/plain": [
       "  0%|          | 0/800 [00:00<?, ?it/s]"
      ]
     },
     "metadata": {},
     "output_type": "display_data"
    },
    {
     "name": "stdout",
     "output_type": "stream",
     "text": [
      "1 ../policy_library/100_0_1e-1.pth  not working\n",
      "2 ../policy_library/100_0_1e-1_blind.pth  not working\n",
      "3 ../policy_library/100_0_1e0.pth  not working\n",
      "4 ../policy_library/100_0_1e0_blind.pth  not working\n",
      "5 ../policy_library/100_0_1e1.pth  not working\n",
      "6 ../policy_library/100_0_1e1_blind.pth  not working\n",
      "7 ../policy_library/100_1_1e-1_blind.pth  not working\n",
      "8 ../policy_library/100_1_1e0_blind.pth  not working\n"
     ]
    }
   ],
   "source": [
    "from ope.iw import InverseProbabilityWeighting\n",
    "policy_scores = {}\n",
    "num_invalid_policies = 0\n",
    "for zone in zones[:1]:\n",
    "    print(zone)\n",
    "    ope_data = log_data[log_data[\"zone\"] == zone].sort_values(by=[\"timestep\"])\n",
    "    ope_data = log_data[:ts_end]\n",
    "    ipw = InverseProbabilityWeighting(ope_data)\n",
    "    for policy in tqdm(policy_list):\n",
    "        agent = PPO(6, 1, 0.003, 0.0005, 1, 10, 0.2,\n",
    "                    has_continuous_action_space=True, action_std_init=0.2, \n",
    "                    device=torch.device('cpu'), diverse_policies=list(),\n",
    "                    diverse_weight=0, diverse_increase=True)\n",
    "        agent.load(policy)\n",
    "        agent.policy_evaluation = True\n",
    "        agent.policy_old.set_action_std(0.1)\n",
    "        try:\n",
    "            score = ipw.evaluate_policy(agent.select_action, behavior_model, score=\"mean\")\n",
    "        except ValueError:\n",
    "            print(num_invalid_policies+1, policy, \" not working\")\n",
    "            num_invalid_policies += 1\n",
    "            continue\n",
    "        if policy not in policy_scores:\n",
    "            policy_scores[policy] = {}\n",
    "        if zone not in policy_scores[policy]:\n",
    "            policy_scores[policy][zone] = score\n",
    "print(num_invalid_policies+1)"
   ]
  },
  {
   "cell_type": "code",
   "execution_count": 18,
   "id": "de43d611",
   "metadata": {},
   "outputs": [
    {
     "data": {
      "text/plain": [
       "{'../policy_library/100_0.pth': {'Perimeter_top_ZN_3': 98838885.74976222}}"
      ]
     },
     "execution_count": 18,
     "metadata": {},
     "output_type": "execute_result"
    }
   ],
   "source": [
    "policy_scores"
   ]
  },
  {
   "cell_type": "code",
   "execution_count": null,
   "id": "23de9776",
   "metadata": {},
   "outputs": [],
   "source": []
  }
 ],
 "metadata": {
  "kernelspec": {
   "display_name": "Python 3 (ipykernel)",
   "language": "python",
   "name": "python3"
  },
  "language_info": {
   "codemirror_mode": {
    "name": "ipython",
    "version": 3
   },
   "file_extension": ".py",
   "mimetype": "text/x-python",
   "name": "python",
   "nbconvert_exporter": "python",
   "pygments_lexer": "ipython3",
   "version": "3.10.0"
  }
 },
 "nbformat": 4,
 "nbformat_minor": 5
}
