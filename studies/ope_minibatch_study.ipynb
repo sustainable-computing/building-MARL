{
 "cells": [
  {
   "cell_type": "markdown",
   "id": "607db1a6",
   "metadata": {},
   "source": [
    "# Offline Policy Evaluation w/ minibatch\n",
    "\n",
    "Testing offline policy evalation with zone-agnostic behavior policy model"
   ]
  },
  {
   "cell_type": "code",
   "execution_count": 1,
   "id": "2533d122",
   "metadata": {},
   "outputs": [],
   "source": [
    "import numpy as np\n",
    "import sys\n",
    "import matplotlib.pyplot as plt\n",
    "import pandas as pd\n",
    "import pickle\n",
    "sys.path.insert(0, \"../\")\n",
    "import torch\n",
    "from ppo import PPO\n",
    "import glob\n",
    "from tqdm.notebook import tqdm\n",
    "import json\n",
    "from scipy.stats import spearmanr\n",
    "import importlib"
   ]
  },
  {
   "cell_type": "code",
   "execution_count": 2,
   "id": "9be8a4ff",
   "metadata": {},
   "outputs": [],
   "source": [
    "log_data = pd.read_csv(\"../data/rule_based_log_data/0_cleaned_log.csv\")\n",
    "with open(\"../data/rule_based_log_data/action_probs_all_data.pkl\", \"rb\") as f:\n",
    "    behavior_model = pickle.load(f)\n",
    "with open(\"../data/invalid_policy_list.json\") as f:\n",
    "    invalid_policies = json.load(f)[\"invalid_policies\"]"
   ]
  },
  {
   "cell_type": "markdown",
   "id": "fa6f3549",
   "metadata": {},
   "source": [
    "## 30 Day MiniBatch"
   ]
  },
  {
   "cell_type": "code",
   "execution_count": 3,
   "id": "c4728dc4",
   "metadata": {},
   "outputs": [],
   "source": [
    "num_ts_per_day = 4 * 24\n",
    "num_days = 30\n",
    "ts_end = num_ts_per_day * num_days\n",
    "zones = log_data[\"zone\"].unique()"
   ]
  },
  {
   "cell_type": "markdown",
   "id": "2a666fde",
   "metadata": {},
   "source": [
    "## Loading all Policies"
   ]
  },
  {
   "cell_type": "code",
   "execution_count": 4,
   "id": "a4dc0889",
   "metadata": {},
   "outputs": [],
   "source": [
    "policy_list = sorted(list(glob.glob(f\"../policy_library/**.pth\")))"
   ]
  },
  {
   "cell_type": "markdown",
   "id": "a5b95aa6",
   "metadata": {},
   "source": [
    "### 1. Inverse Probability Weighting"
   ]
  },
  {
   "cell_type": "code",
   "execution_count": 5,
   "id": "ab212710",
   "metadata": {
    "scrolled": true
   },
   "outputs": [
    {
     "name": "stdout",
     "output_type": "stream",
     "text": [
      "Perimeter_top_ZN_3\n"
     ]
    },
    {
     "data": {
      "application/vnd.jupyter.widget-view+json": {
       "model_id": "eb1f3910551549aab96b7ecc10c662d3",
       "version_major": 2,
       "version_minor": 0
      },
      "text/plain": [
       "  0%|          | 0/800 [00:00<?, ?it/s]"
      ]
     },
     "metadata": {},
     "output_type": "display_data"
    },
    {
     "name": "stderr",
     "output_type": "stream",
     "text": [
      "/Users/aakashsasikumar/Documents/MSc/Research/Dissimilar Policy/building-MARL/studies/../ope/iw.py:61: RuntimeWarning: divide by zero encountered in log\n",
      "  return np.log(value / (1- value))\n"
     ]
    },
    {
     "name": "stdout",
     "output_type": "stream",
     "text": [
      "Perimeter_bot_ZN_1\n"
     ]
    },
    {
     "data": {
      "application/vnd.jupyter.widget-view+json": {
       "model_id": "8334fab755584883a8074e3545f35c2a",
       "version_major": 2,
       "version_minor": 0
      },
      "text/plain": [
       "  0%|          | 0/800 [00:00<?, ?it/s]"
      ]
     },
     "metadata": {},
     "output_type": "display_data"
    },
    {
     "name": "stdout",
     "output_type": "stream",
     "text": [
      "Perimeter_top_ZN_1\n"
     ]
    },
    {
     "data": {
      "application/vnd.jupyter.widget-view+json": {
       "model_id": "3cb2a0cd58174216b0b0dd9a2a10d4dc",
       "version_major": 2,
       "version_minor": 0
      },
      "text/plain": [
       "  0%|          | 0/800 [00:00<?, ?it/s]"
      ]
     },
     "metadata": {},
     "output_type": "display_data"
    },
    {
     "name": "stdout",
     "output_type": "stream",
     "text": [
      "Core_bottom\n"
     ]
    },
    {
     "data": {
      "application/vnd.jupyter.widget-view+json": {
       "model_id": "4f56d19a10124ef8916a51ec25558287",
       "version_major": 2,
       "version_minor": 0
      },
      "text/plain": [
       "  0%|          | 0/800 [00:00<?, ?it/s]"
      ]
     },
     "metadata": {},
     "output_type": "display_data"
    },
    {
     "name": "stdout",
     "output_type": "stream",
     "text": [
      "Perimeter_top_ZN_4\n"
     ]
    },
    {
     "data": {
      "application/vnd.jupyter.widget-view+json": {
       "model_id": "9cdc62b402694659ad9f6a7f90b61856",
       "version_major": 2,
       "version_minor": 0
      },
      "text/plain": [
       "  0%|          | 0/800 [00:00<?, ?it/s]"
      ]
     },
     "metadata": {},
     "output_type": "display_data"
    },
    {
     "name": "stdout",
     "output_type": "stream",
     "text": [
      "Core_top\n"
     ]
    },
    {
     "data": {
      "application/vnd.jupyter.widget-view+json": {
       "model_id": "644e220c00294d14a36ed4c69593e555",
       "version_major": 2,
       "version_minor": 0
      },
      "text/plain": [
       "  0%|          | 0/800 [00:00<?, ?it/s]"
      ]
     },
     "metadata": {},
     "output_type": "display_data"
    },
    {
     "name": "stdout",
     "output_type": "stream",
     "text": [
      "Perimeter_bot_ZN_2\n"
     ]
    },
    {
     "data": {
      "application/vnd.jupyter.widget-view+json": {
       "model_id": "ce3e0505090b4e06bb66e9d10d6e9c3a",
       "version_major": 2,
       "version_minor": 0
      },
      "text/plain": [
       "  0%|          | 0/800 [00:00<?, ?it/s]"
      ]
     },
     "metadata": {},
     "output_type": "display_data"
    },
    {
     "name": "stdout",
     "output_type": "stream",
     "text": [
      "Perimeter_bot_ZN_3\n"
     ]
    },
    {
     "data": {
      "application/vnd.jupyter.widget-view+json": {
       "model_id": "d17e7ca7a6fb42d5a1835dd5f2da471e",
       "version_major": 2,
       "version_minor": 0
      },
      "text/plain": [
       "  0%|          | 0/800 [00:00<?, ?it/s]"
      ]
     },
     "metadata": {},
     "output_type": "display_data"
    },
    {
     "name": "stdout",
     "output_type": "stream",
     "text": [
      "Perimeter_mid_ZN_4\n"
     ]
    },
    {
     "data": {
      "application/vnd.jupyter.widget-view+json": {
       "model_id": "53e621f37a834e47870b4ecc4b809b5c",
       "version_major": 2,
       "version_minor": 0
      },
      "text/plain": [
       "  0%|          | 0/800 [00:00<?, ?it/s]"
      ]
     },
     "metadata": {},
     "output_type": "display_data"
    },
    {
     "name": "stdout",
     "output_type": "stream",
     "text": [
      "Core_mid\n"
     ]
    },
    {
     "data": {
      "application/vnd.jupyter.widget-view+json": {
       "model_id": "b00b83c9f1314ac9889ad2ae35eaa073",
       "version_major": 2,
       "version_minor": 0
      },
      "text/plain": [
       "  0%|          | 0/800 [00:00<?, ?it/s]"
      ]
     },
     "metadata": {},
     "output_type": "display_data"
    },
    {
     "name": "stdout",
     "output_type": "stream",
     "text": [
      "Perimeter_mid_ZN_2\n"
     ]
    },
    {
     "data": {
      "application/vnd.jupyter.widget-view+json": {
       "model_id": "8163e045ce6e4b97b14e9aeefc869b01",
       "version_major": 2,
       "version_minor": 0
      },
      "text/plain": [
       "  0%|          | 0/800 [00:00<?, ?it/s]"
      ]
     },
     "metadata": {},
     "output_type": "display_data"
    },
    {
     "name": "stdout",
     "output_type": "stream",
     "text": [
      "Perimeter_mid_ZN_3\n"
     ]
    },
    {
     "data": {
      "application/vnd.jupyter.widget-view+json": {
       "model_id": "2bb0e49440fd4680acd7611a552284b0",
       "version_major": 2,
       "version_minor": 0
      },
      "text/plain": [
       "  0%|          | 0/800 [00:00<?, ?it/s]"
      ]
     },
     "metadata": {},
     "output_type": "display_data"
    },
    {
     "name": "stdout",
     "output_type": "stream",
     "text": [
      "Perimeter_top_ZN_2\n"
     ]
    },
    {
     "data": {
      "application/vnd.jupyter.widget-view+json": {
       "model_id": "8296024e05a745c3ae4620e287ef83d3",
       "version_major": 2,
       "version_minor": 0
      },
      "text/plain": [
       "  0%|          | 0/800 [00:00<?, ?it/s]"
      ]
     },
     "metadata": {},
     "output_type": "display_data"
    },
    {
     "name": "stdout",
     "output_type": "stream",
     "text": [
      "Perimeter_mid_ZN_1\n"
     ]
    },
    {
     "data": {
      "application/vnd.jupyter.widget-view+json": {
       "model_id": "1498378c3fe24f9fa84e31d380742928",
       "version_major": 2,
       "version_minor": 0
      },
      "text/plain": [
       "  0%|          | 0/800 [00:00<?, ?it/s]"
      ]
     },
     "metadata": {},
     "output_type": "display_data"
    },
    {
     "name": "stdout",
     "output_type": "stream",
     "text": [
      "Perimeter_bot_ZN_4\n"
     ]
    },
    {
     "data": {
      "application/vnd.jupyter.widget-view+json": {
       "model_id": "0543775a8a7949bc80e8fe669e112cab",
       "version_major": 2,
       "version_minor": 0
      },
      "text/plain": [
       "  0%|          | 0/800 [00:00<?, ?it/s]"
      ]
     },
     "metadata": {},
     "output_type": "display_data"
    }
   ],
   "source": [
    "from ope.iw import InverseProbabilityWeighting\n",
    "policy_scores = {}\n",
    "for zone in zones:\n",
    "    print(zone)\n",
    "    ope_data = log_data[log_data[\"zone\"] == zone].sort_values(by=[\"timestep\"])\n",
    "    ope_data = log_data[:ts_end]\n",
    "    ipw = InverseProbabilityWeighting(ope_data, retain_grad_fn=False, univariate_action=True)\n",
    "    for policy in tqdm(policy_list):\n",
    "        agent = PPO(6, 1, 0.003, 0.0005, 1, 10, 0.2,\n",
    "                    has_continuous_action_space=True, action_std_init=0.2, \n",
    "                    device=torch.device('cpu'), diverse_policies=list(),\n",
    "                    diverse_weight=0, diverse_increase=True)\n",
    "        agent.load(policy)\n",
    "        agent.policy_evaluation = True\n",
    "        agent.policy_old.set_action_std(0.1)\n",
    "        if policy not in invalid_policies:\n",
    "            score, _, _, _, _ = ipw.evaluate_policy(agent.select_action, behavior_model, score=\"mean\")\n",
    "        else:\n",
    "            continue\n",
    "        if policy not in policy_scores:\n",
    "            policy_scores[policy] = {}\n",
    "        if zone not in policy_scores[policy]:\n",
    "            policy_scores[policy][zone] = score.item()"
   ]
  },
  {
   "cell_type": "code",
   "execution_count": 15,
   "id": "be85ebbf",
   "metadata": {},
   "outputs": [],
   "source": [
    "eval_data_loc = \"../data/1month_eval.csv\"\n",
    "df = pd.read_csv(eval_data_loc, header=None, names=[\"datetime\",\"policy\",\"zone\",\"energy\"])\n",
    "spearman_corr = {}\n",
    "for zone in zones:\n",
    "    eval_df = df[df[\"zone\"] == zone]\n",
    "\n",
    "    # invalid_policies = list(set(policy_list) - set(policy_scores.keys()))\n",
    "    for i_policy in invalid_policies:\n",
    "        eval_df = eval_df[eval_df[\"policy\"]!=i_policy[3:]]\n",
    "    eval_df = eval_df.sort_values(by=[\"energy\"])\n",
    "    score_list = []\n",
    "    for i, row in eval_df.iterrows():\n",
    "        score_list.append(policy_scores[f\"../{row['policy']}\"][zone])\n",
    "\n",
    "    eval_df[\"ope_scores\"] = score_list\n",
    "    correlation = spearmanr(eval_df[\"energy\"].values, eval_df[\"ope_scores\"].values)\n",
    "    spearman_corr[zone] = correlation"
   ]
  },
  {
   "cell_type": "code",
   "execution_count": 16,
   "id": "43e6bd16",
   "metadata": {},
   "outputs": [
    {
     "data": {
      "text/plain": [
       "{'Perimeter_top_ZN_3': SpearmanrResult(correlation=-0.6393489697392126, pvalue=1.1021031210241128e-65),\n",
       " 'Perimeter_bot_ZN_1': SpearmanrResult(correlation=-0.6335169851276149, pvalue=4.675665700913364e-64),\n",
       " 'Perimeter_top_ZN_1': SpearmanrResult(correlation=-0.6408677354236406, pvalue=5.718594877268608e-66),\n",
       " 'Core_bottom': SpearmanrResult(correlation=-0.6272928087474323, pvalue=1.7753393762982395e-62),\n",
       " 'Perimeter_top_ZN_4': SpearmanrResult(correlation=-0.6673559327842502, pvalue=2.5689401965945327e-73),\n",
       " 'Core_top': SpearmanrResult(correlation=-0.6564035224367261, pvalue=3.451132464748999e-70),\n",
       " 'Perimeter_bot_ZN_2': SpearmanrResult(correlation=-0.6574443803044109, pvalue=1.763216454410785e-70),\n",
       " 'Perimeter_bot_ZN_3': SpearmanrResult(correlation=-0.5324306256331219, pvalue=3.0289949023303873e-42),\n",
       " 'Perimeter_mid_ZN_4': SpearmanrResult(correlation=-0.6717635774530526, pvalue=1.2968068463472214e-74),\n",
       " 'Core_mid': SpearmanrResult(correlation=-0.6548751193000554, pvalue=9.207401741150198e-70),\n",
       " 'Perimeter_mid_ZN_2': SpearmanrResult(correlation=-0.6651578025311721, pvalue=1.117476159874887e-72),\n",
       " 'Perimeter_mid_ZN_3': SpearmanrResult(correlation=-0.6460954979890692, pvalue=2.3170938839382077e-67),\n",
       " 'Perimeter_top_ZN_2': SpearmanrResult(correlation=-0.6584924986597277, pvalue=8.942102559527766e-71),\n",
       " 'Perimeter_mid_ZN_1': SpearmanrResult(correlation=-0.6568507825728808, pvalue=2.5868912572576697e-70),\n",
       " 'Perimeter_bot_ZN_4': SpearmanrResult(correlation=-0.665164111401493, pvalue=1.11279082017871e-72)}"
      ]
     },
     "execution_count": 16,
     "metadata": {},
     "output_type": "execute_result"
    }
   ],
   "source": [
    "spearman_corr"
   ]
  },
  {
   "cell_type": "code",
   "execution_count": 17,
   "id": "c84dd4f3",
   "metadata": {},
   "outputs": [],
   "source": [
    "with open(\"ipw_spearman_corrs_14_06_2022.pkl\", \"wb+\") as f:\n",
    "    pickle.dump(spearman_corr, f)"
   ]
  },
  {
   "cell_type": "markdown",
   "id": "9f5a3605",
   "metadata": {},
   "source": [
    "### 2. Self Normalized Inverse Probability Weighting"
   ]
  },
  {
   "cell_type": "code",
   "execution_count": 5,
   "id": "3991c4c6",
   "metadata": {
    "scrolled": true
   },
   "outputs": [
    {
     "name": "stdout",
     "output_type": "stream",
     "text": [
      "Perimeter_top_ZN_3\n"
     ]
    },
    {
     "data": {
      "application/vnd.jupyter.widget-view+json": {
       "model_id": "ac7196cc8cfb468c8b949ac603c2eb07",
       "version_major": 2,
       "version_minor": 0
      },
      "text/plain": [
       "  0%|          | 0/800 [00:00<?, ?it/s]"
      ]
     },
     "metadata": {},
     "output_type": "display_data"
    },
    {
     "name": "stderr",
     "output_type": "stream",
     "text": [
      "/Users/aakashsasikumar/Documents/MSc/Research/Dissimilar Policy/building-MARL/studies/../ope/sniw.py:60: RuntimeWarning: divide by zero encountered in log\n",
      "  return np.log(value / (1- value))\n"
     ]
    },
    {
     "ename": "KeyboardInterrupt",
     "evalue": "",
     "output_type": "error",
     "traceback": [
      "\u001b[0;31m---------------------------------------------------------------------------\u001b[0m",
      "\u001b[0;31mKeyboardInterrupt\u001b[0m                         Traceback (most recent call last)",
      "Input \u001b[0;32mIn [5]\u001b[0m, in \u001b[0;36m<cell line: 3>\u001b[0;34m()\u001b[0m\n\u001b[1;32m     15\u001b[0m agent\u001b[38;5;241m.\u001b[39mpolicy_old\u001b[38;5;241m.\u001b[39mset_action_std(\u001b[38;5;241m0.1\u001b[39m)\n\u001b[1;32m     16\u001b[0m \u001b[38;5;28;01mif\u001b[39;00m policy \u001b[38;5;129;01mnot\u001b[39;00m \u001b[38;5;129;01min\u001b[39;00m invalid_policies:\n\u001b[0;32m---> 17\u001b[0m     score \u001b[38;5;241m=\u001b[39m \u001b[43msnipw\u001b[49m\u001b[38;5;241;43m.\u001b[39;49m\u001b[43mevaluate_policy\u001b[49m\u001b[43m(\u001b[49m\u001b[43magent\u001b[49m\u001b[38;5;241;43m.\u001b[39;49m\u001b[43mselect_action\u001b[49m\u001b[43m,\u001b[49m\u001b[43m \u001b[49m\u001b[43mbehavior_model\u001b[49m\u001b[43m,\u001b[49m\u001b[43m \u001b[49m\u001b[43mscore\u001b[49m\u001b[38;5;241;43m=\u001b[39;49m\u001b[38;5;124;43m\"\u001b[39;49m\u001b[38;5;124;43mmean\u001b[39;49m\u001b[38;5;124;43m\"\u001b[39;49m\u001b[43m)\u001b[49m\n\u001b[1;32m     18\u001b[0m \u001b[38;5;28;01melse\u001b[39;00m:\n\u001b[1;32m     19\u001b[0m     \u001b[38;5;28;01mcontinue\u001b[39;00m\n",
      "File \u001b[0;32m~/Documents/MSc/Research/Dissimilar Policy/building-MARL/studies/../ope/sniw.py:46\u001b[0m, in \u001b[0;36mSelfNormalizedInverseProbabilityWeighting.evaluate_policy\u001b[0;34m(self, eval_action_model, behavior_action_model, score)\u001b[0m\n\u001b[1;32m     44\u001b[0m action_bin \u001b[38;5;241m=\u001b[39m np\u001b[38;5;241m.\u001b[39mdigitize(row[\u001b[38;5;124m\"\u001b[39m\u001b[38;5;124maction\u001b[39m\u001b[38;5;124m\"\u001b[39m], behavior_action_model[\u001b[38;5;124m\"\u001b[39m\u001b[38;5;124maction_bins\u001b[39m\u001b[38;5;124m\"\u001b[39m]) \u001b[38;5;241m-\u001b[39m \u001b[38;5;241m1\u001b[39m\n\u001b[1;32m     45\u001b[0m state_bins_str \u001b[38;5;241m=\u001b[39m \u001b[38;5;124m\"\u001b[39m\u001b[38;5;132;01m{}\u001b[39;00m\u001b[38;5;124m,\u001b[39m\u001b[38;5;132;01m{}\u001b[39;00m\u001b[38;5;124m,\u001b[39m\u001b[38;5;132;01m{}\u001b[39;00m\u001b[38;5;124m,\u001b[39m\u001b[38;5;132;01m{}\u001b[39;00m\u001b[38;5;124m,\u001b[39m\u001b[38;5;132;01m{}\u001b[39;00m\u001b[38;5;124m,\u001b[39m\u001b[38;5;132;01m{}\u001b[39;00m\u001b[38;5;124m\"\u001b[39m\u001b[38;5;241m.\u001b[39mformat(\u001b[38;5;241m*\u001b[39mstate_bins)\n\u001b[0;32m---> 46\u001b[0m action_dist \u001b[38;5;241m=\u001b[39m \u001b[43meval_action_model\u001b[49m\u001b[43m(\u001b[49m\u001b[43mstate\u001b[49m\u001b[43m,\u001b[49m\u001b[43m \u001b[49m\u001b[43mno_grad\u001b[49m\u001b[43m \u001b[49m\u001b[38;5;241;43m=\u001b[39;49m\u001b[43m \u001b[49m\u001b[38;5;129;43;01mnot\u001b[39;49;00m\u001b[43m \u001b[49m\u001b[38;5;28;43mself\u001b[39;49m\u001b[38;5;241;43m.\u001b[39;49m\u001b[43mretain_grad_fn\u001b[49m\u001b[43m)\u001b[49m\n\u001b[1;32m     47\u001b[0m action_prob[i] \u001b[38;5;241m=\u001b[39m \u001b[38;5;28mself\u001b[39m\u001b[38;5;241m.\u001b[39mcalculate_action_probability(action_dist, action_bin, behavior_action_model[\u001b[38;5;124m\"\u001b[39m\u001b[38;5;124maction_bins\u001b[39m\u001b[38;5;124m\"\u001b[39m])\n\u001b[1;32m     48\u001b[0m behavior_prob[i] \u001b[38;5;241m=\u001b[39m behavior_action_model[state_bins_str][action_bin] \u001b[38;5;241m/\u001b[39m behavior_action_model[\u001b[38;5;124m\"\u001b[39m\u001b[38;5;124mtotal_count\u001b[39m\u001b[38;5;124m\"\u001b[39m]\n",
      "File \u001b[0;32m~/Documents/MSc/Research/Dissimilar Policy/building-MARL/studies/../ppo.py:220\u001b[0m, in \u001b[0;36mPPO.select_action\u001b[0;34m(self, state, no_grad)\u001b[0m\n\u001b[1;32m    218\u001b[0m \u001b[38;5;28;01mwith\u001b[39;00m torch\u001b[38;5;241m.\u001b[39mno_grad():\n\u001b[1;32m    219\u001b[0m     \u001b[38;5;28;01mif\u001b[39;00m return_dist:\n\u001b[0;32m--> 220\u001b[0m         \u001b[38;5;28;01mreturn\u001b[39;00m \u001b[38;5;28;43mself\u001b[39;49m\u001b[38;5;241;43m.\u001b[39;49m\u001b[43mpolicy_old\u001b[49m\u001b[38;5;241;43m.\u001b[39;49m\u001b[43mact\u001b[49m\u001b[43m(\u001b[49m\u001b[43mstate\u001b[49m\u001b[43m,\u001b[49m\u001b[43m \u001b[49m\u001b[43mreturn_dist\u001b[49m\u001b[43m)\u001b[49m\n\u001b[1;32m    221\u001b[0m     \u001b[38;5;28;01melse\u001b[39;00m:\n\u001b[1;32m    222\u001b[0m         action, action_logprob \u001b[38;5;241m=\u001b[39m \u001b[38;5;28mself\u001b[39m\u001b[38;5;241m.\u001b[39mpolicy_old\u001b[38;5;241m.\u001b[39mact(state, return_dist)\n",
      "File \u001b[0;32m~/Documents/MSc/Research/Dissimilar Policy/building-MARL/studies/../ppo.py:96\u001b[0m, in \u001b[0;36mActorCritic.act\u001b[0;34m(self, state, return_dist, detach)\u001b[0m\n\u001b[1;32m     93\u001b[0m     action_probs \u001b[38;5;241m=\u001b[39m \u001b[38;5;28mself\u001b[39m\u001b[38;5;241m.\u001b[39mactor(state)\n\u001b[1;32m     94\u001b[0m     dist \u001b[38;5;241m=\u001b[39m Categorical(action_probs)\n\u001b[0;32m---> 96\u001b[0m action \u001b[38;5;241m=\u001b[39m \u001b[43mdist\u001b[49m\u001b[38;5;241;43m.\u001b[39;49m\u001b[43msample\u001b[49m\u001b[43m(\u001b[49m\u001b[43m)\u001b[49m\n\u001b[1;32m     97\u001b[0m action_logprob \u001b[38;5;241m=\u001b[39m dist\u001b[38;5;241m.\u001b[39mlog_prob(action)\n\u001b[1;32m     99\u001b[0m \u001b[38;5;28;01mif\u001b[39;00m return_dist:\n",
      "File \u001b[0;32m~/.pyenv/versions/3.10.0/envs/ep_policy_diversity/lib/python3.10/site-packages/torch/distributions/normal.py:63\u001b[0m, in \u001b[0;36mNormal.sample\u001b[0;34m(self, sample_shape)\u001b[0m\n\u001b[1;32m     61\u001b[0m \u001b[38;5;28;01mdef\u001b[39;00m \u001b[38;5;21msample\u001b[39m(\u001b[38;5;28mself\u001b[39m, sample_shape\u001b[38;5;241m=\u001b[39mtorch\u001b[38;5;241m.\u001b[39mSize()):\n\u001b[1;32m     62\u001b[0m     shape \u001b[38;5;241m=\u001b[39m \u001b[38;5;28mself\u001b[39m\u001b[38;5;241m.\u001b[39m_extended_shape(sample_shape)\n\u001b[0;32m---> 63\u001b[0m     \u001b[38;5;28;01mwith\u001b[39;00m \u001b[43mtorch\u001b[49m\u001b[38;5;241;43m.\u001b[39;49m\u001b[43mno_grad\u001b[49m\u001b[43m(\u001b[49m\u001b[43m)\u001b[49m:\n\u001b[1;32m     64\u001b[0m         \u001b[38;5;28;01mreturn\u001b[39;00m torch\u001b[38;5;241m.\u001b[39mnormal(\u001b[38;5;28mself\u001b[39m\u001b[38;5;241m.\u001b[39mloc\u001b[38;5;241m.\u001b[39mexpand(shape), \u001b[38;5;28mself\u001b[39m\u001b[38;5;241m.\u001b[39mscale\u001b[38;5;241m.\u001b[39mexpand(shape))\n",
      "File \u001b[0;32m~/.pyenv/versions/3.10.0/envs/ep_policy_diversity/lib/python3.10/site-packages/torch/autograd/grad_mode.py:123\u001b[0m, in \u001b[0;36mno_grad.__init__\u001b[0;34m(self)\u001b[0m\n\u001b[1;32m    121\u001b[0m \u001b[38;5;28;01mdef\u001b[39;00m \u001b[38;5;21m__init__\u001b[39m(\u001b[38;5;28mself\u001b[39m):\n\u001b[1;32m    122\u001b[0m     \u001b[38;5;28;01mif\u001b[39;00m \u001b[38;5;129;01mnot\u001b[39;00m torch\u001b[38;5;241m.\u001b[39m_jit_internal\u001b[38;5;241m.\u001b[39mis_scripting():\n\u001b[0;32m--> 123\u001b[0m         \u001b[38;5;28;43msuper\u001b[39;49m\u001b[43m(\u001b[49m\u001b[43m)\u001b[49m\u001b[38;5;241;43m.\u001b[39;49m\u001b[38;5;21;43m__init__\u001b[39;49m\u001b[43m(\u001b[49m\u001b[43m)\u001b[49m\n\u001b[1;32m    124\u001b[0m     \u001b[38;5;28mself\u001b[39m\u001b[38;5;241m.\u001b[39mprev \u001b[38;5;241m=\u001b[39m \u001b[38;5;28;01mFalse\u001b[39;00m\n",
      "\u001b[0;31mKeyboardInterrupt\u001b[0m: "
     ]
    }
   ],
   "source": [
    "from ope.sniw import SelfNormalizedInverseProbabilityWeighting\n",
    "policy_scores_sniw = {}\n",
    "for zone in zones[:1]:\n",
    "    print(zone)\n",
    "    ope_data = log_data[log_data[\"zone\"] == zone].sort_values(by=[\"timestep\"])\n",
    "    ope_data = log_data[:ts_end]\n",
    "    snipw = SelfNormalizedInverseProbabilityWeighting(ope_data)\n",
    "    for policy in tqdm(policy_list):\n",
    "        agent = PPO(6, 1, 0.003, 0.0005, 1, 10, 0.2,\n",
    "                    has_continuous_action_space=True, action_std_init=0.2, \n",
    "                    device=torch.device('cpu'), diverse_policies=list(),\n",
    "                    diverse_weight=0, diverse_increase=True)\n",
    "        agent.load(policy)\n",
    "        agent.policy_evaluation = True\n",
    "        agent.policy_old.set_action_std(0.1)\n",
    "        if policy not in invalid_policies:\n",
    "            score = snipw.evaluate_policy(agent.select_action, behavior_model, score=\"mean\")\n",
    "        else:\n",
    "            continue\n",
    "        if policy not in policy_scores_sniw:\n",
    "            policy_scores_sniw[policy] = {}\n",
    "        if zone not in policy_scores_sniw[policy]:\n",
    "            policy_scores_sniw[policy][zone] = score.item()"
   ]
  },
  {
   "cell_type": "code",
   "execution_count": 18,
   "id": "29990691",
   "metadata": {},
   "outputs": [],
   "source": [
    "eval_data_loc = \"../data/1month_eval.csv\"\n",
    "df = pd.read_csv(eval_data_loc, header=None, names=[\"datetime\",\"policy\",\"zone\",\"energy\"])\n",
    "spearman_corr_sniw = {}\n",
    "for zone in zones[:1]:\n",
    "    eval_df = df[df[\"zone\"] == zone]\n",
    "    for i_policy in invalid_policies:\n",
    "        eval_df = eval_df[eval_df[\"policy\"]!=i_policy[3:]]\n",
    "    eval_df = eval_df.sort_values(by=[\"energy\"])\n",
    "    score_list = []\n",
    "    for i, row in eval_df.iterrows():\n",
    "        score_list.append(policy_scores_sniw[f\"../{row['policy']}\"][zone])\n",
    "\n",
    "    eval_df[\"ope_scores\"] = score_list\n",
    "    correlation = spearmanr(eval_df[\"energy\"].values, eval_df[\"ope_scores\"].values, nan_policy=\"omit\")\n",
    "    spearman_corr_sniw[zone] = correlation"
   ]
  },
  {
   "cell_type": "code",
   "execution_count": 19,
   "id": "0e833cce",
   "metadata": {},
   "outputs": [
    {
     "data": {
      "text/plain": [
       "{'Perimeter_top_ZN_3': SpearmanrResult(correlation=0.12714740268290245, pvalue=0.016687339130026853),\n",
       " 'Perimeter_bot_ZN_1': SpearmanrResult(correlation=0.06762521029252737, pvalue=0.20497397169052958),\n",
       " 'Perimeter_top_ZN_1': SpearmanrResult(correlation=0.10507153874813083, pvalue=0.04854385192075492),\n",
       " 'Core_bottom': SpearmanrResult(correlation=0.26865334943685487, pvalue=2.9889687860643267e-07),\n",
       " 'Perimeter_top_ZN_4': SpearmanrResult(correlation=0.25494758309285576, pvalue=1.213159558832177e-06),\n",
       " 'Core_top': SpearmanrResult(correlation=0.28735147749797374, pvalue=3.884233210605973e-08),\n",
       " 'Perimeter_bot_ZN_2': SpearmanrResult(correlation=0.2391274544868194, pvalue=5.547545841098801e-06),\n",
       " 'Perimeter_bot_ZN_3': SpearmanrResult(correlation=-0.15770110847420957, pvalue=0.0029679496457174263),\n",
       " 'Perimeter_mid_ZN_4': SpearmanrResult(correlation=0.2777378623655178, pvalue=1.1302398439159801e-07),\n",
       " 'Core_mid': SpearmanrResult(correlation=0.28380480091530236, pvalue=5.787354871167421e-08),\n",
       " 'Perimeter_mid_ZN_2': SpearmanrResult(correlation=0.2723210455282329, pvalue=2.027016273039948e-07),\n",
       " 'Perimeter_mid_ZN_3': SpearmanrResult(correlation=0.20170595754258527, pvalue=0.00013587512270599164),\n",
       " 'Perimeter_top_ZN_2': SpearmanrResult(correlation=0.22642845584828414, pvalue=1.7467239449298785e-05),\n",
       " 'Perimeter_mid_ZN_1': SpearmanrResult(correlation=0.2266104626404089, pvalue=1.719023609903324e-05),\n",
       " 'Perimeter_bot_ZN_4': SpearmanrResult(correlation=0.2520267424588173, pvalue=1.6186978238847735e-06)}"
      ]
     },
     "execution_count": 19,
     "metadata": {},
     "output_type": "execute_result"
    }
   ],
   "source": [
    "spearman_corr_sniw"
   ]
  },
  {
   "cell_type": "code",
   "execution_count": 21,
   "id": "d84b682b",
   "metadata": {},
   "outputs": [],
   "source": [
    "with open(\"snipw_spearman_corr_14_06_2022.pkl\", \"wb+\") as f:\n",
    "    pickle.dump(spearman_corr_sniw, f)"
   ]
  },
  {
   "cell_type": "code",
   "execution_count": null,
   "id": "e81426d5",
   "metadata": {},
   "outputs": [],
   "source": []
  }
 ],
 "metadata": {
  "kernelspec": {
   "display_name": "Python 3 (ipykernel)",
   "language": "python",
   "name": "python3"
  },
  "language_info": {
   "codemirror_mode": {
    "name": "ipython",
    "version": 3
   },
   "file_extension": ".py",
   "mimetype": "text/x-python",
   "name": "python",
   "nbconvert_exporter": "python",
   "pygments_lexer": "ipython3",
   "version": "3.10.4"
  }
 },
 "nbformat": 4,
 "nbformat_minor": 5
}
