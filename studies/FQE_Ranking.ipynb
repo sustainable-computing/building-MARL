{
 "cells": [
  {
   "cell_type": "code",
   "execution_count": 1,
   "id": "f5a9215a-5ba1-4d43-aec9-e5bc7f9c7312",
   "metadata": {},
   "outputs": [],
   "source": [
    "import pandas as pd\n",
    "import numpy as np\n",
    "from scipy.stats import spearmanr\n",
    "from tqdm.notebook import tqdm\n",
    "import pickle"
   ]
  },
  {
   "cell_type": "code",
   "execution_count": 2,
   "id": "f3f43841-b1cf-4992-9609-3b3736d3aa29",
   "metadata": {},
   "outputs": [],
   "source": [
    "core_top_loc = \"../data/fqe_data/Core_top/4/policy_returns.csv\"\n",
    "per_bot_3_loc = \"../data/fqe_data/Perimeter_bot_ZN_3/0/policy_returns.csv\"\n",
    "per_top_3_loc = \"../data/fqe_data/Perimeter_top_ZN_3/0/policy_returns.csv\"\n",
    "\n",
    "zones = [\"Core_top\", \"Perimeter_bot_ZN_3\", \"Perimeter_top_ZN_3\"]\n",
    "fqe_dfs = {}\n",
    "fqe_dfs[zones[0]] = pd.read_csv(core_top_loc, header=None, names=[\"policy\", \"score\"])\n",
    "fqe_dfs[zones[1]] = pd.read_csv(per_bot_3_loc, header=None, names=[\"policy\", \"score\"])\n",
    "fqe_dfs[zones[2]] = pd.read_csv(per_top_3_loc, header=None, names=[\"policy\", \"score\"])\n",
    "\n",
    "eval_data_loc = \"../data/1month_eval.csv\"\n",
    "eval_df = pd.read_csv(eval_data_loc, header=None, names=[\"datetime\",\"policy\",\"zone\",\"energy\"])"
   ]
  },
  {
   "cell_type": "code",
   "execution_count": 3,
   "id": "f5bad87d-819f-4466-93b1-6a7d7442f746",
   "metadata": {},
   "outputs": [
    {
     "data": {
      "application/vnd.jupyter.widget-view+json": {
       "model_id": "e20d450d1c2344cf8636460fb94d44bc",
       "version_major": 2,
       "version_minor": 0
      },
      "text/plain": [
       "  0%|          | 0/3 [00:00<?, ?it/s]"
      ]
     },
     "metadata": {},
     "output_type": "display_data"
    }
   ],
   "source": [
    "all_policies = eval_df[\"policy\"].unique()\n",
    "spearman_corr = {}\n",
    "for zone in tqdm(zones):\n",
    "    zone_eval_df = eval_df[eval_df[\"zone\"] == zone]\n",
    "    valid_policies = fqe_dfs[zone][\"policy\"].unique()\n",
    "    invalid_policies = list(set(all_policies) - set(valid_policies))\n",
    "    for i_policy in invalid_policies:\n",
    "        zone_eval_df = zone_eval_df[zone_eval_df[\"policy\"]!=i_policy]\n",
    "    zone_eval_df = zone_eval_df.sort_values(by=[\"energy\"])\n",
    "    score_list = []\n",
    "    for i, row in zone_eval_df.iterrows():\n",
    "        fqe_row = fqe_dfs[zone][fqe_dfs[zone][\"policy\"] == row[\"policy\"]]\n",
    "        score_list.append(fqe_row[\"score\"].values[0])\n",
    "\n",
    "    zone_eval_df[\"ope_scores\"] = score_list\n",
    "    correlation = spearmanr(zone_eval_df[\"energy\"].values, zone_eval_df[\"ope_scores\"].values)\n",
    "    spearman_corr[zone] = correlation"
   ]
  },
  {
   "cell_type": "code",
   "execution_count": 4,
   "id": "d2455599-7e41-43f3-9320-bebbb3dc5dbe",
   "metadata": {},
   "outputs": [
    {
     "data": {
      "text/plain": [
       "{'Core_top': SpearmanrResult(correlation=0.0012100904529592524, pvalue=0.9851212937033158),\n",
       " 'Perimeter_bot_ZN_3': SpearmanrResult(correlation=-0.003574268153946839, pvalue=0.9563500556963054),\n",
       " 'Perimeter_top_ZN_3': SpearmanrResult(correlation=0.011077076185548238, pvalue=0.8652987546899455)}"
      ]
     },
     "execution_count": 4,
     "metadata": {},
     "output_type": "execute_result"
    }
   ],
   "source": [
    "spearman_corr"
   ]
  },
  {
   "cell_type": "code",
   "execution_count": 5,
   "id": "ed0d75b5-d0b0-4fdc-bf7a-aba37444ae75",
   "metadata": {},
   "outputs": [],
   "source": [
    "with open(\"data/fqe_spearman_corr_12_07_2022.pkl\", \"wb+\") as f:\n",
    "    pickle.dump(spearman_corr, f)"
   ]
  },
  {
   "cell_type": "code",
   "execution_count": null,
   "id": "a50e74ea-7018-4d30-89f4-4c1763725dc6",
   "metadata": {},
   "outputs": [],
   "source": []
  }
 ],
 "metadata": {
  "kernelspec": {
   "display_name": "Python 3 (ipykernel)",
   "language": "python",
   "name": "python3"
  },
  "language_info": {
   "codemirror_mode": {
    "name": "ipython",
    "version": 3
   },
   "file_extension": ".py",
   "mimetype": "text/x-python",
   "name": "python",
   "nbconvert_exporter": "python",
   "pygments_lexer": "ipython3",
   "version": "3.10.0"
  }
 },
 "nbformat": 4,
 "nbformat_minor": 5
}
