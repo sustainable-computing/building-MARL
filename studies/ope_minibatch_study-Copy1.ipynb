{
 "cells": [
  {
   "cell_type": "markdown",
   "id": "607db1a6",
   "metadata": {},
   "source": [
    "# Offline Policy Evaluation w/ minibatch\n",
    "\n",
    "Testing offline policy evalation with zone-agnostic behavior policy model"
   ]
  },
  {
   "cell_type": "code",
   "execution_count": 1,
   "id": "2533d122",
   "metadata": {},
   "outputs": [],
   "source": [
    "import numpy as np\n",
    "import sys\n",
    "import matplotlib.pyplot as plt\n",
    "import pandas as pd\n",
    "import pickle\n",
    "sys.path.insert(0, \"../\")\n",
    "import torch\n",
    "from ppo import PPO\n",
    "import glob\n",
    "from tqdm.notebook import tqdm\n",
    "import json\n",
    "from scipy.stats import spearmanr\n",
    "import importlib\n",
    "import traceback\n",
    "\n",
    "%matplotlib widget"
   ]
  },
  {
   "cell_type": "code",
   "execution_count": 2,
   "id": "9be8a4ff",
   "metadata": {},
   "outputs": [],
   "source": [
    "# log_data = pd.read_csv(\"../data/rule_based_log_data/flexlab/0_cleaned_log_flexlab.csv\")\n",
    "# with open(\"../data/rule_based_log_data/flexlab/action_probs_all_data.pkl\", \"rb\") as f:\n",
    "#     behavior_model = pickle.load(f)\n",
    "# with open(\"../data/invalid_policy_list_20220705.json\") as f:\n",
    "#     invalid_policies = json.load(f)[\"invalid_policies\"]\n",
    "# # invalid_policies = []\n",
    "log_data = pd.read_csv(\"../data/rule_based_log_data/15zone/0_cleaned_log.csv\")\n",
    "with open(\"../data/rule_based_log_data/15zone/action_probs_all_data.pkl\", \"rb\") as f:\n",
    "    behavior_model = pickle.load(f)\n",
    "# with open(\"../data/invalid_policy_list_20220705.json\") as f:\n",
    "#     invalid_policies = json.load(f)[\"invalid_policies\"]\n",
    "invalid_policies = []"
   ]
  },
  {
   "cell_type": "markdown",
   "id": "fa6f3549",
   "metadata": {},
   "source": [
    "## 30 Day MiniBatch"
   ]
  },
  {
   "cell_type": "code",
   "execution_count": 3,
   "id": "c4728dc4",
   "metadata": {},
   "outputs": [],
   "source": [
    "num_ts_per_day = 4 * 24\n",
    "num_days = 15\n",
    "ts_end = num_ts_per_day * num_days\n",
    "zones = log_data[\"zone\"].unique()"
   ]
  },
  {
   "cell_type": "markdown",
   "id": "2a666fde",
   "metadata": {},
   "source": [
    "## Loading all Policies"
   ]
  },
  {
   "cell_type": "code",
   "execution_count": 4,
   "id": "a4dc0889",
   "metadata": {},
   "outputs": [],
   "source": [
    "policy_list = sorted(list(glob.glob(f\"../policy_library_20220820/**.pth\")))"
   ]
  },
  {
   "cell_type": "markdown",
   "id": "a5b95aa6",
   "metadata": {},
   "source": [
    "### 1. Inverse Probability Weighting"
   ]
  },
  {
   "cell_type": "code",
   "execution_count": 5,
   "id": "ab212710",
   "metadata": {
    "scrolled": true
   },
   "outputs": [
    {
     "name": "stdout",
     "output_type": "stream",
     "text": [
      "Perimeter_top_ZN_3\n"
     ]
    },
    {
     "data": {
      "application/vnd.jupyter.widget-view+json": {
       "model_id": "093947dd6485449b86ef2a35cc2e976b",
       "version_major": 2,
       "version_minor": 0
      },
      "text/plain": [
       "  0%|          | 0/870 [00:00<?, ?it/s]"
      ]
     },
     "metadata": {},
     "output_type": "display_data"
    },
    {
     "name": "stderr",
     "output_type": "stream",
     "text": [
      "/Users/aakashsasikumar/Documents/MSc/Research/Dissimilar Policy/building-MARL/studies/../ope/iw.py:61: RuntimeWarning: divide by zero encountered in log\n",
      "  return np.log(value / (1- value))\n"
     ]
    },
    {
     "name": "stdout",
     "output_type": "stream",
     "text": [
      "Perimeter_bot_ZN_1\n"
     ]
    },
    {
     "data": {
      "application/vnd.jupyter.widget-view+json": {
       "model_id": "483cdaf017f049d0b50c670613269195",
       "version_major": 2,
       "version_minor": 0
      },
      "text/plain": [
       "  0%|          | 0/870 [00:00<?, ?it/s]"
      ]
     },
     "metadata": {},
     "output_type": "display_data"
    },
    {
     "name": "stdout",
     "output_type": "stream",
     "text": [
      "Perimeter_top_ZN_1\n"
     ]
    },
    {
     "data": {
      "application/vnd.jupyter.widget-view+json": {
       "model_id": "42a2b84bfdc54cf9aff381fa4f8dd9ae",
       "version_major": 2,
       "version_minor": 0
      },
      "text/plain": [
       "  0%|          | 0/870 [00:00<?, ?it/s]"
      ]
     },
     "metadata": {},
     "output_type": "display_data"
    },
    {
     "name": "stdout",
     "output_type": "stream",
     "text": [
      "Core_bottom\n"
     ]
    },
    {
     "data": {
      "application/vnd.jupyter.widget-view+json": {
       "model_id": "73667cf8be534e699d4ef938830b24c5",
       "version_major": 2,
       "version_minor": 0
      },
      "text/plain": [
       "  0%|          | 0/870 [00:00<?, ?it/s]"
      ]
     },
     "metadata": {},
     "output_type": "display_data"
    },
    {
     "name": "stdout",
     "output_type": "stream",
     "text": [
      "Perimeter_top_ZN_4\n"
     ]
    },
    {
     "data": {
      "application/vnd.jupyter.widget-view+json": {
       "model_id": "5e82d0295c0b450d9c30039de1dc76a1",
       "version_major": 2,
       "version_minor": 0
      },
      "text/plain": [
       "  0%|          | 0/870 [00:00<?, ?it/s]"
      ]
     },
     "metadata": {},
     "output_type": "display_data"
    },
    {
     "name": "stdout",
     "output_type": "stream",
     "text": [
      "Core_top\n"
     ]
    },
    {
     "data": {
      "application/vnd.jupyter.widget-view+json": {
       "model_id": "eb5341732c72416bb93cfb7e21086902",
       "version_major": 2,
       "version_minor": 0
      },
      "text/plain": [
       "  0%|          | 0/870 [00:00<?, ?it/s]"
      ]
     },
     "metadata": {},
     "output_type": "display_data"
    },
    {
     "name": "stdout",
     "output_type": "stream",
     "text": [
      "Perimeter_bot_ZN_2\n"
     ]
    },
    {
     "data": {
      "application/vnd.jupyter.widget-view+json": {
       "model_id": "3e8f6cb4e1bc485692943aae6bbfb645",
       "version_major": 2,
       "version_minor": 0
      },
      "text/plain": [
       "  0%|          | 0/870 [00:00<?, ?it/s]"
      ]
     },
     "metadata": {},
     "output_type": "display_data"
    },
    {
     "name": "stdout",
     "output_type": "stream",
     "text": [
      "Perimeter_bot_ZN_3\n"
     ]
    },
    {
     "data": {
      "application/vnd.jupyter.widget-view+json": {
       "model_id": "3dafe65b269e42a3806f535f724b73a4",
       "version_major": 2,
       "version_minor": 0
      },
      "text/plain": [
       "  0%|          | 0/870 [00:00<?, ?it/s]"
      ]
     },
     "metadata": {},
     "output_type": "display_data"
    },
    {
     "name": "stdout",
     "output_type": "stream",
     "text": [
      "Perimeter_mid_ZN_4\n"
     ]
    },
    {
     "data": {
      "application/vnd.jupyter.widget-view+json": {
       "model_id": "12561cbd2aa44f849a15c45c3a74b896",
       "version_major": 2,
       "version_minor": 0
      },
      "text/plain": [
       "  0%|          | 0/870 [00:00<?, ?it/s]"
      ]
     },
     "metadata": {},
     "output_type": "display_data"
    },
    {
     "name": "stdout",
     "output_type": "stream",
     "text": [
      "Core_mid\n"
     ]
    },
    {
     "data": {
      "application/vnd.jupyter.widget-view+json": {
       "model_id": "071968ffc2b746d9934003d678c51e74",
       "version_major": 2,
       "version_minor": 0
      },
      "text/plain": [
       "  0%|          | 0/870 [00:00<?, ?it/s]"
      ]
     },
     "metadata": {},
     "output_type": "display_data"
    },
    {
     "name": "stdout",
     "output_type": "stream",
     "text": [
      "Perimeter_mid_ZN_2\n"
     ]
    },
    {
     "data": {
      "application/vnd.jupyter.widget-view+json": {
       "model_id": "a9bc24e2f8404e74a9cb85f3c2aa8684",
       "version_major": 2,
       "version_minor": 0
      },
      "text/plain": [
       "  0%|          | 0/870 [00:00<?, ?it/s]"
      ]
     },
     "metadata": {},
     "output_type": "display_data"
    },
    {
     "name": "stdout",
     "output_type": "stream",
     "text": [
      "Perimeter_mid_ZN_3\n"
     ]
    },
    {
     "data": {
      "application/vnd.jupyter.widget-view+json": {
       "model_id": "83bb20eef47c40e38cd517574df7e1c8",
       "version_major": 2,
       "version_minor": 0
      },
      "text/plain": [
       "  0%|          | 0/870 [00:00<?, ?it/s]"
      ]
     },
     "metadata": {},
     "output_type": "display_data"
    },
    {
     "name": "stdout",
     "output_type": "stream",
     "text": [
      "Perimeter_top_ZN_2\n"
     ]
    },
    {
     "data": {
      "application/vnd.jupyter.widget-view+json": {
       "model_id": "ce1a2c286fdf433aacec3c55171833ea",
       "version_major": 2,
       "version_minor": 0
      },
      "text/plain": [
       "  0%|          | 0/870 [00:00<?, ?it/s]"
      ]
     },
     "metadata": {},
     "output_type": "display_data"
    },
    {
     "name": "stdout",
     "output_type": "stream",
     "text": [
      "Perimeter_mid_ZN_1\n"
     ]
    },
    {
     "data": {
      "application/vnd.jupyter.widget-view+json": {
       "model_id": "de04315f964e4d388c41fc392e7f7084",
       "version_major": 2,
       "version_minor": 0
      },
      "text/plain": [
       "  0%|          | 0/870 [00:00<?, ?it/s]"
      ]
     },
     "metadata": {},
     "output_type": "display_data"
    },
    {
     "name": "stdout",
     "output_type": "stream",
     "text": [
      "Perimeter_bot_ZN_4\n"
     ]
    },
    {
     "data": {
      "application/vnd.jupyter.widget-view+json": {
       "model_id": "99550abb67e54180b72a9bb21eb8fd38",
       "version_major": 2,
       "version_minor": 0
      },
      "text/plain": [
       "  0%|          | 0/870 [00:00<?, ?it/s]"
      ]
     },
     "metadata": {},
     "output_type": "display_data"
    }
   ],
   "source": [
    "from ope.iw import InverseProbabilityWeighting\n",
    "policy_scores = {}\n",
    "for zone in zones:\n",
    "    print(zone)\n",
    "    ope_data = log_data[log_data[\"zone\"] == zone].sort_values(by=[\"timestep\"])\n",
    "    ope_data = log_data[:ts_end]\n",
    "    ipw = InverseProbabilityWeighting(ope_data, retain_grad_fn=False, univariate_action=True)\n",
    "    for policy in tqdm(policy_list):\n",
    "        agent = PPO(6, 1, 0.003, 0.0005, 1, 10, 0.2,\n",
    "                    has_continuous_action_space=True, action_std_init=0.2, \n",
    "                    device=torch.device('cpu'), diverse_policies=list(),\n",
    "                    diverse_weight=0, diverse_increase=True)\n",
    "        agent.load(policy)\n",
    "        agent.policy_evaluation = True\n",
    "        agent.policy_old.set_action_std(0.1)\n",
    "        if policy not in invalid_policies:\n",
    "            score, _, _, _, _ = ipw.evaluate_policy(agent.select_action, behavior_model, score=\"mean\")\n",
    "        else:\n",
    "            continue\n",
    "        if policy not in policy_scores:\n",
    "            policy_scores[policy] = {}\n",
    "        if zone not in policy_scores[policy]:\n",
    "            policy_scores[policy][zone] = score.item()"
   ]
  },
  {
   "cell_type": "code",
   "execution_count": 6,
   "id": "be85ebbf",
   "metadata": {},
   "outputs": [],
   "source": [
    "eval_data_loc = \"../data/eval_data/evaluation_report_20220820.csv\"\n",
    "df = pd.read_csv(eval_data_loc, header=None, names=[\"datetime\",\"policy\",\"zone\",\"energy\"])\n",
    "spearman_corr = {}\n",
    "for zone in zones:\n",
    "    eval_df = df[df[\"zone\"] == zone]\n",
    "\n",
    "    # invalid_policies = list(set(policy_list) - set(policy_scores.keys()))\n",
    "    for i_policy in invalid_policies:\n",
    "        eval_df = eval_df[eval_df[\"policy\"]!=i_policy[3:]]\n",
    "    eval_df = eval_df.sort_values(by=[\"energy\"])\n",
    "    score_list = []\n",
    "    for i, row in eval_df.iterrows():\n",
    "        score_list.append(policy_scores[f\"../{row['policy']}\"][zone])\n",
    "\n",
    "    eval_df[\"ope_scores\"] = score_list\n",
    "    correlation = spearmanr(eval_df[\"energy\"].values, eval_df[\"ope_scores\"].values)\n",
    "    spearman_corr[zone] = correlation"
   ]
  },
  {
   "cell_type": "code",
   "execution_count": 9,
   "id": "43e6bd16",
   "metadata": {},
   "outputs": [],
   "source": [
    "with open(f\"data/15zone/ipw/raw_scores/ipw_raw_scores_{num_days}_days_18_09_2022.pkl\", \"wb+\") as f:\n",
    "    pickle.dump(policy_scores, f)"
   ]
  },
  {
   "cell_type": "code",
   "execution_count": 8,
   "id": "c84dd4f3",
   "metadata": {},
   "outputs": [],
   "source": [
    "with open(f\"data/15zone/ipw/spearman_corr/ipw_spearman_corr_{num_days}_days_18_09_2022.pkl\", \"wb+\") as f:\n",
    "    pickle.dump(spearman_corr, f)"
   ]
  },
  {
   "cell_type": "markdown",
   "id": "9f5a3605",
   "metadata": {},
   "source": [
    "### 2. Self Normalized Inverse Probability Weighting"
   ]
  },
  {
   "cell_type": "code",
   "execution_count": 10,
   "id": "3991c4c6",
   "metadata": {
    "scrolled": true
   },
   "outputs": [
    {
     "name": "stdout",
     "output_type": "stream",
     "text": [
      "FlexLab-X3-ZoneB\n"
     ]
    },
    {
     "data": {
      "application/vnd.jupyter.widget-view+json": {
       "model_id": "c177833d10ae4396831eb20042c6c8a7",
       "version_major": 2,
       "version_minor": 0
      },
      "text/plain": [
       "  0%|          | 0/400 [00:00<?, ?it/s]"
      ]
     },
     "metadata": {},
     "output_type": "display_data"
    },
    {
     "name": "stdout",
     "output_type": "stream",
     "text": [
      "FlexLab-X3-ZoneA\n"
     ]
    },
    {
     "data": {
      "application/vnd.jupyter.widget-view+json": {
       "model_id": "a511acdbd7694a7988445e2c310ac838",
       "version_major": 2,
       "version_minor": 0
      },
      "text/plain": [
       "  0%|          | 0/400 [00:00<?, ?it/s]"
      ]
     },
     "metadata": {},
     "output_type": "display_data"
    }
   ],
   "source": [
    "from ope.sniw import SelfNormalizedInverseProbabilityWeighting\n",
    "policy_scores_sniw = {}\n",
    "for zone in zones:\n",
    "    print(zone)\n",
    "    ope_data = log_data[log_data[\"zone\"] == zone].sort_values(by=[\"timestep\"])\n",
    "    ope_data = log_data[:ts_end]\n",
    "    snipw = SelfNormalizedInverseProbabilityWeighting(ope_data)\n",
    "    for policy in tqdm(policy_list):\n",
    "        agent = PPO(6, 1, 0.003, 0.0005, 1, 10, 0.2,\n",
    "                    has_continuous_action_space=True, action_std_init=0.2, \n",
    "                    device=torch.device('cpu'), diverse_policies=list(),\n",
    "                    diverse_weight=0, diverse_increase=True)\n",
    "        agent.load(policy)\n",
    "        agent.policy_evaluation = True\n",
    "        agent.policy_old.set_action_std(0.1)\n",
    "        if policy not in invalid_policies:\n",
    "            score = snipw.evaluate_policy(agent.select_action, behavior_model, score=\"mean\")\n",
    "        else:\n",
    "            continue\n",
    "        if policy not in policy_scores_sniw:\n",
    "            policy_scores_sniw[policy] = {}\n",
    "        if zone not in policy_scores_sniw[policy]:\n",
    "            policy_scores_sniw[policy][zone] = score.item()"
   ]
  },
  {
   "cell_type": "code",
   "execution_count": 10,
   "id": "29990691",
   "metadata": {},
   "outputs": [],
   "source": [
    "eval_data_loc = \"../data/evaluation_clean_20220705.csv\"\n",
    "df = pd.read_csv(eval_data_loc, header=None, names=[\"datetime\",\"policy\",\"zone\",\"energy\"])\n",
    "spearman_corr_sniw = {}\n",
    "for zone in zones:\n",
    "    eval_df = df[df[\"zone\"] == zone]\n",
    "    for i_policy in invalid_policies:\n",
    "        eval_df = eval_df[eval_df[\"policy\"]!=i_policy[3:]]\n",
    "    eval_df = eval_df.sort_values(by=[\"energy\"])\n",
    "    score_list = []\n",
    "    for i, row in eval_df.iterrows():\n",
    "        score_list.append(policy_scores_sniw[f\"../{row['policy']}\"][zone])\n",
    "\n",
    "    eval_df[\"ope_scores\"] = score_list\n",
    "    correlation = spearmanr(eval_df[\"energy\"].values, eval_df[\"ope_scores\"].values, nan_policy=\"omit\")\n",
    "    spearman_corr_sniw[zone] = correlation"
   ]
  },
  {
   "cell_type": "code",
   "execution_count": 11,
   "id": "0e833cce",
   "metadata": {},
   "outputs": [
    {
     "data": {
      "text/plain": [
       "{'Perimeter_top_ZN_3': SpearmanrResult(correlation=-0.38242011301619144, pvalue=4.0002137784925087e-07),\n",
       " 'Perimeter_bot_ZN_1': SpearmanrResult(correlation=-0.37303948025005756, pvalue=8.029194038090729e-07),\n",
       " 'Perimeter_top_ZN_1': SpearmanrResult(correlation=-0.3511063556967383, pvalue=3.767279517528943e-06),\n",
       " 'Core_bottom': SpearmanrResult(correlation=0.32323701815667455, pvalue=2.2882161595134347e-05),\n",
       " 'Perimeter_top_ZN_4': SpearmanrResult(correlation=-0.14194002315097604, pvalue=0.06897085022040791),\n",
       " 'Core_top': SpearmanrResult(correlation=0.3467507278919247, pvalue=5.052443577911819e-06),\n",
       " 'Perimeter_bot_ZN_2': SpearmanrResult(correlation=-0.21709598009839076, pvalue=0.005095506175888897),\n",
       " 'Perimeter_bot_ZN_3': SpearmanrResult(correlation=-0.5044605286441938, pvalue=4.901921756134198e-12),\n",
       " 'Perimeter_mid_ZN_4': SpearmanrResult(correlation=0.20648615175543827, pvalue=0.0077923416083663126),\n",
       " 'Core_mid': SpearmanrResult(correlation=0.3385899381275683, pvalue=8.654950124831173e-06),\n",
       " 'Perimeter_mid_ZN_2': SpearmanrResult(correlation=0.14563829853862148, pvalue=0.061971429620987194),\n",
       " 'Perimeter_mid_ZN_3': SpearmanrResult(correlation=-0.3217953855182102, pvalue=2.500288238999935e-05),\n",
       " 'Perimeter_top_ZN_2': SpearmanrResult(correlation=-0.255339995523233, pvalue=0.0009329256203354226),\n",
       " 'Perimeter_mid_ZN_1': SpearmanrResult(correlation=-0.2637653295530351, pvalue=0.0006188952963774104),\n",
       " 'Perimeter_bot_ZN_4': SpearmanrResult(correlation=-0.13818162406663836, pvalue=0.0767301161589267)}"
      ]
     },
     "execution_count": 11,
     "metadata": {},
     "output_type": "execute_result"
    }
   ],
   "source": [
    "spearman_corr_sniw"
   ]
  },
  {
   "cell_type": "code",
   "execution_count": 11,
   "id": "69ee46dc-923f-458d-aa6f-3908ff6b8863",
   "metadata": {},
   "outputs": [],
   "source": [
    "with open(f\"data/flexlab/snipw/raw_scores/{num_days}_days_24_08_2022.pkl\", \"wb+\") as f:\n",
    "    pickle.dump(policy_scores_sniw, f)"
   ]
  },
  {
   "cell_type": "code",
   "execution_count": 13,
   "id": "d84b682b",
   "metadata": {},
   "outputs": [],
   "source": [
    "with open(f\"data/snipw_spearman_corr_{num_days}_days_19_07_2022_new_policies.pkl\", \"wb+\") as f:\n",
    "    pickle.dump(spearman_corr_sniw, f)"
   ]
  },
  {
   "cell_type": "code",
   "execution_count": 14,
   "id": "e81426d5",
   "metadata": {},
   "outputs": [
    {
     "data": {
      "text/plain": [
       "{'Perimeter_top_ZN_3': SpearmanrResult(correlation=-0.38242011301619144, pvalue=4.0002137784925087e-07),\n",
       " 'Perimeter_bot_ZN_1': SpearmanrResult(correlation=-0.37303948025005756, pvalue=8.029194038090729e-07),\n",
       " 'Perimeter_top_ZN_1': SpearmanrResult(correlation=-0.3511063556967383, pvalue=3.767279517528943e-06),\n",
       " 'Core_bottom': SpearmanrResult(correlation=0.32323701815667455, pvalue=2.2882161595134347e-05),\n",
       " 'Perimeter_top_ZN_4': SpearmanrResult(correlation=-0.14194002315097604, pvalue=0.06897085022040791),\n",
       " 'Core_top': SpearmanrResult(correlation=0.3467507278919247, pvalue=5.052443577911819e-06),\n",
       " 'Perimeter_bot_ZN_2': SpearmanrResult(correlation=-0.21709598009839076, pvalue=0.005095506175888897),\n",
       " 'Perimeter_bot_ZN_3': SpearmanrResult(correlation=-0.5044605286441938, pvalue=4.901921756134198e-12),\n",
       " 'Perimeter_mid_ZN_4': SpearmanrResult(correlation=0.20648615175543827, pvalue=0.0077923416083663126),\n",
       " 'Core_mid': SpearmanrResult(correlation=0.3385899381275683, pvalue=8.654950124831173e-06),\n",
       " 'Perimeter_mid_ZN_2': SpearmanrResult(correlation=0.14563829853862148, pvalue=0.061971429620987194),\n",
       " 'Perimeter_mid_ZN_3': SpearmanrResult(correlation=-0.3217953855182102, pvalue=2.500288238999935e-05),\n",
       " 'Perimeter_top_ZN_2': SpearmanrResult(correlation=-0.255339995523233, pvalue=0.0009329256203354226),\n",
       " 'Perimeter_mid_ZN_1': SpearmanrResult(correlation=-0.2637653295530351, pvalue=0.0006188952963774104),\n",
       " 'Perimeter_bot_ZN_4': SpearmanrResult(correlation=-0.13818162406663836, pvalue=0.0767301161589267)}"
      ]
     },
     "execution_count": 14,
     "metadata": {},
     "output_type": "execute_result"
    }
   ],
   "source": [
    "spearman_corr_sniw"
   ]
  },
  {
   "cell_type": "code",
   "execution_count": null,
   "id": "dda33e30-674f-49c7-8031-1ee35f88d130",
   "metadata": {},
   "outputs": [],
   "source": []
  },
  {
   "cell_type": "code",
   "execution_count": null,
   "id": "5a5a57a6-9deb-4a16-bc36-9e53c842d8de",
   "metadata": {},
   "outputs": [],
   "source": []
  }
 ],
 "metadata": {
  "kernelspec": {
   "display_name": "Python 3 (ipykernel)",
   "language": "python",
   "name": "python3"
  },
  "language_info": {
   "codemirror_mode": {
    "name": "ipython",
    "version": 3
   },
   "file_extension": ".py",
   "mimetype": "text/x-python",
   "name": "python",
   "nbconvert_exporter": "python",
   "pygments_lexer": "ipython3",
   "version": "3.10.0"
  }
 },
 "nbformat": 4,
 "nbformat_minor": 5
}
