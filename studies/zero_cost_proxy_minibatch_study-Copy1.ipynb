{
 "cells": [
  {
   "cell_type": "markdown",
   "id": "607db1a6",
   "metadata": {},
   "source": [
    "# Zero-Cost Proxy Evaluation  w/ minibatch\n",
    "\n",
    "Testing zero-cost proxies with zone-agnostic behavior policy model"
   ]
  },
  {
   "cell_type": "code",
   "execution_count": 1,
   "id": "2533d122",
   "metadata": {},
   "outputs": [],
   "source": [
    "import numpy as np\n",
    "import sys\n",
    "import matplotlib.pyplot as plt\n",
    "import pandas as pd\n",
    "import pickle\n",
    "sys.path.insert(0, \"../\")\n",
    "import torch\n",
    "from ppo import PPO\n",
    "import glob\n",
    "from tqdm.notebook import tqdm\n",
    "import json\n",
    "from scipy.stats import spearmanr"
   ]
  },
  {
   "cell_type": "code",
   "execution_count": 2,
   "id": "9be8a4ff",
   "metadata": {},
   "outputs": [],
   "source": [
    "log_data = pd.read_csv(\"../data/rule_based_log_data/0_cleaned_log.csv\")\n",
    "with open(\"../data/rule_based_log_data/action_probs_all_data.pkl\", \"rb\") as f:\n",
    "    behavior_model = pickle.load(f)\n",
    "with open(\"../data/invalid_policy_list_20220705.json\") as f:\n",
    "    invalid_policies = json.load(f)[\"invalid_policies\"]"
   ]
  },
  {
   "cell_type": "markdown",
   "id": "fa6f3549",
   "metadata": {},
   "source": [
    "## 30 Day MiniBatch"
   ]
  },
  {
   "cell_type": "code",
   "execution_count": 3,
   "id": "c4728dc4",
   "metadata": {},
   "outputs": [],
   "source": [
    "num_ts_per_day = 4 * 24\n",
    "num_days = 30\n",
    "ts_end = num_ts_per_day * num_days\n",
    "zones = log_data[\"zone\"].unique()"
   ]
  },
  {
   "cell_type": "markdown",
   "id": "2a666fde",
   "metadata": {},
   "source": [
    "## Loading all Policies"
   ]
  },
  {
   "cell_type": "code",
   "execution_count": 4,
   "id": "a4dc0889",
   "metadata": {},
   "outputs": [],
   "source": [
    "policy_list = sorted(list(glob.glob(f\"../policy_library_20220705/**.pth\")))"
   ]
  },
  {
   "cell_type": "markdown",
   "id": "a5b95aa6",
   "metadata": {},
   "source": [
    "### 1. GradNorm"
   ]
  },
  {
   "cell_type": "code",
   "execution_count": 5,
   "id": "ab212710",
   "metadata": {
    "scrolled": true
   },
   "outputs": [
    {
     "name": "stdout",
     "output_type": "stream",
     "text": [
      "Perimeter_top_ZN_3\n"
     ]
    },
    {
     "data": {
      "application/vnd.jupyter.widget-view+json": {
       "model_id": "82d3e5fca5454f349c717d20cb0f7c67",
       "version_major": 2,
       "version_minor": 0
      },
      "text/plain": [
       "  0%|          | 0/400 [00:00<?, ?it/s]"
      ]
     },
     "metadata": {},
     "output_type": "display_data"
    },
    {
     "name": "stderr",
     "output_type": "stream",
     "text": [
      "/Users/aakashsasikumar/Documents/MSc/Research/Dissimilar Policy/building-MARL/studies/../ope/iw.py:61: RuntimeWarning: divide by zero encountered in log\n",
      "  return np.log(value / (1- value))\n"
     ]
    },
    {
     "name": "stdout",
     "output_type": "stream",
     "text": [
      "Perimeter_bot_ZN_1\n"
     ]
    },
    {
     "data": {
      "application/vnd.jupyter.widget-view+json": {
       "model_id": "f2b03c1f49ce4fd2829f51ad603a7571",
       "version_major": 2,
       "version_minor": 0
      },
      "text/plain": [
       "  0%|          | 0/400 [00:00<?, ?it/s]"
      ]
     },
     "metadata": {},
     "output_type": "display_data"
    },
    {
     "name": "stdout",
     "output_type": "stream",
     "text": [
      "Perimeter_top_ZN_1\n"
     ]
    },
    {
     "data": {
      "application/vnd.jupyter.widget-view+json": {
       "model_id": "a32ce4d85fb1450b89e0288316c9afe0",
       "version_major": 2,
       "version_minor": 0
      },
      "text/plain": [
       "  0%|          | 0/400 [00:00<?, ?it/s]"
      ]
     },
     "metadata": {},
     "output_type": "display_data"
    },
    {
     "name": "stdout",
     "output_type": "stream",
     "text": [
      "Core_bottom\n"
     ]
    },
    {
     "data": {
      "application/vnd.jupyter.widget-view+json": {
       "model_id": "83271c17c47349e5bf947b2f729067f6",
       "version_major": 2,
       "version_minor": 0
      },
      "text/plain": [
       "  0%|          | 0/400 [00:00<?, ?it/s]"
      ]
     },
     "metadata": {},
     "output_type": "display_data"
    },
    {
     "name": "stdout",
     "output_type": "stream",
     "text": [
      "Perimeter_top_ZN_4\n"
     ]
    },
    {
     "data": {
      "application/vnd.jupyter.widget-view+json": {
       "model_id": "5c983d381caa48e0a1217dec844f44ca",
       "version_major": 2,
       "version_minor": 0
      },
      "text/plain": [
       "  0%|          | 0/400 [00:00<?, ?it/s]"
      ]
     },
     "metadata": {},
     "output_type": "display_data"
    },
    {
     "name": "stdout",
     "output_type": "stream",
     "text": [
      "Core_top\n"
     ]
    },
    {
     "data": {
      "application/vnd.jupyter.widget-view+json": {
       "model_id": "a2da7408c7b643688b0bd0c2ec3601f8",
       "version_major": 2,
       "version_minor": 0
      },
      "text/plain": [
       "  0%|          | 0/400 [00:00<?, ?it/s]"
      ]
     },
     "metadata": {},
     "output_type": "display_data"
    },
    {
     "name": "stdout",
     "output_type": "stream",
     "text": [
      "Perimeter_bot_ZN_2\n"
     ]
    },
    {
     "data": {
      "application/vnd.jupyter.widget-view+json": {
       "model_id": "5c9bd2d323d34c7e8de67e2655ed95fa",
       "version_major": 2,
       "version_minor": 0
      },
      "text/plain": [
       "  0%|          | 0/400 [00:00<?, ?it/s]"
      ]
     },
     "metadata": {},
     "output_type": "display_data"
    },
    {
     "name": "stdout",
     "output_type": "stream",
     "text": [
      "Perimeter_bot_ZN_3\n"
     ]
    },
    {
     "data": {
      "application/vnd.jupyter.widget-view+json": {
       "model_id": "89cbd0f110544e4caaf34a7d7c97df03",
       "version_major": 2,
       "version_minor": 0
      },
      "text/plain": [
       "  0%|          | 0/400 [00:00<?, ?it/s]"
      ]
     },
     "metadata": {},
     "output_type": "display_data"
    },
    {
     "name": "stdout",
     "output_type": "stream",
     "text": [
      "Perimeter_mid_ZN_4\n"
     ]
    },
    {
     "data": {
      "application/vnd.jupyter.widget-view+json": {
       "model_id": "2f22d3b93c1243e28fe3c10f3d35b1df",
       "version_major": 2,
       "version_minor": 0
      },
      "text/plain": [
       "  0%|          | 0/400 [00:00<?, ?it/s]"
      ]
     },
     "metadata": {},
     "output_type": "display_data"
    },
    {
     "name": "stdout",
     "output_type": "stream",
     "text": [
      "Core_mid\n"
     ]
    },
    {
     "data": {
      "application/vnd.jupyter.widget-view+json": {
       "model_id": "3c37e4a438ba4df5ae9f83e22cba84b8",
       "version_major": 2,
       "version_minor": 0
      },
      "text/plain": [
       "  0%|          | 0/400 [00:00<?, ?it/s]"
      ]
     },
     "metadata": {},
     "output_type": "display_data"
    },
    {
     "name": "stdout",
     "output_type": "stream",
     "text": [
      "Perimeter_mid_ZN_2\n"
     ]
    },
    {
     "data": {
      "application/vnd.jupyter.widget-view+json": {
       "model_id": "ac6436154bc94633986c9c31124f694e",
       "version_major": 2,
       "version_minor": 0
      },
      "text/plain": [
       "  0%|          | 0/400 [00:00<?, ?it/s]"
      ]
     },
     "metadata": {},
     "output_type": "display_data"
    },
    {
     "name": "stdout",
     "output_type": "stream",
     "text": [
      "Perimeter_mid_ZN_3\n"
     ]
    },
    {
     "data": {
      "application/vnd.jupyter.widget-view+json": {
       "model_id": "17bba4354aa94d89982869a615b47636",
       "version_major": 2,
       "version_minor": 0
      },
      "text/plain": [
       "  0%|          | 0/400 [00:00<?, ?it/s]"
      ]
     },
     "metadata": {},
     "output_type": "display_data"
    },
    {
     "name": "stdout",
     "output_type": "stream",
     "text": [
      "Perimeter_top_ZN_2\n"
     ]
    },
    {
     "data": {
      "application/vnd.jupyter.widget-view+json": {
       "model_id": "17805bc51aa64a65beab1d71d71d61d4",
       "version_major": 2,
       "version_minor": 0
      },
      "text/plain": [
       "  0%|          | 0/400 [00:00<?, ?it/s]"
      ]
     },
     "metadata": {},
     "output_type": "display_data"
    },
    {
     "name": "stdout",
     "output_type": "stream",
     "text": [
      "Perimeter_mid_ZN_1\n"
     ]
    },
    {
     "data": {
      "application/vnd.jupyter.widget-view+json": {
       "model_id": "7574e7ca47d948328cf0b7ed44e9021b",
       "version_major": 2,
       "version_minor": 0
      },
      "text/plain": [
       "  0%|          | 0/400 [00:00<?, ?it/s]"
      ]
     },
     "metadata": {},
     "output_type": "display_data"
    },
    {
     "name": "stdout",
     "output_type": "stream",
     "text": [
      "Perimeter_bot_ZN_4\n"
     ]
    },
    {
     "data": {
      "application/vnd.jupyter.widget-view+json": {
       "model_id": "b7583e577fbc46988e747ad06c411979",
       "version_major": 2,
       "version_minor": 0
      },
      "text/plain": [
       "  0%|          | 0/400 [00:00<?, ?it/s]"
      ]
     },
     "metadata": {},
     "output_type": "display_data"
    }
   ],
   "source": [
    "from zero_cost_proxies.grad_norm import GradNorm\n",
    "policy_scores = {}\n",
    "for zone in zones:\n",
    "    print(zone)\n",
    "    ope_data = log_data[log_data[\"zone\"] == zone].sort_values(by=[\"timestep\"])\n",
    "    ope_data = log_data[:ts_end]\n",
    "    for policy in tqdm(policy_list):\n",
    "        agent = PPO(6, 1, 0.003, 0.0005, 1, 10, 0.2,\n",
    "                    has_continuous_action_space=True, action_std_init=0.2, \n",
    "                    device=torch.device('cpu'), diverse_policies=list(),\n",
    "                    diverse_weight=0, diverse_increase=True)\n",
    "        agent.load(policy)\n",
    "        agent.policy_evaluation = True\n",
    "        agent.policy_old.set_action_std(0.1)\n",
    "        gn = GradNorm(agent, behavior_model)\n",
    "        if policy not in invalid_policies:\n",
    "            norm = gn.get_grad_norm(ope_data)\n",
    "        else:\n",
    "            continue\n",
    "        if policy not in policy_scores:\n",
    "            policy_scores[policy] = {}\n",
    "        if zone not in policy_scores[policy]:\n",
    "            policy_scores[policy][zone] = norm"
   ]
  },
  {
   "cell_type": "code",
   "execution_count": 6,
   "id": "be85ebbf",
   "metadata": {},
   "outputs": [],
   "source": [
    "eval_data_loc = \"../data/evaluation_clean_20220705.csv\"\n",
    "df = pd.read_csv(eval_data_loc, header=None, names=[\"datetime\",\"policy\",\"zone\",\"energy\"])\n",
    "spearman_corr = {}\n",
    "for zone in zones:\n",
    "    eval_df = df[df[\"zone\"] == zone]\n",
    "\n",
    "    # invalid_policies = list(set(policy_list) - set(policy_scores.keys()))\n",
    "    for i_policy in invalid_policies:\n",
    "        eval_df = eval_df[eval_df[\"policy\"]!=i_policy[3:]]\n",
    "    eval_df = eval_df.sort_values(by=[\"energy\"])\n",
    "    score_list = []\n",
    "    for i, row in eval_df.iterrows():\n",
    "        score_list.append(policy_scores[f\"../{row['policy']}\"][zone])\n",
    "\n",
    "    eval_df[\"ope_scores\"] = score_list\n",
    "    correlation = spearmanr(eval_df[\"energy\"].values, eval_df[\"ope_scores\"].values)\n",
    "    spearman_corr[zone] = correlation"
   ]
  },
  {
   "cell_type": "code",
   "execution_count": 7,
   "id": "2c641cd1",
   "metadata": {},
   "outputs": [
    {
     "data": {
      "text/plain": [
       "{'Perimeter_top_ZN_3': SpearmanrResult(correlation=-0.5976782472140642, pvalue=1.791394035306105e-26),\n",
       " 'Perimeter_bot_ZN_1': SpearmanrResult(correlation=-0.6396349984668427, pvalue=3.347088714216675e-31),\n",
       " 'Perimeter_top_ZN_1': SpearmanrResult(correlation=-0.647590435325478, pvalue=3.497171870487203e-32),\n",
       " 'Core_bottom': SpearmanrResult(correlation=-0.46867637153876, pvalue=1.5085654335844382e-15),\n",
       " 'Perimeter_top_ZN_4': SpearmanrResult(correlation=-0.633574245236233, pvalue=1.789919253577885e-30),\n",
       " 'Core_top': SpearmanrResult(correlation=-0.46874549764127504, pvalue=1.492339975521037e-15),\n",
       " 'Perimeter_bot_ZN_2': SpearmanrResult(correlation=-0.6392202418517526, pvalue=3.758532812594404e-31),\n",
       " 'Perimeter_bot_ZN_3': SpearmanrResult(correlation=-0.43001358380734117, pvalue=4.4234991702104276e-13),\n",
       " 'Perimeter_mid_ZN_4': SpearmanrResult(correlation=-0.548893024046683, pvalue=8.82940710182259e-22),\n",
       " 'Core_mid': SpearmanrResult(correlation=-0.46551751812686143, pvalue=2.4663095390747807e-15),\n",
       " 'Perimeter_mid_ZN_2': SpearmanrResult(correlation=-0.5555270351577458, pvalue=2.25196129551552e-22),\n",
       " 'Perimeter_mid_ZN_3': SpearmanrResult(correlation=-0.5807378135153958, pvalue=9.38074041575249e-25),\n",
       " 'Perimeter_top_ZN_2': SpearmanrResult(correlation=-0.6476888876533025, pvalue=3.3993346035453653e-32),\n",
       " 'Perimeter_mid_ZN_1': SpearmanrResult(correlation=-0.6406240603275754, pvalue=2.5367842721524674e-31),\n",
       " 'Perimeter_bot_ZN_4': SpearmanrResult(correlation=-0.6322786544966711, pvalue=2.5491703295702853e-30)}"
      ]
     },
     "execution_count": 7,
     "metadata": {},
     "output_type": "execute_result"
    }
   ],
   "source": [
    "spearman_corr"
   ]
  },
  {
   "cell_type": "code",
   "execution_count": 8,
   "id": "1e5ee8c1-9e14-4c47-a65a-9ad7b6152c3f",
   "metadata": {},
   "outputs": [],
   "source": [
    "with open(f\"data/grad_norm_raw_scores_{num_days}_days_19_07_2022_new_policies.pkl\", \"wb+\") as f:\n",
    "    pickle.dump(policy_scores, f)"
   ]
  },
  {
   "cell_type": "code",
   "execution_count": 9,
   "id": "2b031ceb",
   "metadata": {},
   "outputs": [],
   "source": [
    "with open(f\"data/grad_norm_ipw_spearman_corrs_{num_days}_days_19_07_2022_new_policies.pkl\", \"wb+\") as f:\n",
    "    pickle.dump(spearman_corr, f)"
   ]
  },
  {
   "cell_type": "markdown",
   "id": "9f5a3605",
   "metadata": {},
   "source": [
    "### 2. Synflow"
   ]
  },
  {
   "cell_type": "code",
   "execution_count": 10,
   "id": "3991c4c6",
   "metadata": {
    "scrolled": true
   },
   "outputs": [
    {
     "name": "stdout",
     "output_type": "stream",
     "text": [
      "Perimeter_top_ZN_3\n"
     ]
    },
    {
     "data": {
      "application/vnd.jupyter.widget-view+json": {
       "model_id": "37d45d558cbb48aca0b4b37fcca36fb9",
       "version_major": 2,
       "version_minor": 0
      },
      "text/plain": [
       "  0%|          | 0/400 [00:00<?, ?it/s]"
      ]
     },
     "metadata": {},
     "output_type": "display_data"
    },
    {
     "name": "stdout",
     "output_type": "stream",
     "text": [
      "Perimeter_bot_ZN_1\n"
     ]
    },
    {
     "data": {
      "application/vnd.jupyter.widget-view+json": {
       "model_id": "d20e39d300cd42acbcd8bc74c3c98427",
       "version_major": 2,
       "version_minor": 0
      },
      "text/plain": [
       "  0%|          | 0/400 [00:00<?, ?it/s]"
      ]
     },
     "metadata": {},
     "output_type": "display_data"
    },
    {
     "name": "stdout",
     "output_type": "stream",
     "text": [
      "Perimeter_top_ZN_1\n"
     ]
    },
    {
     "data": {
      "application/vnd.jupyter.widget-view+json": {
       "model_id": "12e755cc11c84b64ac7c9973cf222c1a",
       "version_major": 2,
       "version_minor": 0
      },
      "text/plain": [
       "  0%|          | 0/400 [00:00<?, ?it/s]"
      ]
     },
     "metadata": {},
     "output_type": "display_data"
    },
    {
     "name": "stdout",
     "output_type": "stream",
     "text": [
      "Core_bottom\n"
     ]
    },
    {
     "data": {
      "application/vnd.jupyter.widget-view+json": {
       "model_id": "60906689b6d74f1aa2b6981452c16a28",
       "version_major": 2,
       "version_minor": 0
      },
      "text/plain": [
       "  0%|          | 0/400 [00:00<?, ?it/s]"
      ]
     },
     "metadata": {},
     "output_type": "display_data"
    },
    {
     "name": "stdout",
     "output_type": "stream",
     "text": [
      "Perimeter_top_ZN_4\n"
     ]
    },
    {
     "data": {
      "application/vnd.jupyter.widget-view+json": {
       "model_id": "9bf0388cf89742d7b850aae5b94272d8",
       "version_major": 2,
       "version_minor": 0
      },
      "text/plain": [
       "  0%|          | 0/400 [00:00<?, ?it/s]"
      ]
     },
     "metadata": {},
     "output_type": "display_data"
    },
    {
     "name": "stdout",
     "output_type": "stream",
     "text": [
      "Core_top\n"
     ]
    },
    {
     "data": {
      "application/vnd.jupyter.widget-view+json": {
       "model_id": "26653f10e2b9466cb650f90fa9b6292f",
       "version_major": 2,
       "version_minor": 0
      },
      "text/plain": [
       "  0%|          | 0/400 [00:00<?, ?it/s]"
      ]
     },
     "metadata": {},
     "output_type": "display_data"
    },
    {
     "name": "stdout",
     "output_type": "stream",
     "text": [
      "Perimeter_bot_ZN_2\n"
     ]
    },
    {
     "data": {
      "application/vnd.jupyter.widget-view+json": {
       "model_id": "927d7410e4f74ab689f531726650caa3",
       "version_major": 2,
       "version_minor": 0
      },
      "text/plain": [
       "  0%|          | 0/400 [00:00<?, ?it/s]"
      ]
     },
     "metadata": {},
     "output_type": "display_data"
    },
    {
     "name": "stdout",
     "output_type": "stream",
     "text": [
      "Perimeter_bot_ZN_3\n"
     ]
    },
    {
     "data": {
      "application/vnd.jupyter.widget-view+json": {
       "model_id": "a344a743319f41858609bd4bb4eeddf5",
       "version_major": 2,
       "version_minor": 0
      },
      "text/plain": [
       "  0%|          | 0/400 [00:00<?, ?it/s]"
      ]
     },
     "metadata": {},
     "output_type": "display_data"
    },
    {
     "name": "stdout",
     "output_type": "stream",
     "text": [
      "Perimeter_mid_ZN_4\n"
     ]
    },
    {
     "data": {
      "application/vnd.jupyter.widget-view+json": {
       "model_id": "083e694b25aa4694a399925d7361d7e4",
       "version_major": 2,
       "version_minor": 0
      },
      "text/plain": [
       "  0%|          | 0/400 [00:00<?, ?it/s]"
      ]
     },
     "metadata": {},
     "output_type": "display_data"
    },
    {
     "name": "stdout",
     "output_type": "stream",
     "text": [
      "Core_mid\n"
     ]
    },
    {
     "data": {
      "application/vnd.jupyter.widget-view+json": {
       "model_id": "62f4e8c6e43749dfacbef08ef2581312",
       "version_major": 2,
       "version_minor": 0
      },
      "text/plain": [
       "  0%|          | 0/400 [00:00<?, ?it/s]"
      ]
     },
     "metadata": {},
     "output_type": "display_data"
    },
    {
     "name": "stdout",
     "output_type": "stream",
     "text": [
      "Perimeter_mid_ZN_2\n"
     ]
    },
    {
     "data": {
      "application/vnd.jupyter.widget-view+json": {
       "model_id": "cd2d2b0ce57647faab8df227cf0de098",
       "version_major": 2,
       "version_minor": 0
      },
      "text/plain": [
       "  0%|          | 0/400 [00:00<?, ?it/s]"
      ]
     },
     "metadata": {},
     "output_type": "display_data"
    },
    {
     "name": "stdout",
     "output_type": "stream",
     "text": [
      "Perimeter_mid_ZN_3\n"
     ]
    },
    {
     "data": {
      "application/vnd.jupyter.widget-view+json": {
       "model_id": "6838db76443248ce96e1674a88527830",
       "version_major": 2,
       "version_minor": 0
      },
      "text/plain": [
       "  0%|          | 0/400 [00:00<?, ?it/s]"
      ]
     },
     "metadata": {},
     "output_type": "display_data"
    },
    {
     "name": "stdout",
     "output_type": "stream",
     "text": [
      "Perimeter_top_ZN_2\n"
     ]
    },
    {
     "data": {
      "application/vnd.jupyter.widget-view+json": {
       "model_id": "2df73ead1223423c9cd2658e6e5e24fa",
       "version_major": 2,
       "version_minor": 0
      },
      "text/plain": [
       "  0%|          | 0/400 [00:00<?, ?it/s]"
      ]
     },
     "metadata": {},
     "output_type": "display_data"
    },
    {
     "name": "stdout",
     "output_type": "stream",
     "text": [
      "Perimeter_mid_ZN_1\n"
     ]
    },
    {
     "data": {
      "application/vnd.jupyter.widget-view+json": {
       "model_id": "e1af90392c5a4754a5411276376a14e7",
       "version_major": 2,
       "version_minor": 0
      },
      "text/plain": [
       "  0%|          | 0/400 [00:00<?, ?it/s]"
      ]
     },
     "metadata": {},
     "output_type": "display_data"
    },
    {
     "name": "stdout",
     "output_type": "stream",
     "text": [
      "Perimeter_bot_ZN_4\n"
     ]
    },
    {
     "data": {
      "application/vnd.jupyter.widget-view+json": {
       "model_id": "001f99883f85426d95b4cc09d748420a",
       "version_major": 2,
       "version_minor": 0
      },
      "text/plain": [
       "  0%|          | 0/400 [00:00<?, ?it/s]"
      ]
     },
     "metadata": {},
     "output_type": "display_data"
    }
   ],
   "source": [
    "from zero_cost_proxies.synflow import SynFlow\n",
    "policy_scores_synflow = {}\n",
    "for zone in zones:\n",
    "    print(zone)\n",
    "    ope_data = log_data[log_data[\"zone\"] == zone].sort_values(by=[\"timestep\"])\n",
    "    ope_data = log_data[:ts_end]\n",
    "    for policy in tqdm(policy_list):\n",
    "        agent = PPO(6, 1, 0.003, 0.0005, 1, 10, 0.2,\n",
    "                    has_continuous_action_space=True, action_std_init=0.2, \n",
    "                    device=torch.device('cpu'), diverse_policies=list(),\n",
    "                    diverse_weight=0, diverse_increase=True)\n",
    "        agent.load(policy)\n",
    "        agent.policy_evaluation = True\n",
    "        agent.policy_old.set_action_std(0.1)\n",
    "        sf = SynFlow(agent)\n",
    "        if policy not in invalid_policies:\n",
    "            synflow = sf.get_synflow()\n",
    "        else:\n",
    "            continue\n",
    "        if policy not in policy_scores_synflow:\n",
    "            policy_scores_synflow[policy] = {}\n",
    "        if zone not in policy_scores_synflow[policy]:\n",
    "            policy_scores_synflow[policy][zone] = synflow"
   ]
  },
  {
   "cell_type": "code",
   "execution_count": 11,
   "id": "29990691",
   "metadata": {},
   "outputs": [],
   "source": [
    "eval_data_loc = \"../data/evaluation_clean_20220705.csv\"\n",
    "df = pd.read_csv(eval_data_loc, header=None, names=[\"datetime\",\"policy\",\"zone\",\"energy\"])\n",
    "spearman_corr_synflow = {}\n",
    "for zone in zones:\n",
    "    eval_df = df[df[\"zone\"] == zone]\n",
    "\n",
    "    # invalid_policies = list(set(policy_list) - set(policy_scores.keys()))\n",
    "    for i_policy in invalid_policies:\n",
    "        eval_df = eval_df[eval_df[\"policy\"]!=i_policy[3:]]\n",
    "    eval_df = eval_df.sort_values(by=[\"energy\"])\n",
    "    score_list = []\n",
    "    for i, row in eval_df.iterrows():\n",
    "        score_list.append(policy_scores_synflow[f\"../{row['policy']}\"][zone])\n",
    "\n",
    "    eval_df[\"ope_scores\"] = score_list\n",
    "    correlation = spearmanr(eval_df[\"energy\"].values, eval_df[\"ope_scores\"].values)\n",
    "    spearman_corr_synflow[zone] = correlation"
   ]
  },
  {
   "cell_type": "code",
   "execution_count": 12,
   "id": "0e833cce",
   "metadata": {},
   "outputs": [
    {
     "data": {
      "text/plain": [
       "{'Perimeter_top_ZN_3': SpearmanrResult(correlation=0.025452925452925452, pvalue=0.6834860292897358),\n",
       " 'Perimeter_bot_ZN_1': SpearmanrResult(correlation=0.10180065063785992, pvalue=0.10212218891870474),\n",
       " 'Perimeter_top_ZN_1': SpearmanrResult(correlation=0.11671006554727484, pvalue=0.06071020264686637),\n",
       " 'Core_bottom': SpearmanrResult(correlation=-0.07026888887354003, pvalue=0.25982953912292006),\n",
       " 'Perimeter_top_ZN_4': SpearmanrResult(correlation=0.12666164759188012, pvalue=0.0416724218690959),\n",
       " 'Core_top': SpearmanrResult(correlation=0.06516600935205587, pvalue=0.29612197919794137),\n",
       " 'Perimeter_bot_ZN_2': SpearmanrResult(correlation=0.05487667580690836, pvalue=0.37910440690310465),\n",
       " 'Perimeter_bot_ZN_3': SpearmanrResult(correlation=0.14691016086364922, pvalue=0.017995575085830086),\n",
       " 'Perimeter_mid_ZN_4': SpearmanrResult(correlation=-0.060182620647736926, pvalue=0.33467630412167293),\n",
       " 'Core_mid': SpearmanrResult(correlation=0.08101339264129961, pvalue=0.19373195294845727),\n",
       " 'Perimeter_mid_ZN_2': SpearmanrResult(correlation=-0.003885869002148072, pvalue=0.9503757819082548),\n",
       " 'Perimeter_mid_ZN_3': SpearmanrResult(correlation=0.03137359183870811, pvalue=0.6152513861959199),\n",
       " 'Perimeter_top_ZN_2': SpearmanrResult(correlation=0.11019263577403113, pvalue=0.07669394587825418),\n",
       " 'Perimeter_mid_ZN_1': SpearmanrResult(correlation=0.018399513748350957, pvalue=0.7682193921612293),\n",
       " 'Perimeter_bot_ZN_4': SpearmanrResult(correlation=0.040757419827187266, pvalue=0.5137386930644884)}"
      ]
     },
     "execution_count": 12,
     "metadata": {},
     "output_type": "execute_result"
    }
   ],
   "source": [
    "spearman_corr_synflow"
   ]
  },
  {
   "cell_type": "code",
   "execution_count": 13,
   "id": "42e9d800-4f17-46b1-b90a-1940fa963de0",
   "metadata": {},
   "outputs": [],
   "source": [
    "with open(f\"data/synflow_raw_scores_{num_days}_days_19_07_2022.pkl\", \"wb+\") as f:\n",
    "    pickle.dump(policy_scores_synflow, f)"
   ]
  },
  {
   "cell_type": "code",
   "execution_count": 14,
   "id": "e57d2ba8",
   "metadata": {},
   "outputs": [],
   "source": [
    "with open(f\"data/synflow_spearman_corr_{num_days}_days_19_07_2022.pkl\", \"wb+\") as f:\n",
    "    pickle.dump(spearman_corr_synflow, f)"
   ]
  },
  {
   "cell_type": "markdown",
   "id": "8425089a",
   "metadata": {},
   "source": [
    "### 3. Jacobian Covariance"
   ]
  },
  {
   "cell_type": "code",
   "execution_count": 15,
   "id": "5450373f",
   "metadata": {},
   "outputs": [
    {
     "name": "stdout",
     "output_type": "stream",
     "text": [
      "Perimeter_top_ZN_3\n"
     ]
    },
    {
     "data": {
      "application/vnd.jupyter.widget-view+json": {
       "model_id": "12dd68f219d84d64879b0e0b48375ad2",
       "version_major": 2,
       "version_minor": 0
      },
      "text/plain": [
       "  0%|          | 0/400 [00:00<?, ?it/s]"
      ]
     },
     "metadata": {},
     "output_type": "display_data"
    },
    {
     "name": "stdout",
     "output_type": "stream",
     "text": [
      "Perimeter_bot_ZN_1\n"
     ]
    },
    {
     "data": {
      "application/vnd.jupyter.widget-view+json": {
       "model_id": "f8f6709e1add435b86176ad4f9067ae9",
       "version_major": 2,
       "version_minor": 0
      },
      "text/plain": [
       "  0%|          | 0/400 [00:00<?, ?it/s]"
      ]
     },
     "metadata": {},
     "output_type": "display_data"
    },
    {
     "name": "stdout",
     "output_type": "stream",
     "text": [
      "Perimeter_top_ZN_1\n"
     ]
    },
    {
     "data": {
      "application/vnd.jupyter.widget-view+json": {
       "model_id": "dba6fcd6953d48dea585cdb56b5a38ce",
       "version_major": 2,
       "version_minor": 0
      },
      "text/plain": [
       "  0%|          | 0/400 [00:00<?, ?it/s]"
      ]
     },
     "metadata": {},
     "output_type": "display_data"
    },
    {
     "name": "stdout",
     "output_type": "stream",
     "text": [
      "Core_bottom\n"
     ]
    },
    {
     "data": {
      "application/vnd.jupyter.widget-view+json": {
       "model_id": "c71872d8bc2e4845874e63f8ceaac2a1",
       "version_major": 2,
       "version_minor": 0
      },
      "text/plain": [
       "  0%|          | 0/400 [00:00<?, ?it/s]"
      ]
     },
     "metadata": {},
     "output_type": "display_data"
    },
    {
     "name": "stdout",
     "output_type": "stream",
     "text": [
      "Perimeter_top_ZN_4\n"
     ]
    },
    {
     "data": {
      "application/vnd.jupyter.widget-view+json": {
       "model_id": "0c1dd3579c5e442ca0fba7f75e5a2ca6",
       "version_major": 2,
       "version_minor": 0
      },
      "text/plain": [
       "  0%|          | 0/400 [00:00<?, ?it/s]"
      ]
     },
     "metadata": {},
     "output_type": "display_data"
    },
    {
     "name": "stdout",
     "output_type": "stream",
     "text": [
      "Core_top\n"
     ]
    },
    {
     "data": {
      "application/vnd.jupyter.widget-view+json": {
       "model_id": "d5fcbac0a7fe42a9bd9872bfae67a08d",
       "version_major": 2,
       "version_minor": 0
      },
      "text/plain": [
       "  0%|          | 0/400 [00:00<?, ?it/s]"
      ]
     },
     "metadata": {},
     "output_type": "display_data"
    },
    {
     "name": "stdout",
     "output_type": "stream",
     "text": [
      "Perimeter_bot_ZN_2\n"
     ]
    },
    {
     "data": {
      "application/vnd.jupyter.widget-view+json": {
       "model_id": "001b80ec6d8f4c7190d7d36dde26c6b1",
       "version_major": 2,
       "version_minor": 0
      },
      "text/plain": [
       "  0%|          | 0/400 [00:00<?, ?it/s]"
      ]
     },
     "metadata": {},
     "output_type": "display_data"
    },
    {
     "name": "stdout",
     "output_type": "stream",
     "text": [
      "Perimeter_bot_ZN_3\n"
     ]
    },
    {
     "data": {
      "application/vnd.jupyter.widget-view+json": {
       "model_id": "225cf13dde5542adae9021bc78c8bc1a",
       "version_major": 2,
       "version_minor": 0
      },
      "text/plain": [
       "  0%|          | 0/400 [00:00<?, ?it/s]"
      ]
     },
     "metadata": {},
     "output_type": "display_data"
    },
    {
     "name": "stdout",
     "output_type": "stream",
     "text": [
      "Perimeter_mid_ZN_4\n"
     ]
    },
    {
     "data": {
      "application/vnd.jupyter.widget-view+json": {
       "model_id": "df07ec565fdc46e1bd2baf8363c63788",
       "version_major": 2,
       "version_minor": 0
      },
      "text/plain": [
       "  0%|          | 0/400 [00:00<?, ?it/s]"
      ]
     },
     "metadata": {},
     "output_type": "display_data"
    },
    {
     "name": "stdout",
     "output_type": "stream",
     "text": [
      "Core_mid\n"
     ]
    },
    {
     "data": {
      "application/vnd.jupyter.widget-view+json": {
       "model_id": "8a5305c22bef4c2aa5a48ecda3d3fa5c",
       "version_major": 2,
       "version_minor": 0
      },
      "text/plain": [
       "  0%|          | 0/400 [00:00<?, ?it/s]"
      ]
     },
     "metadata": {},
     "output_type": "display_data"
    },
    {
     "name": "stdout",
     "output_type": "stream",
     "text": [
      "Perimeter_mid_ZN_2\n"
     ]
    },
    {
     "data": {
      "application/vnd.jupyter.widget-view+json": {
       "model_id": "b62ed409f5db46cfa2264778fd439775",
       "version_major": 2,
       "version_minor": 0
      },
      "text/plain": [
       "  0%|          | 0/400 [00:00<?, ?it/s]"
      ]
     },
     "metadata": {},
     "output_type": "display_data"
    },
    {
     "name": "stdout",
     "output_type": "stream",
     "text": [
      "Perimeter_mid_ZN_3\n"
     ]
    },
    {
     "data": {
      "application/vnd.jupyter.widget-view+json": {
       "model_id": "fc2ce8d5088949f5ad1bf32d9d24f13c",
       "version_major": 2,
       "version_minor": 0
      },
      "text/plain": [
       "  0%|          | 0/400 [00:00<?, ?it/s]"
      ]
     },
     "metadata": {},
     "output_type": "display_data"
    },
    {
     "name": "stdout",
     "output_type": "stream",
     "text": [
      "Perimeter_top_ZN_2\n"
     ]
    },
    {
     "data": {
      "application/vnd.jupyter.widget-view+json": {
       "model_id": "b76966cb0654441bb4a6b7c5a32b0d4a",
       "version_major": 2,
       "version_minor": 0
      },
      "text/plain": [
       "  0%|          | 0/400 [00:00<?, ?it/s]"
      ]
     },
     "metadata": {},
     "output_type": "display_data"
    },
    {
     "name": "stdout",
     "output_type": "stream",
     "text": [
      "Perimeter_mid_ZN_1\n"
     ]
    },
    {
     "data": {
      "application/vnd.jupyter.widget-view+json": {
       "model_id": "786e6ef688c54d51af2f63347e9ea326",
       "version_major": 2,
       "version_minor": 0
      },
      "text/plain": [
       "  0%|          | 0/400 [00:00<?, ?it/s]"
      ]
     },
     "metadata": {},
     "output_type": "display_data"
    },
    {
     "name": "stdout",
     "output_type": "stream",
     "text": [
      "Perimeter_bot_ZN_4\n"
     ]
    },
    {
     "data": {
      "application/vnd.jupyter.widget-view+json": {
       "model_id": "44d0fd5ddf924d46a6d933426bf8d89d",
       "version_major": 2,
       "version_minor": 0
      },
      "text/plain": [
       "  0%|          | 0/400 [00:00<?, ?it/s]"
      ]
     },
     "metadata": {},
     "output_type": "display_data"
    }
   ],
   "source": [
    "from zero_cost_proxies.jacob_cov import JacobianCovariance\n",
    "policy_scores_jc = {}\n",
    "for zone in zones:\n",
    "    print(zone)\n",
    "    ope_data = log_data[log_data[\"zone\"] == zone].sort_values(by=[\"timestep\"])\n",
    "    ope_data = log_data[:ts_end]\n",
    "    states = []\n",
    "    for i, row in ope_data.iterrows():\n",
    "        state_vars = [\"outdoor_temp\", \"solar_irradiation\", \"time_hour\",\n",
    "                      \"zone_humidity\", \"zone_temp\", \"zone_occupancy\"]\n",
    "        state = [row[var] for var in state_vars]\n",
    "        states.append(state)\n",
    "    states = torch.Tensor(states)\n",
    "    for policy in tqdm(policy_list):\n",
    "        agent = PPO(6, 1, 0.003, 0.0005, 1, 10, 0.2,\n",
    "                    has_continuous_action_space=True, action_std_init=0.2, \n",
    "                    device=torch.device('cpu'), diverse_policies=list(),\n",
    "                    diverse_weight=0, diverse_increase=True)\n",
    "        agent.load(policy)\n",
    "        agent.policy_evaluation = True\n",
    "        agent.policy_old.set_action_std(0.1)\n",
    "        jc = JacobianCovariance(agent)\n",
    "        if policy not in invalid_policies:\n",
    "            synflow = jc.compute_jacob_cov(states)\n",
    "        else:\n",
    "            continue\n",
    "        if policy not in policy_scores_jc:\n",
    "            policy_scores_jc[policy] = {}\n",
    "        if zone not in policy_scores_jc[policy]:\n",
    "            policy_scores_jc[policy][zone] = synflow"
   ]
  },
  {
   "cell_type": "code",
   "execution_count": 16,
   "id": "d54fc5c5",
   "metadata": {},
   "outputs": [],
   "source": [
    "eval_data_loc = \"../data/evaluation_clean_20220705.csv\"\n",
    "df = pd.read_csv(eval_data_loc, header=None, names=[\"datetime\",\"policy\",\"zone\",\"energy\"])\n",
    "spearman_corr_jc = {}\n",
    "for zone in zones:\n",
    "    eval_df = df[df[\"zone\"] == zone]\n",
    "\n",
    "    # invalid_policies = list(set(policy_list) - set(policy_scores.keys()))\n",
    "    for i_policy in invalid_policies:\n",
    "        eval_df = eval_df[eval_df[\"policy\"]!=i_policy[3:]]\n",
    "    eval_df = eval_df.sort_values(by=[\"energy\"])\n",
    "    score_list = []\n",
    "    for i, row in eval_df.iterrows():\n",
    "        score_list.append(policy_scores_jc[f\"../{row['policy']}\"][zone])\n",
    "\n",
    "    eval_df[\"ope_scores\"] = score_list\n",
    "    correlation = spearmanr(eval_df[\"energy\"].values, eval_df[\"ope_scores\"].values)\n",
    "    spearman_corr_jc[zone] = correlation"
   ]
  },
  {
   "cell_type": "code",
   "execution_count": 17,
   "id": "2eb01f22",
   "metadata": {},
   "outputs": [
    {
     "data": {
      "text/plain": [
       "{'Perimeter_top_ZN_3': SpearmanrResult(correlation=-0.009908758745968046, pvalue=0.8739060762668507),\n",
       " 'Perimeter_bot_ZN_1': SpearmanrResult(correlation=-0.018688225664969853, pvalue=0.7646883410616825),\n",
       " 'Perimeter_top_ZN_1': SpearmanrResult(correlation=-0.031863987677941165, pvalue=0.6097351375982247),\n",
       " 'Core_bottom': SpearmanrResult(correlation=-0.006721185790953233, pvalue=0.914277094600226),\n",
       " 'Perimeter_top_ZN_4': SpearmanrResult(correlation=-0.0659692915506869, pvalue=0.29019564206582454),\n",
       " 'Core_top': SpearmanrResult(correlation=-0.014157935088167645, pvalue=0.8206106376673565),\n",
       " 'Perimeter_bot_ZN_2': SpearmanrResult(correlation=-0.023027883492999772, pvalue=0.7122357735978578),\n",
       " 'Perimeter_bot_ZN_3': SpearmanrResult(correlation=0.005040025970258528, pvalue=0.9356648561061454),\n",
       " 'Perimeter_mid_ZN_4': SpearmanrResult(correlation=-0.04520689869527078, pvalue=0.46882785801007754),\n",
       " 'Core_mid': SpearmanrResult(correlation=-0.022494664355129472, pvalue=0.7186139150742867),\n",
       " 'Perimeter_mid_ZN_2': SpearmanrResult(correlation=-0.026631256863814998, pvalue=0.6696764506427711),\n",
       " 'Perimeter_mid_ZN_3': SpearmanrResult(correlation=-0.02302581139790442, pvalue=0.7122605207685384),\n",
       " 'Perimeter_top_ZN_2': SpearmanrResult(correlation=-0.04100399914353403, pvalue=0.5111929015636187),\n",
       " 'Perimeter_mid_ZN_1': SpearmanrResult(correlation=-0.01967799642218247, pvalue=0.7526203692829361),\n",
       " 'Perimeter_bot_ZN_4': SpearmanrResult(correlation=-0.04136039949993438, pvalue=0.5075248802116241)}"
      ]
     },
     "execution_count": 17,
     "metadata": {},
     "output_type": "execute_result"
    }
   ],
   "source": [
    "spearman_corr_jc"
   ]
  },
  {
   "cell_type": "code",
   "execution_count": 18,
   "id": "c99f0d18-889e-4a49-b4f5-7e6e40eacadd",
   "metadata": {},
   "outputs": [],
   "source": [
    "with open(f\"data/jacob_cov_raw_scores_{num_days}_days_19_07_2022.pkl\", \"wb+\") as f:\n",
    "    pickle.dump(policy_scores_jc, f)"
   ]
  },
  {
   "cell_type": "code",
   "execution_count": 19,
   "id": "db090a07-a0d1-454a-b708-1d841e510d96",
   "metadata": {},
   "outputs": [],
   "source": [
    "with open(f\"data/jacob_cov_spearman_corr_{num_days}_days_19_07_2022_new_policies.pkl\", \"wb+\") as f:\n",
    "    pickle.dump(spearman_corr_jc, f)"
   ]
  },
  {
   "cell_type": "markdown",
   "id": "90ec3aef-44ad-4df8-b523-f96d2c09e973",
   "metadata": {},
   "source": [
    "## 4. SNIP"
   ]
  },
  {
   "cell_type": "code",
   "execution_count": 5,
   "id": "5771d5eb",
   "metadata": {
    "scrolled": true,
    "tags": []
   },
   "outputs": [
    {
     "name": "stdout",
     "output_type": "stream",
     "text": [
      "Perimeter_top_ZN_3\n"
     ]
    },
    {
     "data": {
      "application/vnd.jupyter.widget-view+json": {
       "model_id": "18abcbf7ab144c4295227252b7ff6d8d",
       "version_major": 2,
       "version_minor": 0
      },
      "text/plain": [
       "  0%|          | 0/400 [00:00<?, ?it/s]"
      ]
     },
     "metadata": {},
     "output_type": "display_data"
    },
    {
     "name": "stderr",
     "output_type": "stream",
     "text": [
      "/Users/aakashsasikumar/Documents/MSc/Research/Dissimilar Policy/building-MARL/studies/../ope/iw.py:61: RuntimeWarning: divide by zero encountered in log\n",
      "  return np.log(value / (1- value))\n"
     ]
    },
    {
     "name": "stdout",
     "output_type": "stream",
     "text": [
      "Perimeter_bot_ZN_1\n"
     ]
    },
    {
     "data": {
      "application/vnd.jupyter.widget-view+json": {
       "model_id": "08470f2d480d4768954dcda9b73486eb",
       "version_major": 2,
       "version_minor": 0
      },
      "text/plain": [
       "  0%|          | 0/400 [00:00<?, ?it/s]"
      ]
     },
     "metadata": {},
     "output_type": "display_data"
    },
    {
     "name": "stdout",
     "output_type": "stream",
     "text": [
      "Perimeter_top_ZN_1\n"
     ]
    },
    {
     "data": {
      "application/vnd.jupyter.widget-view+json": {
       "model_id": "fcf384935d624f749fd5041fe509f587",
       "version_major": 2,
       "version_minor": 0
      },
      "text/plain": [
       "  0%|          | 0/400 [00:00<?, ?it/s]"
      ]
     },
     "metadata": {},
     "output_type": "display_data"
    },
    {
     "name": "stdout",
     "output_type": "stream",
     "text": [
      "Core_bottom\n"
     ]
    },
    {
     "data": {
      "application/vnd.jupyter.widget-view+json": {
       "model_id": "3b9ea51bbeee4cbeb46d4b70010d4a79",
       "version_major": 2,
       "version_minor": 0
      },
      "text/plain": [
       "  0%|          | 0/400 [00:00<?, ?it/s]"
      ]
     },
     "metadata": {},
     "output_type": "display_data"
    },
    {
     "name": "stdout",
     "output_type": "stream",
     "text": [
      "Perimeter_top_ZN_4\n"
     ]
    },
    {
     "data": {
      "application/vnd.jupyter.widget-view+json": {
       "model_id": "8e991e865411458c93ddcc41e4f810f9",
       "version_major": 2,
       "version_minor": 0
      },
      "text/plain": [
       "  0%|          | 0/400 [00:00<?, ?it/s]"
      ]
     },
     "metadata": {},
     "output_type": "display_data"
    },
    {
     "name": "stdout",
     "output_type": "stream",
     "text": [
      "Core_top\n"
     ]
    },
    {
     "data": {
      "application/vnd.jupyter.widget-view+json": {
       "model_id": "71776cbe6cbe4479bca1fdc0ee3d1dbe",
       "version_major": 2,
       "version_minor": 0
      },
      "text/plain": [
       "  0%|          | 0/400 [00:00<?, ?it/s]"
      ]
     },
     "metadata": {},
     "output_type": "display_data"
    },
    {
     "name": "stdout",
     "output_type": "stream",
     "text": [
      "Perimeter_bot_ZN_2\n"
     ]
    },
    {
     "data": {
      "application/vnd.jupyter.widget-view+json": {
       "model_id": "09cbe45d70554aa59eb758fc3e666062",
       "version_major": 2,
       "version_minor": 0
      },
      "text/plain": [
       "  0%|          | 0/400 [00:00<?, ?it/s]"
      ]
     },
     "metadata": {},
     "output_type": "display_data"
    },
    {
     "name": "stdout",
     "output_type": "stream",
     "text": [
      "Perimeter_bot_ZN_3\n"
     ]
    },
    {
     "data": {
      "application/vnd.jupyter.widget-view+json": {
       "model_id": "06d5cf13334a4c82b3fa739f65dbf01e",
       "version_major": 2,
       "version_minor": 0
      },
      "text/plain": [
       "  0%|          | 0/400 [00:00<?, ?it/s]"
      ]
     },
     "metadata": {},
     "output_type": "display_data"
    },
    {
     "name": "stdout",
     "output_type": "stream",
     "text": [
      "Perimeter_mid_ZN_4\n"
     ]
    },
    {
     "data": {
      "application/vnd.jupyter.widget-view+json": {
       "model_id": "6429301e2d4e4bc5847d578a3705b641",
       "version_major": 2,
       "version_minor": 0
      },
      "text/plain": [
       "  0%|          | 0/400 [00:00<?, ?it/s]"
      ]
     },
     "metadata": {},
     "output_type": "display_data"
    },
    {
     "name": "stdout",
     "output_type": "stream",
     "text": [
      "Core_mid\n"
     ]
    },
    {
     "data": {
      "application/vnd.jupyter.widget-view+json": {
       "model_id": "765e5c6b94a44ea9af91426284692714",
       "version_major": 2,
       "version_minor": 0
      },
      "text/plain": [
       "  0%|          | 0/400 [00:00<?, ?it/s]"
      ]
     },
     "metadata": {},
     "output_type": "display_data"
    },
    {
     "name": "stdout",
     "output_type": "stream",
     "text": [
      "Perimeter_mid_ZN_2\n"
     ]
    },
    {
     "data": {
      "application/vnd.jupyter.widget-view+json": {
       "model_id": "4ae95558258e40ebafe69a81b5c8c30b",
       "version_major": 2,
       "version_minor": 0
      },
      "text/plain": [
       "  0%|          | 0/400 [00:00<?, ?it/s]"
      ]
     },
     "metadata": {},
     "output_type": "display_data"
    },
    {
     "name": "stdout",
     "output_type": "stream",
     "text": [
      "Perimeter_mid_ZN_3\n"
     ]
    },
    {
     "data": {
      "application/vnd.jupyter.widget-view+json": {
       "model_id": "e2116b73a67b4f0188ff317e3e2fae1e",
       "version_major": 2,
       "version_minor": 0
      },
      "text/plain": [
       "  0%|          | 0/400 [00:00<?, ?it/s]"
      ]
     },
     "metadata": {},
     "output_type": "display_data"
    },
    {
     "name": "stdout",
     "output_type": "stream",
     "text": [
      "Perimeter_top_ZN_2\n"
     ]
    },
    {
     "data": {
      "application/vnd.jupyter.widget-view+json": {
       "model_id": "16606e953fec4cc6b6202e2b75a6bacc",
       "version_major": 2,
       "version_minor": 0
      },
      "text/plain": [
       "  0%|          | 0/400 [00:00<?, ?it/s]"
      ]
     },
     "metadata": {},
     "output_type": "display_data"
    },
    {
     "name": "stdout",
     "output_type": "stream",
     "text": [
      "Perimeter_mid_ZN_1\n"
     ]
    },
    {
     "data": {
      "application/vnd.jupyter.widget-view+json": {
       "model_id": "f111538dfe7147b3b19b2966b7c9dd7a",
       "version_major": 2,
       "version_minor": 0
      },
      "text/plain": [
       "  0%|          | 0/400 [00:00<?, ?it/s]"
      ]
     },
     "metadata": {},
     "output_type": "display_data"
    },
    {
     "name": "stdout",
     "output_type": "stream",
     "text": [
      "Perimeter_bot_ZN_4\n"
     ]
    },
    {
     "data": {
      "application/vnd.jupyter.widget-view+json": {
       "model_id": "64219a79ee814dce8ac024ad9dee3400",
       "version_major": 2,
       "version_minor": 0
      },
      "text/plain": [
       "  0%|          | 0/400 [00:00<?, ?it/s]"
      ]
     },
     "metadata": {},
     "output_type": "display_data"
    }
   ],
   "source": [
    "from zero_cost_proxies.snip import SNIP\n",
    "policy_scores_snip = {}\n",
    "for zone in zones:\n",
    "    print(zone)\n",
    "    ope_data = log_data[log_data[\"zone\"] == zone].sort_values(by=[\"timestep\"])\n",
    "    ope_data = log_data[:ts_end]\n",
    "    for policy in tqdm(policy_list):\n",
    "        agent = PPO(6, 1, 0.003, 0.0005, 1, 10, 0.2,\n",
    "                    has_continuous_action_space=True, action_std_init=0.2, \n",
    "                    device=torch.device('cpu'), diverse_policies=list(),\n",
    "                    diverse_weight=0, diverse_increase=True)\n",
    "        agent.load(policy)\n",
    "        agent.policy_evaluation = True\n",
    "        agent.policy_old.set_action_std(0.1)\n",
    "        snip = SNIP(agent, behavior_model)\n",
    "        if policy not in invalid_policies:\n",
    "            sn = snip.compute_snip(ope_data)\n",
    "        else:\n",
    "            continue\n",
    "        if policy not in policy_scores_snip:\n",
    "            policy_scores_snip[policy] = {}\n",
    "        if zone not in policy_scores_snip[policy]:\n",
    "            policy_scores_snip[policy][zone] = sn"
   ]
  },
  {
   "cell_type": "code",
   "execution_count": 6,
   "id": "7a87a9af",
   "metadata": {},
   "outputs": [],
   "source": [
    "eval_data_loc = \"../data/evaluation_clean_20220705.csv\"\n",
    "df = pd.read_csv(eval_data_loc, header=None, names=[\"datetime\",\"policy\",\"zone\",\"energy\"])\n",
    "spearman_corr_snip = {}\n",
    "for zone in zones:\n",
    "    eval_df = df[df[\"zone\"] == zone]\n",
    "\n",
    "    # invalid_policies = list(set(policy_list) - set(policy_scores.keys()))\n",
    "    for i_policy in invalid_policies:\n",
    "        eval_df = eval_df[eval_df[\"policy\"]!=i_policy[3:]]\n",
    "    eval_df = eval_df.sort_values(by=[\"energy\"])\n",
    "    score_list = []\n",
    "    for i, row in eval_df.iterrows():\n",
    "        score_list.append(policy_scores_snip[f\"../{row['policy']}\"][zone])\n",
    "\n",
    "    eval_df[\"ope_scores\"] = score_list\n",
    "    correlation = spearmanr(eval_df[\"energy\"].values, eval_df[\"ope_scores\"].values)\n",
    "    spearman_corr_snip[zone] = correlation"
   ]
  },
  {
   "cell_type": "code",
   "execution_count": 7,
   "id": "1da70d3e-fd9e-434a-af47-01b773762fd9",
   "metadata": {},
   "outputs": [
    {
     "data": {
      "text/plain": [
       "{'Perimeter_top_ZN_3': SpearmanrResult(correlation=-0.6170531905640874, pvalue=1.4384915314199958e-28),\n",
       " 'Perimeter_bot_ZN_1': SpearmanrResult(correlation=-0.6575368062297305, pvalue=1.885218340503747e-33),\n",
       " 'Perimeter_top_ZN_1': SpearmanrResult(correlation=-0.665413091891619, pvalue=1.7232458145741824e-34),\n",
       " 'Core_bottom': SpearmanrResult(correlation=-0.4814685340325002, pvalue=1.9551150904847094e-16),\n",
       " 'Perimeter_top_ZN_4': SpearmanrResult(correlation=-0.6472306432487269, pvalue=3.878936947092807e-32),\n",
       " 'Core_top': SpearmanrResult(correlation=-0.4803979170412396, pvalue=2.3273955564093794e-16),\n",
       " 'Perimeter_bot_ZN_2': SpearmanrResult(correlation=-0.6539187036367764, pvalue=5.5242038715544434e-33),\n",
       " 'Perimeter_bot_ZN_3': SpearmanrResult(correlation=-0.44593452712068526, pvalue=4.6501345894916667e-14),\n",
       " 'Perimeter_mid_ZN_4': SpearmanrResult(correlation=-0.5617013207200733, pvalue=6.141667220431279e-23),\n",
       " 'Core_mid': SpearmanrResult(correlation=-0.4777456594591959, pvalue=3.5748848422198386e-16),\n",
       " 'Perimeter_mid_ZN_2': SpearmanrResult(correlation=-0.568264487356712, pvalue=1.4976750258341523e-23),\n",
       " 'Perimeter_mid_ZN_3': SpearmanrResult(correlation=-0.5959669622008937, pvalue=2.700694232384054e-26),\n",
       " 'Perimeter_top_ZN_2': SpearmanrResult(correlation=-0.6646671986540267, pvalue=2.1681910718002046e-34),\n",
       " 'Perimeter_mid_ZN_1': SpearmanrResult(correlation=-0.6543586071834123, pvalue=4.851130751283289e-33),\n",
       " 'Perimeter_bot_ZN_4': SpearmanrResult(correlation=-0.6455039871354724, pvalue=6.365141261031669e-32)}"
      ]
     },
     "execution_count": 7,
     "metadata": {},
     "output_type": "execute_result"
    }
   ],
   "source": [
    "spearman_corr_snip"
   ]
  },
  {
   "cell_type": "code",
   "execution_count": 8,
   "id": "acddbb00",
   "metadata": {},
   "outputs": [],
   "source": [
    "with open(f\"data/snip_spearman_corr_{num_days}_days_19_07_2022.pkl\", \"wb+\") as f:\n",
    "    pickle.dump(spearman_corr_snip, f)"
   ]
  },
  {
   "cell_type": "code",
   "execution_count": 9,
   "id": "ee4709ca",
   "metadata": {},
   "outputs": [],
   "source": [
    "with open(f\"data/snip_raw_scores_{num_days}_days_19_07_2022.pkl\", \"wb+\") as f:\n",
    "    pickle.dump(policy_scores_snip, f)"
   ]
  },
  {
   "cell_type": "code",
   "execution_count": null,
   "id": "f286f437-a551-4aa7-a4f8-765338d4fbbd",
   "metadata": {},
   "outputs": [],
   "source": []
  }
 ],
 "metadata": {
  "kernelspec": {
   "display_name": "Python 3 (ipykernel)",
   "language": "python",
   "name": "python3"
  },
  "language_info": {
   "codemirror_mode": {
    "name": "ipython",
    "version": 3
   },
   "file_extension": ".py",
   "mimetype": "text/x-python",
   "name": "python",
   "nbconvert_exporter": "python",
   "pygments_lexer": "ipython3",
   "version": "3.10.0"
  }
 },
 "nbformat": 4,
 "nbformat_minor": 5
}
