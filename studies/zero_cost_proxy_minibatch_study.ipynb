{
 "cells": [
  {
   "cell_type": "markdown",
   "id": "607db1a6",
   "metadata": {},
   "source": [
    "# Zero-Cost Proxy Evaluation  w/ minibatch\n",
    "\n",
    "Testing zero-cost proxies with zone-agnostic behavior policy model"
   ]
  },
  {
   "cell_type": "code",
   "execution_count": 1,
   "id": "2533d122",
   "metadata": {},
   "outputs": [],
   "source": [
    "import numpy as np\n",
    "import sys\n",
    "import matplotlib.pyplot as plt\n",
    "import pandas as pd\n",
    "import pickle\n",
    "sys.path.insert(0, \"../\")\n",
    "import torch\n",
    "from ppo import PPO\n",
    "import glob\n",
    "from tqdm.notebook import tqdm\n",
    "import json\n",
    "from scipy.stats import spearmanr"
   ]
  },
  {
   "cell_type": "code",
   "execution_count": 2,
   "id": "9be8a4ff",
   "metadata": {},
   "outputs": [],
   "source": [
    "log_data = pd.read_csv(\"../data/rule_based_log_data/0_cleaned_log.csv\")\n",
    "with open(\"../data/rule_based_log_data/action_probs_all_data.pkl\", \"rb\") as f:\n",
    "    behavior_model = pickle.load(f)\n",
    "with open(\"../data/invalid_policy_list.json\") as f:\n",
    "    invalid_policies = json.load(f)[\"invalid_policies\"]"
   ]
  },
  {
   "cell_type": "markdown",
   "id": "fa6f3549",
   "metadata": {},
   "source": [
    "## 30 Day MiniBatch"
   ]
  },
  {
   "cell_type": "code",
   "execution_count": 3,
   "id": "c4728dc4",
   "metadata": {},
   "outputs": [],
   "source": [
    "num_ts_per_day = 4 * 24\n",
    "num_days = 30\n",
    "ts_end = num_ts_per_day * num_days\n",
    "zones = log_data[\"zone\"].unique()"
   ]
  },
  {
   "cell_type": "markdown",
   "id": "2a666fde",
   "metadata": {},
   "source": [
    "## Loading all Policies"
   ]
  },
  {
   "cell_type": "code",
   "execution_count": 4,
   "id": "a4dc0889",
   "metadata": {},
   "outputs": [],
   "source": [
    "policy_list = sorted(list(glob.glob(f\"../policy_library/**.pth\")))"
   ]
  },
  {
   "cell_type": "markdown",
   "id": "a5b95aa6",
   "metadata": {},
   "source": [
    "### 1. GradNorm"
   ]
  },
  {
   "cell_type": "code",
   "execution_count": 5,
   "id": "ab212710",
   "metadata": {
    "scrolled": true,
    "tags": []
   },
   "outputs": [
    {
     "name": "stdout",
     "output_type": "stream",
     "text": [
      "Perimeter_top_ZN_3\n"
     ]
    },
    {
     "data": {
      "application/vnd.jupyter.widget-view+json": {
       "model_id": "88f1b0758af7412792989f46b800b237",
       "version_major": 2,
       "version_minor": 0
      },
      "text/plain": [
       "  0%|          | 0/800 [00:00<?, ?it/s]"
      ]
     },
     "metadata": {},
     "output_type": "display_data"
    },
    {
     "name": "stderr",
     "output_type": "stream",
     "text": [
      "/Users/aakashsasikumar/Documents/MSc/Research/Dissimilar Policy/building-MARL/studies/../ope/iw.py:61: RuntimeWarning: divide by zero encountered in log\n",
      "  return np.log(value / (1- value))\n"
     ]
    },
    {
     "name": "stdout",
     "output_type": "stream",
     "text": [
      "Perimeter_bot_ZN_1\n"
     ]
    },
    {
     "data": {
      "application/vnd.jupyter.widget-view+json": {
       "model_id": "00b15e5a34054ec08113efbc85de2ccb",
       "version_major": 2,
       "version_minor": 0
      },
      "text/plain": [
       "  0%|          | 0/800 [00:00<?, ?it/s]"
      ]
     },
     "metadata": {},
     "output_type": "display_data"
    },
    {
     "name": "stdout",
     "output_type": "stream",
     "text": [
      "Perimeter_top_ZN_1\n"
     ]
    },
    {
     "data": {
      "application/vnd.jupyter.widget-view+json": {
       "model_id": "0775d85529c142fe84bc1c4d4c70f14d",
       "version_major": 2,
       "version_minor": 0
      },
      "text/plain": [
       "  0%|          | 0/800 [00:00<?, ?it/s]"
      ]
     },
     "metadata": {},
     "output_type": "display_data"
    },
    {
     "name": "stdout",
     "output_type": "stream",
     "text": [
      "Core_bottom\n"
     ]
    },
    {
     "data": {
      "application/vnd.jupyter.widget-view+json": {
       "model_id": "eb31bcd14dd743949b3e3abee3469e52",
       "version_major": 2,
       "version_minor": 0
      },
      "text/plain": [
       "  0%|          | 0/800 [00:00<?, ?it/s]"
      ]
     },
     "metadata": {},
     "output_type": "display_data"
    },
    {
     "name": "stdout",
     "output_type": "stream",
     "text": [
      "Perimeter_top_ZN_4\n"
     ]
    },
    {
     "data": {
      "application/vnd.jupyter.widget-view+json": {
       "model_id": "ee090bf7b4304a5b87c33fe64e590a05",
       "version_major": 2,
       "version_minor": 0
      },
      "text/plain": [
       "  0%|          | 0/800 [00:00<?, ?it/s]"
      ]
     },
     "metadata": {},
     "output_type": "display_data"
    },
    {
     "name": "stdout",
     "output_type": "stream",
     "text": [
      "Core_top\n"
     ]
    },
    {
     "data": {
      "application/vnd.jupyter.widget-view+json": {
       "model_id": "b07a3b09afd643ff8a76ed93b6c3c62b",
       "version_major": 2,
       "version_minor": 0
      },
      "text/plain": [
       "  0%|          | 0/800 [00:00<?, ?it/s]"
      ]
     },
     "metadata": {},
     "output_type": "display_data"
    },
    {
     "name": "stdout",
     "output_type": "stream",
     "text": [
      "Perimeter_bot_ZN_2\n"
     ]
    },
    {
     "data": {
      "application/vnd.jupyter.widget-view+json": {
       "model_id": "866f070633b04226931242a7d67fba9e",
       "version_major": 2,
       "version_minor": 0
      },
      "text/plain": [
       "  0%|          | 0/800 [00:00<?, ?it/s]"
      ]
     },
     "metadata": {},
     "output_type": "display_data"
    },
    {
     "name": "stdout",
     "output_type": "stream",
     "text": [
      "Perimeter_bot_ZN_3\n"
     ]
    },
    {
     "data": {
      "application/vnd.jupyter.widget-view+json": {
       "model_id": "07d848ad3847427d8578b57d9f33c275",
       "version_major": 2,
       "version_minor": 0
      },
      "text/plain": [
       "  0%|          | 0/800 [00:00<?, ?it/s]"
      ]
     },
     "metadata": {},
     "output_type": "display_data"
    },
    {
     "name": "stdout",
     "output_type": "stream",
     "text": [
      "Perimeter_mid_ZN_4\n"
     ]
    },
    {
     "data": {
      "application/vnd.jupyter.widget-view+json": {
       "model_id": "881110f2c8b4425785bc7c1985c36c74",
       "version_major": 2,
       "version_minor": 0
      },
      "text/plain": [
       "  0%|          | 0/800 [00:00<?, ?it/s]"
      ]
     },
     "metadata": {},
     "output_type": "display_data"
    },
    {
     "name": "stdout",
     "output_type": "stream",
     "text": [
      "Core_mid\n"
     ]
    },
    {
     "data": {
      "application/vnd.jupyter.widget-view+json": {
       "model_id": "e32918ad64b84f12b750791f8c75aec2",
       "version_major": 2,
       "version_minor": 0
      },
      "text/plain": [
       "  0%|          | 0/800 [00:00<?, ?it/s]"
      ]
     },
     "metadata": {},
     "output_type": "display_data"
    },
    {
     "name": "stdout",
     "output_type": "stream",
     "text": [
      "Perimeter_mid_ZN_2\n"
     ]
    },
    {
     "data": {
      "application/vnd.jupyter.widget-view+json": {
       "model_id": "c5382334faec422695a31f9916b197b7",
       "version_major": 2,
       "version_minor": 0
      },
      "text/plain": [
       "  0%|          | 0/800 [00:00<?, ?it/s]"
      ]
     },
     "metadata": {},
     "output_type": "display_data"
    },
    {
     "name": "stdout",
     "output_type": "stream",
     "text": [
      "Perimeter_mid_ZN_3\n"
     ]
    },
    {
     "data": {
      "application/vnd.jupyter.widget-view+json": {
       "model_id": "8ba3bf1b5e6947f4b7e91c4e3e0f5251",
       "version_major": 2,
       "version_minor": 0
      },
      "text/plain": [
       "  0%|          | 0/800 [00:00<?, ?it/s]"
      ]
     },
     "metadata": {},
     "output_type": "display_data"
    },
    {
     "name": "stdout",
     "output_type": "stream",
     "text": [
      "Perimeter_top_ZN_2\n"
     ]
    },
    {
     "data": {
      "application/vnd.jupyter.widget-view+json": {
       "model_id": "482d8f3dad774eb6bb294af059ed4cd0",
       "version_major": 2,
       "version_minor": 0
      },
      "text/plain": [
       "  0%|          | 0/800 [00:00<?, ?it/s]"
      ]
     },
     "metadata": {},
     "output_type": "display_data"
    },
    {
     "name": "stdout",
     "output_type": "stream",
     "text": [
      "Perimeter_mid_ZN_1\n"
     ]
    },
    {
     "data": {
      "application/vnd.jupyter.widget-view+json": {
       "model_id": "5823b060ab354a30be2f9a53eca060d4",
       "version_major": 2,
       "version_minor": 0
      },
      "text/plain": [
       "  0%|          | 0/800 [00:00<?, ?it/s]"
      ]
     },
     "metadata": {},
     "output_type": "display_data"
    },
    {
     "name": "stdout",
     "output_type": "stream",
     "text": [
      "Perimeter_bot_ZN_4\n"
     ]
    },
    {
     "data": {
      "application/vnd.jupyter.widget-view+json": {
       "model_id": "0885b8532b0b49bf9e9a9f84026626e7",
       "version_major": 2,
       "version_minor": 0
      },
      "text/plain": [
       "  0%|          | 0/800 [00:00<?, ?it/s]"
      ]
     },
     "metadata": {},
     "output_type": "display_data"
    }
   ],
   "source": [
    "from zero_cost_proxies.grad_norm import GradNorm\n",
    "policy_scores = {}\n",
    "for zone in zones:\n",
    "    print(zone)\n",
    "    ope_data = log_data[log_data[\"zone\"] == zone].sort_values(by=[\"timestep\"])\n",
    "    ope_data = log_data[:ts_end]\n",
    "    for policy in tqdm(policy_list):\n",
    "        agent = PPO(6, 1, 0.003, 0.0005, 1, 10, 0.2,\n",
    "                    has_continuous_action_space=True, action_std_init=0.2, \n",
    "                    device=torch.device('cpu'), diverse_policies=list(),\n",
    "                    diverse_weight=0, diverse_increase=True)\n",
    "        agent.load(policy)\n",
    "        agent.policy_evaluation = True\n",
    "        agent.policy_old.set_action_std(0.1)\n",
    "        gn = GradNorm(agent, behavior_model)\n",
    "        if policy not in invalid_policies:\n",
    "            norm = gn.get_grad_norm(ope_data)\n",
    "        else:\n",
    "            continue\n",
    "        if policy not in policy_scores:\n",
    "            policy_scores[policy] = {}\n",
    "        if zone not in policy_scores[policy]:\n",
    "            policy_scores[policy][zone] = norm"
   ]
  },
  {
   "cell_type": "code",
   "execution_count": 6,
   "id": "be85ebbf",
   "metadata": {},
   "outputs": [],
   "source": [
    "eval_data_loc = \"../data/1month_eval.csv\"\n",
    "df = pd.read_csv(eval_data_loc, header=None, names=[\"datetime\",\"policy\",\"zone\",\"energy\"])\n",
    "spearman_corr = {}\n",
    "for zone in zones:\n",
    "    eval_df = df[df[\"zone\"] == zone]\n",
    "\n",
    "    # invalid_policies = list(set(policy_list) - set(policy_scores.keys()))\n",
    "    for i_policy in invalid_policies:\n",
    "        eval_df = eval_df[eval_df[\"policy\"]!=i_policy[3:]]\n",
    "    eval_df = eval_df.sort_values(by=[\"energy\"])\n",
    "    score_list = []\n",
    "    for i, row in eval_df.iterrows():\n",
    "        score_list.append(policy_scores[f\"../{row['policy']}\"][zone])\n",
    "\n",
    "    eval_df[\"ope_scores\"] = score_list\n",
    "    correlation = spearmanr(eval_df[\"energy\"].values, eval_df[\"ope_scores\"].values)\n",
    "    spearman_corr[zone] = correlation"
   ]
  },
  {
   "cell_type": "code",
   "execution_count": 7,
   "id": "2c641cd1",
   "metadata": {},
   "outputs": [
    {
     "data": {
      "text/plain": [
       "{'Perimeter_top_ZN_3': SpearmanrResult(correlation=-0.5542986268153618, pvalue=2.0152859447344407e-46),\n",
       " 'Perimeter_bot_ZN_1': SpearmanrResult(correlation=-0.6055320455715625, pvalue=3.1586415731606343e-57),\n",
       " 'Perimeter_top_ZN_1': SpearmanrResult(correlation=-0.6020077561584476, pvalue=2.0513169884514363e-56),\n",
       " 'Core_bottom': SpearmanrResult(correlation=-0.5054980182218064, pvalue=1.3570434889641183e-37),\n",
       " 'Perimeter_top_ZN_4': SpearmanrResult(correlation=-0.5581392053438957, pvalue=4.2975391166151174e-47),\n",
       " 'Core_top': SpearmanrResult(correlation=-0.5270601334613021, pvalue=2.769141655022239e-41),\n",
       " 'Perimeter_bot_ZN_2': SpearmanrResult(correlation=-0.5559879266265633, pvalue=1.1355647085317673e-46),\n",
       " 'Perimeter_bot_ZN_3': SpearmanrResult(correlation=-0.5357703475952144, pvalue=7.497300095924579e-43),\n",
       " 'Perimeter_mid_ZN_4': SpearmanrResult(correlation=-0.5527398258873174, pvalue=4.8591214781307e-46),\n",
       " 'Core_mid': SpearmanrResult(correlation=-0.5254026550131286, pvalue=5.438648360275325e-41),\n",
       " 'Perimeter_mid_ZN_2': SpearmanrResult(correlation=-0.5493993043049908, pvalue=2.1314630707205942e-45),\n",
       " 'Perimeter_mid_ZN_3': SpearmanrResult(correlation=-0.5333057109519044, pvalue=2.1040850303472188e-42),\n",
       " 'Perimeter_top_ZN_2': SpearmanrResult(correlation=-0.5608340627230057, pvalue=1.259607050742424e-47),\n",
       " 'Perimeter_mid_ZN_1': SpearmanrResult(correlation=-0.5668584260067439, pvalue=7.778995645173149e-49),\n",
       " 'Perimeter_bot_ZN_4': SpearmanrResult(correlation=-0.5570176500079043, pvalue=7.138495250271325e-47)}"
      ]
     },
     "execution_count": 7,
     "metadata": {},
     "output_type": "execute_result"
    }
   ],
   "source": [
    "spearman_corr"
   ]
  },
  {
   "cell_type": "code",
   "execution_count": 8,
   "id": "13050924-2447-45d4-8252-f2f86b47d45a",
   "metadata": {},
   "outputs": [],
   "source": [
    "with open(\"grad_norm_raw_scores_30_days_16_07_2022.pkl\", \"wb+\") as f:\n",
    "    pickle.dump(policy_scores, f)"
   ]
  },
  {
   "cell_type": "code",
   "execution_count": 8,
   "id": "2b031ceb",
   "metadata": {},
   "outputs": [],
   "source": [
    "with open(\"grad_norm_ipw_spearman_corrs_03_07_2022.pkl\", \"wb+\") as f:\n",
    "    pickle.dump(spearman_corr, f)"
   ]
  },
  {
   "cell_type": "markdown",
   "id": "9f5a3605",
   "metadata": {},
   "source": [
    "### 2. Synflow"
   ]
  },
  {
   "cell_type": "code",
   "execution_count": 5,
   "id": "3991c4c6",
   "metadata": {
    "scrolled": true
   },
   "outputs": [
    {
     "name": "stdout",
     "output_type": "stream",
     "text": [
      "Perimeter_top_ZN_3\n"
     ]
    },
    {
     "data": {
      "application/vnd.jupyter.widget-view+json": {
       "model_id": "1c05b7a2a4e148dea4932fa460c7bb12",
       "version_major": 2,
       "version_minor": 0
      },
      "text/plain": [
       "  0%|          | 0/800 [00:00<?, ?it/s]"
      ]
     },
     "metadata": {},
     "output_type": "display_data"
    },
    {
     "name": "stdout",
     "output_type": "stream",
     "text": [
      "Perimeter_bot_ZN_1\n"
     ]
    },
    {
     "data": {
      "application/vnd.jupyter.widget-view+json": {
       "model_id": "40cc1a386b4b4ccdb97531a811c78dc0",
       "version_major": 2,
       "version_minor": 0
      },
      "text/plain": [
       "  0%|          | 0/800 [00:00<?, ?it/s]"
      ]
     },
     "metadata": {},
     "output_type": "display_data"
    },
    {
     "name": "stdout",
     "output_type": "stream",
     "text": [
      "Perimeter_top_ZN_1\n"
     ]
    },
    {
     "data": {
      "application/vnd.jupyter.widget-view+json": {
       "model_id": "33c4b16bfd5c4fcca22ff3f13e91d55b",
       "version_major": 2,
       "version_minor": 0
      },
      "text/plain": [
       "  0%|          | 0/800 [00:00<?, ?it/s]"
      ]
     },
     "metadata": {},
     "output_type": "display_data"
    },
    {
     "name": "stdout",
     "output_type": "stream",
     "text": [
      "Core_bottom\n"
     ]
    },
    {
     "data": {
      "application/vnd.jupyter.widget-view+json": {
       "model_id": "446515ef139948df907afa3987c08679",
       "version_major": 2,
       "version_minor": 0
      },
      "text/plain": [
       "  0%|          | 0/800 [00:00<?, ?it/s]"
      ]
     },
     "metadata": {},
     "output_type": "display_data"
    },
    {
     "name": "stdout",
     "output_type": "stream",
     "text": [
      "Perimeter_top_ZN_4\n"
     ]
    },
    {
     "data": {
      "application/vnd.jupyter.widget-view+json": {
       "model_id": "fa99bb5d66194ce0ae5371926d14e615",
       "version_major": 2,
       "version_minor": 0
      },
      "text/plain": [
       "  0%|          | 0/800 [00:00<?, ?it/s]"
      ]
     },
     "metadata": {},
     "output_type": "display_data"
    },
    {
     "name": "stdout",
     "output_type": "stream",
     "text": [
      "Core_top\n"
     ]
    },
    {
     "data": {
      "application/vnd.jupyter.widget-view+json": {
       "model_id": "614586b084a247a796bd91c20642e7d5",
       "version_major": 2,
       "version_minor": 0
      },
      "text/plain": [
       "  0%|          | 0/800 [00:00<?, ?it/s]"
      ]
     },
     "metadata": {},
     "output_type": "display_data"
    },
    {
     "name": "stdout",
     "output_type": "stream",
     "text": [
      "Perimeter_bot_ZN_2\n"
     ]
    },
    {
     "data": {
      "application/vnd.jupyter.widget-view+json": {
       "model_id": "d1a410b1a1a34cb6b6b8aabd92aa4de0",
       "version_major": 2,
       "version_minor": 0
      },
      "text/plain": [
       "  0%|          | 0/800 [00:00<?, ?it/s]"
      ]
     },
     "metadata": {},
     "output_type": "display_data"
    },
    {
     "name": "stdout",
     "output_type": "stream",
     "text": [
      "Perimeter_bot_ZN_3\n"
     ]
    },
    {
     "data": {
      "application/vnd.jupyter.widget-view+json": {
       "model_id": "0a9ade0375514fa7a314a9a671c18e6d",
       "version_major": 2,
       "version_minor": 0
      },
      "text/plain": [
       "  0%|          | 0/800 [00:00<?, ?it/s]"
      ]
     },
     "metadata": {},
     "output_type": "display_data"
    },
    {
     "name": "stdout",
     "output_type": "stream",
     "text": [
      "Perimeter_mid_ZN_4\n"
     ]
    },
    {
     "data": {
      "application/vnd.jupyter.widget-view+json": {
       "model_id": "627e2c543cb743e59a4b56719e19a336",
       "version_major": 2,
       "version_minor": 0
      },
      "text/plain": [
       "  0%|          | 0/800 [00:00<?, ?it/s]"
      ]
     },
     "metadata": {},
     "output_type": "display_data"
    },
    {
     "name": "stdout",
     "output_type": "stream",
     "text": [
      "Core_mid\n"
     ]
    },
    {
     "data": {
      "application/vnd.jupyter.widget-view+json": {
       "model_id": "8345b47a2ba54a4d83055b52636e6500",
       "version_major": 2,
       "version_minor": 0
      },
      "text/plain": [
       "  0%|          | 0/800 [00:00<?, ?it/s]"
      ]
     },
     "metadata": {},
     "output_type": "display_data"
    },
    {
     "name": "stdout",
     "output_type": "stream",
     "text": [
      "Perimeter_mid_ZN_2\n"
     ]
    },
    {
     "data": {
      "application/vnd.jupyter.widget-view+json": {
       "model_id": "aa7cf37d4021449fba3e77ff95dc736d",
       "version_major": 2,
       "version_minor": 0
      },
      "text/plain": [
       "  0%|          | 0/800 [00:00<?, ?it/s]"
      ]
     },
     "metadata": {},
     "output_type": "display_data"
    },
    {
     "name": "stdout",
     "output_type": "stream",
     "text": [
      "Perimeter_mid_ZN_3\n"
     ]
    },
    {
     "data": {
      "application/vnd.jupyter.widget-view+json": {
       "model_id": "6550f58952c94081bb6c1d259787c3b5",
       "version_major": 2,
       "version_minor": 0
      },
      "text/plain": [
       "  0%|          | 0/800 [00:00<?, ?it/s]"
      ]
     },
     "metadata": {},
     "output_type": "display_data"
    },
    {
     "name": "stdout",
     "output_type": "stream",
     "text": [
      "Perimeter_top_ZN_2\n"
     ]
    },
    {
     "data": {
      "application/vnd.jupyter.widget-view+json": {
       "model_id": "f524fc23427148fe8addea5f59e8748f",
       "version_major": 2,
       "version_minor": 0
      },
      "text/plain": [
       "  0%|          | 0/800 [00:00<?, ?it/s]"
      ]
     },
     "metadata": {},
     "output_type": "display_data"
    },
    {
     "name": "stdout",
     "output_type": "stream",
     "text": [
      "Perimeter_mid_ZN_1\n"
     ]
    },
    {
     "data": {
      "application/vnd.jupyter.widget-view+json": {
       "model_id": "00ca4d604b054b35b40535199a2e93ec",
       "version_major": 2,
       "version_minor": 0
      },
      "text/plain": [
       "  0%|          | 0/800 [00:00<?, ?it/s]"
      ]
     },
     "metadata": {},
     "output_type": "display_data"
    },
    {
     "name": "stdout",
     "output_type": "stream",
     "text": [
      "Perimeter_bot_ZN_4\n"
     ]
    },
    {
     "data": {
      "application/vnd.jupyter.widget-view+json": {
       "model_id": "012e32b272224048b95ce17003aa998f",
       "version_major": 2,
       "version_minor": 0
      },
      "text/plain": [
       "  0%|          | 0/800 [00:00<?, ?it/s]"
      ]
     },
     "metadata": {},
     "output_type": "display_data"
    }
   ],
   "source": [
    "from zero_cost_proxies.synflow import SynFlow\n",
    "policy_scores_synflow = {}\n",
    "for zone in zones:\n",
    "    print(zone)\n",
    "    ope_data = log_data[log_data[\"zone\"] == zone].sort_values(by=[\"timestep\"])\n",
    "    ope_data = log_data[:ts_end]\n",
    "    for policy in tqdm(policy_list):\n",
    "        agent = PPO(6, 1, 0.003, 0.0005, 1, 10, 0.2,\n",
    "                    has_continuous_action_space=True, action_std_init=0.2, \n",
    "                    device=torch.device('cpu'), diverse_policies=list(),\n",
    "                    diverse_weight=0, diverse_increase=True)\n",
    "        agent.load(policy)\n",
    "        agent.policy_evaluation = True\n",
    "        agent.policy_old.set_action_std(0.1)\n",
    "        sf = SynFlow(agent)\n",
    "        if policy not in invalid_policies:\n",
    "            synflow = sf.get_synflow()\n",
    "        else:\n",
    "            continue\n",
    "        if policy not in policy_scores_synflow:\n",
    "            policy_scores_synflow[policy] = {}\n",
    "        if zone not in policy_scores_synflow[policy]:\n",
    "            policy_scores_synflow[policy][zone] = synflow"
   ]
  },
  {
   "cell_type": "code",
   "execution_count": 6,
   "id": "29990691",
   "metadata": {},
   "outputs": [],
   "source": [
    "eval_data_loc = \"../data/1month_eval.csv\"\n",
    "df = pd.read_csv(eval_data_loc, header=None, names=[\"datetime\",\"policy\",\"zone\",\"energy\"])\n",
    "spearman_corr_synflow = {}\n",
    "for zone in zones:\n",
    "    eval_df = df[df[\"zone\"] == zone]\n",
    "\n",
    "    # invalid_policies = list(set(policy_list) - set(policy_scores.keys()))\n",
    "    for i_policy in invalid_policies:\n",
    "        eval_df = eval_df[eval_df[\"policy\"]!=i_policy[3:]]\n",
    "    eval_df = eval_df.sort_values(by=[\"energy\"])\n",
    "    score_list = []\n",
    "    for i, row in eval_df.iterrows():\n",
    "        score_list.append(policy_scores_synflow[f\"../{row['policy']}\"][zone])\n",
    "\n",
    "    eval_df[\"ope_scores\"] = score_list\n",
    "    correlation = spearmanr(eval_df[\"energy\"].values, eval_df[\"ope_scores\"].values)\n",
    "    spearman_corr_synflow[zone] = correlation"
   ]
  },
  {
   "cell_type": "code",
   "execution_count": 7,
   "id": "0e833cce",
   "metadata": {},
   "outputs": [
    {
     "data": {
      "text/plain": [
       "{'Perimeter_top_ZN_3': SpearmanrResult(correlation=0.021068979260633003, pvalue=0.6188194248841729),\n",
       " 'Perimeter_bot_ZN_1': SpearmanrResult(correlation=-0.020532605678892247, pvalue=0.6280874619763966),\n",
       " 'Perimeter_top_ZN_1': SpearmanrResult(correlation=0.0055637535757565755, pvalue=0.8955764421819662),\n",
       " 'Core_bottom': SpearmanrResult(correlation=0.0030009562830268003, pvalue=0.9435621135883738),\n",
       " 'Perimeter_top_ZN_4': SpearmanrResult(correlation=-0.00791708916240049, pvalue=0.851841679046524),\n",
       " 'Core_top': SpearmanrResult(correlation=0.042295051784924244, pvalue=0.318183427486605),\n",
       " 'Perimeter_bot_ZN_2': SpearmanrResult(correlation=0.02266644957942782, pvalue=0.5928047062533964),\n",
       " 'Perimeter_bot_ZN_3': SpearmanrResult(correlation=-0.03253327068030743, pvalue=0.4426824092941606),\n",
       " 'Perimeter_mid_ZN_4': SpearmanrResult(correlation=-0.09214570126047994, pvalue=0.02937797870997663),\n",
       " 'Core_mid': SpearmanrResult(correlation=0.024578740839055913, pvalue=0.5619777235555059),\n",
       " 'Perimeter_mid_ZN_2': SpearmanrResult(correlation=-0.0035034857615502775, pvalue=0.9341311286842733),\n",
       " 'Perimeter_mid_ZN_3': SpearmanrResult(correlation=0.02084119931081671, pvalue=0.6229295604873956),\n",
       " 'Perimeter_top_ZN_2': SpearmanrResult(correlation=0.05991978763921748, pvalue=0.15712872065082506),\n",
       " 'Perimeter_mid_ZN_1': SpearmanrResult(correlation=-0.02695296076766444, pvalue=0.5248136984131511),\n",
       " 'Perimeter_bot_ZN_4': SpearmanrResult(correlation=0.02943242678801568, pvalue=0.48738815322053686)}"
      ]
     },
     "execution_count": 7,
     "metadata": {},
     "output_type": "execute_result"
    }
   ],
   "source": [
    "spearman_corr_synflow"
   ]
  },
  {
   "cell_type": "code",
   "execution_count": 11,
   "id": "69a992ac",
   "metadata": {},
   "outputs": [],
   "source": [
    "with open(\"data/synflow_raw_scores_16_06_2022.pkl\", \"wb+\") as f:\n",
    "    pickle.dump(spearman_corr_synflow, f)"
   ]
  },
  {
   "cell_type": "markdown",
   "id": "8425089a",
   "metadata": {},
   "source": [
    "### 3. Jacobian Covariance"
   ]
  },
  {
   "cell_type": "code",
   "execution_count": 5,
   "id": "5450373f",
   "metadata": {
    "scrolled": true
   },
   "outputs": [
    {
     "name": "stdout",
     "output_type": "stream",
     "text": [
      "Perimeter_top_ZN_3\n"
     ]
    },
    {
     "data": {
      "application/vnd.jupyter.widget-view+json": {
       "model_id": "83eb2b55c84c41c78b738267c0c07088",
       "version_major": 2,
       "version_minor": 0
      },
      "text/plain": [
       "  0%|          | 0/800 [00:00<?, ?it/s]"
      ]
     },
     "metadata": {},
     "output_type": "display_data"
    },
    {
     "name": "stdout",
     "output_type": "stream",
     "text": [
      "Perimeter_bot_ZN_1\n"
     ]
    },
    {
     "data": {
      "application/vnd.jupyter.widget-view+json": {
       "model_id": "11f9c4ab292d42a8897b1789d24ab89e",
       "version_major": 2,
       "version_minor": 0
      },
      "text/plain": [
       "  0%|          | 0/800 [00:00<?, ?it/s]"
      ]
     },
     "metadata": {},
     "output_type": "display_data"
    },
    {
     "name": "stdout",
     "output_type": "stream",
     "text": [
      "Perimeter_top_ZN_1\n"
     ]
    },
    {
     "data": {
      "application/vnd.jupyter.widget-view+json": {
       "model_id": "dc77dd04ac3b414d93aa9e406c793583",
       "version_major": 2,
       "version_minor": 0
      },
      "text/plain": [
       "  0%|          | 0/800 [00:00<?, ?it/s]"
      ]
     },
     "metadata": {},
     "output_type": "display_data"
    },
    {
     "name": "stdout",
     "output_type": "stream",
     "text": [
      "Core_bottom\n"
     ]
    },
    {
     "data": {
      "application/vnd.jupyter.widget-view+json": {
       "model_id": "e6375ccd4b18440b8535420dbf7c59a9",
       "version_major": 2,
       "version_minor": 0
      },
      "text/plain": [
       "  0%|          | 0/800 [00:00<?, ?it/s]"
      ]
     },
     "metadata": {},
     "output_type": "display_data"
    },
    {
     "name": "stdout",
     "output_type": "stream",
     "text": [
      "Perimeter_top_ZN_4\n"
     ]
    },
    {
     "data": {
      "application/vnd.jupyter.widget-view+json": {
       "model_id": "4d4db5d01a9c4e9984aed4bbfbdefd60",
       "version_major": 2,
       "version_minor": 0
      },
      "text/plain": [
       "  0%|          | 0/800 [00:00<?, ?it/s]"
      ]
     },
     "metadata": {},
     "output_type": "display_data"
    },
    {
     "name": "stdout",
     "output_type": "stream",
     "text": [
      "Core_top\n"
     ]
    },
    {
     "data": {
      "application/vnd.jupyter.widget-view+json": {
       "model_id": "6e6dd6dfa37143138fb1cd0968aa28b4",
       "version_major": 2,
       "version_minor": 0
      },
      "text/plain": [
       "  0%|          | 0/800 [00:00<?, ?it/s]"
      ]
     },
     "metadata": {},
     "output_type": "display_data"
    },
    {
     "name": "stdout",
     "output_type": "stream",
     "text": [
      "Perimeter_bot_ZN_2\n"
     ]
    },
    {
     "data": {
      "application/vnd.jupyter.widget-view+json": {
       "model_id": "7e29d68d09f64427b4b3d72008c3df17",
       "version_major": 2,
       "version_minor": 0
      },
      "text/plain": [
       "  0%|          | 0/800 [00:00<?, ?it/s]"
      ]
     },
     "metadata": {},
     "output_type": "display_data"
    },
    {
     "name": "stdout",
     "output_type": "stream",
     "text": [
      "Perimeter_bot_ZN_3\n"
     ]
    },
    {
     "data": {
      "application/vnd.jupyter.widget-view+json": {
       "model_id": "88aee6d1343c40a1b6ff6098a2930164",
       "version_major": 2,
       "version_minor": 0
      },
      "text/plain": [
       "  0%|          | 0/800 [00:00<?, ?it/s]"
      ]
     },
     "metadata": {},
     "output_type": "display_data"
    },
    {
     "name": "stdout",
     "output_type": "stream",
     "text": [
      "Perimeter_mid_ZN_4\n"
     ]
    },
    {
     "data": {
      "application/vnd.jupyter.widget-view+json": {
       "model_id": "4e39ad9df519486f9842be953ccc6ba4",
       "version_major": 2,
       "version_minor": 0
      },
      "text/plain": [
       "  0%|          | 0/800 [00:00<?, ?it/s]"
      ]
     },
     "metadata": {},
     "output_type": "display_data"
    },
    {
     "name": "stdout",
     "output_type": "stream",
     "text": [
      "Core_mid\n"
     ]
    },
    {
     "data": {
      "application/vnd.jupyter.widget-view+json": {
       "model_id": "27bbac9d64c14c24b364260a4c7fea17",
       "version_major": 2,
       "version_minor": 0
      },
      "text/plain": [
       "  0%|          | 0/800 [00:00<?, ?it/s]"
      ]
     },
     "metadata": {},
     "output_type": "display_data"
    },
    {
     "ename": "KeyboardInterrupt",
     "evalue": "",
     "output_type": "error",
     "traceback": [
      "\u001b[0;31m---------------------------------------------------------------------------\u001b[0m",
      "\u001b[0;31mKeyboardInterrupt\u001b[0m                         Traceback (most recent call last)",
      "Input \u001b[0;32mIn [5]\u001b[0m, in \u001b[0;36m<cell line: 3>\u001b[0;34m()\u001b[0m\n\u001b[1;32m     22\u001b[0m jc \u001b[38;5;241m=\u001b[39m JacobianCovariance(agent)\n\u001b[1;32m     23\u001b[0m \u001b[38;5;28;01mif\u001b[39;00m policy \u001b[38;5;129;01mnot\u001b[39;00m \u001b[38;5;129;01min\u001b[39;00m invalid_policies:\n\u001b[0;32m---> 24\u001b[0m     synflow \u001b[38;5;241m=\u001b[39m \u001b[43mjc\u001b[49m\u001b[38;5;241;43m.\u001b[39;49m\u001b[43mcompute_jacob_cov\u001b[49m\u001b[43m(\u001b[49m\u001b[43mstates\u001b[49m\u001b[43m)\u001b[49m\n\u001b[1;32m     25\u001b[0m \u001b[38;5;28;01melse\u001b[39;00m:\n\u001b[1;32m     26\u001b[0m     \u001b[38;5;28;01mcontinue\u001b[39;00m\n",
      "File \u001b[0;32m~/Documents/MSc/Research/Dissimilar Policy/building-MARL/studies/../zero_cost_proxies/jacob_cov.py:33\u001b[0m, in \u001b[0;36mJacobianCovariance.compute_jacob_cov\u001b[0;34m(self, mini_batch)\u001b[0m\n\u001b[1;32m     30\u001b[0m jacobs \u001b[38;5;241m=\u001b[39m jacobs\u001b[38;5;241m.\u001b[39mreshape(jacobs\u001b[38;5;241m.\u001b[39msize(\u001b[38;5;241m0\u001b[39m), \u001b[38;5;241m-\u001b[39m\u001b[38;5;241m1\u001b[39m)\u001b[38;5;241m.\u001b[39mcpu()\u001b[38;5;241m.\u001b[39mnumpy()\n\u001b[1;32m     32\u001b[0m \u001b[38;5;28;01mtry\u001b[39;00m:\n\u001b[0;32m---> 33\u001b[0m     jc \u001b[38;5;241m=\u001b[39m \u001b[38;5;28;43mself\u001b[39;49m\u001b[38;5;241;43m.\u001b[39;49m\u001b[43meval_score\u001b[49m\u001b[43m(\u001b[49m\u001b[43mjacobs\u001b[49m\u001b[43m)\u001b[49m\n\u001b[1;32m     34\u001b[0m \u001b[38;5;28;01mexcept\u001b[39;00m \u001b[38;5;167;01mException\u001b[39;00m \u001b[38;5;28;01mas\u001b[39;00m e:\n\u001b[1;32m     35\u001b[0m     \u001b[38;5;28mprint\u001b[39m(e)\n",
      "File \u001b[0;32m~/Documents/MSc/Research/Dissimilar Policy/building-MARL/studies/../zero_cost_proxies/jacob_cov.py:21\u001b[0m, in \u001b[0;36mJacobianCovariance.eval_score\u001b[0;34m(self, jacob)\u001b[0m\n\u001b[1;32m     19\u001b[0m \u001b[38;5;28;01mdef\u001b[39;00m \u001b[38;5;21meval_score\u001b[39m(\u001b[38;5;28mself\u001b[39m, jacob):\n\u001b[1;32m     20\u001b[0m     corrs \u001b[38;5;241m=\u001b[39m np\u001b[38;5;241m.\u001b[39mma\u001b[38;5;241m.\u001b[39mcorrcoef(jacob)\u001b[38;5;241m.\u001b[39mdata\n\u001b[0;32m---> 21\u001b[0m     v, _  \u001b[38;5;241m=\u001b[39m \u001b[43mnp\u001b[49m\u001b[38;5;241;43m.\u001b[39;49m\u001b[43mlinalg\u001b[49m\u001b[38;5;241;43m.\u001b[39;49m\u001b[43meig\u001b[49m\u001b[43m(\u001b[49m\u001b[43mcorrs\u001b[49m\u001b[43m)\u001b[49m\n\u001b[1;32m     22\u001b[0m     k \u001b[38;5;241m=\u001b[39m \u001b[38;5;241m1e-5\u001b[39m\n\u001b[1;32m     23\u001b[0m     \u001b[38;5;28;01mreturn\u001b[39;00m \u001b[38;5;241m-\u001b[39mnp\u001b[38;5;241m.\u001b[39msum(np\u001b[38;5;241m.\u001b[39mlog(v \u001b[38;5;241m+\u001b[39m k) \u001b[38;5;241m+\u001b[39m \u001b[38;5;241m1.\u001b[39m\u001b[38;5;241m/\u001b[39m(v \u001b[38;5;241m+\u001b[39m k))\n",
      "File \u001b[0;32m<__array_function__ internals>:180\u001b[0m, in \u001b[0;36meig\u001b[0;34m(*args, **kwargs)\u001b[0m\n",
      "File \u001b[0;32m~/.pyenv/versions/3.10.0/envs/ep_policy_diversity/lib/python3.10/site-packages/numpy/linalg/linalg.py:1311\u001b[0m, in \u001b[0;36meig\u001b[0;34m(a)\u001b[0m\n\u001b[1;32m   1308\u001b[0m extobj \u001b[38;5;241m=\u001b[39m get_linalg_error_extobj(\n\u001b[1;32m   1309\u001b[0m     _raise_linalgerror_eigenvalues_nonconvergence)\n\u001b[1;32m   1310\u001b[0m signature \u001b[38;5;241m=\u001b[39m \u001b[38;5;124m'\u001b[39m\u001b[38;5;124mD->DD\u001b[39m\u001b[38;5;124m'\u001b[39m \u001b[38;5;28;01mif\u001b[39;00m isComplexType(t) \u001b[38;5;28;01melse\u001b[39;00m \u001b[38;5;124m'\u001b[39m\u001b[38;5;124md->DD\u001b[39m\u001b[38;5;124m'\u001b[39m\n\u001b[0;32m-> 1311\u001b[0m w, vt \u001b[38;5;241m=\u001b[39m \u001b[43m_umath_linalg\u001b[49m\u001b[38;5;241;43m.\u001b[39;49m\u001b[43meig\u001b[49m\u001b[43m(\u001b[49m\u001b[43ma\u001b[49m\u001b[43m,\u001b[49m\u001b[43m \u001b[49m\u001b[43msignature\u001b[49m\u001b[38;5;241;43m=\u001b[39;49m\u001b[43msignature\u001b[49m\u001b[43m,\u001b[49m\u001b[43m \u001b[49m\u001b[43mextobj\u001b[49m\u001b[38;5;241;43m=\u001b[39;49m\u001b[43mextobj\u001b[49m\u001b[43m)\u001b[49m\n\u001b[1;32m   1313\u001b[0m \u001b[38;5;28;01mif\u001b[39;00m \u001b[38;5;129;01mnot\u001b[39;00m isComplexType(t) \u001b[38;5;129;01mand\u001b[39;00m \u001b[38;5;28mall\u001b[39m(w\u001b[38;5;241m.\u001b[39mimag \u001b[38;5;241m==\u001b[39m \u001b[38;5;241m0.0\u001b[39m):\n\u001b[1;32m   1314\u001b[0m     w \u001b[38;5;241m=\u001b[39m w\u001b[38;5;241m.\u001b[39mreal\n",
      "\u001b[0;31mKeyboardInterrupt\u001b[0m: "
     ]
    }
   ],
   "source": [
    "from zero_cost_proxies.jacob_cov import JacobianCovariance\n",
    "policy_scores_jc = {}\n",
    "for zone in zones:\n",
    "    print(zone)\n",
    "    ope_data = log_data[log_data[\"zone\"] == zone].sort_values(by=[\"timestep\"])\n",
    "    ope_data = log_data[:ts_end]\n",
    "    states = []\n",
    "    for i, row in ope_data.iterrows():\n",
    "        state_vars = [\"outdoor_temp\", \"solar_irradiation\", \"time_hour\",\n",
    "                      \"zone_humidity\", \"zone_temp\", \"zone_occupancy\"]\n",
    "        state = [row[var] for var in state_vars]\n",
    "        states.append(state)\n",
    "    states = torch.Tensor(states)\n",
    "    for policy in tqdm(policy_list):\n",
    "        agent = PPO(6, 1, 0.003, 0.0005, 1, 10, 0.2,\n",
    "                    has_continuous_action_space=True, action_std_init=0.2, \n",
    "                    device=torch.device('cpu'), diverse_policies=list(),\n",
    "                    diverse_weight=0, diverse_increase=True)\n",
    "        agent.load(policy)\n",
    "        agent.policy_evaluation = True\n",
    "        agent.policy_old.set_action_std(0.1)\n",
    "        jc = JacobianCovariance(agent)\n",
    "        if policy not in invalid_policies:\n",
    "            synflow = jc.compute_jacob_cov(states)\n",
    "        else:\n",
    "            continue\n",
    "        if policy not in policy_scores_jc:\n",
    "            policy_scores_jc[policy] = {}\n",
    "        if zone not in policy_scores_jc[policy]:\n",
    "            policy_scores_jc[policy][zone] = synflow"
   ]
  },
  {
   "cell_type": "code",
   "execution_count": 10,
   "id": "d54fc5c5",
   "metadata": {},
   "outputs": [],
   "source": [
    "eval_data_loc = \"../data/1month_eval.csv\"\n",
    "df = pd.read_csv(eval_data_loc, header=None, names=[\"datetime\",\"policy\",\"zone\",\"energy\"])\n",
    "spearman_corr_jc = {}\n",
    "some_policy = list(policy_scores_jc.keys())[0]\n",
    "for zone in policy_scores_jc[some_policy].keys():\n",
    "    if zone == \"Core_mid\":\n",
    "        continue\n",
    "    eval_df = df[df[\"zone\"] == zone]\n",
    "\n",
    "    # invalid_policies = list(set(policy_list) - set(policy_scores.keys()))\n",
    "    for i_policy in invalid_policies:\n",
    "        eval_df = eval_df[eval_df[\"policy\"]!=i_policy[3:]]\n",
    "    eval_df = eval_df.sort_values(by=[\"energy\"])\n",
    "    score_list = []\n",
    "    for i, row in eval_df.iterrows():\n",
    "        score_list.append(policy_scores_jc[f\"../{row['policy']}\"][zone])\n",
    "\n",
    "    eval_df[\"ope_scores\"] = score_list\n",
    "    correlation = spearmanr(eval_df[\"energy\"].values, eval_df[\"ope_scores\"].values)\n",
    "    spearman_corr_jc[zone] = correlation"
   ]
  },
  {
   "cell_type": "code",
   "execution_count": 11,
   "id": "2eb01f22",
   "metadata": {},
   "outputs": [
    {
     "data": {
      "text/plain": [
       "{'Perimeter_top_ZN_3': SpearmanrResult(correlation=-0.007996210492588987, pvalue=0.8502455870357566),\n",
       " 'Perimeter_bot_ZN_1': SpearmanrResult(correlation=-0.005881621504277167, pvalue=0.8896475771527915),\n",
       " 'Perimeter_top_ZN_1': SpearmanrResult(correlation=-0.012282809924369998, pvalue=0.7719955865887642),\n",
       " 'Core_bottom': SpearmanrResult(correlation=-0.02566294046038982, pvalue=0.5448500879403066),\n",
       " 'Perimeter_top_ZN_4': SpearmanrResult(correlation=0.004377948882825102, pvalue=0.917742784771977),\n",
       " 'Core_top': SpearmanrResult(correlation=0.012163892621507024, pvalue=0.7741429713522078),\n",
       " 'Perimeter_bot_ZN_2': SpearmanrResult(correlation=0.01552524120040999, pvalue=0.7141662206917594),\n",
       " 'Perimeter_bot_ZN_3': SpearmanrResult(correlation=-0.007149520896707692, pvalue=0.8660631465252264),\n",
       " 'Perimeter_mid_ZN_4': SpearmanrResult(correlation=0.00015120538376352328, pvalue=0.9971539726467997)}"
      ]
     },
     "execution_count": 11,
     "metadata": {},
     "output_type": "execute_result"
    }
   ],
   "source": [
    "spearman_corr_jc"
   ]
  },
  {
   "cell_type": "code",
   "execution_count": 12,
   "id": "5771d5eb",
   "metadata": {},
   "outputs": [],
   "source": [
    "with open(\"data/jacob_cov_spearman_corr_12_07_2022.pkl\", \"wb+\") as f:\n",
    "    pickle.dump(spearman_corr_jc, f)"
   ]
  },
  {
   "cell_type": "code",
   "execution_count": null,
   "id": "a9e4097d",
   "metadata": {},
   "outputs": [],
   "source": []
  }
 ],
 "metadata": {
  "kernelspec": {
   "display_name": "Python 3 (ipykernel)",
   "language": "python",
   "name": "python3"
  },
  "language_info": {
   "codemirror_mode": {
    "name": "ipython",
    "version": 3
   },
   "file_extension": ".py",
   "mimetype": "text/x-python",
   "name": "python",
   "nbconvert_exporter": "python",
   "pygments_lexer": "ipython3",
   "version": "3.10.0"
  }
 },
 "nbformat": 4,
 "nbformat_minor": 5
}
